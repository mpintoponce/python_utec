{
  "cells": [
    {
      "cell_type": "markdown",
      "metadata": {
        "id": "view-in-github",
        "colab_type": "text"
      },
      "source": [
        "<a href=\"https://colab.research.google.com/github/mpintoponce/python_utec/blob/main/Modulo01%3AFundamentos/1.Algoritmos_y_Programas/Algoritmos_y_Programas.ipynb\" target=\"_parent\"><img src=\"https://colab.research.google.com/assets/colab-badge.svg\" alt=\"Open In Colab\"/></a>"
      ]
    },
    {
      "cell_type": "markdown",
      "id": "66a05a74",
      "metadata": {
        "id": "66a05a74"
      },
      "source": [
        "# Clase 1: Algoritmos y Programas - Segmentación de clientes en campañas de ahorro\n",
        "\n",
        "Esta clase introduce los conceptos básicos de programación y cómo aplicarlos para segmentar clientes en campañas comerciales de ahorro."
      ]
    },
    {
      "cell_type": "markdown",
      "id": "75a251b5",
      "metadata": {
        "id": "75a251b5"
      },
      "source": [
        "# 🧩 ¿Qué es un algoritmo?\n"
      ]
    },
    {
      "cell_type": "markdown",
      "source": [
        "\n",
        "Un algoritmo es una secuencia ordenada y finita de pasos que resuelve un problema o realiza una tarea.\n",
        "\n",
        "\n",
        "✍️ Ejemplo cotidiano:\n",
        "\n",
        "Algoritmo para hacer un sándwich:\n",
        "Sacar dos rebanadas de pan.\n",
        "Colocar jamón y queso entre ellas.\n",
        "Cerrar el sándwich.\n",
        "Comer.\n",
        "\n",
        "\n",
        "🏦 Ejemplo bancario:\n",
        "\n",
        "Algoritmo para ofrecer un producto de ahorro:\n",
        "Revisar edad y nivel de ingresos del cliente.\n",
        "Determinar si ya tiene cuenta de ahorro.\n",
        "Si no tiene, enviarle una oferta personalizada.\n",
        "Si tiene, sugerir depósito a plazo o cuenta con más beneficios.\n"
      ],
      "metadata": {
        "id": "rI1Gb1hjn9H-"
      },
      "id": "rI1Gb1hjn9H-"
    },
    {
      "cell_type": "markdown",
      "source": [
        "# 💡 ¿Qué es programar?\n",
        "Programar es escribir instrucciones (algoritmos) en un lenguaje que una computadora pueda entender y ejecutar. En este curso usaremos Python."
      ],
      "metadata": {
        "id": "YAmloF7DoMBs"
      },
      "id": "YAmloF7DoMBs"
    },
    {
      "cell_type": "markdown",
      "source": [
        "# 🐍 ¿Qué es Python?\n",
        "Python es un lenguaje de programación popular por ser:\n",
        "\n",
        "\n",
        "\n",
        "*   Simple de leer y escribir.\n",
        "*   Muy usado en análisis de datos, ciencia, inteligencia artificial, y automatización.\n",
        "*   Compatible con muchas herramientas bancarias (como bases de datos, dashboards, APIs).\n",
        "\n",
        "\n",
        "\n",
        "\n",
        "\n"
      ],
      "metadata": {
        "id": "49g5qlD2ohBi"
      },
      "id": "49g5qlD2ohBi"
    },
    {
      "cell_type": "markdown",
      "source": [
        "# 🧠 ¿Cómo piensa una computadora?\n",
        "La computadora:\n",
        "\n",
        "\n",
        "\n",
        "1.   Lee instrucciones una por una.\n",
        "2.   Ejecuta exactamente lo que se le indica.\n",
        "3.   No \"entiende\" el contexto, así que debemos ser súper claros.\n",
        "\n",
        "\n",
        "\n"
      ],
      "metadata": {
        "id": "Gjt063Bhoxbw"
      },
      "id": "Gjt063Bhoxbw"
    },
    {
      "cell_type": "markdown",
      "source": [
        "# 🛠 ¿Qué se necesita para comenzar?\n",
        "Solo tres cosas:\n",
        "\n",
        "\n",
        "\n",
        "1.   Un lugar donde escribir (editor o notebook).\n",
        "2.   Pensamiento lógico.\n",
        "3.   Curiosidad para probar.\n",
        "\n",
        "\n",
        "\n"
      ],
      "metadata": {
        "id": "LcOOIp34o8cT"
      },
      "id": "LcOOIp34o8cT"
    },
    {
      "cell_type": "markdown",
      "id": "ca735ed7",
      "metadata": {
        "id": "ca735ed7"
      },
      "source": [
        "## Tipos de datos en Python\n",
        "números (`int`, `float`), texto (`str`) y booleanos (`bool`).\n",
        "\n",
        "1.   int – Números enteros: Representa números sin decimales.\n",
        "\n"
      ]
    },
    {
      "cell_type": "code",
      "source": [
        "edad = 32\n",
        "saldo_cuenta = -251\n",
        "clientes_activos = 1343\n"
      ],
      "metadata": {
        "id": "oiuvUb7bqBtk"
      },
      "id": "oiuvUb7bqBtk",
      "execution_count": null,
      "outputs": []
    },
    {
      "cell_type": "code",
      "source": [
        "edad"
      ],
      "metadata": {
        "colab": {
          "base_uri": "https://localhost:8080/"
        },
        "id": "53RIo7VkcmGB",
        "outputId": "7b59b84b-fbf6-4fc4-8439-4c69a7cf6389"
      },
      "id": "53RIo7VkcmGB",
      "execution_count": null,
      "outputs": [
        {
          "output_type": "execute_result",
          "data": {
            "text/plain": [
              "32"
            ]
          },
          "metadata": {},
          "execution_count": 3
        }
      ]
    },
    {
      "cell_type": "markdown",
      "source": [
        "\n",
        "\n",
        "2.  float – Números decimales: Representa números con punto decimal (flotantes).\n",
        "\n"
      ],
      "metadata": {
        "id": "GyGmORWZqBKV"
      },
      "id": "GyGmORWZqBKV"
    },
    {
      "cell_type": "code",
      "source": [
        "tasa_interes = 5.75\n",
        "precio_dolar = 3.91\n",
        "temperatura = -2.4"
      ],
      "metadata": {
        "id": "itrl7uqsqNPW"
      },
      "id": "itrl7uqsqNPW",
      "execution_count": null,
      "outputs": []
    },
    {
      "cell_type": "markdown",
      "source": [
        "3.  str – Cadenas de texto (strings): Representa texto entre comillas simples ' o dobles \"."
      ],
      "metadata": {
        "id": "OzoYQ554qSv2"
      },
      "id": "OzoYQ554qSv2"
    },
    {
      "cell_type": "code",
      "source": [
        "nombre_cliente = \"Moni\"\n",
        "tipo_producto = 'Tarjeta de crédito'\n",
        "fecha = \"2025-04-05\""
      ],
      "metadata": {
        "id": "9vRChAUeqYox"
      },
      "id": "9vRChAUeqYox",
      "execution_count": null,
      "outputs": []
    },
    {
      "cell_type": "markdown",
      "source": [
        "4. bool – Valores lógicos (booleanos): Representa valores de verdad, solo puede ser:\n",
        "\n",
        "* True (verdadero)\n",
        "* False (falso)"
      ],
      "metadata": {
        "id": "5vSL0K-vqeJT"
      },
      "id": "5vSL0K-vqeJT"
    },
    {
      "cell_type": "code",
      "source": [
        "es_cliente_activo = True\n",
        "tiene_deuda = False\n",
        "ingreso = 1000\n",
        "ingreso_mayor_3000 = ingreso > 3000  # Esto devuelve un bool"
      ],
      "metadata": {
        "id": "IfisCA_HqlhK"
      },
      "id": "IfisCA_HqlhK",
      "execution_count": null,
      "outputs": []
    },
    {
      "cell_type": "code",
      "source": [
        "es_cliente_activo"
      ],
      "metadata": {
        "colab": {
          "base_uri": "https://localhost:8080/"
        },
        "id": "grPGC0A1dPUs",
        "outputId": "ab868cb8-cf95-4f53-c986-4150b1cb70b4"
      },
      "id": "grPGC0A1dPUs",
      "execution_count": null,
      "outputs": [
        {
          "output_type": "execute_result",
          "data": {
            "text/plain": [
              "True"
            ]
          },
          "metadata": {},
          "execution_count": 6
        }
      ]
    },
    {
      "cell_type": "code",
      "source": [
        "ingreso_mayor_3000"
      ],
      "metadata": {
        "colab": {
          "base_uri": "https://localhost:8080/"
        },
        "id": "dkxc0A6EdYcD",
        "outputId": "ccddc940-3449-4e7f-eee1-fbd438812447"
      },
      "id": "dkxc0A6EdYcD",
      "execution_count": null,
      "outputs": [
        {
          "output_type": "execute_result",
          "data": {
            "text/plain": [
              "False"
            ]
          },
          "metadata": {},
          "execution_count": 7
        }
      ]
    },
    {
      "cell_type": "markdown",
      "source": [
        "# 🧠 Tip: ¿Cómo saber qué tipo tiene una variable?\n",
        "\n",
        " Usa la función type():"
      ],
      "metadata": {
        "id": "xoOcj_z5qsfD"
      },
      "id": "xoOcj_z5qsfD"
    },
    {
      "cell_type": "code",
      "source": [
        "type(3.14)        # <class 'float'>\n",
        "type(\"hola\")      # <class 'str'>\n",
        "type(False)       # <class 'bool'>\n",
        "type(1200)        # <class 'int'>"
      ],
      "metadata": {
        "id": "r2yOiDESq0LP"
      },
      "id": "r2yOiDESq0LP",
      "execution_count": null,
      "outputs": []
    },
    {
      "cell_type": "code",
      "source": [
        "3.14 == '3.14'"
      ],
      "metadata": {
        "colab": {
          "base_uri": "https://localhost:8080/"
        },
        "id": "GZbis_iudmQh",
        "outputId": "1de9bc55-b82a-43d2-bb1f-670d582538f0"
      },
      "id": "GZbis_iudmQh",
      "execution_count": null,
      "outputs": [
        {
          "output_type": "execute_result",
          "data": {
            "text/plain": [
              "False"
            ]
          },
          "metadata": {},
          "execution_count": 9
        }
      ]
    },
    {
      "cell_type": "code",
      "source": [
        "numero = 3.14"
      ],
      "metadata": {
        "id": "6cM36dasd_Ud"
      },
      "id": "6cM36dasd_Ud",
      "execution_count": null,
      "outputs": []
    },
    {
      "cell_type": "code",
      "source": [
        "numero"
      ],
      "metadata": {
        "colab": {
          "base_uri": "https://localhost:8080/"
        },
        "id": "CKsmlKNAePEx",
        "outputId": "f394a7f5-b8da-4381-a902-0398f0427761"
      },
      "id": "CKsmlKNAePEx",
      "execution_count": null,
      "outputs": [
        {
          "output_type": "execute_result",
          "data": {
            "text/plain": [
              "3.14"
            ]
          },
          "metadata": {},
          "execution_count": 14
        }
      ]
    },
    {
      "cell_type": "code",
      "source": [
        "numero2 = '3.14'"
      ],
      "metadata": {
        "id": "wlidQ83OeC1P"
      },
      "id": "wlidQ83OeC1P",
      "execution_count": null,
      "outputs": []
    },
    {
      "cell_type": "code",
      "source": [
        "numero2"
      ],
      "metadata": {
        "colab": {
          "base_uri": "https://localhost:8080/",
          "height": 35
        },
        "id": "gL4aR2d9eMcu",
        "outputId": "a712fad2-b9b1-41ed-8963-3d2a9971295f"
      },
      "id": "gL4aR2d9eMcu",
      "execution_count": null,
      "outputs": [
        {
          "output_type": "execute_result",
          "data": {
            "text/plain": [
              "'3.14'"
            ],
            "application/vnd.google.colaboratory.intrinsic+json": {
              "type": "string"
            }
          },
          "metadata": {},
          "execution_count": 13
        }
      ]
    },
    {
      "cell_type": "code",
      "source": [
        "type(numero)"
      ],
      "metadata": {
        "colab": {
          "base_uri": "https://localhost:8080/"
        },
        "id": "WM-yNrapeRoa",
        "outputId": "0ad097c0-4883-4bf6-c6ac-2abeb2b86211"
      },
      "id": "WM-yNrapeRoa",
      "execution_count": null,
      "outputs": [
        {
          "output_type": "execute_result",
          "data": {
            "text/plain": [
              "float"
            ]
          },
          "metadata": {},
          "execution_count": 15
        }
      ]
    },
    {
      "cell_type": "code",
      "source": [
        "type(3.15)"
      ],
      "metadata": {
        "colab": {
          "base_uri": "https://localhost:8080/"
        },
        "id": "tN_B-hDUecpK",
        "outputId": "35bc63f0-0bd5-4571-bd88-9d3ad9baa836"
      },
      "id": "tN_B-hDUecpK",
      "execution_count": null,
      "outputs": [
        {
          "output_type": "execute_result",
          "data": {
            "text/plain": [
              "float"
            ]
          },
          "metadata": {},
          "execution_count": 16
        }
      ]
    },
    {
      "cell_type": "code",
      "source": [
        "numero == numero2"
      ],
      "metadata": {
        "colab": {
          "base_uri": "https://localhost:8080/"
        },
        "id": "WceE5j2leGMD",
        "outputId": "b04a23fe-f9ff-4c45-f69e-c41ff7a54a70"
      },
      "id": "WceE5j2leGMD",
      "execution_count": null,
      "outputs": [
        {
          "output_type": "execute_result",
          "data": {
            "text/plain": [
              "False"
            ]
          },
          "metadata": {},
          "execution_count": 12
        }
      ]
    },
    {
      "cell_type": "markdown",
      "id": "d287f658",
      "metadata": {
        "id": "d287f658"
      },
      "source": [
        "# 🔁 Ciclo básico de un programa:\n",
        "\n",
        "\n",
        "*   Recibe entrada (input).\n",
        "*   Procesa esa entrada.\n",
        "*   Devuelve una salida (output)."
      ]
    },
    {
      "cell_type": "code",
      "source": [
        "nombre = input(\"¿Cómo te llamas? \")\n",
        "print(\"Hola\", nombre)"
      ],
      "metadata": {
        "id": "JOpUs75ypdT1",
        "colab": {
          "base_uri": "https://localhost:8080/"
        },
        "outputId": "686edea3-d93b-4d90-8924-02212c1f392a"
      },
      "id": "JOpUs75ypdT1",
      "execution_count": null,
      "outputs": [
        {
          "output_type": "stream",
          "name": "stdout",
          "text": [
            "¿Cómo te llamas? Monica\n",
            "Hola Monica\n"
          ]
        }
      ]
    },
    {
      "cell_type": "code",
      "source": [
        "apellido = input(\"¿Cuál es tu apellido? \")\n",
        "print(\"ok\", apellido)"
      ],
      "metadata": {
        "colab": {
          "base_uri": "https://localhost:8080/"
        },
        "id": "3S7MJE7Gfbx7",
        "outputId": "7a8887db-d756-4d02-af3f-1dc78f61c056"
      },
      "id": "3S7MJE7Gfbx7",
      "execution_count": null,
      "outputs": [
        {
          "output_type": "stream",
          "name": "stdout",
          "text": [
            "¿Cuál es tu apellido? Ponce\n",
            "ok Ponce\n"
          ]
        }
      ]
    },
    {
      "cell_type": "code",
      "source": [
        "apellido"
      ],
      "metadata": {
        "colab": {
          "base_uri": "https://localhost:8080/",
          "height": 35
        },
        "id": "ONnfQD4qgAR2",
        "outputId": "494f6158-8cc1-4783-a265-ac3a1652f86f"
      },
      "id": "ONnfQD4qgAR2",
      "execution_count": null,
      "outputs": [
        {
          "output_type": "execute_result",
          "data": {
            "text/plain": [
              "'Ponce'"
            ],
            "application/vnd.google.colaboratory.intrinsic+json": {
              "type": "string"
            }
          },
          "metadata": {},
          "execution_count": 19
        }
      ]
    },
    {
      "cell_type": "markdown",
      "source": [
        "# 📌 Ejemplo aplicado:\n",
        "\n",
        "segmentación de clientes para una campaña de ahorro\n",
        "\n",
        "* Recoger datos del cliente: edad, ingreso, nivel de ahorro\n",
        "* Calcular porcentaje de ahorro respecto al ingreso mensual\n",
        "* Mostrar en pantalla su categoría:"
      ],
      "metadata": {
        "id": "NREEuC6-rFxv"
      },
      "id": "NREEuC6-rFxv"
    },
    {
      "cell_type": "code",
      "execution_count": null,
      "id": "13b2d703",
      "metadata": {
        "id": "13b2d703",
        "colab": {
          "base_uri": "https://localhost:8080/"
        },
        "outputId": "37a20eff-5995-4de7-b35b-5dc7ab9bd3f8"
      },
      "outputs": [
        {
          "output_type": "stream",
          "name": "stdout",
          "text": [
            "Ahorro mensual (S/): 6000\n",
            "Ingreso mensual (S/): 14000\n",
            "Porcentaje de ahorro: 42.857142857142854\n",
            "Segmento: Premium\n"
          ]
        }
      ],
      "source": [
        "# Ingreso de datos\n",
        "ahorro = float(input(\"Ahorro mensual (S/): \"))  # Solicita cuánto ahorra el cliente\n",
        "ingreso = float(input(\"Ingreso mensual (S/): \"))  # Solicita su ingreso total\n",
        "\n",
        "# Cálculo del porcentaje de ahorro\n",
        "porcentaje = (ahorro / ingreso) * 100  # Se calcula el porcentaje que representa el ahorro sobre el ingreso\n",
        "print(\"Porcentaje de ahorro:\", porcentaje)\n",
        "\n",
        "# Clasificación del cliente según su porcentaje de ahorro\n",
        "if porcentaje >= 20:\n",
        "    print(\"Segmento: Premium\")  # Alta capacidad de ahorro\n",
        "else:\n",
        "    print(\"Segmento: Estándar\")  # Ahorro menor, con potencial de fidelización\n"
      ]
    },
    {
      "cell_type": "code",
      "source": [
        "ahorro = float(input(\"Ahorro mensual (S/): \"))"
      ],
      "metadata": {
        "colab": {
          "base_uri": "https://localhost:8080/"
        },
        "id": "0Za9p3L5g5IG",
        "outputId": "1328e027-6fd3-47f8-f64b-aef8eee3fad1"
      },
      "id": "0Za9p3L5g5IG",
      "execution_count": null,
      "outputs": [
        {
          "name": "stdout",
          "output_type": "stream",
          "text": [
            "Ahorro mensual (S/): 1200.30\n"
          ]
        }
      ]
    },
    {
      "cell_type": "code",
      "source": [
        "ingreso = float(input(\"Ingreso mensual (S/): \"))"
      ],
      "metadata": {
        "colab": {
          "base_uri": "https://localhost:8080/"
        },
        "id": "qcnKn43UhH4i",
        "outputId": "8d44d303-b7dd-4994-ad7c-d3368c66ac56"
      },
      "id": "qcnKn43UhH4i",
      "execution_count": null,
      "outputs": [
        {
          "name": "stdout",
          "output_type": "stream",
          "text": [
            "Ingreso mensual (S/): 4000\n"
          ]
        }
      ]
    },
    {
      "cell_type": "code",
      "source": [
        "print(\"Porcentaje de ahorro:\",porcentaje)"
      ],
      "metadata": {
        "colab": {
          "base_uri": "https://localhost:8080/"
        },
        "id": "yu93z9BZiaDZ",
        "outputId": "6fb9dbaf-2756-44fd-f819-6f55f7c8bb95"
      },
      "id": "yu93z9BZiaDZ",
      "execution_count": null,
      "outputs": [
        {
          "output_type": "stream",
          "name": "stdout",
          "text": [
            "Porcentaje de ahorro: 30.0\n"
          ]
        }
      ]
    },
    {
      "cell_type": "code",
      "source": [
        "type(ingreso)"
      ],
      "metadata": {
        "id": "Dp4-UHHEhghV",
        "outputId": "f5025db5-77fc-4972-e6b2-06c002c8f6ef",
        "colab": {
          "base_uri": "https://localhost:8080/"
        }
      },
      "id": "Dp4-UHHEhghV",
      "execution_count": null,
      "outputs": [
        {
          "output_type": "execute_result",
          "data": {
            "text/plain": [
              "float"
            ]
          },
          "metadata": {},
          "execution_count": 24
        }
      ]
    },
    {
      "cell_type": "markdown",
      "id": "19cf9ee4",
      "metadata": {
        "id": "19cf9ee4"
      },
      "source": [
        "## Reto propuesto\n",
        "Crear un algoritmo para recomendar una cuenta de ahorro personalizada según ingreso y edad."
      ]
    },
    {
      "cell_type": "code",
      "source": [
        "edad = float(input(\"Ingrese su edad: \"))\n",
        "if edad <= 18:\n",
        "    print(\"No se puede crear una cuenta de ahorro, por ser menor de edad\")\n",
        "else:\n",
        "    ingreso = float(input(\"Ingreso mensual (S/): \"))\n",
        "    if ingreso < 1000:\n",
        "      print(\"Cuenta de ahorros Free - No cobra mantenimiento ni comisiones.\")\n",
        "\n",
        "    if ingreso <=5000:\n",
        "      print(\"Cuenta de ahorros Personal - Interes TEA 2.5% y sin mantenimeinto.\")\n",
        "\n",
        "    if ingreso > 5000:\n",
        "        print(\"Cuenta de ahorros Premium - Interes TEA 7%, beneficios personalizados.\")"
      ],
      "metadata": {
        "colab": {
          "base_uri": "https://localhost:8080/"
        },
        "id": "3gxAVZsakorE",
        "outputId": "8eaa554a-e700-4044-c189-614fb7cfc29d"
      },
      "id": "3gxAVZsakorE",
      "execution_count": null,
      "outputs": [
        {
          "output_type": "stream",
          "name": "stdout",
          "text": [
            "Ingrese su edad: 20\n",
            "Ingreso mensual (S/): 2500\n",
            "Cuenta de ahorros Personal - Interes TEA 2.5% y sin mantenimeinto.\n"
          ]
        }
      ]
    },
    {
      "cell_type": "code",
      "source": [],
      "metadata": {
        "id": "JN3Tslp9lDy6"
      },
      "id": "JN3Tslp9lDy6",
      "execution_count": null,
      "outputs": []
    }
  ],
  "metadata": {
    "colab": {
      "provenance": [],
      "include_colab_link": true
    },
    "language_info": {
      "name": "python"
    },
    "kernelspec": {
      "name": "python3",
      "display_name": "Python 3"
    }
  },
  "nbformat": 4,
  "nbformat_minor": 5
}