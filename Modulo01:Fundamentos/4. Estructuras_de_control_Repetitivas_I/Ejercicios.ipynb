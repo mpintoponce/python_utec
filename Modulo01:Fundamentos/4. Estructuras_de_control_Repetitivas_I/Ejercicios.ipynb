{
  "nbformat": 4,
  "nbformat_minor": 0,
  "metadata": {
    "colab": {
      "provenance": [],
      "include_colab_link": true
    },
    "kernelspec": {
      "name": "python3",
      "display_name": "Python 3"
    },
    "language_info": {
      "name": "python"
    }
  },
  "cells": [
    {
      "cell_type": "markdown",
      "metadata": {
        "id": "view-in-github",
        "colab_type": "text"
      },
      "source": [
        "<a href=\"https://colab.research.google.com/github/mpintoponce/python_utec/blob/main/Modulo01%3AFundamentos/4.%20Estructuras_de_control_Repetitivas_I/Ejercicios.ipynb\" target=\"_parent\"><img src=\"https://colab.research.google.com/assets/colab-badge.svg\" alt=\"Open In Colab\"/></a>"
      ]
    },
    {
      "cell_type": "markdown",
      "source": [
        "# Listas"
      ],
      "metadata": {
        "id": "NC_iRWcEhNSv"
      }
    },
    {
      "cell_type": "markdown",
      "source": [
        "Ejercicio 1\n",
        "\n",
        "Crear una lista con los nombres de 5 bancos."
      ],
      "metadata": {
        "id": "IxkzijV9gnqx"
      }
    },
    {
      "cell_type": "code",
      "source": [
        "banks = ['BBVA', 'Scotibank', 'BCP', 'Pichincha', 'Interbank']\n",
        "print(banks)"
      ],
      "metadata": {
        "id": "y_mYybQ_EEOQ",
        "outputId": "574be7b0-20a7-40b6-d5e1-98d5293ef0c0",
        "colab": {
          "base_uri": "https://localhost:8080/"
        }
      },
      "execution_count": null,
      "outputs": [
        {
          "output_type": "stream",
          "name": "stdout",
          "text": [
            "['BBVA', 'Scotibank', 'BCP', 'Pichincha', 'Interbank']\n"
          ]
        }
      ]
    },
    {
      "cell_type": "markdown",
      "source": [
        "Ejercicio 2\n",
        "\n",
        "Acceder al tercer banco de la lista."
      ],
      "metadata": {
        "id": "2d57HxBKgtdO"
      }
    },
    {
      "cell_type": "code",
      "source": [
        "banks[3]"
      ],
      "metadata": {
        "id": "w2J1o7d_FRrA",
        "outputId": "081296c0-bc05-4932-d771-7b96e47d9e12",
        "colab": {
          "base_uri": "https://localhost:8080/",
          "height": 36
        }
      },
      "execution_count": null,
      "outputs": [
        {
          "output_type": "execute_result",
          "data": {
            "text/plain": [
              "'Pichincha'"
            ],
            "application/vnd.google.colaboratory.intrinsic+json": {
              "type": "string"
            }
          },
          "metadata": {},
          "execution_count": 7
        }
      ]
    },
    {
      "cell_type": "markdown",
      "source": [
        "Ejercicio 3\n",
        "\n",
        "Agregar un nuevo banco a la lista."
      ],
      "metadata": {
        "id": "r3av9R2Ygv2T"
      }
    },
    {
      "cell_type": "code",
      "source": [
        "banks.append(\"GNB\")\n",
        "print(banks)"
      ],
      "metadata": {
        "id": "mx08OGxOFb9E",
        "outputId": "f9db49b1-afa1-4406-d1cc-db2991c693f8",
        "colab": {
          "base_uri": "https://localhost:8080/"
        }
      },
      "execution_count": null,
      "outputs": [
        {
          "output_type": "stream",
          "name": "stdout",
          "text": [
            "['BBVA', 'Scotibank', 'BCP', 'Pichincha', 'Interbank', 'GNB']\n"
          ]
        }
      ]
    },
    {
      "cell_type": "markdown",
      "source": [
        "Ejercicio 4\n",
        "\n",
        "Eliminar el segundo banco."
      ],
      "metadata": {
        "id": "mCi9Qu0lhA7E"
      }
    },
    {
      "cell_type": "code",
      "source": [
        "index = banks[2]\n",
        "banks.remove(index)\n",
        "print(banks)"
      ],
      "metadata": {
        "id": "fm96FZLUFmKb",
        "outputId": "c11a3f19-706d-4e62-825a-b149db4e86ee",
        "colab": {
          "base_uri": "https://localhost:8080/"
        }
      },
      "execution_count": null,
      "outputs": [
        {
          "output_type": "stream",
          "name": "stdout",
          "text": [
            "['BBVA', 'Scotibank', 'Pichincha', 'Interbank', 'GNB']\n"
          ]
        }
      ]
    },
    {
      "cell_type": "markdown",
      "source": [
        "Ejercicio 5\n",
        "\n",
        "Ordenar alfabéticamente los bancos."
      ],
      "metadata": {
        "id": "he1Ai2YahGpE"
      }
    },
    {
      "cell_type": "code",
      "source": [
        "banks.sort()\n",
        "print(banks)"
      ],
      "metadata": {
        "id": "3mdIyESdGEgh",
        "outputId": "574748c7-0fd7-478c-9f93-98f2652a307d",
        "colab": {
          "base_uri": "https://localhost:8080/"
        }
      },
      "execution_count": null,
      "outputs": [
        {
          "output_type": "stream",
          "name": "stdout",
          "text": [
            "['BBVA', 'GNB', 'Interbank', 'Pichincha', 'Scotibank']\n"
          ]
        }
      ]
    },
    {
      "cell_type": "markdown",
      "source": [
        "# Condicionales IF, ELIF, ELSE"
      ],
      "metadata": {
        "id": "VpT6gNZ2hj1O"
      }
    },
    {
      "cell_type": "markdown",
      "source": [
        "Ejercicio 1\n",
        "\n",
        "Verificar si un cliente tiene ingreso > 3000."
      ],
      "metadata": {
        "id": "kv91XOyphovd"
      }
    },
    {
      "cell_type": "code",
      "source": [
        "client_salary = float(input(\"Ingrese su salario mensual: \"))\n",
        "\n",
        "if client_salary > 3000:\n",
        "  print(\"\\nSu ingreso mensual es mayor a S/.3,000.00\")\n",
        "else:\n",
        "  print(\"\\nSu ingreso mensual es menor a S/.3,000.00\")"
      ],
      "metadata": {
        "id": "4jr9EJi4GPF3",
        "outputId": "e27aafc0-4155-4a59-e824-9878f9bc6ddf",
        "colab": {
          "base_uri": "https://localhost:8080/"
        }
      },
      "execution_count": null,
      "outputs": [
        {
          "output_type": "stream",
          "name": "stdout",
          "text": [
            "Ingrese su salario mensual: 3500\n",
            "\n",
            "Su ingreso mensual es mayor a S/.3,000.00\n"
          ]
        }
      ]
    },
    {
      "cell_type": "markdown",
      "source": [
        "Ejercicio 2\n",
        "\n",
        "Evaluar edad para otorgar tarjeta de crédito."
      ],
      "metadata": {
        "id": "n1X-A7oNhr4z"
      }
    },
    {
      "cell_type": "code",
      "source": [
        "client_age = int(input(\"Ingrese su edad: \"))\n",
        "\n",
        "if client_age >= 18:\n",
        "  print(\"\\nUsted tiene edad para acceder a una tarjeta de credito.\")\n",
        "else:\n",
        "  print(\"\\nUsted tiene edad para acceder a una tarjeta de credito.\")"
      ],
      "metadata": {
        "id": "yznHGF72GOpv",
        "outputId": "86adce19-58be-46dc-b801-c85e101b1b6f",
        "colab": {
          "base_uri": "https://localhost:8080/"
        }
      },
      "execution_count": null,
      "outputs": [
        {
          "output_type": "stream",
          "name": "stdout",
          "text": [
            "Ingrese su edad: 24\n",
            "\n",
            "Usted tiene edad para acceder a una tarjeta de credito.\n"
          ]
        }
      ]
    },
    {
      "cell_type": "markdown",
      "source": [
        "Ejercicio 3\n",
        "\n",
        "Evaluar un score de crédito."
      ],
      "metadata": {
        "id": "PiDQUQ05htq2"
      }
    },
    {
      "cell_type": "code",
      "source": [
        "credit_score = int(input(\"Ingrese la cantidad de cuotas vencidas: \"))\n",
        "\n",
        "if credit_score >= 3:\n",
        "  print('\\nUsted tiene un score crediticio \"Muy Bajo\".')\n",
        "elif credit_score >=1:\n",
        "  print('\\nUsted tiene un score crediticio \"Bajo\".')\n",
        "else:\n",
        "  print('\\nUsted tiene un score crediticio \"Bueno\".')"
      ],
      "metadata": {
        "id": "YgnQGx-nJRMr",
        "outputId": "5329f9fd-d041-4ebd-937d-b5723d6acbba",
        "colab": {
          "base_uri": "https://localhost:8080/"
        }
      },
      "execution_count": null,
      "outputs": [
        {
          "output_type": "stream",
          "name": "stdout",
          "text": [
            "Ingrese la cantidad de cuotas vencidas: 0\n",
            "\n",
            "Usted tiene un score crediticio \"Bueno\".\n"
          ]
        }
      ]
    },
    {
      "cell_type": "markdown",
      "source": [
        "Ejercicio 4\n",
        "\n",
        "Verificar si una cuenta tiene saldo negativo."
      ],
      "metadata": {
        "id": "xoT9xGBph1M_"
      }
    },
    {
      "cell_type": "code",
      "source": [
        "money_account = float(input(\"Ingrese su saldo en su cuenta de ahorros: \"))\n",
        "\n",
        "if money_account > 0:\n",
        "  print('\\nSu estado de cuenta es positivo.')\n",
        "elif money_account == 0:\n",
        "  print('\\nSu cuenta tiene 0 soles.')\n",
        "else:\n",
        "  print('\\nSu estado de cuenta es negativo.')"
      ],
      "metadata": {
        "id": "TVdAq-KjJdio",
        "outputId": "5b1742cd-5a16-411a-b1be-175c908f8ea8",
        "colab": {
          "base_uri": "https://localhost:8080/"
        }
      },
      "execution_count": null,
      "outputs": [
        {
          "output_type": "stream",
          "name": "stdout",
          "text": [
            "Ingrese su saldo en su cuenta de ahorros: 200\n",
            "\n",
            "Su estado de cuenta es positivo.\n"
          ]
        }
      ]
    },
    {
      "cell_type": "markdown",
      "source": [
        "Ejercicio 5\n",
        "\n",
        "Comparar dos tasas de interés."
      ],
      "metadata": {
        "id": "hLB_ZRjth5cJ"
      }
    },
    {
      "cell_type": "code",
      "source": [
        "rate_1 = float(input(\"Ingrese la tasa de interes N°1: \"))\n",
        "rate_2 = float(input(\"Ingrese la tasa de interes N°2: \"))\n",
        "\n",
        "if rate_1 > rate_2:\n",
        "  print('\\nLa tasa de interes 1 es mayor a la tasa de interes 2.')\n",
        "elif rate_1 == rate_2:\n",
        "  print('\\nLa tasa de interes 1 es igual a la tasa de interes 2.')\n",
        "else:\n",
        "  print('\\nLa tasa de interes 1 es menor a la tasa de interes 2.')"
      ],
      "metadata": {
        "id": "5r-LA5ZMLfhf",
        "outputId": "3beb6552-9364-4920-bd1c-25aa6d4482f3",
        "colab": {
          "base_uri": "https://localhost:8080/"
        }
      },
      "execution_count": null,
      "outputs": [
        {
          "output_type": "stream",
          "name": "stdout",
          "text": [
            "Ingrese la tasa de interes N°1: 0.20\n",
            "Ingrese la tasa de interes N°2: 0.56\n",
            "\n",
            "La tasa de interes 1 es menor a la tasa de interes 2.\n"
          ]
        }
      ]
    },
    {
      "cell_type": "markdown",
      "source": [
        "Ejercicio 6\n",
        "\n",
        "Evaluar si un cliente tiene más de 3 productos financieros."
      ],
      "metadata": {
        "id": "ORVVt26mh8dt"
      }
    },
    {
      "cell_type": "code",
      "source": [
        "finance_products = int(input(\"Ingrese la cantidad de productos financieros que tiene: \"))\n",
        "\n",
        "if finance_products > 3:\n",
        "  print('\\nEl cliente cuenta con más de 03 productos financieros.')\n",
        "elif finance_products == 3:\n",
        "  print('\\nEl cliente cuenta con de 03 productos financieros.')\n",
        "else:\n",
        "  print('\\nEl cliente cuenta con menos de 03 productos financieros.')"
      ],
      "metadata": {
        "id": "1f_gx-hyL7ap",
        "outputId": "b9e1fa7e-278a-4ef1-fde9-97c9fb0035a5",
        "colab": {
          "base_uri": "https://localhost:8080/"
        }
      },
      "execution_count": null,
      "outputs": [
        {
          "output_type": "stream",
          "name": "stdout",
          "text": [
            "Ingrese la cantidad de productos financieros que tiene: 5\n",
            "\n",
            "El cliente cuenta con más de 03 productos financieros.\n"
          ]
        }
      ]
    },
    {
      "cell_type": "markdown",
      "source": [
        "Ejercicio 7\n",
        "\n",
        "Determinar si un monto depositado supera los 10,000."
      ],
      "metadata": {
        "id": "naW4x0QLh_SV"
      }
    },
    {
      "cell_type": "code",
      "source": [
        "deposit_amount = float(input(\"Ingrese la cantidad de dinero depositada: \"))\n",
        "\n",
        "if deposit_amount > 10000:\n",
        "  print(\"\\nEl dinero depositado ha superado los S/.10,000.\")\n",
        "elif deposit_amount == 10000:\n",
        "  print(\"\\nEl dinero depositado es S/.10,000.\")\n",
        "else:\n",
        "  print(\"\\nEl dinero depositado no supera los S/.10,000.\")"
      ],
      "metadata": {
        "id": "xsaS-g_zNGP9",
        "outputId": "72cf5c43-d2c7-4a8f-fa94-f217d00d87ed",
        "colab": {
          "base_uri": "https://localhost:8080/"
        }
      },
      "execution_count": null,
      "outputs": [
        {
          "output_type": "stream",
          "name": "stdout",
          "text": [
            "Ingrese la cantidad de dinero depositada: 45000\n",
            "\n",
            "El dinero depositado ha superado los S/.10,000.\n"
          ]
        }
      ]
    },
    {
      "cell_type": "markdown",
      "source": [
        "# **Diccionarios**"
      ],
      "metadata": {
        "id": "V7WW7fIGioVg"
      }
    },
    {
      "cell_type": "markdown",
      "source": [
        "Ejercicio 1\n",
        "\n",
        "Crear un diccionario con datos de un cliente."
      ],
      "metadata": {
        "id": "CHwNqNtNisgi"
      }
    },
    {
      "cell_type": "code",
      "source": [
        "client = {\n",
        "    \"Nombres\": \"Miguel Angel\",\n",
        "    \"Apellidos\": \"Pinto Ponce\",\n",
        "    \"Edad\": \"30\",\n",
        "    \"Fecha de nacimiento\": \"17/06/1994\",\n",
        "    \"Saldo\": \"8,500\"\n",
        "}\n",
        "print(client)"
      ],
      "metadata": {
        "id": "jctyEO9INjf9",
        "outputId": "f2e85c04-863f-400e-afcd-bca71ba579eb",
        "colab": {
          "base_uri": "https://localhost:8080/"
        }
      },
      "execution_count": 41,
      "outputs": [
        {
          "output_type": "stream",
          "name": "stdout",
          "text": [
            "{'Nombres': 'Miguel Angel', 'Apellidos': 'Pinto Ponce', 'Edad': '30', 'Fecha de nacimiento': '17/06/1994', 'Saldo': '8,500'}\n"
          ]
        }
      ]
    },
    {
      "cell_type": "markdown",
      "source": [
        "Ejercicio 2\n",
        "\n",
        "Acceder al saldo del cliente."
      ],
      "metadata": {
        "id": "y79prRhxivr3"
      }
    },
    {
      "cell_type": "code",
      "source": [
        "print(client[\"Saldo\"])"
      ],
      "metadata": {
        "id": "qGO_hgjGQeWl",
        "outputId": "c87b3f7f-ef78-468d-962b-01591743e861",
        "colab": {
          "base_uri": "https://localhost:8080/"
        }
      },
      "execution_count": 42,
      "outputs": [
        {
          "output_type": "stream",
          "name": "stdout",
          "text": [
            "8,500\n"
          ]
        }
      ]
    },
    {
      "cell_type": "markdown",
      "source": [
        "Ejercicio 3\n",
        "\n",
        "Modificar el saldo."
      ],
      "metadata": {
        "id": "WPMXW--eiy7n"
      }
    },
    {
      "cell_type": "code",
      "source": [
        "client[\"Saldo\"] = \"6,500\"\n",
        "print(client)"
      ],
      "metadata": {
        "id": "u6RzJB5BQh4R",
        "outputId": "065d4b17-52bf-4a4e-a129-e9e7145e645e",
        "colab": {
          "base_uri": "https://localhost:8080/"
        }
      },
      "execution_count": 44,
      "outputs": [
        {
          "output_type": "stream",
          "name": "stdout",
          "text": [
            "{'Nombres': 'Miguel Angel', 'Apellidos': 'Pinto Ponce', 'Edad': '30', 'Fecha de nacimiento': '17/06/1994', 'Saldo': '6,500'}\n"
          ]
        }
      ]
    },
    {
      "cell_type": "markdown",
      "source": [
        "Ejercicio 4\n",
        "\n",
        "Agregar una nueva llave 'tarjeta_credito'."
      ],
      "metadata": {
        "id": "xN7U259_i0SD"
      }
    },
    {
      "cell_type": "code",
      "source": [
        "client[\"Tarjeta de Credito\"] = \"BCP\"\n",
        "\n",
        "print(client)"
      ],
      "metadata": {
        "id": "wtPKgk9LQuux",
        "outputId": "8abc1917-d0a1-4ec7-ddb9-4d196a4b9696",
        "colab": {
          "base_uri": "https://localhost:8080/"
        }
      },
      "execution_count": 46,
      "outputs": [
        {
          "output_type": "stream",
          "name": "stdout",
          "text": [
            "{'Nombres': 'Miguel Angel', 'Apellidos': 'Pinto Ponce', 'Edad': '30', 'Fecha de nacimiento': '17/06/1994', 'Saldo': '6,500', 'Tarjeta de Credito': 'BCP'}\n"
          ]
        }
      ]
    },
    {
      "cell_type": "markdown",
      "source": [
        "Ejercicio 5\n",
        "\n",
        "Eliminar el nombre del cliente."
      ],
      "metadata": {
        "id": "EhsIdR2wi2MR"
      }
    },
    {
      "cell_type": "code",
      "source": [
        "del client[\"Nombres\"]\n",
        "\n",
        "print(client)"
      ],
      "metadata": {
        "id": "oeFD-aBtQ8j3",
        "outputId": "bef6299a-4d74-4820-cb58-afd4aa212092",
        "colab": {
          "base_uri": "https://localhost:8080/"
        }
      },
      "execution_count": 48,
      "outputs": [
        {
          "output_type": "stream",
          "name": "stdout",
          "text": [
            "{'Apellidos': 'Pinto Ponce', 'Edad': '30', 'Fecha de nacimiento': '17/06/1994', 'Saldo': '6,500', 'Tarjeta de Credito': 'BCP'}\n"
          ]
        }
      ]
    },
    {
      "cell_type": "markdown",
      "source": [
        "# FOR"
      ],
      "metadata": {
        "id": "SEZ-ENCGi45b"
      }
    },
    {
      "cell_type": "markdown",
      "source": [
        "Ejercicio 1\n",
        "\n",
        "Recorrer una lista de tasas de interés."
      ],
      "metadata": {
        "id": "UIibjV-Ti8kG"
      }
    },
    {
      "cell_type": "code",
      "source": [],
      "metadata": {
        "id": "RxSDeboYRHUn"
      },
      "execution_count": null,
      "outputs": []
    },
    {
      "cell_type": "markdown",
      "source": [
        "Ejercicio 2\n",
        "\n",
        "Sumar todos los saldos de una lista."
      ],
      "metadata": {
        "id": "xJcFuGJ-i_OZ"
      }
    },
    {
      "cell_type": "markdown",
      "source": [
        "Ejercicio 3\n",
        "\n",
        "Recorrer una lista de precios de productos ecommerce y aplicar descuento de 10%."
      ],
      "metadata": {
        "id": "VrNKApKTjBYl"
      }
    },
    {
      "cell_type": "markdown",
      "source": [
        "Ejercicio 4\n",
        "\n",
        "Contar cuántos productos tienen un precio mayor a 100."
      ],
      "metadata": {
        "id": "LLFjbn2KjDvf"
      }
    },
    {
      "cell_type": "markdown",
      "source": [
        "Ejercicio 5\n",
        "\n",
        "Recorrer campañas de marketing y mostrar su nombre."
      ],
      "metadata": {
        "id": "Sx866gLnjGL3"
      }
    },
    {
      "cell_type": "markdown",
      "source": [
        "Ejercicio 6\n",
        "\n",
        "Recorrer un diccionario de clientes con saldo y mostrar solo los que tengan saldo > 2000."
      ],
      "metadata": {
        "id": "QahT6s0IjIOv"
      }
    },
    {
      "cell_type": "markdown",
      "source": [
        "Ejercicio 7\n",
        "\n",
        "Recorrer una lista de emails de clientes y contar los que terminan en \"@gmail.com\"."
      ],
      "metadata": {
        "id": "2rTlLwQ_jL5s"
      }
    },
    {
      "cell_type": "markdown",
      "source": [
        "# Mini Proyecto\n",
        "\n",
        "\"Evaluador de Clientes Hipotecarios\""
      ],
      "metadata": {
        "id": "FMUBc06ojTaq"
      }
    },
    {
      "cell_type": "markdown",
      "source": [
        "Contexto:\n",
        "Un banco quiere evaluar a sus clientes para ofrecerles un nuevo crédito hipotecario.\n",
        "Cada cliente tiene datos como: nombre, ingreso mensual, deudas actuales y número de productos contratados.\n",
        "\n",
        "Objetivo:\n",
        "1. Crear la base de datos de clientes usando un diccionario.\n",
        "2. Usar for para recorrer todos los clientes.\n",
        "3. Aplicar condicionales para clasificar:\n",
        "   - \"Elegible\" si su ingreso anual es mayor a 36,000 soles, sus deudas son menores a 15,000 soles y tiene al menos 2 productos contratados.\n",
        "   - \"Requiere Evaluación\" si cumple solo algunas condiciones.\n",
        "   - \"No Elegible\" si no cumple ninguna condición.\n",
        "4. Mostrar el resultado bien formateado por cliente."
      ],
      "metadata": {
        "id": "UawN6JC7jXAE"
      }
    },
    {
      "cell_type": "markdown",
      "source": [
        "Instrucciones\n",
        "\n",
        "1. Crea un diccionario llamado clientes con al menos 5 clientes.\n",
        "2. Cada cliente tendrá:\n",
        "   - Nombre (str)\n",
        "   - Ingreso mensual (float)\n",
        "   - Deudas (float)\n",
        "   - Número de productos contratados (int)\n",
        "3. Calcula el ingreso anual (ingreso mensual × 12).\n",
        "4. Usa un for para recorrer cada cliente.\n",
        "5. Usa if, elif, else para clasificarlo en una de las tres categorías.\n",
        "6. Muestra en pantalla: Cliente: {nombre} - Resultado: {clasificación}"
      ],
      "metadata": {
        "id": "cO8ajcixjnWX"
      }
    },
    {
      "cell_type": "markdown",
      "source": [
        "# 🔥 Nivel extra:\n",
        "\n",
        "1. Ingresa manualmente los clientes (input).\n",
        "2. Calcula la diferencia absoluta (abs) entre ingreso anual y deudas.\n",
        "3. Redondea (round) el ingreso anual al número entero más cercano."
      ],
      "metadata": {
        "id": "5ZCQkJxkkDGj"
      }
    }
  ]
}