{
  "nbformat": 4,
  "nbformat_minor": 0,
  "metadata": {
    "colab": {
      "provenance": [],
      "include_colab_link": true
    },
    "kernelspec": {
      "name": "python3",
      "display_name": "Python 3"
    },
    "language_info": {
      "name": "python"
    }
  },
  "cells": [
    {
      "cell_type": "markdown",
      "metadata": {
        "id": "view-in-github",
        "colab_type": "text"
      },
      "source": [
        "<a href=\"https://colab.research.google.com/github/mpintoponce/python_utec/blob/main/Modulo01%3AFundamentos/4.%20Estructuras_de_control_Repetitivas_I/Ejercicios.ipynb\" target=\"_parent\"><img src=\"https://colab.research.google.com/assets/colab-badge.svg\" alt=\"Open In Colab\"/></a>"
      ]
    },
    {
      "cell_type": "markdown",
      "source": [
        "# Listas"
      ],
      "metadata": {
        "id": "NC_iRWcEhNSv"
      }
    },
    {
      "cell_type": "markdown",
      "source": [
        "Ejercicio 1\n",
        "\n",
        "Crear una lista con los nombres de 5 bancos."
      ],
      "metadata": {
        "id": "IxkzijV9gnqx"
      }
    },
    {
      "cell_type": "markdown",
      "source": [
        "Ejercicio 2\n",
        "\n",
        "Acceder al tercer banco de la lista."
      ],
      "metadata": {
        "id": "2d57HxBKgtdO"
      }
    },
    {
      "cell_type": "markdown",
      "source": [
        "Ejercicio 3\n",
        "\n",
        "Agregar un nuevo banco a la lista."
      ],
      "metadata": {
        "id": "r3av9R2Ygv2T"
      }
    },
    {
      "cell_type": "markdown",
      "source": [
        "Ejercicio 4\n",
        "\n",
        "Eliminar el segundo banco."
      ],
      "metadata": {
        "id": "mCi9Qu0lhA7E"
      }
    },
    {
      "cell_type": "markdown",
      "source": [
        "Ejercicio 5\n",
        "\n",
        "Ordenar alfabéticamente los bancos."
      ],
      "metadata": {
        "id": "he1Ai2YahGpE"
      }
    },
    {
      "cell_type": "markdown",
      "source": [
        "# Condicionales IF, ELIF, ELSE"
      ],
      "metadata": {
        "id": "VpT6gNZ2hj1O"
      }
    },
    {
      "cell_type": "markdown",
      "source": [
        "Ejercicio 1\n",
        "\n",
        "Verificar si un cliente tiene ingreso > 3000."
      ],
      "metadata": {
        "id": "kv91XOyphovd"
      }
    },
    {
      "cell_type": "markdown",
      "source": [
        "Ejercicio 2\n",
        "\n",
        "Evaluar edad para otorgar tarjeta de crédito."
      ],
      "metadata": {
        "id": "n1X-A7oNhr4z"
      }
    },
    {
      "cell_type": "markdown",
      "source": [
        "Ejercicio 3\n",
        "\n",
        "Evaluar un score de crédito."
      ],
      "metadata": {
        "id": "PiDQUQ05htq2"
      }
    },
    {
      "cell_type": "markdown",
      "source": [
        "Ejercicio 4\n",
        "\n",
        "Verificar si una cuenta tiene saldo negativo."
      ],
      "metadata": {
        "id": "xoT9xGBph1M_"
      }
    },
    {
      "cell_type": "markdown",
      "source": [
        "Ejercicio 5\n",
        "\n",
        "Comparar dos tasas de interés."
      ],
      "metadata": {
        "id": "hLB_ZRjth5cJ"
      }
    },
    {
      "cell_type": "markdown",
      "source": [
        "Ejercicio 6\n",
        "\n",
        "Evaluar si un cliente tiene más de 3 productos financieros."
      ],
      "metadata": {
        "id": "ORVVt26mh8dt"
      }
    },
    {
      "cell_type": "markdown",
      "source": [
        "Ejercicio 7\n",
        "\n",
        "Determinar si un monto depositado supera los 10,000."
      ],
      "metadata": {
        "id": "naW4x0QLh_SV"
      }
    },
    {
      "cell_type": "markdown",
      "source": [
        "# **Diccionarios**"
      ],
      "metadata": {
        "id": "V7WW7fIGioVg"
      }
    },
    {
      "cell_type": "markdown",
      "source": [
        "Ejercicio 1\n",
        "\n",
        "Crear un diccionario con datos de un cliente."
      ],
      "metadata": {
        "id": "CHwNqNtNisgi"
      }
    },
    {
      "cell_type": "markdown",
      "source": [
        "Ejercicio 2\n",
        "\n",
        "Acceder al saldo del cliente."
      ],
      "metadata": {
        "id": "y79prRhxivr3"
      }
    },
    {
      "cell_type": "markdown",
      "source": [
        "Ejercicio 3\n",
        "\n",
        "Modificar el saldo."
      ],
      "metadata": {
        "id": "WPMXW--eiy7n"
      }
    },
    {
      "cell_type": "markdown",
      "source": [
        "Ejercicio 4\n",
        "\n",
        "Agregar una nueva llave 'tarjeta_credito'."
      ],
      "metadata": {
        "id": "xN7U259_i0SD"
      }
    },
    {
      "cell_type": "markdown",
      "source": [
        "Ejercicio 5\n",
        "\n",
        "Eliminar el nombre del cliente."
      ],
      "metadata": {
        "id": "EhsIdR2wi2MR"
      }
    },
    {
      "cell_type": "markdown",
      "source": [
        "# FOR"
      ],
      "metadata": {
        "id": "SEZ-ENCGi45b"
      }
    },
    {
      "cell_type": "markdown",
      "source": [
        "Ejercicio 1\n",
        "\n",
        "Recorrer una lista de tasas de interés."
      ],
      "metadata": {
        "id": "UIibjV-Ti8kG"
      }
    },
    {
      "cell_type": "markdown",
      "source": [
        "Ejercicio 2\n",
        "\n",
        "Sumar todos los saldos de una lista."
      ],
      "metadata": {
        "id": "xJcFuGJ-i_OZ"
      }
    },
    {
      "cell_type": "markdown",
      "source": [
        "Ejercicio 3\n",
        "\n",
        "Recorrer una lista de precios de productos ecommerce y aplicar descuento de 10%."
      ],
      "metadata": {
        "id": "VrNKApKTjBYl"
      }
    },
    {
      "cell_type": "markdown",
      "source": [
        "Ejercicio 4\n",
        "\n",
        "Contar cuántos productos tienen un precio mayor a 100."
      ],
      "metadata": {
        "id": "LLFjbn2KjDvf"
      }
    },
    {
      "cell_type": "markdown",
      "source": [
        "Ejercicio 5\n",
        "\n",
        "Recorrer campañas de marketing y mostrar su nombre."
      ],
      "metadata": {
        "id": "Sx866gLnjGL3"
      }
    },
    {
      "cell_type": "markdown",
      "source": [
        "Ejercicio 6\n",
        "\n",
        "Recorrer un diccionario de clientes con saldo y mostrar solo los que tengan saldo > 2000."
      ],
      "metadata": {
        "id": "QahT6s0IjIOv"
      }
    },
    {
      "cell_type": "markdown",
      "source": [
        "Ejercicio 7\n",
        "\n",
        "Recorrer una lista de emails de clientes y contar los que terminan en \"@gmail.com\"."
      ],
      "metadata": {
        "id": "2rTlLwQ_jL5s"
      }
    },
    {
      "cell_type": "markdown",
      "source": [
        "# Mini Proyecto\n",
        "\n",
        "\"Evaluador de Clientes Hipotecarios\""
      ],
      "metadata": {
        "id": "FMUBc06ojTaq"
      }
    },
    {
      "cell_type": "markdown",
      "source": [
        "Contexto:\n",
        "Un banco quiere evaluar a sus clientes para ofrecerles un nuevo crédito hipotecario.\n",
        "Cada cliente tiene datos como: nombre, ingreso mensual, deudas actuales y número de productos contratados.\n",
        "\n",
        "Objetivo:\n",
        "1. Crear la base de datos de clientes usando un diccionario.\n",
        "2. Usar for para recorrer todos los clientes.\n",
        "3. Aplicar condicionales para clasificar:\n",
        "   - \"Elegible\" si su ingreso anual es mayor a 36,000 soles, sus deudas son menores a 15,000 soles y tiene al menos 2 productos contratados.\n",
        "   - \"Requiere Evaluación\" si cumple solo algunas condiciones.\n",
        "   - \"No Elegible\" si no cumple ninguna condición.\n",
        "4. Mostrar el resultado bien formateado por cliente."
      ],
      "metadata": {
        "id": "UawN6JC7jXAE"
      }
    },
    {
      "cell_type": "markdown",
      "source": [
        "Instrucciones\n",
        "\n",
        "1. Crea un diccionario llamado clientes con al menos 5 clientes.\n",
        "2. Cada cliente tendrá:\n",
        "   - Nombre (str)\n",
        "   - Ingreso mensual (float)\n",
        "   - Deudas (float)\n",
        "   - Número de productos contratados (int)\n",
        "3. Calcula el ingreso anual (ingreso mensual × 12).\n",
        "4. Usa un for para recorrer cada cliente.\n",
        "5. Usa if, elif, else para clasificarlo en una de las tres categorías.\n",
        "6. Muestra en pantalla: Cliente: {nombre} - Resultado: {clasificación}"
      ],
      "metadata": {
        "id": "cO8ajcixjnWX"
      }
    },
    {
      "cell_type": "markdown",
      "source": [
        "# 🔥 Nivel extra:\n",
        "\n",
        "1. Ingresa manualmente los clientes (input).\n",
        "2. Calcula la diferencia absoluta (abs) entre ingreso anual y deudas.\n",
        "3. Redondea (round) el ingreso anual al número entero más cercano."
      ],
      "metadata": {
        "id": "5ZCQkJxkkDGj"
      }
    }
  ]
}