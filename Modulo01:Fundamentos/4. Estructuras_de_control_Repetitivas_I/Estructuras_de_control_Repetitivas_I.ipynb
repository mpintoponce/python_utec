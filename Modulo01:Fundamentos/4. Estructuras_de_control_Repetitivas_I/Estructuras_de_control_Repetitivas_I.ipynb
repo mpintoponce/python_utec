{
  "nbformat": 4,
  "nbformat_minor": 0,
  "metadata": {
    "colab": {
      "provenance": [],
      "include_colab_link": true
    },
    "kernelspec": {
      "name": "python3",
      "display_name": "Python 3"
    },
    "language_info": {
      "name": "python"
    }
  },
  "cells": [
    {
      "cell_type": "markdown",
      "metadata": {
        "id": "view-in-github",
        "colab_type": "text"
      },
      "source": [
        "<a href=\"https://colab.research.google.com/github/mpintoponce/python_utec/blob/main/Modulo01%3AFundamentos/4.%20Estructuras_de_control_Repetitivas_I/Estructuras_de_control_Repetitivas_I.ipynb\" target=\"_parent\"><img src=\"https://colab.research.google.com/assets/colab-badge.svg\" alt=\"Open In Colab\"/></a>"
      ]
    },
    {
      "cell_type": "markdown",
      "source": [
        "# 1. Introducción a Diccionarios"
      ],
      "metadata": {
        "id": "ZXZB5T0_yOyz"
      }
    },
    {
      "cell_type": "markdown",
      "source": [
        "**¿Qué es un diccionario?**\n",
        "\n",
        "Es una colección de datos en formato clave: valor.\n",
        "\n",
        "Permite acceder a la información mediante claves, no por posición como las listas.\n",
        "\n"
      ],
      "metadata": {
        "id": "IYQZoyHT2EIY"
      }
    },
    {
      "cell_type": "markdown",
      "source": [
        "**¿Para qué sirve?**\n",
        "\n",
        "Ideal para representar objetos del mundo real.\n",
        "\n",
        "Muy útil en el sector financiero para almacenar datos de clientes, productos financieros, tasas, etc."
      ],
      "metadata": {
        "id": "RtUMR-2i2NoZ"
      }
    },
    {
      "cell_type": "markdown",
      "source": [
        "Ejemplo:"
      ],
      "metadata": {
        "id": "f7P8f-Xp2Vxd"
      }
    },
    {
      "cell_type": "code",
      "source": [
        "cliente = {\n",
        "    \"nombre\": \"Ana\",\n",
        "    \"edad\": 35,\n",
        "    \"ingreso\": 4500,\n",
        "    \"morosidades\": 0\n",
        "}\n",
        "print(cliente[\"ingreso\"])  # Acceder al ingreso del cliente"
      ],
      "metadata": {
        "id": "XoMaweyb2JzS"
      },
      "execution_count": null,
      "outputs": []
    },
    {
      "cell_type": "code",
      "source": [
        "student = {\n",
        "    \"name\": \"Miguel\",\n",
        "    \"age\": 25,\n",
        "    \"DNI\": 74326665,\n",
        "    \"Código UNI\": '20122638D'\n",
        "}\n",
        "print(student['age'])"
      ],
      "metadata": {
        "colab": {
          "base_uri": "https://localhost:8080/"
        },
        "id": "FO5Ntt2lQ2NC",
        "outputId": "78d198ad-7351-4d27-a33f-6515c9dad850"
      },
      "execution_count": 8,
      "outputs": [
        {
          "output_type": "stream",
          "name": "stdout",
          "text": [
            "25\n"
          ]
        }
      ]
    },
    {
      "cell_type": "code",
      "source": [
        "student[\"Fecha de nacimiento\"] = \"17/06/1994\"\n",
        "student"
      ],
      "metadata": {
        "colab": {
          "base_uri": "https://localhost:8080/"
        },
        "id": "saa9PJCFTqfm",
        "outputId": "ef7aeaf9-2e83-4e09-dc5b-295262a0100a"
      },
      "execution_count": 17,
      "outputs": [
        {
          "output_type": "execute_result",
          "data": {
            "text/plain": [
              "{'name': 'Miguel',\n",
              " 'age': 25,\n",
              " 'DNI': 74326665,\n",
              " 'Código UNI': '20122638D',\n",
              " 'Fecha de nacimiento': '17/06/1994'}"
            ]
          },
          "metadata": {},
          "execution_count": 17
        }
      ]
    },
    {
      "cell_type": "code",
      "source": [
        "print(student)"
      ],
      "metadata": {
        "colab": {
          "base_uri": "https://localhost:8080/"
        },
        "id": "oiUprF8UUXXg",
        "outputId": "009a60e6-e954-45e9-d73b-539d4ef95696"
      },
      "execution_count": 18,
      "outputs": [
        {
          "output_type": "stream",
          "name": "stdout",
          "text": [
            "{'name': 'Miguel', 'age': 25, 'DNI': 74326665, 'Código UNI': '20122638D', 'Fecha de nacimiento': '17/06/1994'}\n"
          ]
        }
      ]
    },
    {
      "cell_type": "code",
      "source": [
        "new_student = {}\n",
        "new_student[\"name\"] = \"Miguel\"\n",
        "new_student[\"age\"] = 25\n",
        "new_student[\"salary\"] = 10000\n",
        "new_student # De esta manera imprimimos el diccionario."
      ],
      "metadata": {
        "colab": {
          "base_uri": "https://localhost:8080/"
        },
        "id": "QRvJPMxBUZSG",
        "outputId": "5ab27960-33f7-480e-c14b-eff20649ea07"
      },
      "execution_count": 24,
      "outputs": [
        {
          "output_type": "execute_result",
          "data": {
            "text/plain": [
              "{'name': 'Miguel', 'age': 25, 'salary': 10000}"
            ]
          },
          "metadata": {},
          "execution_count": 24
        }
      ]
    },
    {
      "cell_type": "code",
      "source": [
        "new_student[\"salary\"] = 12000 # De esta manera, cambiamos el valor de una característica de la llave (en este caso 'salary')\n",
        "new_student"
      ],
      "metadata": {
        "colab": {
          "base_uri": "https://localhost:8080/"
        },
        "id": "Uk0vYsQOVLz1",
        "outputId": "cc0018ae-6127-49c6-c73b-54efaccf1a9c"
      },
      "execution_count": 25,
      "outputs": [
        {
          "output_type": "execute_result",
          "data": {
            "text/plain": [
              "{'name': 'Miguel', 'age': 25, 'salary': 12000}"
            ]
          },
          "metadata": {},
          "execution_count": 25
        }
      ]
    },
    {
      "cell_type": "markdown",
      "source": [
        "**Diccionario de diccionarios**"
      ],
      "metadata": {
        "id": "4OH2-69pWxG-"
      }
    },
    {
      "cell_type": "code",
      "source": [
        "# De esta manera se crean un diccionario que almacene varios diccionarios\n",
        "students = {\n",
        "    \"001\": {\"name\": \"Miguel\", \"age\": 30, \"salary\": 8000},\n",
        "    \"002\": {\"name\": \"Luis\", \"age\": 29, \"salary\": 10000},\n",
        "    \"003\": {\"name\": \"Ana\", \"age\": 31, \"salary\": 9000},\n",
        "    \"004\": {\"name\": \"Sofía\", \"age\": 28, \"salary\": 7000}\n",
        "}"
      ],
      "metadata": {
        "id": "fKrFgEPAWuuG"
      },
      "execution_count": 50,
      "outputs": []
    },
    {
      "cell_type": "code",
      "source": [
        "students['001'][\"name\"] = \"Manuel\"\n",
        "students"
      ],
      "metadata": {
        "colab": {
          "base_uri": "https://localhost:8080/"
        },
        "id": "93QzAfGbYqqG",
        "outputId": "dff9c1a8-c188-4230-fbdb-a1b8ee575776"
      },
      "execution_count": 37,
      "outputs": [
        {
          "output_type": "execute_result",
          "data": {
            "text/plain": [
              "{'001': {'name': 'Manuel', 'age': 30, 'salary': 8000},\n",
              " '002': {'name': 'Luis', 'age': 29, 'salary': 10000},\n",
              " '003': {'name': 'Ana', 'age': 31, 'salary': 9000},\n",
              " '004': {'name': 'Sofía', 'age': 28, 'salary': 7000}}"
            ]
          },
          "metadata": {},
          "execution_count": 37
        }
      ]
    },
    {
      "cell_type": "code",
      "source": [
        "students[\"001\"][\"gender\"] = \"M\" # Esto demuestra que cada diccionario es independiente.\n",
        "students\n",
        "# Si quiero agregar una categoría en cada diccionario interno, debería hacerlo para cada diccionario."
      ],
      "metadata": {
        "colab": {
          "base_uri": "https://localhost:8080/"
        },
        "id": "z1RAFbusZ1gu",
        "outputId": "4ce3fc0a-959a-489b-858e-5253e77a9c5f"
      },
      "execution_count": 51,
      "outputs": [
        {
          "output_type": "execute_result",
          "data": {
            "text/plain": [
              "{'001': {'name': 'Miguel', 'age': 30, 'salary': 8000, 'gender': 'M'},\n",
              " '002': {'name': 'Luis', 'age': 29, 'salary': 10000},\n",
              " '003': {'name': 'Ana', 'age': 31, 'salary': 9000},\n",
              " '004': {'name': 'Sofía', 'age': 28, 'salary': 7000}}"
            ]
          },
          "metadata": {},
          "execution_count": 51
        }
      ]
    },
    {
      "cell_type": "code",
      "source": [
        "# Eliminar algo dentro de un diccionario\n",
        "del students[\"002\"][\"salary\"]\n",
        "students"
      ],
      "metadata": {
        "colab": {
          "base_uri": "https://localhost:8080/"
        },
        "id": "9--p9bYwbNp7",
        "outputId": "db047bfb-5371-4e50-9a96-87ff80a0ee97"
      },
      "execution_count": 52,
      "outputs": [
        {
          "output_type": "execute_result",
          "data": {
            "text/plain": [
              "{'001': {'name': 'Miguel', 'age': 30, 'salary': 8000, 'gender': 'M'},\n",
              " '002': {'name': 'Luis', 'age': 29},\n",
              " '003': {'name': 'Ana', 'age': 31, 'salary': 9000},\n",
              " '004': {'name': 'Sofía', 'age': 28, 'salary': 7000}}"
            ]
          },
          "metadata": {},
          "execution_count": 52
        }
      ]
    },
    {
      "cell_type": "markdown",
      "source": [
        "**Cómo acceder a valores:**\n",
        "\n",
        "Usando la clave: diccionario[\"clave\"]"
      ],
      "metadata": {
        "id": "w4ylLTfU2aeH"
      }
    },
    {
      "cell_type": "markdown",
      "source": [
        "**Añadir nuevo par clave-valor:**"
      ],
      "metadata": {
        "id": "jmS8eewO2fFC"
      }
    },
    {
      "cell_type": "code",
      "execution_count": null,
      "metadata": {
        "id": "uUEYtzY9x5Gm"
      },
      "outputs": [],
      "source": [
        "cliente[\"tipo_credito\"] = \"Hipotecario\""
      ]
    },
    {
      "cell_type": "markdown",
      "source": [
        "**Empezar con un diccionario vacío:**"
      ],
      "metadata": {
        "id": "51g4lCo92lwQ"
      }
    },
    {
      "cell_type": "code",
      "source": [
        "nuevo_cliente = {}\n",
        "nuevo_cliente[\"nombre\"] = \"Luis\"\n",
        "nuevo_cliente[\"ingreso\"] = 3000"
      ],
      "metadata": {
        "id": "tpK5NSue2mx3"
      },
      "execution_count": null,
      "outputs": []
    },
    {
      "cell_type": "markdown",
      "source": [
        "**Modificar valores:**"
      ],
      "metadata": {
        "id": "_sa6x1ct2rOy"
      }
    },
    {
      "cell_type": "code",
      "source": [
        "cliente[\"ingreso\"] = 5000"
      ],
      "metadata": {
        "id": "6pQI6-vr2vpI"
      },
      "execution_count": null,
      "outputs": []
    },
    {
      "cell_type": "markdown",
      "source": [
        "**Eliminar pares clave-valor:**"
      ],
      "metadata": {
        "id": "DUHgSOL22xrI"
      }
    },
    {
      "cell_type": "code",
      "source": [
        "clientes = {\n",
        "    \"001\": {\"nombre\": \"Ana\", \"ingreso\": 4000},\n",
        "    \"002\": {\"nombre\": \"Luis\", \"ingreso\": 3000}\n",
        "}"
      ],
      "metadata": {
        "id": "Aq7-4wBo205G"
      },
      "execution_count": null,
      "outputs": []
    },
    {
      "cell_type": "markdown",
      "source": [
        "**Ejercicio 1:**\n",
        "\n",
        "Crea un diccionario para un producto financiero con claves como nombre, tasa de interés y tipo. Luego accede a la tasa de interés y modifícala.\n",
        "\n",
        "\n",
        "\n"
      ],
      "metadata": {
        "id": "83NKUBXf23zf"
      }
    },
    {
      "cell_type": "code",
      "source": [
        "finance_product = {\n",
        "    \"name\": \"Savings Account\",\n",
        "    \"interest_rate\": 0.05,\n",
        "    \"type\": \"Fixed-Income\"\n",
        "}\n",
        "print(finance_product)\n",
        "\n",
        "finance_product[\"interest_rate\"] = 0.06\n",
        "print(finance_product)"
      ],
      "metadata": {
        "colab": {
          "base_uri": "https://localhost:8080/"
        },
        "id": "r7_yfjB1bw8b",
        "outputId": "84104d6a-fb2e-44ea-aab3-089726cc2c93"
      },
      "execution_count": 54,
      "outputs": [
        {
          "output_type": "stream",
          "name": "stdout",
          "text": [
            "{'name': 'Savings Account', 'interest_rate': 0.05, 'type': 'Fixed-Income'}\n",
            "{'name': 'Savings Account', 'interest_rate': 0.06, 'type': 'Fixed-Income'}\n"
          ]
        }
      ]
    },
    {
      "cell_type": "markdown",
      "source": [
        "**Ejercicio 2:**\n",
        "\n",
        "Crea un diccionario de 3 clientes con su nombre e ingresos. Agrega un nuevo cliente. Luego, elimina uno de los existentes."
      ],
      "metadata": {
        "id": "Czi-iYwt27Lr"
      }
    },
    {
      "cell_type": "code",
      "source": [
        "# Creando una biblioteca de bibliotecas\n",
        "bd_clients = {\n",
        "    \"00001\": {\"name\": \"Ana\", \"salary\": 7000},\n",
        "    \"00002\": {\"name\": \"Luis\", \"salary\": 7500},\n",
        "    \"00003\": {\"name\": \"Sofía\", \"salary\": 8000}\n",
        "}\n",
        "\n",
        "print(bd_clients)\n",
        "\n",
        "# Agregando un nuevo cliente\n",
        "bd_clients[\"00004\"] = {\"name\": \"Miguel\", \"salary\": 10000}\n",
        "print(f'\\n{bd_clients}')\n",
        "\n",
        "# Eliminando un cliente\n",
        "del bd_clients[\"00002\"]\n",
        "print(f'\\n{bd_clients}')"
      ],
      "metadata": {
        "colab": {
          "base_uri": "https://localhost:8080/"
        },
        "id": "wo1d6VuUfGB0",
        "outputId": "d743a077-00df-4c4f-b44e-b81a51de3061"
      },
      "execution_count": 59,
      "outputs": [
        {
          "output_type": "stream",
          "name": "stdout",
          "text": [
            "{'00001': {'name': 'Ana', 'salary': 7000}, '00002': {'name': 'Luis', 'salary': 7500}, '00003': {'name': 'Sofía', 'salary': 8000}}\n",
            "\n",
            "{'00001': {'name': 'Ana', 'salary': 7000}, '00002': {'name': 'Luis', 'salary': 7500}, '00003': {'name': 'Sofía', 'salary': 8000}, '00004': {'name': 'Miguel', 'salary': 10000}}\n",
            "\n",
            "{'00001': {'name': 'Ana', 'salary': 7000}, '00003': {'name': 'Sofía', 'salary': 8000}, '00004': {'name': 'Miguel', 'salary': 10000}}\n"
          ]
        }
      ]
    },
    {
      "cell_type": "markdown",
      "source": [
        "# 2. For en Python"
      ],
      "metadata": {
        "id": "w2oBkGm-3IZi"
      }
    },
    {
      "cell_type": "markdown",
      "source": [
        "**¿Qué es for?**\n",
        "\n",
        "Una estructura de control repetitiva.\n",
        "\n",
        "Se usa para recorrer elementos de una lista, string o diccionario."
      ],
      "metadata": {
        "id": "vqkAmEE33Ov0"
      }
    },
    {
      "cell_type": "markdown",
      "source": [
        "**¿Para qué sirve?**\n",
        "\n",
        "Automatizar procesos repetitivos, como revisar múltiples clientes o productos financieros."
      ],
      "metadata": {
        "id": "6NnHm2Zw3RFo"
      }
    },
    {
      "cell_type": "markdown",
      "source": [
        "**Sintaxis básica:**\n"
      ],
      "metadata": {
        "id": "tJGAMI9Q3TwI"
      }
    },
    {
      "cell_type": "code",
      "source": [
        "for cliente in lista_clientes:\n",
        "    print(cliente)"
      ],
      "metadata": {
        "id": "lGd8GFjZ26u5"
      },
      "execution_count": null,
      "outputs": []
    },
    {
      "cell_type": "markdown",
      "source": [
        "**¿Por qué es repetitiva?**\n",
        "\n",
        "Porque ejecuta el mismo bloque de código por cada elemento en la secuencia."
      ],
      "metadata": {
        "id": "zbzptSdD3cZ6"
      }
    },
    {
      "cell_type": "code",
      "source": [
        "ingresos = [1000, 2000, 3000]\n",
        "for ingreso in ingresos:\n",
        "    print(\"Ingreso anual:\", ingreso * 12)"
      ],
      "metadata": {
        "id": "ddfuukXf3a-T"
      },
      "execution_count": null,
      "outputs": []
    },
    {
      "cell_type": "markdown",
      "source": [
        "Ejemplo 2: Recorrer un diccionario de clientes"
      ],
      "metadata": {
        "id": "yTflWWvp3hI1"
      }
    },
    {
      "cell_type": "code",
      "source": [
        "for id_cliente in clientes:\n",
        "    print(\"ID:\", id_cliente, \"Ingreso:\", clientes[id_cliente][\"ingreso\"])"
      ],
      "metadata": {
        "id": "1jReTnvu3kG0"
      },
      "execution_count": null,
      "outputs": []
    },
    {
      "cell_type": "markdown",
      "source": [
        "Ejemplo 3: Contar cuántos clientes tienen ingreso > 3000"
      ],
      "metadata": {
        "id": "wQeoR3Lz3mpd"
      }
    },
    {
      "cell_type": "code",
      "source": [
        "contador = 0\n",
        "for cliente in clientes.values():\n",
        "    if cliente[\"ingreso\"] > 3000:\n",
        "        contador += 1\n",
        "print(\"Clientes con alto ingreso:\", contador)"
      ],
      "metadata": {
        "id": "BO6QccEn3pvU"
      },
      "execution_count": null,
      "outputs": []
    },
    {
      "cell_type": "markdown",
      "source": [
        "Ejemplo 4: Crear una lista con tasas ajustadas"
      ],
      "metadata": {
        "id": "Z1DZYAfj3sRL"
      }
    },
    {
      "cell_type": "code",
      "source": [
        "tasas = [0.05, 0.07, 0.08]\n",
        "tasas_ajustadas = []\n",
        "for tasa in tasas:\n",
        "    tasas_ajustadas.append(tasa + 0.01)\n",
        "print(tasas_ajustadas)"
      ],
      "metadata": {
        "id": "jerZ3Pbp3v_-"
      },
      "execution_count": null,
      "outputs": []
    },
    {
      "cell_type": "markdown",
      "source": [
        "Ejemplo 5: Reporte de evaluación"
      ],
      "metadata": {
        "id": "vDmAijzk30aP"
      }
    },
    {
      "cell_type": "code",
      "source": [
        "clientes = [\"Ana\", \"Luis\", \"Sofía\"]\n",
        "for nombre in clientes:\n",
        "    print(f\"Evaluación enviada a {nombre}\")"
      ],
      "metadata": {
        "id": "b4ah9HGJ32bn"
      },
      "execution_count": null,
      "outputs": []
    },
    {
      "cell_type": "markdown",
      "source": [],
      "metadata": {
        "id": "3J9EUJLG3oos"
      }
    }
  ]
}