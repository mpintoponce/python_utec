{
  "nbformat": 4,
  "nbformat_minor": 0,
  "metadata": {
    "colab": {
      "provenance": [],
      "include_colab_link": true
    },
    "kernelspec": {
      "name": "python3",
      "display_name": "Python 3"
    },
    "language_info": {
      "name": "python"
    }
  },
  "cells": [
    {
      "cell_type": "markdown",
      "metadata": {
        "id": "view-in-github",
        "colab_type": "text"
      },
      "source": [
        "<a href=\"https://colab.research.google.com/github/mpintoponce/python_utec/blob/main/Modulo01%3AFundamentos/6.%20Funciones_y_Range/Funciones_y_Range_en_Python.ipynb\" target=\"_parent\"><img src=\"https://colab.research.google.com/assets/colab-badge.svg\" alt=\"Open In Colab\"/></a>"
      ]
    },
    {
      "cell_type": "markdown",
      "source": [
        "# Funciones y Range en Python"
      ],
      "metadata": {
        "id": "X1el0Wz1JZqY"
      }
    },
    {
      "cell_type": "markdown",
      "source": [
        "**1. INTRODUCCIÓN**\n",
        "\n",
        "**Objetivo de la clase:**\n",
        "\n",
        "- Comprender qué son las funciones y cómo se usan en Python.\n",
        "\n",
        "- Comprender el uso de range() como herramienta de iteración.\n",
        "\n",
        "- Aplicar ambos conceptos en contextos de marketing, finanzas y ecommerce."
      ],
      "metadata": {
        "id": "ywsKcY8cJfJo"
      }
    },
    {
      "cell_type": "markdown",
      "source": [
        "**2. FUNCIONES EN PYTHON**\n",
        "\n",
        "**¿Qué es una función?**\n",
        "\n",
        "Una función es un bloque de código reutilizable que se puede ejecutar cuando sea necesario. Ayuda a organizar el código y evitar repeticiones."
      ],
      "metadata": {
        "id": "LQuCiXPzJojH"
      }
    },
    {
      "cell_type": "markdown",
      "source": [
        "**Estructura básica:**"
      ],
      "metadata": {
        "id": "7AK84BGCJszm"
      }
    },
    {
      "cell_type": "code",
      "execution_count": null,
      "metadata": {
        "id": "htagfLrqJPYN"
      },
      "outputs": [],
      "source": [
        "def nombre_de_funcion(parametros):\n",
        "    # bloque de código\n",
        "    return resultado"
      ]
    },
    {
      "cell_type": "markdown",
      "source": [
        "**Ejemplo 1**\n",
        "\n",
        "Diseñar una función que calcule el interés en monto que pagará un cliente al tomar un crédito, use como inputs (capital en soles, tasa de interés y duración del crédito en meses)"
      ],
      "metadata": {
        "id": "NW7S7xplKMGT"
      }
    },
    {
      "cell_type": "code",
      "source": [
        "def calcular_interes(capital, tasa, tiempo): # Estamos definiendo una función con 03 parámetros.\n",
        "    interes = capital * tasa * tiempo\n",
        "    return interes"
      ],
      "metadata": {
        "id": "Rr6v1Y70KmYN"
      },
      "execution_count": null,
      "outputs": []
    },
    {
      "cell_type": "code",
      "source": [
        "calcular_interes(1000, 0.05, 1)"
      ],
      "metadata": {
        "colab": {
          "base_uri": "https://localhost:8080/"
        },
        "id": "Oi-PUdrzUsqs",
        "outputId": "441de953-3045-44de-c37f-2633f6ee17a7"
      },
      "execution_count": null,
      "outputs": [
        {
          "output_type": "execute_result",
          "data": {
            "text/plain": [
              "50.0"
            ]
          },
          "metadata": {},
          "execution_count": 6
        }
      ]
    },
    {
      "cell_type": "code",
      "source": [
        "print(calcular_interes(1000, 0.05, 1))  # Resultado: 50.0"
      ],
      "metadata": {
        "id": "14HMlvihKrhq",
        "colab": {
          "base_uri": "https://localhost:8080/"
        },
        "outputId": "86f78bef-99fc-4d43-82b7-166fd3321f0f"
      },
      "execution_count": null,
      "outputs": [
        {
          "output_type": "stream",
          "name": "stdout",
          "text": [
            "50.0\n"
          ]
        }
      ]
    },
    {
      "cell_type": "markdown",
      "source": [
        "**Ejemplo 2**\n",
        "\n",
        "Diseñar una función que calcule el nuevo precio incluyendo el descuento de una campaña específica, use como inputs (precio en soles y descuento en porcentaje)"
      ],
      "metadata": {
        "id": "6xNqUFtzKzW9"
      }
    },
    {
      "cell_type": "code",
      "source": [
        "def calculate_discount(price, percentaje):\n",
        "    discount = price * (1 - percentaje)\n",
        "    return discount"
      ],
      "metadata": {
        "id": "CxOtUn2qU1aN"
      },
      "execution_count": null,
      "outputs": []
    },
    {
      "cell_type": "code",
      "source": [
        "calculate_discount(100, 0.3)"
      ],
      "metadata": {
        "colab": {
          "base_uri": "https://localhost:8080/"
        },
        "id": "YH_GE9aPVVXe",
        "outputId": "b0fd96e1-69cf-4864-f17e-d5e9474e983b"
      },
      "execution_count": null,
      "outputs": [
        {
          "output_type": "execute_result",
          "data": {
            "text/plain": [
              "70.0"
            ]
          },
          "metadata": {},
          "execution_count": 13
        }
      ]
    },
    {
      "cell_type": "markdown",
      "source": [
        "**Ejemplo 3**\n",
        "\n",
        "Diseñar una función que calcule el cpcc (Costo por Click) de un ad publicitario en internet, considerde como input (Tarifa en soles que se aplicará por click, número de clicks en el Ad)"
      ],
      "metadata": {
        "id": "zU28K4nWLe2N"
      }
    },
    {
      "cell_type": "code",
      "source": [
        "def cpcc(cost_clic, n_clics):\n",
        "    cpcc = cost_clic * n_clics\n",
        "    return cpcc\n",
        "\n",
        "cost_clic = float(input(\"Ingrese la terifa en soles que se aplicará por clic: \"))\n",
        "n_clics = int(input(\"Ingrese el número de clics: \"))\n",
        "\n",
        "print(f'El costo por clic de un ad publicitario en interner: {cpcc(cost_clic, n_clics)}')"
      ],
      "metadata": {
        "colab": {
          "base_uri": "https://localhost:8080/"
        },
        "id": "yL6-nasSXLKh",
        "outputId": "bb247e28-ad9e-4e78-ab95-895584168029"
      },
      "execution_count": null,
      "outputs": [
        {
          "output_type": "stream",
          "name": "stdout",
          "text": [
            "Ingrese la terifa en soles que se aplicará por clic: 12.5\n",
            "Ingrese el número de clics: 500\n",
            "El costo por clic de un ad publicitario en interner: 6250.0\n"
          ]
        }
      ]
    },
    {
      "cell_type": "markdown",
      "source": [
        "**2. RANGE EN PYTHON**\n",
        "\n",
        "**¿Qué es range()?**\n",
        "\n",
        "range() genera una secuencia de números, comúnmente usada para repetir acciones un número definido de veces."
      ],
      "metadata": {
        "id": "isGog95fMNbO"
      }
    },
    {
      "cell_type": "markdown",
      "source": [
        "**Estructura básica:**"
      ],
      "metadata": {
        "id": "-oR_Etb6MXAD"
      }
    },
    {
      "cell_type": "code",
      "source": [
        "range(inicio, fin, paso)"
      ],
      "metadata": {
        "id": "d8XGHQQkLT0Q"
      },
      "execution_count": null,
      "outputs": []
    },
    {
      "cell_type": "markdown",
      "source": [
        "**Ejemplo 1**"
      ],
      "metadata": {
        "id": "bLDJfdmEMbfS"
      }
    },
    {
      "cell_type": "code",
      "source": [
        "for i in range(5):\n",
        "    print(i)  # Imprime del 0 al 4"
      ],
      "metadata": {
        "id": "mmyPk4RzMcNg",
        "colab": {
          "base_uri": "https://localhost:8080/"
        },
        "outputId": "47494778-930b-4b1e-a0de-44ad4e290e08"
      },
      "execution_count": null,
      "outputs": [
        {
          "output_type": "stream",
          "name": "stdout",
          "text": [
            "0\n",
            "1\n",
            "2\n",
            "3\n",
            "4\n"
          ]
        }
      ]
    },
    {
      "cell_type": "code",
      "source": [
        "range(5)"
      ],
      "metadata": {
        "colab": {
          "base_uri": "https://localhost:8080/"
        },
        "id": "8zu0RLn8Z10j",
        "outputId": "a61f2f00-1a89-4731-95bc-8081cb871448"
      },
      "execution_count": null,
      "outputs": [
        {
          "output_type": "execute_result",
          "data": {
            "text/plain": [
              "range(0, 5)"
            ]
          },
          "metadata": {},
          "execution_count": 21
        }
      ]
    },
    {
      "cell_type": "markdown",
      "source": [
        "**Ejemplo 2**\n",
        "\n",
        "Diseñe una función que presente el portafolio de productos que tiene un negocio"
      ],
      "metadata": {
        "id": "valEOhXnMh5T"
      }
    },
    {
      "cell_type": "code",
      "source": [
        "productos = [\"zapatos\", \"camisa\", \"pantalón\"]"
      ],
      "metadata": {
        "id": "h8eQF6oeMiYZ"
      },
      "execution_count": null,
      "outputs": []
    },
    {
      "cell_type": "code",
      "source": [
        "for i in range(len(productos)):\n",
        "    print(\"Producto:\", productos[i])"
      ],
      "metadata": {
        "colab": {
          "base_uri": "https://localhost:8080/"
        },
        "id": "F0yLepwGauw4",
        "outputId": "f01a6477-28f7-491d-9304-42557ff0547a"
      },
      "execution_count": null,
      "outputs": [
        {
          "output_type": "stream",
          "name": "stdout",
          "text": [
            "Producto: zapatos\n",
            "Producto: camisa\n",
            "Producto: pantalón\n"
          ]
        }
      ]
    },
    {
      "cell_type": "code",
      "source": [
        "range(0,5,2)"
      ],
      "metadata": {
        "colab": {
          "base_uri": "https://localhost:8080/"
        },
        "id": "hezkrAeabzXx",
        "outputId": "b3c742bf-3b4d-4e80-d11d-58b2d397bf67"
      },
      "execution_count": null,
      "outputs": [
        {
          "output_type": "execute_result",
          "data": {
            "text/plain": [
              "range(0, 5, 2)"
            ]
          },
          "metadata": {},
          "execution_count": 25
        }
      ]
    },
    {
      "cell_type": "code",
      "source": [
        "for i in range(0,5,2):\n",
        "    print(i)  # Imprime del 0 al 4"
      ],
      "metadata": {
        "colab": {
          "base_uri": "https://localhost:8080/"
        },
        "id": "1-DtBgR-b4gB",
        "outputId": "9a765365-6878-495e-d00a-554b20cd4af8"
      },
      "execution_count": null,
      "outputs": [
        {
          "output_type": "stream",
          "name": "stdout",
          "text": [
            "0\n",
            "2\n",
            "4\n"
          ]
        }
      ]
    },
    {
      "cell_type": "markdown",
      "source": [
        "**4. EJERCICIOS DE PRÁCTICA EN CLASE**\n",
        "\n",
        "**Funciones:**\n",
        "\n",
        "1. Crear una función que calcule el IGV (18%) de una venta.\n",
        "\n",
        "2. Crear una función que reciba una lista de ingresos mensuales y devuelva el promedio.\n",
        "\n",
        "3. Crear una función que indique si un cliente es \"Premium\" (si tiene más de 3 productos).\n",
        "\n",
        "**Range:**\n",
        "\n",
        "1. Usar range() para imprimir los primeros 10 múltiplos de 5.\n",
        "\n",
        "2. Usar range() para simular 6 meses de ahorro mensual y mostrar el total ahorrado."
      ],
      "metadata": {
        "id": "4xIvrZsOM41P"
      }
    },
    {
      "cell_type": "code",
      "source": [
        "# 1. Crear una función que calcule el IGV (18%) de una venta.\n",
        "\n",
        "def igv_calculation(price):\n",
        "    igv_calculation = round(price * 0.18,2)\n",
        "    return igv_calculation\n",
        "\n",
        "price = float(input(\"Ingrese el costo del producto: \"))\n",
        "\n",
        "print(f'\\nEl cálculo del IGV para el producto es: S/.{igv_calculation(price)}')"
      ],
      "metadata": {
        "colab": {
          "base_uri": "https://localhost:8080/"
        },
        "id": "qvunjgsqcnxs",
        "outputId": "9faecee7-0a89-4b6a-8295-7a3032715dac"
      },
      "execution_count": null,
      "outputs": [
        {
          "output_type": "stream",
          "name": "stdout",
          "text": [
            "Ingrese el costo del producto: 100\n",
            "\n",
            "El cálculo del IGV para el producto es: S/.18.0\n"
          ]
        }
      ]
    },
    {
      "cell_type": "code",
      "source": [
        "#  2. Crear una función que reciba una lista de ingresos mensuales y devuelva el promedio.\n",
        "salary_list = []\n",
        "index = int(input('Ingrese la cantidad de personas: '))\n",
        "def salary_avg(salary_list):\n",
        "    for i in range(index):\n",
        "      salary = int(input(f'Ingrese el ingreso mensaul de la persona {i+1}: '))\n",
        "      salary_list.append(salary)\n",
        "      average = sum(salary_list) / len(salary_list)\n",
        "    return average\n",
        "\n",
        "print(f'El ingreso promedio es: {salary_avg(salary_list)}')\n"
      ],
      "metadata": {
        "colab": {
          "base_uri": "https://localhost:8080/"
        },
        "id": "G_1myEEreEA1",
        "outputId": "9f0f56a0-4760-4733-f03d-7d91d06435a1"
      },
      "execution_count": null,
      "outputs": [
        {
          "output_type": "stream",
          "name": "stdout",
          "text": [
            "Ingrese la cantidad de personas: 2\n",
            "Ingrese el ingreso mensaul de la persona 1: 1230\n",
            "Ingrese el ingreso mensaul de la persona 2: 1245\n",
            "El ingreso promedio es: 1237.5\n"
          ]
        }
      ]
    },
    {
      "cell_type": "code",
      "source": [
        "# Usar range() para imprimir los primeros 10 múltiplos de 5.\n",
        "\n",
        "for i in range(0,10,1):\n",
        "    multiple = i * 5\n",
        "    print(f'Multiplo de 5 N°{i+1}: {multiple}')\n"
      ],
      "metadata": {
        "colab": {
          "base_uri": "https://localhost:8080/"
        },
        "id": "905CQHKAgvmv",
        "outputId": "5947ee22-15c6-402d-c704-4f9f861d2ec9"
      },
      "execution_count": null,
      "outputs": [
        {
          "output_type": "stream",
          "name": "stdout",
          "text": [
            "Multiplo de 5 N°1: 0\n",
            "Multiplo de 5 N°2: 5\n",
            "Multiplo de 5 N°3: 10\n",
            "Multiplo de 5 N°4: 15\n",
            "Multiplo de 5 N°5: 20\n",
            "Multiplo de 5 N°6: 25\n",
            "Multiplo de 5 N°7: 30\n",
            "Multiplo de 5 N°8: 35\n",
            "Multiplo de 5 N°9: 40\n",
            "Multiplo de 5 N°10: 45\n"
          ]
        }
      ]
    },
    {
      "cell_type": "code",
      "source": [
        "#  Usar range() para simular 6 meses de ahorro mensual y mostrar el total ahorrado.\n",
        "\n",
        "total_save = 0\n",
        "\n",
        "for i in range(0,6,1):\n",
        "  mensual_save = float(input(f'Ingresar en ahorro mensual N°{i+1}: ' ))\n",
        "  total_save = total_save + mensual_save\n",
        "\n",
        "print(f'Total ahorrado es: {total_save}')"
      ],
      "metadata": {
        "id": "C0CDASV3t8sG",
        "colab": {
          "base_uri": "https://localhost:8080/"
        },
        "outputId": "2ea83ef3-3608-4ed4-b57e-3d0a6eee24d4"
      },
      "execution_count": 4,
      "outputs": [
        {
          "output_type": "stream",
          "name": "stdout",
          "text": [
            "Ingresar en ahorro mensual N°1: 123\n",
            "Ingresar en ahorro mensual N°2: 145\n",
            "Ingresar en ahorro mensual N°3: 684\n",
            "Ingresar en ahorro mensual N°4: 574\n",
            "Ingresar en ahorro mensual N°5: 123\n",
            "Ingresar en ahorro mensual N°6: 159\n",
            "Total ahorrado promedio es: 1808.0\n"
          ]
        }
      ]
    },
    {
      "cell_type": "markdown",
      "source": [
        "**5. MINI PROYECTO FINAL**\n",
        "\n",
        "**Descripción:**\n",
        "\n",
        "Simular un sistema básico para evaluar el rendimiento financiero de clientes bancarios.\n",
        "\n",
        "**Requisitos:**\n",
        "\n",
        "- Lista de clientes (IDs)\n",
        "\n",
        "- Diccionario con ingresos mensuales\n",
        "\n",
        "- Funciones para:\n",
        "\n",
        "- Calcular ingreso anual\n",
        "\n",
        "- Clasificar al cliente (alto, medio, bajo ingreso)\n",
        "\n",
        "- Uso de range para simular 12 meses\n",
        "\n",
        "- Uso de if, else, for, while"
      ],
      "metadata": {
        "id": "qZKELUZANEtx"
      }
    },
    {
      "cell_type": "code",
      "source": [],
      "metadata": {
        "id": "ZnzK9eFCNW9F"
      },
      "execution_count": null,
      "outputs": []
    }
  ]
}