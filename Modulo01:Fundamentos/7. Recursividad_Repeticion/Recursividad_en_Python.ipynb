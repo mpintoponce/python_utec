{
  "nbformat": 4,
  "nbformat_minor": 0,
  "metadata": {
    "colab": {
      "provenance": [],
      "include_colab_link": true
    },
    "kernelspec": {
      "name": "python3",
      "display_name": "Python 3"
    },
    "language_info": {
      "name": "python"
    }
  },
  "cells": [
    {
      "cell_type": "markdown",
      "metadata": {
        "id": "view-in-github",
        "colab_type": "text"
      },
      "source": [
        "<a href=\"https://colab.research.google.com/github/mpintoponce/python_utec/blob/main/Modulo01%3AFundamentos/7.%20Recursividad_Repeticion/Recursividad_en_Python.ipynb\" target=\"_parent\"><img src=\"https://colab.research.google.com/assets/colab-badge.svg\" alt=\"Open In Colab\"/></a>"
      ]
    },
    {
      "cell_type": "markdown",
      "source": [
        "# Recursividad en Python"
      ],
      "metadata": {
        "id": "OVwQVEDyn2yr"
      }
    },
    {
      "cell_type": "markdown",
      "source": [
        "**Objetivos de aprendizaje**\n",
        "\n",
        "- Comprender qué es la recursividad y cuándo se utiliza.\n",
        "- Aprender a escribir funciones recursivas en Python.\n",
        "- Diferenciar entre recursión y repetición con for/while.\n",
        "- Aplicar recursividad en problemas reales de análisis de datos, marketing, finanzas y ecommerce."
      ],
      "metadata": {
        "id": "uZ1tHNswn-OP"
      }
    },
    {
      "cell_type": "markdown",
      "source": [
        "**1. TEORÍA**\n",
        "\n",
        "**¿Qué es la recursividad?**\n",
        "\n",
        "La recursividad es una técnica en la que una función se llama a sí misma para resolver un problema más grande dividiéndolo en subproblemas más pequeños."
      ],
      "metadata": {
        "id": "zA01peWZoIPA"
      }
    },
    {
      "cell_type": "markdown",
      "source": [
        "**Requisitos:**\n",
        "\n",
        "Caso base: condición que detiene la recursión.\n",
        "Paso recursivo: llamada a la misma función con un nuevo valor."
      ],
      "metadata": {
        "id": "AXGBG7FeoQHf"
      }
    },
    {
      "cell_type": "markdown",
      "source": [
        "**Ejemplo clásico:**\n",
        "\n",
        "Factorial"
      ],
      "metadata": {
        "id": "7bvUZWFtoUiN"
      }
    },
    {
      "cell_type": "code",
      "execution_count": null,
      "metadata": {
        "id": "NSUQT0MnnwWc"
      },
      "outputs": [],
      "source": [
        "def factorial(n):\n",
        "    if n == 0:\n",
        "        return 1  # caso base\n",
        "    else:\n",
        "        return n * factorial(n - 1)  # paso recursivo"
      ]
    },
    {
      "cell_type": "markdown",
      "source": [
        "**2. EJEMPLOS APLICADOS**"
      ],
      "metadata": {
        "id": "kefRXtnToeLJ"
      }
    },
    {
      "cell_type": "code",
      "source": [
        "def interes_compuesto(capital, tasa, años):\n",
        "    if años == 0:\n",
        "        return capital\n",
        "    else:\n",
        "        return interes_compuesto(capital * (1 + tasa), tasa, años - 1)\n",
        "\n",
        "print(interes_compuesto(1000, 0.05, 3))  # 1157.625"
      ],
      "metadata": {
        "id": "w1GSGHvtoi2Q"
      },
      "execution_count": null,
      "outputs": []
    },
    {
      "cell_type": "code",
      "source": [
        "def suma_ventas(ventas):\n",
        "    if len(ventas) == 0:\n",
        "        return 0\n",
        "    else:\n",
        "        return ventas[0] + suma_ventas(ventas[1:])\n",
        "\n",
        "print(suma_ventas([120, 340, 560]))  # 1020"
      ],
      "metadata": {
        "id": "kxx-2ynOonJ2"
      },
      "execution_count": null,
      "outputs": []
    },
    {
      "cell_type": "code",
      "source": [
        "def contar_clics_positivos(lista):\n",
        "    if not lista:\n",
        "        return 0\n",
        "    if lista[0] > 0:\n",
        "        return 1 + contar_clics_positivos(lista[1:])\n",
        "    else:\n",
        "        return contar_clics_positivos(lista[1:])\n",
        "\n",
        "clics = [1, 0, 2, 0, 5]\n",
        "print(contar_clics_positivos(clics))  # 3"
      ],
      "metadata": {
        "id": "HwcRhlUPoqvZ"
      },
      "execution_count": null,
      "outputs": []
    },
    {
      "cell_type": "markdown",
      "source": [
        "**3. PRÁCTICA GUIADA**\n",
        "\n",
        "Paso a paso:\n",
        "- Identificar el caso base.\n",
        "- Establecer el paso recursivo.\n",
        "- Validar inputs extremos (0, negativos, listas vacías)."
      ],
      "metadata": {
        "id": "Og9d7Lw9ot5S"
      }
    },
    {
      "cell_type": "markdown",
      "source": [
        "1. Crear una función recursiva que cuente regresivamente desde un número dado hasta 0.\n",
        "2. Crear una función recursiva para calcular la suma de los primeros n números naturales.\n",
        "3. Escribir una función que recorra recursivamente una lista de precios y devuelva el precio mayor.\n",
        "4. Dado un diccionario de ventas por categoría, usar recursividad para sumar todas las ventas.\n",
        "5. En una lista de deudas, usar recursividad para saber cuántas superan cierto umbral (e.g. > 1000).\n",
        "6. Calcular cuántos productos tienen descuento en una lista de booleanos [True, False, True...].\n",
        "7. Crear una función recursiva para contar cuántas veces aparece una palabra clave en una lista de campañas de marketing."
      ],
      "metadata": {
        "id": "3q030OJ6o764"
      }
    }
  ]
}