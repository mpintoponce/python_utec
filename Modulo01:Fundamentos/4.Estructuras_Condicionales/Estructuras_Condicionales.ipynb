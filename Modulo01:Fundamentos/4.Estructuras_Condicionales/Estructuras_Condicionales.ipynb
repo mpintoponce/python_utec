{
  "nbformat": 4,
  "nbformat_minor": 0,
  "metadata": {
    "colab": {
      "provenance": [],
      "include_colab_link": true
    },
    "kernelspec": {
      "name": "python3",
      "display_name": "Python 3"
    },
    "language_info": {
      "name": "python"
    }
  },
  "cells": [
    {
      "cell_type": "markdown",
      "metadata": {
        "id": "view-in-github",
        "colab_type": "text"
      },
      "source": [
        "<a href=\"https://colab.research.google.com/github/mpintoponce/python_utec/blob/main/Modulo01%3AFundamentos/4.Estructuras_Condicionales/Estructuras_Condicionales.ipynb\" target=\"_parent\"><img src=\"https://colab.research.google.com/assets/colab-badge.svg\" alt=\"Open In Colab\"/></a>"
      ]
    },
    {
      "cell_type": "markdown",
      "source": [
        "<img src=\"https://posgrado.utec.edu.pe/sites/default/files/2023-08/Testimonial-home-2.jpg\" alt=\"HTML5 Icon\" width=\"900\" height=\"250\" >\n"
      ],
      "metadata": {
        "id": "v3JGreO5zErE"
      }
    },
    {
      "cell_type": "markdown",
      "source": [
        "# **Estructuras Condicionales**"
      ],
      "metadata": {
        "id": "A9PFo41IzIqt"
      }
    },
    {
      "cell_type": "markdown",
      "source": [
        "---\n",
        "\n",
        "**Objetivo**\n",
        "\n",
        "- Comprender y aplicar pruebas condicionales usando comparaciones y operadores lógicos.\n",
        "- Utilizar sentencias `if`, `if-else` y `if-elif-else` para controlar el flujo de un programa.\n",
        "- Evaluar condiciones simples, múltiples y compuestas, incluyendo la pertenencia a listas.\n",
        "\n",
        "\n"
      ],
      "metadata": {
        "id": "DVXsQR7LzUZt"
      }
    },
    {
      "cell_type": "markdown",
      "source": [
        "---\n",
        "\n",
        "**Contenido**\n",
        "\n",
        "- 1. Pruebas Condicionales\n",
        "  - Igualdad y desigualdad\n",
        "  - Comparaciones numéricas\n",
        "  - Mayúsculas/minúsculas\n",
        "  - Condiciones múltiples y booleanos\n",
        "  - Verificación en listas\n",
        "- 2. Sentencias IF\n",
        "  - If simple\n",
        "  - If-else\n",
        "  - If-elif-else\n",
        "  - If sin else\n",
        "  - Múltiples if independientes\n",
        "\n",
        "  ---"
      ],
      "metadata": {
        "id": "Imzierfsz88s"
      }
    },
    {
      "cell_type": "markdown",
      "source": [
        "## 1. Pruebas Condicionales\n"
      ],
      "metadata": {
        "id": "lXLgRjAB0HX5"
      }
    },
    {
      "cell_type": "markdown",
      "source": [
        "### 1.1 Comprobar la igualdad\n"
      ],
      "metadata": {
        "id": "cnslePwn0L1e"
      }
    },
    {
      "cell_type": "markdown",
      "source": [
        "Las condiciones permiten verificar si dos valores son exactamente iguales usando `==`. Esta operación es fundamental para evaluar decisiones básicas en programas interactivos.\n"
      ],
      "metadata": {
        "id": "h6BAkjWN0NTh"
      }
    },
    {
      "cell_type": "markdown",
      "source": [
        "**Ejemplo**"
      ],
      "metadata": {
        "id": "HpNwudoq0RcY"
      }
    },
    {
      "cell_type": "code",
      "execution_count": 3,
      "metadata": {
        "id": "EugCWlpFzDDJ"
      },
      "outputs": [],
      "source": [
        "color = 'rojo'"
      ]
    },
    {
      "cell_type": "code",
      "source": [
        "print(color == 'rojo')  # Es un Booleano, pero se estudia como condicional"
      ],
      "metadata": {
        "id": "dkWed9JC0WnE",
        "outputId": "375f717f-a6d2-455e-c44f-53ccf00afaa9",
        "colab": {
          "base_uri": "https://localhost:8080/"
        }
      },
      "execution_count": 4,
      "outputs": [
        {
          "output_type": "stream",
          "name": "stdout",
          "text": [
            "True\n"
          ]
        }
      ]
    },
    {
      "cell_type": "code",
      "source": [
        "print(color == 'verde')  # False"
      ],
      "metadata": {
        "id": "BC1BC9q60V3z"
      },
      "execution_count": null,
      "outputs": []
    },
    {
      "cell_type": "code",
      "source": [
        "age = 26"
      ],
      "metadata": {
        "id": "bnZ6Tg1I_3xO"
      },
      "execution_count": 5,
      "outputs": []
    },
    {
      "cell_type": "code",
      "source": [
        "age == 18"
      ],
      "metadata": {
        "id": "WAoWkm42_69L",
        "outputId": "8ecb44e0-87f9-4a09-b52b-af2c57447d53",
        "colab": {
          "base_uri": "https://localhost:8080/"
        }
      },
      "execution_count": 6,
      "outputs": [
        {
          "output_type": "execute_result",
          "data": {
            "text/plain": [
              "False"
            ]
          },
          "metadata": {},
          "execution_count": 6
        }
      ]
    },
    {
      "cell_type": "code",
      "source": [
        "age == 26"
      ],
      "metadata": {
        "id": "6u1Aq6fr_-Ji",
        "outputId": "e8fbda66-da06-4db7-e50b-987370ac6aa1",
        "colab": {
          "base_uri": "https://localhost:8080/"
        }
      },
      "execution_count": 7,
      "outputs": [
        {
          "output_type": "execute_result",
          "data": {
            "text/plain": [
              "True"
            ]
          },
          "metadata": {},
          "execution_count": 7
        }
      ]
    },
    {
      "cell_type": "code",
      "source": [
        "type(age == 26) # Es un Booleano, pero se estudia como condicional"
      ],
      "metadata": {
        "id": "QlpteUHrAAUH",
        "outputId": "e12a758d-9994-47e4-ab49-b9c9e0e358b3",
        "colab": {
          "base_uri": "https://localhost:8080/"
        }
      },
      "execution_count": 8,
      "outputs": [
        {
          "output_type": "execute_result",
          "data": {
            "text/plain": [
              "bool"
            ]
          },
          "metadata": {},
          "execution_count": 8
        }
      ]
    },
    {
      "cell_type": "code",
      "source": [
        "True == True # Es una sentencia bastante potente, porque en un futuro, se podría evaluar varías condicionales de una sola forma"
      ],
      "metadata": {
        "id": "BJ3Cq56tAG4s",
        "outputId": "d397a22f-b6e3-40e3-cbfc-97412279d272",
        "colab": {
          "base_uri": "https://localhost:8080/"
        }
      },
      "execution_count": 12,
      "outputs": [
        {
          "output_type": "execute_result",
          "data": {
            "text/plain": [
              "True"
            ]
          },
          "metadata": {},
          "execution_count": 12
        }
      ]
    },
    {
      "cell_type": "markdown",
      "source": [
        "**Ejercicio 1.1**\n",
        "\n",
        "Declara una variable con tu comida favorita y verifica si es igual a 'pizza'. Imprime un mensaje según el resultado.\n"
      ],
      "metadata": {
        "id": "no3xYmgP0ZdP"
      }
    },
    {
      "cell_type": "code",
      "source": [
        "favorite_food = input(\"Ingrese su comida favorita: \")\n",
        "if favorite_food == 'pizza':\n",
        "  print(\"Si es pizza\")\n",
        "else:\n",
        "  print(\"No es pizza\")"
      ],
      "metadata": {
        "id": "gkNmow3a0f1W",
        "outputId": "7cffb075-e9a8-4437-ba59-9d898d789adb",
        "colab": {
          "base_uri": "https://localhost:8080/"
        }
      },
      "execution_count": 17,
      "outputs": [
        {
          "output_type": "stream",
          "name": "stdout",
          "text": [
            "Ingrese su comida favorita: Pizza\n",
            "No es pizza\n"
          ]
        }
      ]
    },
    {
      "cell_type": "code",
      "source": [
        "favorite_food = input(\"Ingrese su comida favorita: \")\n",
        "my_favorite_food = 'pizza'\n",
        "print(f'Tu comida favorita es {favorite_food}, la condición es {favorite_food==my_favorite_food}')"
      ],
      "metadata": {
        "id": "X-wimBiNDUMS",
        "outputId": "1b360a94-8e30-495f-8ff9-f86a2bf6241c",
        "colab": {
          "base_uri": "https://localhost:8080/"
        }
      },
      "execution_count": 19,
      "outputs": [
        {
          "output_type": "stream",
          "name": "stdout",
          "text": [
            "Ingrese su comida favorita: pizza\n",
            "Tu comida favorita es pizza, la condición es True\n"
          ]
        }
      ]
    },
    {
      "cell_type": "code",
      "source": [
        "# Este programa evalua un condicional\n",
        "favorite_food = input(\"What's your favorite food?: \")\n",
        "my_favorite_food = \"pizza\"\n",
        "\n",
        "if favorite_food.capitalize() == my_favorite_food.capitalize():\n",
        "  print(f'Your favorite food is {favorite_food.capitalize()}!!!!')\n",
        "else:\n",
        "  print(f'Your favorite food is not pizza, is {favorite_food.capitalize()}')"
      ],
      "metadata": {
        "id": "0PZutBXuFQRD",
        "outputId": "102f2b6c-1638-4bf9-e355-d437267042ff",
        "colab": {
          "base_uri": "https://localhost:8080/"
        }
      },
      "execution_count": 28,
      "outputs": [
        {
          "output_type": "stream",
          "name": "stdout",
          "text": [
            "What's your favorite food?: PIZZa\n",
            "Your favorite food is Pizza!!!!\n"
          ]
        }
      ]
    },
    {
      "cell_type": "code",
      "source": [
        "# Este programa evalua un condicional\n",
        "favorite_food = input(\"What's your favorite food?: \").lower() # lower(), coloca las palabras en minúscula\n",
        "my_favorite_food = \"pizza\"\n",
        "\n",
        "if favorite_food == my_favorite_food:\n",
        "  print(f'Your favorite food is {favorite_food}!!!!')\n",
        "else:\n",
        "  print(f'Your favorite food is not pizza, is {favorite_food}')"
      ],
      "metadata": {
        "id": "Y2f_8NFBFSAx",
        "outputId": "700facea-67cc-4cb9-cecf-1b91b83c515a",
        "colab": {
          "base_uri": "https://localhost:8080/"
        }
      },
      "execution_count": 29,
      "outputs": [
        {
          "output_type": "stream",
          "name": "stdout",
          "text": [
            "What's your favorite food?: PIZza\n",
            "Your favorite food is pizza!!!!\n"
          ]
        }
      ]
    },
    {
      "cell_type": "code",
      "source": [
        "# Este programa evalua un condicional\n",
        "favorite_food = input(\"What's your favorite food?: \").lower().strip() # strip(), elimina los espacios insertados alrededor de la palabra ingresada\n",
        "my_favorite_food = \"pizza\"\n",
        "\n",
        "if favorite_food == my_favorite_food:\n",
        "  print(f'Your favorite food is {favorite_food}!!!!')\n",
        "else:\n",
        "  print(f'Your favorite food is not pizza, is {favorite_food}')"
      ],
      "metadata": {
        "id": "aZJjEBLkIc-P",
        "outputId": "0d77e6de-4704-44d6-d986-d54705bce4e5",
        "colab": {
          "base_uri": "https://localhost:8080/"
        }
      },
      "execution_count": 31,
      "outputs": [
        {
          "output_type": "stream",
          "name": "stdout",
          "text": [
            "What's your favorite food?:   PizZa     \n",
            "Your favorite food is pizza!!!!\n"
          ]
        }
      ]
    },
    {
      "cell_type": "markdown",
      "source": [
        "### 1.2 Mayúsculas y minúsculas en igualdad\n",
        "\n"
      ],
      "metadata": {
        "id": "FffdvjBt0gS6"
      }
    },
    {
      "cell_type": "markdown",
      "source": [
        "Las cadenas en Python son sensibles a mayúsculas. Para hacer comparaciones insensibles al formato, se puede usar `.lower()` o `.upper()`."
      ],
      "metadata": {
        "id": "BmNqgS540mKz"
      }
    },
    {
      "cell_type": "markdown",
      "source": [
        "**Ejemplo**"
      ],
      "metadata": {
        "id": "DmA3GcBH0vtS"
      }
    },
    {
      "cell_type": "code",
      "source": [
        "animal = 'Gato'"
      ],
      "metadata": {
        "id": "38Q7H1Eo0s8X"
      },
      "execution_count": null,
      "outputs": []
    },
    {
      "cell_type": "code",
      "source": [
        "print(animal == 'gato')        # False"
      ],
      "metadata": {
        "id": "H6ILyOQD0yRV"
      },
      "execution_count": null,
      "outputs": []
    },
    {
      "cell_type": "code",
      "source": [
        "print(animal.lower() == 'gato')  # True"
      ],
      "metadata": {
        "id": "-0cnvpPB0zB6"
      },
      "execution_count": null,
      "outputs": []
    },
    {
      "cell_type": "markdown",
      "source": [
        "**Ejercicio 1.2**\n",
        "\n",
        "Pide al usuario su ciudad favorita y comprueba si es igual a 'lima', ignorando mayúsculas.\n"
      ],
      "metadata": {
        "id": "PmxEydgl02Uk"
      }
    },
    {
      "cell_type": "code",
      "source": [],
      "metadata": {
        "id": "V9iqcPyD0-d9"
      },
      "execution_count": null,
      "outputs": []
    },
    {
      "cell_type": "markdown",
      "source": [
        "### 1.3 Desigualdad\n",
        "\n",
        "El operador `!=` permite comprobar si dos valores son distintos. Es útil cuando queremos ejecutar una acción solo si algo **no** ocurre.\n"
      ],
      "metadata": {
        "id": "UNuwlNiC1BHb"
      }
    },
    {
      "cell_type": "markdown",
      "source": [
        "**Ejemplo**"
      ],
      "metadata": {
        "id": "tJSg4HJy1NnD"
      }
    },
    {
      "cell_type": "code",
      "source": [
        "lenguaje = 'Python'\n",
        "if lenguaje != 'Java': # Para python la desigualdad es !\n",
        "    print(\"Estás aprendiendo un buen lenguaje.\")"
      ],
      "metadata": {
        "id": "Zf4b76Tf1Cui",
        "outputId": "d64a66bb-91a9-45cc-a028-c5ee13b9828d",
        "colab": {
          "base_uri": "https://localhost:8080/"
        }
      },
      "execution_count": 32,
      "outputs": [
        {
          "output_type": "stream",
          "name": "stdout",
          "text": [
            "Estás aprendiendo un buen lenguaje.\n"
          ]
        }
      ]
    },
    {
      "cell_type": "code",
      "source": [
        "1 != 2 # Es True porque 1 no es igual a 2."
      ],
      "metadata": {
        "id": "wTJzltwHJf4M",
        "outputId": "b29a408c-a49b-46ee-c2f8-ca9dbd9f43fb",
        "colab": {
          "base_uri": "https://localhost:8080/"
        }
      },
      "execution_count": 34,
      "outputs": [
        {
          "output_type": "execute_result",
          "data": {
            "text/plain": [
              "True"
            ]
          },
          "metadata": {},
          "execution_count": 34
        }
      ]
    },
    {
      "cell_type": "code",
      "source": [
        "'Hola' != 6"
      ],
      "metadata": {
        "id": "hVi_byH0JmLX",
        "outputId": "2936a51d-cb9f-4530-d6e0-22f571decb90",
        "colab": {
          "base_uri": "https://localhost:8080/"
        }
      },
      "execution_count": 36,
      "outputs": [
        {
          "output_type": "execute_result",
          "data": {
            "text/plain": [
              "True"
            ]
          },
          "metadata": {},
          "execution_count": 36
        }
      ]
    },
    {
      "cell_type": "markdown",
      "source": [
        "**Ejercicio 1.3**\n",
        "\n",
        "Crea una variable con tu deporte favorito y verifica que no sea \"fútbol\". Imprime un mensaje adecuado.\n"
      ],
      "metadata": {
        "id": "3FDNFb-71RCT"
      }
    },
    {
      "cell_type": "code",
      "source": [],
      "metadata": {
        "id": "Z2OcAhqh1Tcc"
      },
      "execution_count": null,
      "outputs": []
    },
    {
      "cell_type": "markdown",
      "source": [
        "### 1.4 Comparaciones numéricas\n",
        "\n",
        "Permiten comparar valores numéricos para establecer relaciones como mayor, menor o igual. Esto es clave en validaciones, rangos y lógica de negocio.\n"
      ],
      "metadata": {
        "id": "FZiB43wL1T21"
      }
    },
    {
      "cell_type": "markdown",
      "source": [
        "**Ejemplo**"
      ],
      "metadata": {
        "id": "2RqXr4Jg3eGO"
      }
    },
    {
      "cell_type": "code",
      "source": [
        "edad = 18\n",
        "if edad >= 18:\n",
        "    print(\"Eres mayor de edad.\")"
      ],
      "metadata": {
        "id": "awVISLb61XGY"
      },
      "execution_count": null,
      "outputs": []
    },
    {
      "cell_type": "markdown",
      "source": [
        "**Ejercicio 1.4**\n",
        "\n",
        "Verifica si una persona puede jubilarse (edad mayor o igual a 65). Imprime un mensaje.\n"
      ],
      "metadata": {
        "id": "QyzSWy7a24eC"
      }
    },
    {
      "cell_type": "code",
      "source": [],
      "metadata": {
        "id": "d4SSysS_26x_"
      },
      "execution_count": null,
      "outputs": []
    },
    {
      "cell_type": "markdown",
      "source": [
        "### 1.5 Comprobar varias condiciones\n",
        "\n",
        "Usamos operadores lógicos para combinar condiciones. `and` exige que ambas sean verdaderas; `or`, que al menos una lo sea; `not` invierte el valor lógico.\n"
      ],
      "metadata": {
        "id": "0T7KPhzJ286B"
      }
    },
    {
      "cell_type": "markdown",
      "source": [
        "**Ejemplo**"
      ],
      "metadata": {
        "id": "4wjYI1Y53cP2"
      }
    },
    {
      "cell_type": "code",
      "source": [
        "edad = 20\n",
        "licencia = True\n",
        "if edad >= 18 and licencia:\n",
        "    print(\"Puedes conducir.\")"
      ],
      "metadata": {
        "id": "bOSv8rYH2-9S"
      },
      "execution_count": null,
      "outputs": []
    },
    {
      "cell_type": "markdown",
      "source": [
        "**Ejercicio 1.5**\n",
        "\n",
        "Simula que una persona puede conducir si tiene más de 18 años **y** licencia vigente. Usa variables para edad y licencia.\n"
      ],
      "metadata": {
        "id": "gRPgH_4N3IMD"
      }
    },
    {
      "cell_type": "code",
      "source": [],
      "metadata": {
        "id": "P8tmK2Xp3K4U"
      },
      "execution_count": null,
      "outputs": []
    },
    {
      "cell_type": "markdown",
      "source": [
        "### 1.6 Comprobar si hay un valor en una lista\n",
        "\n",
        "Con `in` podemos verificar si un elemento existe en una lista. Es muy útil para filtros y validaciones.\n"
      ],
      "metadata": {
        "id": "MKNF_Bx03NOY"
      }
    },
    {
      "cell_type": "markdown",
      "source": [
        "**Ejemplo**"
      ],
      "metadata": {
        "id": "heZom_TW3Zwx"
      }
    },
    {
      "cell_type": "code",
      "source": [
        "frutas = ['manzana', 'plátano', 'naranja']\n",
        "if 'manzana' in frutas:\n",
        "    print(\"Tenemos manzanas en stock.\")"
      ],
      "metadata": {
        "id": "bdGURTNk3TyN"
      },
      "execution_count": null,
      "outputs": []
    },
    {
      "cell_type": "markdown",
      "source": [
        "**Ejercicio 1.6**\n",
        "\n",
        "Verifica si \"mate\" está en una lista de infusiones disponibles. Imprime un mensaje si está o no está.\n"
      ],
      "metadata": {
        "id": "TPYPzodl3iCS"
      }
    },
    {
      "cell_type": "code",
      "source": [],
      "metadata": {
        "id": "HYSVzaky3kBw"
      },
      "execution_count": null,
      "outputs": []
    },
    {
      "cell_type": "markdown",
      "source": [
        "### 1.7 Comprobar si un valor no está en una lista\n",
        "\n",
        "Usamos `not in` para comprobar la ausencia de un elemento. Muy útil para listas de prohibiciones o restricciones.\n"
      ],
      "metadata": {
        "id": "pQxz65fy3nF6"
      }
    },
    {
      "cell_type": "markdown",
      "source": [
        "**Ejemplo**"
      ],
      "metadata": {
        "id": "xSeV9VS43pQt"
      }
    },
    {
      "cell_type": "code",
      "source": [
        "alergenos = ['gluten', 'lácteos']\n",
        "if 'soya' not in alergenos:\n",
        "    print(\"Puede consumir el producto.\")"
      ],
      "metadata": {
        "id": "Z1BVOROT3qlb"
      },
      "execution_count": null,
      "outputs": []
    },
    {
      "cell_type": "markdown",
      "source": [
        "**Ejercicio 1.7**\n",
        "\n",
        "Verifica que \"maní\" no esté en una lista de ingredientes seguros. Imprime un mensaje.\n"
      ],
      "metadata": {
        "id": "kiXSC0tu3sl1"
      }
    },
    {
      "cell_type": "code",
      "source": [],
      "metadata": {
        "id": "Lg7mrplP3yZL"
      },
      "execution_count": null,
      "outputs": []
    },
    {
      "cell_type": "markdown",
      "source": [
        "### 1.8 Expresiones booleanas\n",
        "\n",
        "Una condición en Python siempre se evalúa como `True` o `False`, lo cual se conoce como valor booleano. Podemos almacenarlo y reutilizarlo.\n"
      ],
      "metadata": {
        "id": "OS-idh5Y3x4a"
      }
    },
    {
      "cell_type": "markdown",
      "source": [
        "**Ejemplo**"
      ],
      "metadata": {
        "id": "zwZz0Q5132yO"
      }
    },
    {
      "cell_type": "code",
      "source": [
        "es_adulto = 25 >= 18\n",
        "print(es_adulto)  # True"
      ],
      "metadata": {
        "id": "e4L-ydsV32Vf"
      },
      "execution_count": null,
      "outputs": []
    },
    {
      "cell_type": "markdown",
      "source": [
        "**Ejercicio 1.8**\n",
        "\n",
        "Declara tres expresiones booleanas diferentes y muestra sus valores con `print()`.\n"
      ],
      "metadata": {
        "id": "mJvGwgKL36cY"
      }
    },
    {
      "cell_type": "code",
      "source": [],
      "metadata": {
        "id": "pfLn67qN3-7S"
      },
      "execution_count": null,
      "outputs": []
    },
    {
      "cell_type": "markdown",
      "source": [
        "## 2. Sentencias IF\n"
      ],
      "metadata": {
        "id": "M99-9Dbr3_SI"
      }
    },
    {
      "cell_type": "markdown",
      "source": [
        "### 2.1 Sentencias if simples\n",
        "\n",
        "La sentencia `if` ejecuta un bloque solo si se cumple una condición. Es la base de toda toma de decisiones."
      ],
      "metadata": {
        "id": "pn20U5EO4NsA"
      }
    },
    {
      "cell_type": "markdown",
      "source": [
        "**Ejemplo**"
      ],
      "metadata": {
        "id": "H9_p12n34Typ"
      }
    },
    {
      "cell_type": "code",
      "source": [
        "numero = 10\n",
        "if numero > 0:\n",
        "    print(\"Es positivo\")"
      ],
      "metadata": {
        "id": "UZqqFXbL4YTl"
      },
      "execution_count": null,
      "outputs": []
    },
    {
      "cell_type": "markdown",
      "source": [
        "**Ejercicio 2.1**\n",
        "\n",
        "Verifica si un número ingresado es par. Si lo es, muestra un mensaje confirmándolo.\n"
      ],
      "metadata": {
        "id": "RBI-TsFE4aje"
      }
    },
    {
      "cell_type": "code",
      "source": [],
      "metadata": {
        "id": "ISQlf54J4eOp"
      },
      "execution_count": null,
      "outputs": []
    },
    {
      "cell_type": "markdown",
      "source": [
        "\n",
        "### 2.2 Sentencias if dobles\n",
        "\n",
        "Con `if-else`, se ejecuta un bloque si la condición se cumple, y otro si no.\n",
        "\n"
      ],
      "metadata": {
        "id": "2my1bYQb4eld"
      }
    },
    {
      "cell_type": "markdown",
      "source": [
        "**Ejemplo**\n"
      ],
      "metadata": {
        "id": "mca7Lbjk4j2C"
      }
    },
    {
      "cell_type": "code",
      "source": [
        "nota = 11\n",
        "if nota >= 11:\n",
        "    print(\"Aprobado\")\n",
        "else:\n",
        "    print(\"Desaprobado\")"
      ],
      "metadata": {
        "id": "-9EGhvKg4ofZ"
      },
      "execution_count": null,
      "outputs": []
    },
    {
      "cell_type": "markdown",
      "source": [
        "**Ejercicio 2.2**\n",
        "\n",
        "Simula una validación de edad para entrar a una película para mayores de edad. Muestra si puede o no ingresar."
      ],
      "metadata": {
        "id": "DN6LoT8U4qKS"
      }
    },
    {
      "cell_type": "code",
      "source": [],
      "metadata": {
        "id": "RlSLMcO24yN0"
      },
      "execution_count": null,
      "outputs": []
    },
    {
      "cell_type": "markdown",
      "source": [
        "\n",
        "### 2.3 Sentencias if múltiples\n",
        "\n",
        "Con `if-elif-else` puedes evaluar múltiples condiciones secuenciales. Se ejecuta solo el primer bloque verdadero.\n"
      ],
      "metadata": {
        "id": "CCfgZ5I844cm"
      }
    },
    {
      "cell_type": "code",
      "source": [],
      "metadata": {
        "id": "BRk8nZVp45z2"
      },
      "execution_count": null,
      "outputs": []
    },
    {
      "cell_type": "markdown",
      "source": [
        "**Ejemplo**"
      ],
      "metadata": {
        "id": "BdJCoG6c5E44"
      }
    },
    {
      "cell_type": "code",
      "source": [
        "velocidad = 90\n",
        "if velocidad > 120:\n",
        "    print(\"Multa grave\")\n",
        "elif velocidad > 90:\n",
        "    print(\"Advertencia\")\n",
        "else:\n",
        "    print(\"Todo bien\")"
      ],
      "metadata": {
        "id": "exfBK3Iu5J0E"
      },
      "execution_count": null,
      "outputs": []
    },
    {
      "cell_type": "markdown",
      "source": [
        "**Ejercicio 2.3**\n",
        "\n",
        "Clasifica una nota en letras:\n",
        "- A (≥18)\n",
        "- B (≥14)\n",
        "- C (≥10)\n",
        "- D (<10)\n"
      ],
      "metadata": {
        "id": "pDEKm_Zp5V3B"
      }
    },
    {
      "cell_type": "code",
      "source": [],
      "metadata": {
        "id": "Uu6cO8dj5Yis"
      },
      "execution_count": null,
      "outputs": []
    },
    {
      "cell_type": "markdown",
      "source": [
        "### 2.4 Omitir el bloque else\n",
        "\n",
        "En ocasiones, solo se requiere una acción si la condición es verdadera. No se necesita cubrir el caso contrario."
      ],
      "metadata": {
        "id": "THluc0oi5d6I"
      }
    },
    {
      "cell_type": "markdown",
      "source": [
        "**Ejemplo**\n"
      ],
      "metadata": {
        "id": "lpVDqa7N5gnQ"
      }
    },
    {
      "cell_type": "code",
      "source": [
        "usuario = 'admin'\n",
        "if usuario == 'admin':\n",
        "    print(\"Bienvenido, administrador.\")"
      ],
      "metadata": {
        "id": "Cfjj5cNR5mSi"
      },
      "execution_count": null,
      "outputs": []
    },
    {
      "cell_type": "markdown",
      "source": [
        "**Ejercicio 2.4**\n",
        "\n",
        "Muestra un mensaje especial si el usuario ingresado es \"profesor\"."
      ],
      "metadata": {
        "id": "c2glYtdT5pTl"
      }
    },
    {
      "cell_type": "code",
      "source": [],
      "metadata": {
        "id": "zF4zhZ5K5y2K"
      },
      "execution_count": null,
      "outputs": []
    },
    {
      "cell_type": "markdown",
      "source": [
        "\n",
        "### 2.5 Probar múltiples condiciones\n",
        "\n",
        "A veces queremos evaluar varias condiciones, **independientes entre sí**. Usamos múltiples `if`, no `elif`.\n"
      ],
      "metadata": {
        "id": "KZFE5bGa50gD"
      }
    },
    {
      "cell_type": "markdown",
      "source": [
        "**Ejemplo**"
      ],
      "metadata": {
        "id": "2IHxBKiK51sk"
      }
    },
    {
      "cell_type": "code",
      "source": [
        "edad = 20\n",
        "if edad >= 18:\n",
        "    print(\"Es mayor de edad\")\n",
        "if edad >= 16:\n",
        "    print(\"Puede conducir\")"
      ],
      "metadata": {
        "id": "ryKiRLWd55MI"
      },
      "execution_count": null,
      "outputs": []
    },
    {
      "cell_type": "markdown",
      "source": [
        "**Ejercicio 2.5**\n",
        "\n",
        "Evalúa separadamente si una persona:\n",
        "- Es mayor de edad (`edad >= 18`)\n",
        "- Puede votar (`edad >= 18`)\n",
        "- Puede conducir (`edad >= 16`)"
      ],
      "metadata": {
        "id": "CTqMD7WN565s"
      }
    },
    {
      "cell_type": "code",
      "source": [],
      "metadata": {
        "id": "D-h0W-sX58rm"
      },
      "execution_count": null,
      "outputs": []
    },
    {
      "cell_type": "markdown",
      "source": [
        "**Reto 1**\n",
        "\n",
        "Imagina que un extraterrestre acaba de ser derribado en un juego. Cree una variable llamada alien_color y asígnele un valor de 'verde', 'amarillo' o 'rojo'.\n",
        "\n",
        "Escribe una declaración if para probar si el color del extraterrestre es verde. Si es así, imprime un mensaje de que el jugador acaba de ganar 5 puntos."
      ],
      "metadata": {
        "id": "VRh_bkR86d9b"
      }
    },
    {
      "cell_type": "code",
      "source": [],
      "metadata": {
        "id": "0h5aKbTt6geM"
      },
      "execution_count": null,
      "outputs": []
    },
    {
      "cell_type": "markdown",
      "source": [
        "\n",
        "\n",
        "**Reto 2**\n",
        "\n",
        "Elija un color para un extraterrestre como lo hizo en el Ejercicio anterior y escriba una cadena if-else.\n",
        "\n",
        "Si el alienígena es verde, imprime un mensaje de que el jugador obtuvo 5 puntos. Si el alienígena es amarillo, imprime un mensaje de que el jugador obtuvo 10 puntos. Si el alienígena es rojo, imprime un mensaje de que el jugador obtuvo 15 puntos.\n"
      ],
      "metadata": {
        "id": "bn42R8XB6csW"
      }
    },
    {
      "cell_type": "code",
      "source": [],
      "metadata": {
        "id": "7Ez0OH9_6jyC"
      },
      "execution_count": null,
      "outputs": []
    },
    {
      "cell_type": "markdown",
      "source": [
        "**Reto 3**\n",
        "\n",
        "Pregunte al usuario su edad, si esta es mayor igual a 18 años, imprima un mensaje que indique que puede votar, si la presona es menor que 18 años ,imprima un mensaje de que aun no cumple mayoría de edad, finalmente si la persona supera los 65 años, imprima un mensaje de que supera el umbral de edad para votar.\n",
        "\n",
        "Extra: A las personas que sean aptas para votar preguntele su candidato y guadelo en una lista la cual se imprimirá el finalizar el programa."
      ],
      "metadata": {
        "id": "DI_UqvW46kYV"
      }
    },
    {
      "cell_type": "code",
      "source": [],
      "metadata": {
        "id": "BqNiZanB6oQA"
      },
      "execution_count": null,
      "outputs": []
    },
    {
      "cell_type": "markdown",
      "source": [
        "---\n",
        "\n",
        "# Conclusión\n",
        "\n",
        "A lo largo de este laboratorio, aprendiste a usar **estructuras condicionales** para que tus programas tomen decisiones en función de distintos criterios. Dominar las pruebas condicionales y las sentencias **`if`** es esencial para construir programas dinámicos, inteligentes y adaptables. Estas habilidades serán la base para los siguientes temas del curso.\n",
        "\n",
        "\n",
        "---\n"
      ],
      "metadata": {
        "id": "7FrX1o7Y6L-H"
      }
    },
    {
      "cell_type": "markdown",
      "source": [
        "---\n",
        "\n",
        "# Gracias por completar este laboratorio!\n",
        "\n",
        "---\n"
      ],
      "metadata": {
        "id": "whQxk9Rn6Zlv"
      }
    }
  ]
}