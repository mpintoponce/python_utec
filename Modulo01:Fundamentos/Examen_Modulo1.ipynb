{
  "nbformat": 4,
  "nbformat_minor": 0,
  "metadata": {
    "colab": {
      "provenance": [],
      "include_colab_link": true
    },
    "kernelspec": {
      "name": "python3",
      "display_name": "Python 3"
    },
    "language_info": {
      "name": "python"
    }
  },
  "cells": [
    {
      "cell_type": "markdown",
      "metadata": {
        "id": "view-in-github",
        "colab_type": "text"
      },
      "source": [
        "<a href=\"https://colab.research.google.com/github/mpintoponce/python_utec/blob/main/Modulo01%3AFundamentos/Examen_Modulo1.ipynb\" target=\"_parent\"><img src=\"https://colab.research.google.com/assets/colab-badge.svg\" alt=\"Open In Colab\"/></a>"
      ]
    },
    {
      "cell_type": "markdown",
      "source": [
        "<img src=\"https://posgrado.utec.edu.pe/sites/default/files/2023-08/Testimonial-home-2.jpg\" alt=\"HTML5 Icon\" width=\"900\" height=\"250\" >\n"
      ],
      "metadata": {
        "id": "dYz-CyepUcRS"
      }
    },
    {
      "cell_type": "markdown",
      "source": [
        "# **Trabajo Calificado: Misiones de Código**"
      ],
      "metadata": {
        "id": "tYd6BiWgUfLo"
      }
    },
    {
      "cell_type": "markdown",
      "source": [
        "**Contexto:**\n",
        "\n",
        "Eres desarrollador de un Simulador de Aventuras llamado Pythonia, un entorno virtual de entrenamiento diseñado para mejorar tus habilidades de programación. En este simulador, enfrentarás una serie de desafíos basados en situaciones de videojuegos y escenarios de aventura, donde deberás aplicar estructuras lógicas, condicionales, bucles y funciones para resolver problemas.\n",
        "\n"
      ],
      "metadata": {
        "id": "GtjjVTFRU6W1"
      }
    },
    {
      "cell_type": "markdown",
      "source": [
        "Cada ejercicio representa un reto independiente que simula eventos comunes en el desarrollo de videojuegos, sistemas de simulación y lógica de juegos interactivos."
      ],
      "metadata": {
        "id": "Ggayz2SXVXjt"
      }
    },
    {
      "cell_type": "markdown",
      "source": [
        "**Recomendaciones:**\n",
        "\n",
        "Utilizar buenas prácticas: comentarios, entradas y salidas limpias.\n",
        "\n",
        "Uso de funciones donde sea necesario."
      ],
      "metadata": {
        "id": "eAL1_dscUjd_"
      }
    },
    {
      "cell_type": "markdown",
      "source": [
        "**Ejercicio 1: Elige tu personaje (Variables y Entrada/Salida)**\n",
        "\n",
        "Crea un programa que permita al jugador elegir su personaje entre Mago, Guerrero o Arquero. Según la elección, muestra un mensaje personalizado con las estadísticas iniciales (vida, poder, defensa)."
      ],
      "metadata": {
        "id": "YpxJc_PoVc4c"
      }
    },
    {
      "cell_type": "code",
      "source": [
        "## INICIO DE CÓDIGO\n",
        "#Solicitando el personaje a usar para el juego.\n",
        "name = input(f\"¡Bienvenido! Para iniciar el juego tiene que escoger el nombre de su personaje:\\n1. Mago\\n2. Guerrero\\n3. Arquero\\nEscriba el número de su personaje.\\n\")\n",
        "\n",
        "#Verificando que personaje seleccionó, y dando la bienvenida al juego.\n",
        "if name == \"1\":\n",
        "  print(\"\\n¡Bienvenido Mago!\")\n",
        "  print(\"Vida: 100\\nPoder: 50\\nDefensa: 20\")\n",
        "elif name == \"2\":\n",
        "  print(\"\\n¡Bienvenido Guerrero!\")\n",
        "  print(\"Vida: 150\\nPoder: 30\\nDefensa: 30\")\n",
        "elif name == \"3\":\n",
        "  print(\"\\n¡Bienvenido Arquero!\")\n",
        "  print(\"Vida: 80\\nPoder: 40\\nDefensa: 40\")\n",
        "else:\n",
        "  print(\"\\nOpción no válida\")\n",
        "## FIN DE CÓDIGO"
      ],
      "metadata": {
        "id": "GZrzl-7wVfkW",
        "colab": {
          "base_uri": "https://localhost:8080/"
        },
        "outputId": "cf90c325-1e5d-4523-f4d8-bc632947760c"
      },
      "execution_count": 10,
      "outputs": [
        {
          "output_type": "stream",
          "name": "stdout",
          "text": [
            "¡Bienvenido! Para iniciar el juego tiene que escoger el nombre de su personaje:\n",
            "1. Mago\n",
            "2. Guerrero\n",
            "3. Arquero\n",
            "Escriba el número de su personaje.\n",
            "2\n",
            "\n",
            "¡Bienvenido Guerrero!\n",
            "Vida: 150\n",
            "Poder: 30\n",
            "Defensa: 30\n"
          ]
        }
      ]
    },
    {
      "cell_type": "markdown",
      "source": [
        "**Ejercicio 2: La prueba del sabio (Condicionales)**\n",
        "\n",
        "El sabio te hace una pregunta: si traes menos de 50 monedas de oro, te expulsará; si llevas entre 50 y 100, te permitirá pasar; si llevas más de 100, te dará una poción.\n",
        "Crea el programa que lea las monedas y muestre el resultado."
      ],
      "metadata": {
        "id": "kvoGwX-QVgPr"
      }
    },
    {
      "cell_type": "code",
      "execution_count": 16,
      "metadata": {
        "id": "3tg6KSK-UbUw",
        "colab": {
          "base_uri": "https://localhost:8080/"
        },
        "outputId": "87afbc5d-2d5b-43d9-f12a-b3f1038d801c"
      },
      "outputs": [
        {
          "output_type": "stream",
          "name": "stdout",
          "text": [
            "Ingrese la cantidad de monedas de oro que posee: 40\n",
            "\n",
            "El sabio te expulsó del juego.\n"
          ]
        }
      ],
      "source": [
        "## INICIO DE CÓDIGO\n",
        "# Solicitando ingresar la cantidad de monedas que posee.\n",
        "coins = int(input(\"Ingrese la cantidad de monedas de oro que posee: \"))\n",
        "\n",
        "# Validando la cantidad de monedas.\n",
        "if coins > 100:\n",
        "  print(\"\\nEl sabio te otorga una poción.\")\n",
        "elif coins >= 50 and coins <= 100:\n",
        "  print(\"\\nEl sabio te permite pasar.\")\n",
        "else:\n",
        "  print(\"\\nEl sabio te expulsó del juego.\")\n",
        "## FIN DE CÓDIGO"
      ]
    },
    {
      "cell_type": "markdown",
      "source": [
        "**Ejercicio 3: El puente infinito (Bucles While)**\n",
        "\n",
        "Diseña un programa que simule el cruce de un puente que cambia su estructura aleatoriamente. El jugador debe adivinar si el siguiente paso será seguro ('s') o peligroso ('p').\n",
        "El juego termina si el jugador elige 'salir' o si falla 3 veces."
      ],
      "metadata": {
        "id": "g7B02fWhVj4M"
      }
    },
    {
      "cell_type": "code",
      "source": [
        "## INICIO DE CÓDIGO\n",
        "print(\"¡Bienvenido! Este juego incluye un puente que cambia de estructura aleatoriamente.\")\n",
        "print(\"Usted deberá adivinar si el siguiente paso será seguro ('s') o peligroso ('p').\")\n",
        "print(\"Si falla 3 veces, el programa termina.\")\n",
        "import random\n",
        "fails = 0\n",
        "while fails < 3:\n",
        "  print(\"\\n-----Cruzando el puente-----\")\n",
        "  next_step = random.choice([\"s\",\"p\"])\n",
        "  guess = input(\"¿El siguiente paso será seguro o peligroso? (s/p)? (Escribe 'salir' para abandonar el juego): \").strip().lower()\n",
        "  if guess == \"salir\":\n",
        "    print(\"¡Gracias por jugar!\")\n",
        "    break\n",
        "  if guess == next_step:\n",
        "    print(\"¡Acertaste!\")\n",
        "  else:\n",
        "    print(f\"¡Fallaste! El siguiente paso era {next_step}.\")\n",
        "    fails += 1\n",
        "  if fails == 3:\n",
        "    print(\"¡Has fallado 3 veces! El juego ha terminado.\")\n",
        "## FIN DE CÓDIGO"
      ],
      "metadata": {
        "id": "9DRMWhDBVn71",
        "colab": {
          "base_uri": "https://localhost:8080/"
        },
        "outputId": "4a0bf106-849b-41eb-a2fe-f91abc6808e5"
      },
      "execution_count": 25,
      "outputs": [
        {
          "output_type": "stream",
          "name": "stdout",
          "text": [
            "¡Bienvenido! Este juego incluye un puente que cambia de estructura aleatoriamente.\n",
            "Usted deberá adivinar si el siguiente paso será seguro ('s') o peligroso ('p').\n",
            "Si falla 3 veces, el programa termina.\n",
            "\n",
            "-----Cruzando el puente-----\n",
            "¿El siguiente paso será seguro o peligroso? (s/p)? (Escribe 'salir' para abandonar el juego): s\n",
            "¡Fallaste! El siguiente paso era p.\n",
            "\n",
            "-----Cruzando el puente-----\n",
            "¿El siguiente paso será seguro o peligroso? (s/p)? (Escribe 'salir' para abandonar el juego): s\n",
            "¡Acertaste!\n",
            "\n",
            "-----Cruzando el puente-----\n",
            "¿El siguiente paso será seguro o peligroso? (s/p)? (Escribe 'salir' para abandonar el juego): s\n",
            "¡Acertaste!\n",
            "\n",
            "-----Cruzando el puente-----\n",
            "¿El siguiente paso será seguro o peligroso? (s/p)? (Escribe 'salir' para abandonar el juego): s\n",
            "¡Acertaste!\n",
            "\n",
            "-----Cruzando el puente-----\n",
            "¿El siguiente paso será seguro o peligroso? (s/p)? (Escribe 'salir' para abandonar el juego): s\n",
            "¡Fallaste! El siguiente paso era p.\n",
            "\n",
            "-----Cruzando el puente-----\n",
            "¿El siguiente paso será seguro o peligroso? (s/p)? (Escribe 'salir' para abandonar el juego): s\n",
            "¡Fallaste! El siguiente paso era p.\n",
            "¡Has fallado 3 veces! El juego ha terminado.\n"
          ]
        }
      ]
    },
    {
      "cell_type": "markdown",
      "source": [
        "**Ejercicio 4: El laberinto secreto (Bucle For y Range)**\n",
        "\n",
        "Crea un programa que muestre una cuenta regresiva desde 10 hasta 1 al estilo nivel de escape del laberinto. Cada número debe ir acompañado de un mensaje tipo \"Quedan X segundos para escapar\"."
      ],
      "metadata": {
        "id": "66qKXQwTVoZG"
      }
    },
    {
      "cell_type": "code",
      "source": [
        "## INICIO DE CÓDIGO\n",
        "\n",
        "def room_scape():\n",
        "# Anunciando el inicio del conteo regresivo.\n",
        "  print(\"¡Atención! El tiempo está corriendo. ¡Tienes que escapar del laberinto!\\n\")\n",
        "#Aplicando for y range, para hacer un conteo regresivo.\n",
        "  for i in range(10,0,-1):\n",
        "    print(f\"Quedan {i} segundos para escapar.\")\n",
        "#Imprimiento función\n",
        "room_scape()\n",
        "## FIN DE CÓDIGO"
      ],
      "metadata": {
        "id": "i1S9WPmhVsEj",
        "colab": {
          "base_uri": "https://localhost:8080/"
        },
        "outputId": "34735a5a-9069-4994-fef6-af4d9125b6e4"
      },
      "execution_count": 30,
      "outputs": [
        {
          "output_type": "stream",
          "name": "stdout",
          "text": [
            "¡Atención! El tiempo está corriendo. ¡Tienes que escapar del laberinto!\n",
            "\n",
            "Quedan 10 segundos para escapar.\n",
            "Quedan 9 segundos para escapar.\n",
            "Quedan 8 segundos para escapar.\n",
            "Quedan 7 segundos para escapar.\n",
            "Quedan 6 segundos para escapar.\n",
            "Quedan 5 segundos para escapar.\n",
            "Quedan 4 segundos para escapar.\n",
            "Quedan 3 segundos para escapar.\n",
            "Quedan 2 segundos para escapar.\n",
            "Quedan 1 segundos para escapar.\n"
          ]
        }
      ]
    },
    {
      "cell_type": "markdown",
      "source": [
        "**Ejercicio 5: Cofres encantados (Break y Continue)**\n",
        "\n",
        "Simula 10 cofres cerrados, pero uno de ellos es una trampa explosiva (elige aleatoriamente una posición).\n",
        "El jugador abre cofres uno por uno:\n",
        "\n",
        "* Si encuentra la trampa, termina el juego (break).\n",
        "\n",
        "* Si encuentra cofres vacíos, continúa (continue).\n",
        "\n",
        "* Si abre todos sin explotar, gana."
      ],
      "metadata": {
        "id": "5dL6C-x1VsYf"
      }
    },
    {
      "cell_type": "code",
      "source": [
        "## INICIO DE CÓDIGO\n",
        "import random\n",
        "\n",
        "def box_game():\n",
        "    # Creamos una lista de 10 cofres, con 9 cofres vacíos y 1 con la trampa (explosivo)\n",
        "    boxes = ['vacío','vacío','vacío','vacío','vacío','vacío','vacío','vacío','vacío','vacío']\n",
        "    box_trap = random.randint(0, 9)\n",
        "    boxes[box_trap] = 'trampa'\n",
        "\n",
        "    print(\"¡Bienvenido al juego de los cofres! Abre los cofres uno por uno y trata de no activar la trampa.\")\n",
        "\n",
        "    # Lista para llevar un control de los cofres ya abiertos\n",
        "    open_boxes = []\n",
        "\n",
        "    while len(open_boxes) < 10:\n",
        "        # Solicitar al jugador que elija un cofre\n",
        "        election = int(input(\"Elige un cofre (1-10): \"))\n",
        "\n",
        "        # Verificar si la elección es válida\n",
        "        if election < 1 or election > 10:\n",
        "            print(\"Por favor, elige un número entre 1 y 10.\")\n",
        "            continue\n",
        "\n",
        "        if election in open_boxes:\n",
        "            print(\"¡Este cofre ya fue abierto! Escoge otro.\")\n",
        "            continue\n",
        "\n",
        "        # Marcar el cofre como abierto\n",
        "        open_boxes.append(election)\n",
        "\n",
        "        # Verificar si el jugador ha abierto el cofre con la trampa\n",
        "        if boxes[election - 1] == 'trampa':\n",
        "            print(f\"\\n¡BOOM! Has encontrado la trampa en el cofre #{election}! El juego ha terminado.\")\n",
        "            break\n",
        "        elif boxes[election - 1] == 'vacío':\n",
        "            print(f\"El cofre #{election} está vacío. ¡Sigue buscando!\")\n",
        "\n",
        "    else:\n",
        "        # Si el jugador ha abierto todos los cofres sin encontrar la trampa\n",
        "        print(\"\\n¡Felicidades! Has abierto todos los cofres sin encontrar la trampa. ¡Ganaste!\")\n",
        "\n",
        "# Iniciar el juego\n",
        "box_game()\n",
        "\n",
        "## FIN DE CÓDIGO"
      ],
      "metadata": {
        "id": "d0hcbl0_V2BI",
        "colab": {
          "base_uri": "https://localhost:8080/"
        },
        "outputId": "b42c8c70-56d5-4d4d-867b-60870c548a99"
      },
      "execution_count": 36,
      "outputs": [
        {
          "output_type": "stream",
          "name": "stdout",
          "text": [
            "¡Bienvenido al juego de los cofres! Abre los cofres uno por uno y trata de no activar la trampa.\n",
            "Elige un cofre (1-10): 11\n",
            "Por favor, elige un número entre 1 y 10.\n",
            "Elige un cofre (1-10): 0\n",
            "Por favor, elige un número entre 1 y 10.\n",
            "Elige un cofre (1-10): 1\n",
            "El cofre #1 está vacío. ¡Sigue buscando!\n",
            "Elige un cofre (1-10): 2\n",
            "El cofre #2 está vacío. ¡Sigue buscando!\n",
            "Elige un cofre (1-10): 3\n",
            "\n",
            "¡BOOM! Has encontrado la trampa en el cofre #3! El juego ha terminado.\n"
          ]
        }
      ]
    },
    {
      "cell_type": "markdown",
      "source": [
        "**Ejercicio 6: Pociones mágicas (Funciones básicas)**\n",
        "\n",
        "Crea una función usar_pocion(tipo) que permita al jugador elegir entre 'vida', 'fuerza' o 'velocidad', y retorne el efecto de la poción.\n",
        "Luego, pide al usuario que elija una poción y muestra el resultado llamando a la función."
      ],
      "metadata": {
        "id": "94yOz-rKV2gp"
      }
    },
    {
      "cell_type": "code",
      "source": [
        "## INICIO DE CÓDIGO\n",
        "def usar_pocion(tipo):\n",
        "    \"\"\"\n",
        "    Función que aplica el efecto de la poción según el tipo.\n",
        "    Retorna el efecto de la poción.\n",
        "    \"\"\"\n",
        "    if tipo == 'vida':\n",
        "        return \"Recuperas 50 puntos de vida.\"\n",
        "    elif tipo == 'fuerza':\n",
        "        return \"Aumentas tu fuerza en 30 puntos.\"\n",
        "    elif tipo == 'velocidad':\n",
        "        return \"Tu velocidad aumenta en un 20%.\"\n",
        "    else:\n",
        "        return \"Tipo de poción desconocido.\"\n",
        "\n",
        "def potion_game():\n",
        "    print(\"¡Bienvenido al juego de pociones!\\nPuedes elegir entre las siguientes pociones:\\n1. Poción de vida\\n2. Poción de fuerza\\n3. Poción de velocidad\")\n",
        "\n",
        "    # Solicitar que seleccione la poción\n",
        "    potion_type = input(\"Elige el tipo de poción (vida, fuerza, velocidad): \").strip().lower()\n",
        "\n",
        "    # Llamando a la función\n",
        "    results = usar_pocion(potion_type)\n",
        "\n",
        "    # Mostrando el resultado\n",
        "    print(\"\\nResultado:\", results)\n",
        "\n",
        "# Corriendo el juego\n",
        "potion_game()\n",
        "\n",
        "## FIN DE CÓDIGO"
      ],
      "metadata": {
        "id": "NQKm0w5iV4Zz",
        "colab": {
          "base_uri": "https://localhost:8080/"
        },
        "outputId": "7879d4da-cfde-4dfa-a04d-935813a23895"
      },
      "execution_count": 39,
      "outputs": [
        {
          "output_type": "stream",
          "name": "stdout",
          "text": [
            "¡Bienvenido al juego de pociones!\n",
            "Puedes elegir entre las siguientes pociones:\n",
            "1. Poción de vida\n",
            "2. Poción de fuerza\n",
            "3. Poción de velocidad\n",
            "Elige el tipo de poción (vida, fuerza, velocidad): VELOCIDAD\n",
            "\n",
            "Resultado: Tu velocidad aumenta en un 20%.\n"
          ]
        }
      ]
    },
    {
      "cell_type": "markdown",
      "source": [
        "**Ejercicio 7: Calculadora de daño crítico (Funciones con parámetros)**\n",
        "\n",
        "Crea una función calcular_danio(base, critico) que reciba el daño base y un porcentaje de crítico, devolviendo el daño total.\n",
        "El usuario ingresará el daño base y el porcentaje crítico."
      ],
      "metadata": {
        "id": "Qdnbnm4nV44h"
      }
    },
    {
      "cell_type": "code",
      "source": [
        "## INICIO DE CÓDIGO\n",
        "def calculate_damage(base, critico):\n",
        "    \"\"\"\n",
        "    Función que calcula el daño total considerando el daño base y el porcentaje crítico.\n",
        "    Parametro base: Daño base del ataque.\n",
        "    Parametro critico: Porcentaje crítico.\n",
        "    Resultado: Daño total con el crítico aplicado.\n",
        "    \"\"\"\n",
        "    # Calculamos el daño total\n",
        "    total_damage = round(base * (1 + critico / 100),2)\n",
        "    return total_damage\n",
        "\n",
        "def damage_game():\n",
        "    print(\"¡Bienvenido a la calculadora de daño crítico!\")\n",
        "\n",
        "    # Solicitar al usuario el daño base y el porcentaje crítico\n",
        "    try:\n",
        "        base = float(input(\"Ingresa el daño base: \"))\n",
        "        critico = float(input(\"Ingresa el porcentaje crítico: \"))\n",
        "    except ValueError:\n",
        "        print(\"Por favor, ingresa valores numéricos válidos.\")\n",
        "        return\n",
        "\n",
        "    # Llamar a la función calcular_danio con los valores ingresados\n",
        "    damage = calculate_damage(base, critico)\n",
        "\n",
        "    # Mostrar el resultado\n",
        "    print(f\"\\nDaño base: {base}\")\n",
        "    print(f\"Porcentaje crítico: {critico}%\")\n",
        "    print(f\"Daño total con crítico: {damage}\")\n",
        "\n",
        "# Iniciar el juego\n",
        "damage_game()\n",
        "\n",
        "## FIN DE CÓDIGO"
      ],
      "metadata": {
        "id": "leaLQJWrV8Tx",
        "colab": {
          "base_uri": "https://localhost:8080/"
        },
        "outputId": "78aa4ab1-76bd-435f-cb17-1c40294ef56f"
      },
      "execution_count": 41,
      "outputs": [
        {
          "output_type": "stream",
          "name": "stdout",
          "text": [
            "¡Bienvenido a la calculadora de daño crítico!\n",
            "Ingresa el daño base: 15\n",
            "Ingresa el porcentaje crítico: 73\n",
            "\n",
            "Daño base: 15.0\n",
            "Porcentaje crítico: 73.0%\n",
            "Daño total con crítico: 25.95\n"
          ]
        }
      ]
    },
    {
      "cell_type": "markdown",
      "source": [
        "**Ejercicio 8: El desafío del dragón (Condicionales + funciones + bucles)**\n",
        "\n",
        "Diseña una función enfrentar_dragon(vida, fuerza) que simule el combate:\n",
        "\n",
        "* El jugador ataca al dragón y el dragón contraataca restando vida.\n",
        "\n",
        "* Si la vida llega a 0, el jugador pierde.\n",
        "\n",
        "* Si el jugador realiza 3 ataques consecutivos sin morir, gana.\n",
        "Usa un bucle while interno para el combate."
      ],
      "metadata": {
        "id": "d4j1ckE2V9ag"
      }
    },
    {
      "cell_type": "code",
      "source": [
        "## INICIO DE CÓDIGO\n",
        "import random\n",
        "\n",
        "def dragon_combat(life, power):\n",
        "    \"\"\"\n",
        "    Función que simula el combate entre el jugador y el dragón.\n",
        "    El jugador gana si realiza 3 ataques consecutivos sin morir.\n",
        "\n",
        "    Parametro vida: Vida inicial del jugador.\n",
        "    Parametro fuerza: Fuerza de ataque del jugador.\n",
        "    Resultado: Mensaje que indica si el jugador ganó o perdió.\n",
        "    \"\"\"\n",
        "    # Inicializamos el contador de ataques exitosos\n",
        "    damage_number = 0\n",
        "\n",
        "    while life > 0:\n",
        "        # El jugador realiza un ataque\n",
        "        print(\"\\n¡El jugador ataca al dragón!\")\n",
        "        damage = random.randint(power - 5, power + 5)  # El daño varía en función de la fuerza\n",
        "        print(f\"El daño del ataque es: {damage}\")\n",
        "\n",
        "        # El dragón contraataca\n",
        "        damage_back = random.randint(10, 20)  # El dragón siempre contraataca con daño entre 10 y 20\n",
        "        life = life - damage_back\n",
        "        print(f\"El dragón contraataca causando {damage_back} puntos de daño. Vida restante: {life}\")\n",
        "\n",
        "        if life <= 0:\n",
        "            return \"¡Has sido derrotado por el dragón! Fin del combate.\"\n",
        "\n",
        "        damage_number += 1\n",
        "\n",
        "        # Verificamos si el jugador ha realizado 3 ataques consecutivos\n",
        "        if damage_number == 3:\n",
        "            return \"¡Has derrotado al dragón con 3 ataques consecutivos! ¡Ganaste!\"\n",
        "\n",
        "    return \"El combate continúa, sigue luchando.\"\n",
        "\n",
        "def dragon_game():\n",
        "    print(\"¡Bienvenido al desafío del dragón!\")\n",
        "    try:\n",
        "        life = int(input(\"Ingresa la vida inicial de tu personaje (0-100): \"))\n",
        "        power = int(input(\"Ingresa la fuerza de ataque de tu personaje (10-20): \"))\n",
        "    except ValueError:\n",
        "        print(\"Por favor, ingresa valores numéricos válidos.\")\n",
        "        return\n",
        "\n",
        "    # Llamamos a la función enfrentar_dragon con los valores ingresados\n",
        "    result = dragon_combat(life, power)\n",
        "\n",
        "    # Mostrar el resultado del combate\n",
        "    print(result)\n",
        "\n",
        "# Iniciar el juego\n",
        "dragon_game()\n",
        "\n",
        "## FIN DE CÓDIGO"
      ],
      "metadata": {
        "id": "_CGyWwuaWByi",
        "colab": {
          "base_uri": "https://localhost:8080/"
        },
        "outputId": "404bbf91-42a8-42f4-917d-1478d80e9af6"
      },
      "execution_count": 44,
      "outputs": [
        {
          "output_type": "stream",
          "name": "stdout",
          "text": [
            "¡Bienvenido al desafío del dragón!\n",
            "Ingresa la vida inicial de tu personaje (0-100): 50\n",
            "Ingresa la fuerza de ataque de tu personaje (10-20): 20\n",
            "\n",
            "¡El jugador ataca al dragón!\n",
            "El daño del ataque es: 24\n",
            "El dragón contraataca causando 14 puntos de daño. Vida restante: 36\n",
            "\n",
            "¡El jugador ataca al dragón!\n",
            "El daño del ataque es: 23\n",
            "El dragón contraataca causando 17 puntos de daño. Vida restante: 19\n",
            "\n",
            "¡El jugador ataca al dragón!\n",
            "El daño del ataque es: 18\n",
            "El dragón contraataca causando 11 puntos de daño. Vida restante: 8\n",
            "¡Has derrotado al dragón con 3 ataques consecutivos! ¡Ganaste!\n"
          ]
        }
      ]
    },
    {
      "cell_type": "markdown",
      "source": [
        "**Ejercicio 9: El camino del héroe (Recursividad sencilla)**\n",
        "\n",
        "Crea una función recursiva que simule el camino de un héroe cruzando N obstáculos, mostrando mensajes como:\n",
        "\n",
        "\"Obstáculo 3: saltando...\"\n",
        "\n",
        "Termina cuando N llegue a 0."
      ],
      "metadata": {
        "id": "8X5Y08fQWCFU"
      }
    },
    {
      "cell_type": "code",
      "source": [
        "## INICIO DE CÓDIGO\n",
        "def cruzar_obstaculos(n):\n",
        "    \"\"\"\n",
        "    Función recursiva que simula el cruce de N obstáculos por parte del héroe.\n",
        "    Muestra un mensaje para cada obstáculo hasta que N llegue a 0.\n",
        "\n",
        "    :param n: Número de obstáculos restantes.\n",
        "    \"\"\"\n",
        "    if n == 0:\n",
        "        print(\"¡El héroe ha superado todos los obstáculos!\")\n",
        "        return  # Caso base: si no hay más obstáculos, termina la recursión\n",
        "    else:\n",
        "        print(f\"Obstáculo {n}: saltando...\")\n",
        "        cruzar_obstaculos(n - 1)  # Llamada recursiva con N disminuido en 1\n",
        "\n",
        "def juego_camino_del_heroe():\n",
        "    print(\"¡Bienvenido al camino del héroe!\")\n",
        "\n",
        "    try:\n",
        "        n = int(input(\"Ingresa el número de obstáculos que el héroe debe superar: \"))\n",
        "    except ValueError:\n",
        "        print(\"Por favor, ingresa un número válido.\")\n",
        "        return\n",
        "\n",
        "    # Llamamos a la función recursiva para comenzar el cruce de obstáculos\n",
        "    cruzar_obstaculos(n)\n",
        "\n",
        "# Iniciar el juego\n",
        "if __name__ == \"__main__\":\n",
        "    juego_camino_del_heroe()\n",
        "\n",
        "## FIN DE CÓDIGO"
      ],
      "metadata": {
        "id": "vVDjZHSVWJdQ"
      },
      "execution_count": null,
      "outputs": []
    },
    {
      "cell_type": "markdown",
      "source": [
        "**Ejercicio 10: Torre de los hechizos (Reto Integrador Final)**\n",
        "\n",
        "Crea un programa completo que combine:\n",
        "\n",
        "* Elección de personaje.\n",
        "\n",
        "* Simulación de un combate contra un enemigo con vida y defensa.\n",
        "\n",
        "* Uso de funciones para calcular el daño.\n",
        "\n",
        "* Bucles para turnos de combate.\n",
        "\n",
        "* Uso de una función recursiva que simule las rondas como niveles (nivel 1, 2, 3 hasta ganar).\n",
        "\n"
      ],
      "metadata": {
        "id": "Behbpl_8WJzR"
      }
    },
    {
      "cell_type": "code",
      "source": [
        "## INICIO DE CÓDIGO\n",
        "\n",
        "## FIN DE CÓDIGO"
      ],
      "metadata": {
        "id": "smtLq1SDWTJd"
      },
      "execution_count": null,
      "outputs": []
    },
    {
      "cell_type": "markdown",
      "source": [
        "---\n",
        "\n",
        "# Gracias por completar este laboratorio!\n",
        "\n",
        "---\n"
      ],
      "metadata": {
        "id": "EONqoa25Wlx3"
      }
    }
  ]
}