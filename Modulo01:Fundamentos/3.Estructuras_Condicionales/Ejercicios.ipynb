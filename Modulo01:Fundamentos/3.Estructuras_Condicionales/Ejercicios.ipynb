{
  "nbformat": 4,
  "nbformat_minor": 0,
  "metadata": {
    "colab": {
      "provenance": [],
      "include_colab_link": true
    },
    "kernelspec": {
      "name": "python3",
      "display_name": "Python 3"
    },
    "language_info": {
      "name": "python"
    }
  },
  "cells": [
    {
      "cell_type": "markdown",
      "metadata": {
        "id": "view-in-github",
        "colab_type": "text"
      },
      "source": [
        "<a href=\"https://colab.research.google.com/github/mpintoponce/python_utec/blob/main/Modulo01%3AFundamentos/3.Estructuras_Condicionales/Ejercicios.ipynb\" target=\"_parent\"><img src=\"https://colab.research.google.com/assets/colab-badge.svg\" alt=\"Open In Colab\"/></a>"
      ]
    },
    {
      "cell_type": "markdown",
      "source": [
        "<img src=\"https://posgrado.utec.edu.pe/sites/default/files/2023-08/Testimonial-home-2.jpg\" alt=\"HTML5 Icon\" width=\"900\" height=\"250\" >\n"
      ],
      "metadata": {
        "id": "biGuvFhNgJci"
      }
    },
    {
      "cell_type": "markdown",
      "source": [
        "# **Ejercicios - Estructuras Condicionales**"
      ],
      "metadata": {
        "id": "XHmAps3dgL55"
      }
    },
    {
      "cell_type": "markdown",
      "source": [
        "**Ejercicio 1:**\n",
        "\n",
        "Solicita un número al usuario y determina si es positivo, negativo o cero."
      ],
      "metadata": {
        "id": "VtGN4U_c67JX"
      }
    },
    {
      "cell_type": "code",
      "execution_count": 6,
      "metadata": {
        "id": "gFFv7u0r6xpc",
        "colab": {
          "base_uri": "https://localhost:8080/"
        },
        "outputId": "b07c2b78-f069-47a0-9c6f-8219e610ccd9"
      },
      "outputs": [
        {
          "output_type": "stream",
          "name": "stdout",
          "text": [
            "Ingrese un número: -1.5\n",
            "\n",
            "El número ingresado es negativo.\n"
          ]
        }
      ],
      "source": [
        "## INICIO DE CÓDIGO\n",
        "\n",
        "# Solicitud de información\n",
        "number = float(input(\"Ingrese un número: \"))\n",
        "\n",
        "#Emitiendo resultados\n",
        "if number > 0:\n",
        "    print(f\"\\nEl número ingresado es positivo.\")\n",
        "elif number < 0:\n",
        "    print(f\"\\nEl número ingresado es negativo.\")\n",
        "else:\n",
        "    print(f\"\\nEl número ingresado es cero.\")\n",
        "\n",
        "## FIN DE CÓDIGO"
      ]
    },
    {
      "cell_type": "markdown",
      "source": [
        "**Ejercicio 2:**\n",
        "\n",
        "Pide una contraseña y verifica si coincide con una contraseña guardada.\n"
      ],
      "metadata": {
        "id": "ARnpMbmOgzcw"
      }
    },
    {
      "cell_type": "code",
      "source": [
        "## INICIO DE CÓDIGO\n",
        "\n",
        "## FIN DE CÓDIGO"
      ],
      "metadata": {
        "id": "ONIZJ8EygwmV"
      },
      "execution_count": null,
      "outputs": []
    },
    {
      "cell_type": "markdown",
      "source": [
        "**Ejercicio 3:**\n",
        "\n",
        "Pide tres números y muestra cuál es el mayor.\n"
      ],
      "metadata": {
        "id": "m_Zjto9bgz3K"
      }
    },
    {
      "cell_type": "code",
      "source": [
        "## INICIO DE CÓDIGO\n",
        "\n",
        "## FIN DE CÓDIGO"
      ],
      "metadata": {
        "id": "yyuzVc-1gxAu"
      },
      "execution_count": null,
      "outputs": []
    },
    {
      "cell_type": "markdown",
      "source": [
        "**Ejercicio 4:**\n",
        "\n",
        "Simula el ingreso a un concierto: edad mínima 18, entrada pagada.\n"
      ],
      "metadata": {
        "id": "NyBNtR1Dg0R_"
      }
    },
    {
      "cell_type": "code",
      "source": [
        "## INICIO DE CÓDIGO\n",
        "\n",
        "## FIN DE CÓDIGO"
      ],
      "metadata": {
        "id": "WvL1Xxhggxhj"
      },
      "execution_count": null,
      "outputs": []
    },
    {
      "cell_type": "markdown",
      "source": [
        "**Ejercicio 5:**\n",
        "\n",
        "Verifica si un usuario tiene permisos según su rol: admin, editor o lector.\n"
      ],
      "metadata": {
        "id": "iMEJ1vhuhG--"
      }
    },
    {
      "cell_type": "code",
      "source": [
        "## INICIO DE CÓDIGO\n",
        "\n",
        "## FIN DE CÓDIGO"
      ],
      "metadata": {
        "id": "AtlFBl9xgx4t"
      },
      "execution_count": null,
      "outputs": []
    },
    {
      "cell_type": "markdown",
      "source": [
        "**Ejercicio 6:**\n",
        "\n",
        "Pide el nombre de una fruta y verifica si está en una lista de disponibles.\n"
      ],
      "metadata": {
        "id": "wx61pwdchJIr"
      }
    },
    {
      "cell_type": "code",
      "source": [
        "## INICIO DE CÓDIGO\n",
        "\n",
        "## FIN DE CÓDIGO"
      ],
      "metadata": {
        "id": "dM1dhvOQgyQj"
      },
      "execution_count": null,
      "outputs": []
    },
    {
      "cell_type": "markdown",
      "source": [
        "**Ejercicio 7:**\n",
        "\n",
        "Clasifica una temperatura ingresada por el usuario: frío (<15), templado (15–25), calor (>25).\n"
      ],
      "metadata": {
        "id": "B3FkjCzjhKt0"
      }
    },
    {
      "cell_type": "code",
      "source": [
        "## INICIO DE CÓDIGO\n",
        "\n",
        "## FIN DE CÓDIGO"
      ],
      "metadata": {
        "id": "6hgJF-HegymO"
      },
      "execution_count": null,
      "outputs": []
    },
    {
      "cell_type": "markdown",
      "source": [
        "**Ejercicio 8:**\n",
        "\n",
        "Pide el nombre de usuario y saluda de forma especial si es \"invitado\" o \"admin\"."
      ],
      "metadata": {
        "id": "v_G0soOGhMEm"
      }
    },
    {
      "cell_type": "code",
      "source": [
        "## INICIO DE CÓDIGO\n",
        "\n",
        "## FIN DE CÓDIGO"
      ],
      "metadata": {
        "id": "Tt_Fz8tlhMes"
      },
      "execution_count": null,
      "outputs": []
    },
    {
      "cell_type": "markdown",
      "source": [
        "---\n",
        "\n",
        "# Gracias por completar este laboratorio!\n",
        "\n",
        "---\n"
      ],
      "metadata": {
        "id": "GL6sdU0FhPu-"
      }
    }
  ]
}