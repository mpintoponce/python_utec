{
  "nbformat": 4,
  "nbformat_minor": 0,
  "metadata": {
    "colab": {
      "provenance": [],
      "include_colab_link": true
    },
    "kernelspec": {
      "name": "python3",
      "display_name": "Python 3"
    },
    "language_info": {
      "name": "python"
    }
  },
  "cells": [
    {
      "cell_type": "markdown",
      "metadata": {
        "id": "view-in-github",
        "colab_type": "text"
      },
      "source": [
        "<a href=\"https://colab.research.google.com/github/mpintoponce/python_utec/blob/main/Modulo01%3AFundamentos/3.Estructuras_Condicionales/Ejercicios.ipynb\" target=\"_parent\"><img src=\"https://colab.research.google.com/assets/colab-badge.svg\" alt=\"Open In Colab\"/></a>"
      ]
    },
    {
      "cell_type": "markdown",
      "source": [
        "<img src=\"https://posgrado.utec.edu.pe/sites/default/files/2023-08/Testimonial-home-2.jpg\" alt=\"HTML5 Icon\" width=\"900\" height=\"250\" >\n"
      ],
      "metadata": {
        "id": "biGuvFhNgJci"
      }
    },
    {
      "cell_type": "markdown",
      "source": [
        "# **Ejercicios - Estructuras Condicionales**"
      ],
      "metadata": {
        "id": "XHmAps3dgL55"
      }
    },
    {
      "cell_type": "markdown",
      "source": [
        "**Ejercicio 1:**\n",
        "\n",
        "Solicita un número al usuario y determina si es positivo, negativo o cero."
      ],
      "metadata": {
        "id": "VtGN4U_c67JX"
      }
    },
    {
      "cell_type": "code",
      "execution_count": 9,
      "metadata": {
        "id": "gFFv7u0r6xpc",
        "colab": {
          "base_uri": "https://localhost:8080/"
        },
        "outputId": "9e326c05-f367-44d7-e6ed-eb77ef9e0927"
      },
      "outputs": [
        {
          "output_type": "stream",
          "name": "stdout",
          "text": [
            "Ingrese un número: 0\n",
            "\n",
            "El número ingresado es cero.\n"
          ]
        }
      ],
      "source": [
        "## INICIO DE CÓDIGO\n",
        "\n",
        "# Solicitud de información\n",
        "number = float(input(\"Ingrese un número: \"))\n",
        "\n",
        "#Emitiendo resultados\n",
        "if number > 0:\n",
        "    print(\"\\nEl número ingresado es positivo.\")\n",
        "elif number < 0:\n",
        "    print(\"\\nEl número ingresado es negativo.\")\n",
        "else:\n",
        "    print(\"\\nEl número ingresado es cero.\")\n",
        "\n",
        "## FIN DE CÓDIGO"
      ]
    },
    {
      "cell_type": "markdown",
      "source": [
        "**Ejercicio 2:**\n",
        "\n",
        "Pide una contraseña y verifica si coincide con una contraseña guardada.\n"
      ],
      "metadata": {
        "id": "ARnpMbmOgzcw"
      }
    },
    {
      "cell_type": "code",
      "source": [
        "## INICIO DE CÓDIGO\n",
        "\n",
        "# Variables\n",
        "old_password = 1234567890\n",
        "\n",
        "#Solicitando información\n",
        "new_password = input(\"Ingrese su contraseña: \")\n",
        "\n",
        "#Emitiendo resultados\n",
        "if new_password == str(old_password):\n",
        "    print(\"\\nContraseña correcta. ¡Bienvenido!\")\n",
        "else:\n",
        "    print(\"\\nContraseña incorrecta. Verifique la contraseña e intentelo nuevamente.\")\n",
        "\n",
        "## FIN DE CÓDIGO"
      ],
      "metadata": {
        "id": "ONIZJ8EygwmV",
        "colab": {
          "base_uri": "https://localhost:8080/"
        },
        "outputId": "28369a51-175d-42ab-a7b2-a639c537e2a7"
      },
      "execution_count": 10,
      "outputs": [
        {
          "output_type": "stream",
          "name": "stdout",
          "text": [
            "Ingrese su contraseña: Miguel124\n",
            "\n",
            "Contraseña incorrecta. Verifique la contraseña e intentelo nuevamente\n"
          ]
        }
      ]
    },
    {
      "cell_type": "markdown",
      "source": [
        "**Ejercicio 3:**\n",
        "\n",
        "Pide tres números y muestra cuál es el mayor.\n"
      ],
      "metadata": {
        "id": "m_Zjto9bgz3K"
      }
    },
    {
      "cell_type": "code",
      "source": [
        "## INICIO DE CÓDIGO\n",
        "\n",
        "#Solicitando información\n",
        "number1 = float(input(\"Ingrese el primer número: \"))\n",
        "number2 = float(input(\"Ingrese el segundo número: \"))\n",
        "number3 = float(input(\"Ingrese el tercer número: \"))\n",
        "\n",
        "#Emitiendo resultados\n",
        "if number1 >= number2 and number1 >= number3:\n",
        "    print(\"\\nEl número mayor es:\", number1)\n",
        "elif number2 >= number1 and number2 >= number3:\n",
        "    print(\"\\nEl número mayor es:\", number2)\n",
        "else:\n",
        "    print(\"\\nEl número mayor es:\", number3)\n",
        "\n",
        "## FIN DE CÓDIGO"
      ],
      "metadata": {
        "id": "yyuzVc-1gxAu",
        "colab": {
          "base_uri": "https://localhost:8080/"
        },
        "outputId": "faad7161-204b-43a8-d39d-0ce8b5eb1337"
      },
      "execution_count": 12,
      "outputs": [
        {
          "output_type": "stream",
          "name": "stdout",
          "text": [
            "Ingrese el primer número: 20\n",
            "Ingrese el segundo número: 19.9\n",
            "Ingrese el tercer número: 20.5\n",
            "\n",
            "El número mayor es: 20.5\n"
          ]
        }
      ]
    },
    {
      "cell_type": "markdown",
      "source": [
        "**Ejercicio 4:**\n",
        "\n",
        "Simula el ingreso a un concierto: edad mínima 18, entrada pagada.\n"
      ],
      "metadata": {
        "id": "NyBNtR1Dg0R_"
      }
    },
    {
      "cell_type": "code",
      "source": [
        "## INICIO DE CÓDIGO\n",
        "\n",
        "#Solicitando información\n",
        "age = int(input(\"Ingrese su edad: \"))\n",
        "payment = input(\"¿Ha pagado la entrada? (Sí/No): \").lower()\n",
        "\n",
        "#Emitiendo resultados.\n",
        "if age >= 18 and payment == \"si\":\n",
        "    print(\"\\nBienvenido, puede ingresar.\")\n",
        "elif age < 18:\n",
        "    print(\"\\nLo siento, no pueden ingresar menores de edad.\")\n",
        "else:\n",
        "    print(\"\\nLo siento, no puede ingresar porque no ha realizado el pago de ingreso.\")\n",
        "\n",
        "\n",
        "## FIN DE CÓDIGO"
      ],
      "metadata": {
        "id": "WvL1Xxhggxhj",
        "colab": {
          "base_uri": "https://localhost:8080/"
        },
        "outputId": "cb64d676-61ac-4825-a4bd-a091a411bf2f"
      },
      "execution_count": 17,
      "outputs": [
        {
          "output_type": "stream",
          "name": "stdout",
          "text": [
            "Ingrese su edad: 17\n",
            "¿Ha pagado la entrada? (Sí/No): SI\n",
            "\n",
            "Lo siento, no pueden ingresar menores de edad.\n"
          ]
        }
      ]
    },
    {
      "cell_type": "markdown",
      "source": [
        "**Ejercicio 5:**\n",
        "\n",
        "Verifica si un usuario tiene permisos según su rol: admin, editor o lector.\n"
      ],
      "metadata": {
        "id": "iMEJ1vhuhG--"
      }
    },
    {
      "cell_type": "code",
      "source": [
        "## INICIO DE CÓDIGO\n",
        "\n",
        "#Variables\n",
        "Ussers = [\"mpinto\", \"dalarcon\", \"calfaro\", \"soscco\", \"yponce\", \"cmontenegro\", \"fpinto\"]\n",
        "Roles = [\"admin\", \"editor\", \"lector\", \"editor\", \"admin\", \"lector\", \"admin\"]\n",
        "\n",
        "#Solicitando información\n",
        "usser = input(\"Ingrese su nombre de usuario: \").lower()\n",
        "\n",
        "#Emitiendo resultados\n",
        "if usser not in Ussers:\n",
        "    print(\"\\nEl usuario no está registrado.\")\n",
        "else:\n",
        "    possicion = Ussers.index(usser)\n",
        "    print(\"\\nLos permisos para el usurio ingresado es de:\", Roles[possicion].capitalize())\n",
        "\n",
        "## FIN DE CÓDIGO"
      ],
      "metadata": {
        "id": "AtlFBl9xgx4t",
        "colab": {
          "base_uri": "https://localhost:8080/"
        },
        "outputId": "2e4993de-7cbf-41c3-f83a-84100de8a260"
      },
      "execution_count": 30,
      "outputs": [
        {
          "output_type": "stream",
          "name": "stdout",
          "text": [
            "Ingrese su nombre de usuario: fpinto\n",
            "\n",
            "Los permisos para el usurio ingresado es de: Admin\n"
          ]
        }
      ]
    },
    {
      "cell_type": "markdown",
      "source": [
        "**Ejercicio 6:**\n",
        "\n",
        "Pide el nombre de una fruta y verifica si está en una lista de disponibles.\n"
      ],
      "metadata": {
        "id": "wx61pwdchJIr"
      }
    },
    {
      "cell_type": "code",
      "source": [
        "## INICIO DE CÓDIGO\n",
        "\n",
        "#Variables\n",
        "fruits = [\"manzana\", \"fresa\", \"uva\", \"pera\", \"kiwi\", \"naranja\", \"papaya\"]\n",
        "\n",
        "#Solicitando información\n",
        "fruit = input(\"Ingrese la fruta a verificar: \").lower()\n",
        "\n",
        "#Emitiendo resultados\n",
        "if fruit in fruits:\n",
        "    print(\"\\nLa fruta está disponible.\")\n",
        "else:\n",
        "    print(\"\\nLa fruta no está disponible.\")\n",
        "\n",
        "## FIN DE CÓDIGO"
      ],
      "metadata": {
        "id": "dM1dhvOQgyQj",
        "colab": {
          "base_uri": "https://localhost:8080/"
        },
        "outputId": "596efa8e-a730-4538-8210-e470d0b2253d"
      },
      "execution_count": 31,
      "outputs": [
        {
          "output_type": "stream",
          "name": "stdout",
          "text": [
            "Ingrese la fruta a verificar: PERA\n",
            "\n",
            "La fruta está disponible.\n"
          ]
        }
      ]
    },
    {
      "cell_type": "markdown",
      "source": [
        "**Ejercicio 7:**\n",
        "\n",
        "Clasifica una temperatura ingresada por el usuario: frío (<15), templado (15–25), calor (>25).\n"
      ],
      "metadata": {
        "id": "B3FkjCzjhKt0"
      }
    },
    {
      "cell_type": "code",
      "source": [
        "## INICIO DE CÓDIGO\n",
        "\n",
        "#Solicitando información\n",
        "temperature = float(input(\"Ingrese la temperatura (°C) registrada: \"))\n",
        "\n",
        "#Emitiendo resultados\n",
        "if temperature < 15:\n",
        "    print(f\"\\nLa temperatura ingresada es de {temperature}°C y es frío.\")\n",
        "elif temperature >= 15 and temperature <= 25:\n",
        "    print(f\"\\nLa temperatura ingresada es de {temperature}°C y es templado.\")\n",
        "else:\n",
        "    print(f\"\\nLa temperatura ingresada es de {temperature}°C y es calor.\")\n",
        "\n",
        "## FIN DE CÓDIGO"
      ],
      "metadata": {
        "id": "6hgJF-HegymO",
        "colab": {
          "base_uri": "https://localhost:8080/"
        },
        "outputId": "886568d7-8f08-45fe-c1b6-b525e7fe7ee1"
      },
      "execution_count": 37,
      "outputs": [
        {
          "output_type": "stream",
          "name": "stdout",
          "text": [
            "Ingrese la temperatura (°C) registrada: 35\n",
            "\n",
            "La temperatura ingresada es de 35.0°C y es calor.\n"
          ]
        }
      ]
    },
    {
      "cell_type": "markdown",
      "source": [
        "**Ejercicio 8:**\n",
        "\n",
        "Pide el nombre de usuario y saluda de forma especial si es \"invitado\" o \"admin\"."
      ],
      "metadata": {
        "id": "v_G0soOGhMEm"
      }
    },
    {
      "cell_type": "code",
      "source": [
        "## INICIO DE CÓDIGO\n",
        "\n",
        "#Variables\n",
        "Ussers = [\"mpinto\", \"dalarcon\", \"calfaro\", \"soscco\", \"yponce\", \"cmontenegro\", \"fpinto\"]\n",
        "Roles = [\"admin\", \"invitado\", \"invitado\", \"admin\", \"admin\", \"invitado\", \"admin\"]\n",
        "\n",
        "#Solicitando información\n",
        "usser = input(\"Ingrese su nombre de usuario: \").lower()\n",
        "\n",
        "#Emitiendo resultados\n",
        "if usser not in Ussers:\n",
        "    print(\"\\nEl usuario no está registrado.\")\n",
        "else:\n",
        "    possicion = Ussers.index(usser)\n",
        "    role = Roles[possicion]\n",
        "\n",
        "    if role == \"admin\":\n",
        "        print(\"\\n¡Bienvenido, administrador!\")\n",
        "    else:\n",
        "        print(\"\\n¡Bienvenido, invitado!\")\n",
        "\n",
        "## FIN DE CÓDIGO"
      ],
      "metadata": {
        "id": "Tt_Fz8tlhMes",
        "colab": {
          "base_uri": "https://localhost:8080/"
        },
        "outputId": "efd9f486-ae06-47a6-9fbf-92ba63f076e9"
      },
      "execution_count": 6,
      "outputs": [
        {
          "output_type": "stream",
          "name": "stdout",
          "text": [
            "Ingrese su nombre de usuario: MPINTO\n",
            "\n",
            "¡Bienvenido, administrador!\n"
          ]
        }
      ]
    },
    {
      "cell_type": "markdown",
      "source": [
        "---\n",
        "\n",
        "# Gracias por completar este laboratorio!\n",
        "\n",
        "---\n"
      ],
      "metadata": {
        "id": "GL6sdU0FhPu-"
      }
    }
  ]
}