{
  "nbformat": 4,
  "nbformat_minor": 0,
  "metadata": {
    "colab": {
      "provenance": [],
      "include_colab_link": true
    },
    "kernelspec": {
      "name": "python3",
      "display_name": "Python 3"
    },
    "language_info": {
      "name": "python"
    }
  },
  "cells": [
    {
      "cell_type": "markdown",
      "metadata": {
        "id": "view-in-github",
        "colab_type": "text"
      },
      "source": [
        "<a href=\"https://colab.research.google.com/github/mpintoponce/python_utec/blob/main/Modulo01%3AFundamentos/2.Variables_Expresiones/Ejercicios.ipynb\" target=\"_parent\"><img src=\"https://colab.research.google.com/assets/colab-badge.svg\" alt=\"Open In Colab\"/></a>"
      ]
    },
    {
      "cell_type": "markdown",
      "source": [
        "<img src=\"https://posgrado.utec.edu.pe/sites/default/files/2023-08/Testimonial-home-2.jpg\" alt=\"HTML5 Icon\" width=\"900\" height=\"250\" >\n"
      ],
      "metadata": {
        "id": "cqadFmlrgAXp"
      }
    },
    {
      "cell_type": "markdown",
      "source": [
        "# **Ejercicios - Variables y Expresiones**"
      ],
      "metadata": {
        "id": "tW1-ULBmb0Cm"
      }
    },
    {
      "cell_type": "markdown",
      "source": [
        "**Ejercicio 1: Calculadora de ahorro semanal**\n",
        "\n",
        "Pide al usuario cuánto dinero ahorra cada día de lunes a domingo. Al final, muestra cuánto ahorró en total esa semana y cuánto tendría en un mes si repite el mismo patrón cada semana.\n",
        "\n",
        "- Pista: Usar 7 variables (ahorro_lunes, ahorro_martes, …), input(), float(), +, *."
      ],
      "metadata": {
        "id": "9igzfvIKqNGr"
      }
    },
    {
      "cell_type": "code",
      "source": [
        "## INICIO DE CÓDIGO\n",
        "\n",
        "#Definición de variables\n",
        "monday_savings = float(input('Ingrese cuanto ahorró el lunes: '))\n",
        "tuesday_savings = float(input('Ingrese cuanto ahorró el martes: '))\n",
        "wendnesday_savings = float(input('Ingrese cuanto ahorró el miercoles: '))\n",
        "thursday_savings = float(input('Ingrese cuanto ahorró el jueves: '))\n",
        "friday_savings = float(input('Ingrese cuanto ahorró el viernes :'))\n",
        "saturday_savings = float(input('Ingrese cuanto ahorró el sabado :'))\n",
        "sunday_savings = float(input('Ingrese cuanto ahorró el domingo :'))\n",
        "\n",
        "week_saving = monday_savings + tuesday_savings + wendnesday_savings + thursday_savings + friday_savings + saturday_savings + sunday_savings\n",
        "\n",
        "#Respuesta final\n",
        "print(f'\\n112Usted ahorró en total esta semana: S/.{week_saving}.\\nSi continúa ahorrando esa cantidad por un mes, ahorraría: S/.{week_saving*4}.')\n",
        "\n",
        "## FIN DE CÓDIGO"
      ],
      "metadata": {
        "id": "BX-O1-4wqWF9",
        "colab": {
          "base_uri": "https://localhost:8080/"
        },
        "outputId": "442c9092-0906-49ed-c5fa-7eeb1adb89c0"
      },
      "execution_count": 3,
      "outputs": [
        {
          "output_type": "stream",
          "name": "stdout",
          "text": [
            "Ingrese cuanto ahorró el lunes:12\n",
            "Ingrese cuanto ahorró el martes:23\n",
            "Ingrese cuanto ahorró el miercoles:24\n",
            "Ingrese cuanto ahorró el jueves:4\n",
            "Ingrese cuanto ahorró el viernes:45\n",
            "Ingrese cuanto ahorró el sabado:2\n",
            "Ingrese cuanto ahorró el domingo:12\n",
            "\n",
            "Usted ahorró en total esta semana: S/.122.0.\n",
            "Si continúa ahorrando esa cantidad por un mes, ahorraría: S/.488.0.\n"
          ]
        }
      ]
    },
    {
      "cell_type": "markdown",
      "source": [
        "**Ejercicio 2: Conversor de segundos**\n",
        "\n",
        "Solicita una cantidad total de segundos y muestra cuántos minutos y segundos representa.\n",
        "\n",
        "Ejemplo: 130 segundos → 2 minutos y 10 segundos\n",
        "* Pista: Usar // y %\n"
      ],
      "metadata": {
        "id": "oLaw6UggqV3E"
      }
    },
    {
      "cell_type": "code",
      "source": [
        "## INICIO DE CÓDIGO\n",
        "\n",
        "# Solicitando información\n",
        "input_seconds = int(input('Ingrese una cantidad de segundos: '))\n",
        "\n",
        "# Calculando minutos y segundos\n",
        "minutes = input_seconds // 60\n",
        "seconds = input_seconds % 60\n",
        "\n",
        "# Emitiendo comunidado final\n",
        "print(f'\\nLos segundos ingresados equivalen a {minutes} minutos y {seconds} segundos.')\n",
        "\n",
        "## FIN DE CÓDIGO"
      ],
      "metadata": {
        "id": "bAuxBROrqaWb",
        "colab": {
          "base_uri": "https://localhost:8080/"
        },
        "outputId": "e626113d-01de-4d1c-8425-01f08164ac18"
      },
      "execution_count": 5,
      "outputs": [
        {
          "output_type": "stream",
          "name": "stdout",
          "text": [
            "Ingrese una cantidad de segundos: 2345\n",
            "\n",
            "Los segundos ingresados equivalen a 39 minutos y 5 segundos.\n"
          ]
        }
      ]
    },
    {
      "cell_type": "markdown",
      "source": [
        "**Ejercicio 3: Puntuación de juego**\n",
        "\n",
        "Un videojuego otorga:\n",
        "\n",
        "* 10 puntos por cada estrella recolectada,\n",
        "* 50 puntos por cada gema recolectada, y\n",
        "* 1 punto por cada segundo que el jugador se mantuvo vivo.\n",
        "\n",
        "Pide al usuario las tres cantidades y muestra su puntaje total.\n",
        "\n",
        "* Pista: total = estrellas*10 + gemas*50 + tiempo"
      ],
      "metadata": {
        "id": "dK4EIGoKrW2B"
      }
    },
    {
      "cell_type": "code",
      "source": [
        "## INICIO DE CÓDIGO\n",
        "\n",
        "# Solicitud de información\n",
        "stars = int(input('Ingrese la cantidad de estrellas recolectadas: '))\n",
        "gems = int(input('Ingrese la cantidad de gemas recolectadas: '))\n",
        "seconds = int(input('Ingrese la cantidad de segundos que el jugador se mantuvo vivo: '))\n",
        "\n",
        "# Calculando el puntaje total\n",
        "total_score = stars * 10 + gems * 50 + seconds\n",
        "\n",
        "# Emitiendo el resultado final\n",
        "print(f'\\nEl puntaje total del jugador es: {total_score}.')\n",
        "\n",
        "## FIN DE CÓDIGO"
      ],
      "metadata": {
        "id": "jkBQHQF1rlUY",
        "colab": {
          "base_uri": "https://localhost:8080/"
        },
        "outputId": "af5d96c3-634d-48a5-91c5-ef519fbc51a2"
      },
      "execution_count": 6,
      "outputs": [
        {
          "output_type": "stream",
          "name": "stdout",
          "text": [
            "Ingrese la cantidad de estrellas recolectadas: 20\n",
            "Ingrese la cantidad de gemas recolectadas: 12\n",
            "Ingrese la cantidad de segundos que el jugador se mantuvo vivo: 1500\n",
            "\n",
            "El puntaje total del jugador es: 2300.\n"
          ]
        }
      ]
    },
    {
      "cell_type": "markdown",
      "source": [
        "**Ejercicio 4: Conversor de monedas con tasa personalizada**\n",
        "\n",
        "Solicita al usuario:\n",
        "\n",
        "* El monto en soles\n",
        "* La tasa de cambio a dólares\n",
        "\n",
        "Muestra el equivalente en dólares, redondeado a 2 decimales.\n",
        "\n",
        "* Pista: Usar float(), *, round(valor, 2)"
      ],
      "metadata": {
        "id": "wW9Edl_8rlt1"
      }
    },
    {
      "cell_type": "code",
      "source": [
        "## INICIO DE CÓDIGO\n",
        "\n",
        "# Solicitud de información\n",
        "money_to_exchange = float(input('Ingrese el monto de dinero a cambiar en soles: '))\n",
        "exchange_rate = float(input('Ingrese la tasa de cambio de soles a dólares: '))\n",
        "\n",
        "# Calculando el equivalente en dolares\n",
        "money_to_exchange_usd = round(money_to_exchange / exchange_rate, 2)\n",
        "\n",
        "# Emitiendo el resultado\n",
        "print(f'\\nEl monto de S/.{money_to_exchange}, con una tasa de cambio de S/.{exchange_rate}, equivale a ${money_to_exchange_usd} dolares.')\n",
        "\n",
        "## FIN DE CÓDIGO"
      ],
      "metadata": {
        "id": "fTCsCohHrmQW",
        "colab": {
          "base_uri": "https://localhost:8080/"
        },
        "outputId": "e8c4caaf-812b-469e-ee01-16f72677deb4"
      },
      "execution_count": 12,
      "outputs": [
        {
          "output_type": "stream",
          "name": "stdout",
          "text": [
            "Ingrese el monto de dinero a cambiar en soles: 1350\n",
            "Ingrese la tasa de cambio de soles a dólares: 3.69\n",
            "\n",
            "El monto de S/.1350.0, con una tasa de cambio de S/.3.69, equivale a $365.85 dolares.\n"
          ]
        }
      ]
    },
    {
      "cell_type": "markdown",
      "source": [
        "**Ejercicio 5: Costo compartido de viaje**\n",
        "\n",
        "Tres amigos hacen un viaje y pagan distintos montos:\n",
        "\n",
        "* Ana pagó gasolina,\n",
        "* Luis pagó peajes,\n",
        "* Carla pagó comida.\n",
        "\n",
        "Pide los tres montos, calcula el total y cuánto debería aportar cada uno para que paguen igual.\n",
        "\n",
        "* Pista: Calcular el total y luego dividirlo entre 3"
      ],
      "metadata": {
        "id": "JYUyJAidrmnT"
      }
    },
    {
      "cell_type": "code",
      "source": [
        "## INICIO DE CÓDIGO\n",
        "\n",
        "# Solicitando información\n",
        "fuel_cost = float(input('Ingrese el monto que pagó Ana por la gasolina: '))\n",
        "parking_fees = float(input('Ingrese el monto que pagó Luis por los peajes: '))\n",
        "food_cost = float(input('Ingrese el monto que pagó Carla por la comida: '))\n",
        "\n",
        "# Calculando los montos\n",
        "total_cost = fuel_cost + parking_fees + food_cost\n",
        "share_cost = round(total_cost / 3,2)\n",
        "\n",
        "# Emitiendo el resultado\n",
        "print(f'\\nEl monto total a pagar es: S/.{total_cost}.\\nCada uno debe pagar: S/.{share_cost}.')\n",
        "\n",
        "## FIN DE CÓDIGO"
      ],
      "metadata": {
        "id": "SGjH-m_mrom9",
        "colab": {
          "base_uri": "https://localhost:8080/"
        },
        "outputId": "59b570a6-515d-48a6-e4bc-2276bf15418a"
      },
      "execution_count": 14,
      "outputs": [
        {
          "output_type": "stream",
          "name": "stdout",
          "text": [
            "Ingrese el monto que pagó Ana por la gasolina: 50\n",
            "Ingrese el monto que pagó Luis por los peajes: 123\n",
            "Ingrese el monto que pagó Carla por la comida: 45\n",
            "\n",
            "El monto total a pagar es: S/.218.0.\n",
            "Cada uno debe pagar: S/.72.67.\n"
          ]
        }
      ]
    },
    {
      "cell_type": "markdown",
      "source": [
        "**Ejercicio 6: Tiempo total de estudio**\n",
        "\n",
        "Solicita al usuario cuántas horas estudió en 4 materias distintas.\n",
        "\n",
        "Muestra el total de horas de estudio en la semana y el promedio diario (considerando 7 días).\n"
      ],
      "metadata": {
        "id": "skhBiCaCro5l"
      }
    },
    {
      "cell_type": "code",
      "source": [
        "## INICIO DE CÓDIGO\n",
        "\n",
        "# Solicitando información\n",
        "course1 = float(input('Ingrese la cantidad de horas estudiadas en la primera materia: '))\n",
        "course2 = float(input('Ingrese la cantidad de horas estudiadas en la segunda materia: '))\n",
        "course3 = float(input('Ingrese la cantidad de horas estudiadas en la tercera materia: '))\n",
        "course4 = float(input('Ingrese la cantidad de horas estudiadas en la cuarta materia: '))\n",
        "\n",
        "# Calculos\n",
        "\n",
        "total_hours = course1 + course2 + course3 + course4\n",
        "average_hours = round(total_hours / 7,2)\n",
        "\n",
        "# Emitiendo resultados\n",
        "print(f'\\nEl total de horas estudiadas en la semana es: {total_hours}.\\nEl promedio de horas estudiadas por día es: {average_hours}.')\n",
        "\n",
        "## FIN DE CÓDIGO"
      ],
      "metadata": {
        "id": "HnFuV1RPrqXQ",
        "colab": {
          "base_uri": "https://localhost:8080/"
        },
        "outputId": "c4a89584-844a-45fb-c8dc-7dcd08fbc5e5"
      },
      "execution_count": 17,
      "outputs": [
        {
          "output_type": "stream",
          "name": "stdout",
          "text": [
            "Ingrese la cantidad de horas estudiadas en la primera materia: 12\n",
            "Ingrese la cantidad de horas estudiadas en la segunda materia: 3.5\n",
            "Ingrese la cantidad de horas estudiadas en la tercera materia: 6\n",
            "Ingrese la cantidad de horas estudiadas en la cuarta materia: 10\n",
            "\n",
            "El total de horas estudiadas en la semana es: 31.5.\n",
            "El promedio de horas estudiadas por día es: 4.5.\n"
          ]
        }
      ]
    },
    {
      "cell_type": "markdown",
      "source": [
        "**Ejercicio 7: Nombre codificado (nivel string)**\n",
        "\n",
        "Pide al usuario su nombre completo y muestra:\n",
        "\n",
        "* La cantidad de caracteres (con len())\n",
        "* Su nombre todo en mayúsculas (.upper())\n",
        "* Su nombre todo en minúsculas (.lower())\n"
      ],
      "metadata": {
        "id": "rNjtOXKWrqs5"
      }
    },
    {
      "cell_type": "code",
      "source": [
        "## INICIO DE CÓDIGO\n",
        "\n",
        "# Solicitando información\n",
        "name = input('Ingrese su nombre completo: ')\n",
        "\n",
        "# Emitiendo resultados\n",
        "print(f'\\nLa cantidad de caracteres de su nombre es: {len(name)}.\\nSu nombre en mayúsculas es: {name.upper()}.\\nSu nombre en minúsculas es: {name.lower()}.')\n",
        "\n",
        "## FIN DE CÓDIGO"
      ],
      "metadata": {
        "id": "GnGm74GXrsL0",
        "colab": {
          "base_uri": "https://localhost:8080/"
        },
        "outputId": "10755cc4-1af8-4eb0-e76d-8c757fb5ea02"
      },
      "execution_count": 19,
      "outputs": [
        {
          "output_type": "stream",
          "name": "stdout",
          "text": [
            "Ingrese su nombre completo: Miguel Angel Pinto Ponce\n",
            "\n",
            "La cantidad de caracteres de su nombre es: 24.\n",
            "Su nombre en mayúsculas es: MIGUEL ANGEL PINTO PONCE.\n",
            "Su nombre en minúsculas es: miguel angel pinto ponce.\n"
          ]
        }
      ]
    },
    {
      "cell_type": "markdown",
      "source": [
        "**Ejercicio 8: Frase repetida**\n",
        "\n",
        "Pide una frase y un número n, y muestra la frase repetida n veces, cada una en una línea.\n",
        "\n",
        "* Pista: print(frase * n)  # y/o con '\\n'"
      ],
      "metadata": {
        "id": "lrhPyjmWrse2"
      }
    },
    {
      "cell_type": "code",
      "source": [
        "## INICIO DE CÓDIGO\n",
        "\n",
        "#Solicitud de información\n",
        "frase = input('Ingrese una frase: ')\n",
        "n = int(input('Ingrese un número: '))\n",
        "\n",
        "#Emitiendo resultados\n",
        "#print(f'\\n{frase * n}')\n",
        "print((frase + \"\\n\") * n)\n",
        "\n",
        "## FIN DE CÓDIGO"
      ],
      "metadata": {
        "id": "Vzef3t_Lru0p",
        "colab": {
          "base_uri": "https://localhost:8080/"
        },
        "outputId": "294c196b-2250-491d-be10-0c47e3ccee44"
      },
      "execution_count": 27,
      "outputs": [
        {
          "output_type": "stream",
          "name": "stdout",
          "text": [
            "Ingrese una frase: Hola Miguel.\n",
            "Ingrese un número: 3\n",
            "Hola Miguel.\n",
            "Hola Miguel.\n",
            "Hola Miguel.\n",
            "\n"
          ]
        }
      ]
    },
    {
      "cell_type": "markdown",
      "source": [
        "**Ejercicio 9: División de cuentas**\n",
        "\n",
        "Un grupo de amigos pide una cuenta por S/ 250.\n",
        "Pide al usuario cuántas personas están en el grupo y muestra cuánto debe pagar cada uno.\n",
        "\n",
        "Asegúrate de redondear el resultado a 2 decimales.\n",
        "\n",
        "* Pista: Usa la funcion round()"
      ],
      "metadata": {
        "id": "5NpbbGR_rvNH"
      }
    },
    {
      "cell_type": "code",
      "source": [
        "## INICIO DE CÓDIGO\n",
        "\n",
        "# Información\n",
        "total_cost = 250\n",
        "\n",
        "# Solicitando información\n",
        "total_people = int(input('Ingrese la cantidad de personas en el grupo: '))\n",
        "\n",
        "# Calculando el costo por persona\n",
        "cost_per_person = round(total_cost / total_people,2)\n",
        "\n",
        "# Emitiendo resultados\n",
        "print(f'\\nCada uno debe pagar: S/.{cost_per_person}.')\n",
        "\n",
        "## FIN DE CÓDIGO"
      ],
      "metadata": {
        "id": "uMxuVCUVrvj6",
        "colab": {
          "base_uri": "https://localhost:8080/"
        },
        "outputId": "709d9544-c4cf-4a96-ff7c-2d6fe33f63a1"
      },
      "execution_count": 30,
      "outputs": [
        {
          "output_type": "stream",
          "name": "stdout",
          "text": [
            "Ingrese la cantidad de personas en el grupo: 7\n",
            "\n",
            "Cada uno debe pagar: S/.35.71.\n"
          ]
        }
      ]
    },
    {
      "cell_type": "markdown",
      "source": [
        "**Ejercicio 10: Calendario de clases**\n",
        "\n",
        "Pide cuántas horas se estudia en promedio por día, y cuántos días tiene el mes.\n",
        "\n",
        "Calcula cuántas horas de estudio habrá ese mes."
      ],
      "metadata": {
        "id": "p3PYp0l4pxuI"
      }
    },
    {
      "cell_type": "code",
      "source": [
        "## INICIO DE CÓDIGO\n",
        "\n",
        "#Solicitud de información\n",
        "study_hours = float(input('Ingrese cuantas horas estudia en promedio por día: '))\n",
        "month_days = int(input('Ingrese cuantos días tiene el mes: '))\n",
        "\n",
        "#Cálculos\n",
        "total_study_hours = round(study_hours * month_days,2)\n",
        "\n",
        "#Emitiendo resultados\n",
        "print(f'\\nEl total de horas de estudio en el mes es: {total_study_hours} hrs.')\n",
        "\n",
        "## FIN DE CÓDIGO"
      ],
      "metadata": {
        "id": "y1bXFffhrxk2",
        "colab": {
          "base_uri": "https://localhost:8080/"
        },
        "outputId": "30bf43d1-bd61-4689-ecd9-db291c326313"
      },
      "execution_count": 34,
      "outputs": [
        {
          "output_type": "stream",
          "name": "stdout",
          "text": [
            "Ingrese cuantas horas estudia en promedio por día: 3.7\n",
            "Ingrese cuantos días tiene el mes: 29\n",
            "\n",
            "El total de horas de estudio en el mes es: 107.3 hrs.\n"
          ]
        }
      ]
    },
    {
      "cell_type": "markdown",
      "source": [
        "---\n",
        "\n",
        "# Gracias por completar este laboratorio!\n",
        "\n",
        "---\n"
      ],
      "metadata": {
        "id": "8_ZocYoOrx3Z"
      }
    }
  ]
}