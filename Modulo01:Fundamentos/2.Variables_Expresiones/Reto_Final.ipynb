{
  "nbformat": 4,
  "nbformat_minor": 0,
  "metadata": {
    "colab": {
      "provenance": [],
      "authorship_tag": "ABX9TyNCkMe3n4GTAZ40e7owtLHt",
      "include_colab_link": true
    },
    "kernelspec": {
      "name": "python3",
      "display_name": "Python 3"
    },
    "language_info": {
      "name": "python"
    }
  },
  "cells": [
    {
      "cell_type": "markdown",
      "metadata": {
        "id": "view-in-github",
        "colab_type": "text"
      },
      "source": [
        "<a href=\"https://colab.research.google.com/github/mpintoponce/python_utec/blob/main/Modulo01%3AFundamentos/2.Variables_Expresiones/Reto_Final.ipynb\" target=\"_parent\"><img src=\"https://colab.research.google.com/assets/colab-badge.svg\" alt=\"Open In Colab\"/></a>"
      ]
    },
    {
      "cell_type": "markdown",
      "source": [
        "# RETO FINAL\n",
        "\n",
        "**\"Simulador de precalificación para crédito hipotecario\"**\n",
        "\n",
        "*Instrucciones:*\n",
        "\n",
        "Una persona quiere saber si califica para un crédito hipotecario. El sistema debe:\n",
        "\n",
        "* Pedir el ingreso mensual, edad y el valor del inmueble.\n",
        "* Calcular la cuota mensual (crédito a 20 años, tasa fija de 6% anual).\n",
        "* Evaluar si la cuota no supera el 30% del ingreso mensual.\n",
        "* Validar que la edad + plazo del crédito no supere 70 años.\n",
        "* Llevar el historial de evaluaciones realizadas (usando una lista).\n",
        "* Mostrar un mensaje con el monto de la cuota, si califica o no, y guardar ese resultado en la lista historial_simulaciones."
      ],
      "metadata": {
        "id": "aQzKAiGKeg3Q"
      }
    },
    {
      "cell_type": "code",
      "execution_count": 58,
      "metadata": {
        "id": "d5HC4zW8glA3",
        "colab": {
          "base_uri": "https://localhost:8080/"
        },
        "outputId": "bb743963-666e-452d-fa5f-53742d33a51f"
      },
      "outputs": [
        {
          "output_type": "stream",
          "name": "stdout",
          "text": [
            "Ingrese su salario mensual:2300\n",
            "Ingrese su edad:34\n",
            "Ingrese el valor de su inmueble:123000\n",
            "\n",
            "¡Felicidades! Con una cuota mensual de S/.543.25, usted califica para adquirir un crédito hipotecario. El historial de simulaciones es: ['Aprobado', 'Aprobado'].\n"
          ]
        }
      ],
      "source": [
        "# Reto final\n",
        "\n",
        "# Definición de variables\n",
        "monthly_salary = float(input('Ingrese su salario mensual:'))\n",
        "age = int(input('Ingrese su edad:'))\n",
        "value_property = float(input('Ingrese el valor de su inmueble:'))\n",
        "credit_rate = 0.06\n",
        "credit_years = 20\n",
        "\n",
        "#Calculando la cuota mensual\n",
        "monthly_credit = value_property * (1 + credit_rate) / (credit_years * 12)\n",
        "monthly_credit = round(monthly_credit, 2)\n",
        "\n",
        "#Definición de Lista\n",
        "try:\n",
        "    past_evaluations\n",
        "except NameError:\n",
        "    past_evaluations = []\n",
        "\n",
        "#Haciendo que la lista aumente con los intentos\n",
        "past_evaluations = past_evaluations\n",
        "\n",
        "#Condicional para evaluar los datos ingresados\n",
        "if monthly_credit > monthly_salary * 0.3:\n",
        "    past_evaluations.append('Rechazado')\n",
        "    print(f'\\nLo siento. Con una cuota mensual de S/.{monthly_credit}, usted no califica para adquirir un crédito hipotecario. El historial de simulaciones es: {past_evaluations}.')\n",
        "elif age + credit_years > 70:\n",
        "    past_evaluations.append('Rechazado')\n",
        "    print(f'\\nLo siento. Con una cuota mensual de S/.{monthly_credit}, usted no califica para adquirir un crédito hipotecario. El historial de simulaciones es: {past_evaluations}.')\n",
        "else:\n",
        "    past_evaluations.append('Aprobado')\n",
        "    print(f'\\n¡Felicidades! Con una cuota mensual de S/.{monthly_credit}, usted califica para adquirir un crédito hipotecario. El historial de simulaciones es: {past_evaluations}.')"
      ]
    }
  ]
}