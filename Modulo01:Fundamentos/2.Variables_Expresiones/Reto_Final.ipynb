{
  "nbformat": 4,
  "nbformat_minor": 0,
  "metadata": {
    "colab": {
      "provenance": [],
      "authorship_tag": "ABX9TyObDPfD15356JSRE/rWoMBQ",
      "include_colab_link": true
    },
    "kernelspec": {
      "name": "python3",
      "display_name": "Python 3"
    },
    "language_info": {
      "name": "python"
    }
  },
  "cells": [
    {
      "cell_type": "markdown",
      "metadata": {
        "id": "view-in-github",
        "colab_type": "text"
      },
      "source": [
        "<a href=\"https://colab.research.google.com/github/mpintoponce/python_utec/blob/main/Modulo01%3AFundamentos/2.Variables_Expresiones/Reto_Final.ipynb\" target=\"_parent\"><img src=\"https://colab.research.google.com/assets/colab-badge.svg\" alt=\"Open In Colab\"/></a>"
      ]
    },
    {
      "cell_type": "markdown",
      "source": [
        "# RETO FINAL\n",
        "\n",
        "**\"Simulador de precalificación para crédito hipotecario\"**\n",
        "\n",
        "*Instrucciones:*\n",
        "\n",
        "Una persona quiere saber si califica para un crédito hipotecario. El sistema debe:\n",
        "\n",
        "* Pedir el ingreso mensual, edad y el valor del inmueble.\n",
        "* Calcular la cuota mensual (crédito a 20 años, tasa fija de 6% anual).\n",
        "* Evaluar si la cuota no supera el 30% del ingreso mensual.\n",
        "* Validar que la edad + plazo del crédito no supere 70 años.\n",
        "* Llevar el historial de evaluaciones realizadas (usando una lista).\n",
        "* Mostrar un mensaje con el monto de la cuota, si califica o no, y guardar ese resultado en la lista historial_simulaciones."
      ],
      "metadata": {
        "id": "aQzKAiGKeg3Q"
      }
    },
    {
      "cell_type": "code",
      "source": [
        "past_evaluations = []"
      ],
      "metadata": {
        "id": "ReesRu2Cj8ke"
      },
      "execution_count": 32,
      "outputs": []
    },
    {
      "cell_type": "code",
      "execution_count": 35,
      "metadata": {
        "id": "d5HC4zW8glA3",
        "colab": {
          "base_uri": "https://localhost:8080/"
        },
        "outputId": "f7ab2a20-b697-45e3-dacd-de4f8c3a7719"
      },
      "outputs": [
        {
          "output_type": "stream",
          "name": "stdout",
          "text": [
            "Ingrese su salario mensual:1300\n",
            "Ingrese su edad:23\n",
            "Ingrese el valor de su inmueble:80000\n",
            "\n",
            "¡Felicidades! Con una cuota mensual de S/.353.33, usted califica para adquirir un crédito hipotecario. El historial de simulaciones es: ['Aprobado', 'Rechazado'].\n"
          ]
        }
      ],
      "source": [
        "# Reto final\n",
        "monthly_salary = float(input('Ingrese su salario mensual:'))\n",
        "age = int(input('Ingrese su edad:'))\n",
        "value_property = float(input('Ingrese el valor de su inmueble:'))\n",
        "\n",
        "#monthly_salary = 1200\n",
        "#age = 25\n",
        "#value_property = 3000000\n",
        "\n",
        "credit_rate = 0.06\n",
        "credit_years = 20\n",
        "monthly_credit = value_property * (1 + credit_rate) / (credit_years * 12)\n",
        "\n",
        "#if len(past_evaluations) != 0:\n",
        "#    past_evaluations = []\n",
        "\n",
        "past_evaluations = past_evaluations\n",
        "monthly_credit = round(monthly_credit, 2)\n",
        "#print(past_evaluations)\n",
        "#print(monthly_credit)\n",
        "#print(monthly_salary * 0.3)\n",
        "\n",
        "if monthly_credit > monthly_salary * 0.3:\n",
        "    print(f'\\nLo siento. Con una cuota mensual de S/.{monthly_credit}, usted no califica para adquirir un crédito hipotecario. El historial de simulaciones es: {past_evaluations}.')\n",
        "    past_evaluations.append('Rechazado')\n",
        "elif age + credit_years > 70:\n",
        "    print(f'\\nLo siento. Con una cuota mensual de S/.{monthly_credit}, usted no califica para adquirir un crédito hipotecario. El historial de simulaciones es: {past_evaluations}.')\n",
        "    past_evaluations.append('Rechazado')\n",
        "else:\n",
        "    print(f'\\n¡Felicidades! Con una cuota mensual de S/.{monthly_credit}, usted califica para adquirir un crédito hipotecario. El historial de simulaciones es: {past_evaluations}.')\n",
        "    past_evaluations.append('Aprobado')\n",
        "\n",
        "#print(past_evaluations)\n"
      ]
    }
  ]
}