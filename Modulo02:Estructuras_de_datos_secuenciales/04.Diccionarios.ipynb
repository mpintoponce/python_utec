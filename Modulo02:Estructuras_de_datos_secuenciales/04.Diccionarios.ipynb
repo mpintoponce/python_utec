{
  "nbformat": 4,
  "nbformat_minor": 0,
  "metadata": {
    "colab": {
      "provenance": [],
      "toc_visible": true,
      "include_colab_link": true
    },
    "kernelspec": {
      "name": "python3",
      "display_name": "Python 3"
    },
    "language_info": {
      "name": "python"
    }
  },
  "cells": [
    {
      "cell_type": "markdown",
      "metadata": {
        "id": "view-in-github",
        "colab_type": "text"
      },
      "source": [
        "<a href=\"https://colab.research.google.com/github/mpintoponce/python_utec/blob/main/Modulo02%3AEstructuras_de_datos_secuenciales/04.Diccionarios.ipynb\" target=\"_parent\"><img src=\"https://colab.research.google.com/assets/colab-badge.svg\" alt=\"Open In Colab\"/></a>"
      ]
    },
    {
      "cell_type": "markdown",
      "source": [
        "## Diccionarios"
      ],
      "metadata": {
        "id": "LIRifZ8oVWYD"
      }
    },
    {
      "cell_type": "code",
      "source": [
        "texto = \"banana\"\n",
        "\n",
        "from collections import Counter\n",
        "\n",
        "frecuencia = Counter(texto)\n",
        "print(dict(frecuencia))\n"
      ],
      "metadata": {
        "colab": {
          "base_uri": "https://localhost:8080/"
        },
        "id": "tUAfRworMBgn",
        "outputId": "1659934a-6118-4f95-930d-65728dce96a9"
      },
      "execution_count": null,
      "outputs": [
        {
          "output_type": "stream",
          "name": "stdout",
          "text": [
            "{'b': 1, 'a': 3, 'n': 2}\n"
          ]
        }
      ]
    },
    {
      "cell_type": "code",
      "source": [
        "import pandas as pd # pd es el alias de Pandas\n",
        "df = pd.read_csv(\"clientes.csv\",sep=\";\") # read_csv es la funcionalidad de Pandas"
      ],
      "metadata": {
        "id": "x9ttB6OROP5F"
      },
      "execution_count": null,
      "outputs": []
    },
    {
      "cell_type": "code",
      "source": [
        "df.head() # Todo DataFrame tiene funciones nativas como .head()\n",
        "# permite visualizar los primeros 5 registros del DataFrame"
      ],
      "metadata": {
        "colab": {
          "base_uri": "https://localhost:8080/",
          "height": 206
        },
        "id": "HnkysE4oOQjZ",
        "outputId": "3d6cbb98-7f30-4036-fc7f-4e6f6c881bf9"
      },
      "execution_count": null,
      "outputs": [
        {
          "output_type": "execute_result",
          "data": {
            "text/plain": [
              "    ID  EDAD  INGRESOS RIESGO  LINEA_TC\n",
              "0  123    36      1348      A     49924\n",
              "1  234    52      9479      A     28454\n",
              "2  345    60      7511      B     14250\n",
              "3  456    40      7992      C     32064\n",
              "4  567    58      2675      C      1485"
            ],
            "text/html": [
              "\n",
              "  <div id=\"df-378bda3d-edef-4b33-8af6-f6762db77e0d\" class=\"colab-df-container\">\n",
              "    <div>\n",
              "<style scoped>\n",
              "    .dataframe tbody tr th:only-of-type {\n",
              "        vertical-align: middle;\n",
              "    }\n",
              "\n",
              "    .dataframe tbody tr th {\n",
              "        vertical-align: top;\n",
              "    }\n",
              "\n",
              "    .dataframe thead th {\n",
              "        text-align: right;\n",
              "    }\n",
              "</style>\n",
              "<table border=\"1\" class=\"dataframe\">\n",
              "  <thead>\n",
              "    <tr style=\"text-align: right;\">\n",
              "      <th></th>\n",
              "      <th>ID</th>\n",
              "      <th>EDAD</th>\n",
              "      <th>INGRESOS</th>\n",
              "      <th>RIESGO</th>\n",
              "      <th>LINEA_TC</th>\n",
              "    </tr>\n",
              "  </thead>\n",
              "  <tbody>\n",
              "    <tr>\n",
              "      <th>0</th>\n",
              "      <td>123</td>\n",
              "      <td>36</td>\n",
              "      <td>1348</td>\n",
              "      <td>A</td>\n",
              "      <td>49924</td>\n",
              "    </tr>\n",
              "    <tr>\n",
              "      <th>1</th>\n",
              "      <td>234</td>\n",
              "      <td>52</td>\n",
              "      <td>9479</td>\n",
              "      <td>A</td>\n",
              "      <td>28454</td>\n",
              "    </tr>\n",
              "    <tr>\n",
              "      <th>2</th>\n",
              "      <td>345</td>\n",
              "      <td>60</td>\n",
              "      <td>7511</td>\n",
              "      <td>B</td>\n",
              "      <td>14250</td>\n",
              "    </tr>\n",
              "    <tr>\n",
              "      <th>3</th>\n",
              "      <td>456</td>\n",
              "      <td>40</td>\n",
              "      <td>7992</td>\n",
              "      <td>C</td>\n",
              "      <td>32064</td>\n",
              "    </tr>\n",
              "    <tr>\n",
              "      <th>4</th>\n",
              "      <td>567</td>\n",
              "      <td>58</td>\n",
              "      <td>2675</td>\n",
              "      <td>C</td>\n",
              "      <td>1485</td>\n",
              "    </tr>\n",
              "  </tbody>\n",
              "</table>\n",
              "</div>\n",
              "    <div class=\"colab-df-buttons\">\n",
              "\n",
              "  <div class=\"colab-df-container\">\n",
              "    <button class=\"colab-df-convert\" onclick=\"convertToInteractive('df-378bda3d-edef-4b33-8af6-f6762db77e0d')\"\n",
              "            title=\"Convert this dataframe to an interactive table.\"\n",
              "            style=\"display:none;\">\n",
              "\n",
              "  <svg xmlns=\"http://www.w3.org/2000/svg\" height=\"24px\" viewBox=\"0 -960 960 960\">\n",
              "    <path d=\"M120-120v-720h720v720H120Zm60-500h600v-160H180v160Zm220 220h160v-160H400v160Zm0 220h160v-160H400v160ZM180-400h160v-160H180v160Zm440 0h160v-160H620v160ZM180-180h160v-160H180v160Zm440 0h160v-160H620v160Z\"/>\n",
              "  </svg>\n",
              "    </button>\n",
              "\n",
              "  <style>\n",
              "    .colab-df-container {\n",
              "      display:flex;\n",
              "      gap: 12px;\n",
              "    }\n",
              "\n",
              "    .colab-df-convert {\n",
              "      background-color: #E8F0FE;\n",
              "      border: none;\n",
              "      border-radius: 50%;\n",
              "      cursor: pointer;\n",
              "      display: none;\n",
              "      fill: #1967D2;\n",
              "      height: 32px;\n",
              "      padding: 0 0 0 0;\n",
              "      width: 32px;\n",
              "    }\n",
              "\n",
              "    .colab-df-convert:hover {\n",
              "      background-color: #E2EBFA;\n",
              "      box-shadow: 0px 1px 2px rgba(60, 64, 67, 0.3), 0px 1px 3px 1px rgba(60, 64, 67, 0.15);\n",
              "      fill: #174EA6;\n",
              "    }\n",
              "\n",
              "    .colab-df-buttons div {\n",
              "      margin-bottom: 4px;\n",
              "    }\n",
              "\n",
              "    [theme=dark] .colab-df-convert {\n",
              "      background-color: #3B4455;\n",
              "      fill: #D2E3FC;\n",
              "    }\n",
              "\n",
              "    [theme=dark] .colab-df-convert:hover {\n",
              "      background-color: #434B5C;\n",
              "      box-shadow: 0px 1px 3px 1px rgba(0, 0, 0, 0.15);\n",
              "      filter: drop-shadow(0px 1px 2px rgba(0, 0, 0, 0.3));\n",
              "      fill: #FFFFFF;\n",
              "    }\n",
              "  </style>\n",
              "\n",
              "    <script>\n",
              "      const buttonEl =\n",
              "        document.querySelector('#df-378bda3d-edef-4b33-8af6-f6762db77e0d button.colab-df-convert');\n",
              "      buttonEl.style.display =\n",
              "        google.colab.kernel.accessAllowed ? 'block' : 'none';\n",
              "\n",
              "      async function convertToInteractive(key) {\n",
              "        const element = document.querySelector('#df-378bda3d-edef-4b33-8af6-f6762db77e0d');\n",
              "        const dataTable =\n",
              "          await google.colab.kernel.invokeFunction('convertToInteractive',\n",
              "                                                    [key], {});\n",
              "        if (!dataTable) return;\n",
              "\n",
              "        const docLinkHtml = 'Like what you see? Visit the ' +\n",
              "          '<a target=\"_blank\" href=https://colab.research.google.com/notebooks/data_table.ipynb>data table notebook</a>'\n",
              "          + ' to learn more about interactive tables.';\n",
              "        element.innerHTML = '';\n",
              "        dataTable['output_type'] = 'display_data';\n",
              "        await google.colab.output.renderOutput(dataTable, element);\n",
              "        const docLink = document.createElement('div');\n",
              "        docLink.innerHTML = docLinkHtml;\n",
              "        element.appendChild(docLink);\n",
              "      }\n",
              "    </script>\n",
              "  </div>\n",
              "\n",
              "\n",
              "    <div id=\"df-a3d0e9a7-7c75-4482-b4b7-18ab353bfcfb\">\n",
              "      <button class=\"colab-df-quickchart\" onclick=\"quickchart('df-a3d0e9a7-7c75-4482-b4b7-18ab353bfcfb')\"\n",
              "                title=\"Suggest charts\"\n",
              "                style=\"display:none;\">\n",
              "\n",
              "<svg xmlns=\"http://www.w3.org/2000/svg\" height=\"24px\"viewBox=\"0 0 24 24\"\n",
              "     width=\"24px\">\n",
              "    <g>\n",
              "        <path d=\"M19 3H5c-1.1 0-2 .9-2 2v14c0 1.1.9 2 2 2h14c1.1 0 2-.9 2-2V5c0-1.1-.9-2-2-2zM9 17H7v-7h2v7zm4 0h-2V7h2v10zm4 0h-2v-4h2v4z\"/>\n",
              "    </g>\n",
              "</svg>\n",
              "      </button>\n",
              "\n",
              "<style>\n",
              "  .colab-df-quickchart {\n",
              "      --bg-color: #E8F0FE;\n",
              "      --fill-color: #1967D2;\n",
              "      --hover-bg-color: #E2EBFA;\n",
              "      --hover-fill-color: #174EA6;\n",
              "      --disabled-fill-color: #AAA;\n",
              "      --disabled-bg-color: #DDD;\n",
              "  }\n",
              "\n",
              "  [theme=dark] .colab-df-quickchart {\n",
              "      --bg-color: #3B4455;\n",
              "      --fill-color: #D2E3FC;\n",
              "      --hover-bg-color: #434B5C;\n",
              "      --hover-fill-color: #FFFFFF;\n",
              "      --disabled-bg-color: #3B4455;\n",
              "      --disabled-fill-color: #666;\n",
              "  }\n",
              "\n",
              "  .colab-df-quickchart {\n",
              "    background-color: var(--bg-color);\n",
              "    border: none;\n",
              "    border-radius: 50%;\n",
              "    cursor: pointer;\n",
              "    display: none;\n",
              "    fill: var(--fill-color);\n",
              "    height: 32px;\n",
              "    padding: 0;\n",
              "    width: 32px;\n",
              "  }\n",
              "\n",
              "  .colab-df-quickchart:hover {\n",
              "    background-color: var(--hover-bg-color);\n",
              "    box-shadow: 0 1px 2px rgba(60, 64, 67, 0.3), 0 1px 3px 1px rgba(60, 64, 67, 0.15);\n",
              "    fill: var(--button-hover-fill-color);\n",
              "  }\n",
              "\n",
              "  .colab-df-quickchart-complete:disabled,\n",
              "  .colab-df-quickchart-complete:disabled:hover {\n",
              "    background-color: var(--disabled-bg-color);\n",
              "    fill: var(--disabled-fill-color);\n",
              "    box-shadow: none;\n",
              "  }\n",
              "\n",
              "  .colab-df-spinner {\n",
              "    border: 2px solid var(--fill-color);\n",
              "    border-color: transparent;\n",
              "    border-bottom-color: var(--fill-color);\n",
              "    animation:\n",
              "      spin 1s steps(1) infinite;\n",
              "  }\n",
              "\n",
              "  @keyframes spin {\n",
              "    0% {\n",
              "      border-color: transparent;\n",
              "      border-bottom-color: var(--fill-color);\n",
              "      border-left-color: var(--fill-color);\n",
              "    }\n",
              "    20% {\n",
              "      border-color: transparent;\n",
              "      border-left-color: var(--fill-color);\n",
              "      border-top-color: var(--fill-color);\n",
              "    }\n",
              "    30% {\n",
              "      border-color: transparent;\n",
              "      border-left-color: var(--fill-color);\n",
              "      border-top-color: var(--fill-color);\n",
              "      border-right-color: var(--fill-color);\n",
              "    }\n",
              "    40% {\n",
              "      border-color: transparent;\n",
              "      border-right-color: var(--fill-color);\n",
              "      border-top-color: var(--fill-color);\n",
              "    }\n",
              "    60% {\n",
              "      border-color: transparent;\n",
              "      border-right-color: var(--fill-color);\n",
              "    }\n",
              "    80% {\n",
              "      border-color: transparent;\n",
              "      border-right-color: var(--fill-color);\n",
              "      border-bottom-color: var(--fill-color);\n",
              "    }\n",
              "    90% {\n",
              "      border-color: transparent;\n",
              "      border-bottom-color: var(--fill-color);\n",
              "    }\n",
              "  }\n",
              "</style>\n",
              "\n",
              "      <script>\n",
              "        async function quickchart(key) {\n",
              "          const quickchartButtonEl =\n",
              "            document.querySelector('#' + key + ' button');\n",
              "          quickchartButtonEl.disabled = true;  // To prevent multiple clicks.\n",
              "          quickchartButtonEl.classList.add('colab-df-spinner');\n",
              "          try {\n",
              "            const charts = await google.colab.kernel.invokeFunction(\n",
              "                'suggestCharts', [key], {});\n",
              "          } catch (error) {\n",
              "            console.error('Error during call to suggestCharts:', error);\n",
              "          }\n",
              "          quickchartButtonEl.classList.remove('colab-df-spinner');\n",
              "          quickchartButtonEl.classList.add('colab-df-quickchart-complete');\n",
              "        }\n",
              "        (() => {\n",
              "          let quickchartButtonEl =\n",
              "            document.querySelector('#df-a3d0e9a7-7c75-4482-b4b7-18ab353bfcfb button');\n",
              "          quickchartButtonEl.style.display =\n",
              "            google.colab.kernel.accessAllowed ? 'block' : 'none';\n",
              "        })();\n",
              "      </script>\n",
              "    </div>\n",
              "\n",
              "    </div>\n",
              "  </div>\n"
            ],
            "application/vnd.google.colaboratory.intrinsic+json": {
              "type": "dataframe",
              "variable_name": "df",
              "summary": "{\n  \"name\": \"df\",\n  \"rows\": 8,\n  \"fields\": [\n    {\n      \"column\": \"ID\",\n      \"properties\": {\n        \"dtype\": \"number\",\n        \"std\": 293,\n        \"min\": 123,\n        \"max\": 999,\n        \"num_unique_values\": 8,\n        \"samples\": [\n          234,\n          678,\n          123\n        ],\n        \"semantic_type\": \"\",\n        \"description\": \"\"\n      }\n    },\n    {\n      \"column\": \"EDAD\",\n      \"properties\": {\n        \"dtype\": \"number\",\n        \"std\": 10,\n        \"min\": 31,\n        \"max\": 60,\n        \"num_unique_values\": 8,\n        \"samples\": [\n          52,\n          47,\n          36\n        ],\n        \"semantic_type\": \"\",\n        \"description\": \"\"\n      }\n    },\n    {\n      \"column\": \"INGRESOS\",\n      \"properties\": {\n        \"dtype\": \"number\",\n        \"std\": 2773,\n        \"min\": 1348,\n        \"max\": 9479,\n        \"num_unique_values\": 8,\n        \"samples\": [\n          9479,\n          7086,\n          1348\n        ],\n        \"semantic_type\": \"\",\n        \"description\": \"\"\n      }\n    },\n    {\n      \"column\": \"RIESGO\",\n      \"properties\": {\n        \"dtype\": \"string\",\n        \"num_unique_values\": 5,\n        \"samples\": [\n          \"B\",\n          \"E\",\n          \"C\"\n        ],\n        \"semantic_type\": \"\",\n        \"description\": \"\"\n      }\n    },\n    {\n      \"column\": \"LINEA_TC\",\n      \"properties\": {\n        \"dtype\": \"number\",\n        \"std\": 15481,\n        \"min\": 1485,\n        \"max\": 49924,\n        \"num_unique_values\": 8,\n        \"samples\": [\n          28454,\n          29157,\n          49924\n        ],\n        \"semantic_type\": \"\",\n        \"description\": \"\"\n      }\n    }\n  ]\n}"
            }
          },
          "metadata": {},
          "execution_count": 173
        }
      ]
    },
    {
      "cell_type": "code",
      "source": [
        "df.to_dict()"
      ],
      "metadata": {
        "colab": {
          "base_uri": "https://localhost:8080/"
        },
        "id": "FXmHokOjOhFe",
        "outputId": "eb5d7328-da71-4d90-9b30-bc9a18ada2e7"
      },
      "execution_count": null,
      "outputs": [
        {
          "output_type": "execute_result",
          "data": {
            "text/plain": [
              "{'ID': {0: 123, 1: 234, 2: 345, 3: 456, 4: 567, 5: 678, 6: 789, 7: 999},\n",
              " 'EDAD': {0: 36, 1: 52, 2: 60, 3: 40, 4: 58, 5: 47, 6: 31, 7: 42},\n",
              " 'INGRESOS': {0: 1348,\n",
              "  1: 9479,\n",
              "  2: 7511,\n",
              "  3: 7992,\n",
              "  4: 2675,\n",
              "  5: 7086,\n",
              "  6: 4704,\n",
              "  7: 6245},\n",
              " 'RIESGO': {0: 'A', 1: 'A', 2: 'B', 3: 'C', 4: 'C', 5: 'D', 6: 'E', 7: 'E'},\n",
              " 'LINEA_TC': {0: 49924,\n",
              "  1: 28454,\n",
              "  2: 14250,\n",
              "  3: 32064,\n",
              "  4: 1485,\n",
              "  5: 29157,\n",
              "  6: 14945,\n",
              "  7: 8798}}"
            ]
          },
          "metadata": {},
          "execution_count": 174
        }
      ]
    },
    {
      "cell_type": "markdown",
      "source": [
        "### [1] Crear un diccionario"
      ],
      "metadata": {
        "id": "k6NywJVEVanA"
      }
    },
    {
      "cell_type": "code",
      "source": [
        "# Lista vacía\n",
        "l_0 = []"
      ],
      "metadata": {
        "id": "NR0AU19DKgWf"
      },
      "execution_count": null,
      "outputs": []
    },
    {
      "cell_type": "code",
      "source": [
        "# Tupla vacía\n",
        "t_0 = ()"
      ],
      "metadata": {
        "id": "9_hWq0lzKlBd"
      },
      "execution_count": null,
      "outputs": []
    },
    {
      "cell_type": "code",
      "execution_count": null,
      "metadata": {
        "id": "A4keBXudVOG9"
      },
      "outputs": [],
      "source": [
        "# Diccionario vacío\n",
        "dc_0  = {}"
      ]
    },
    {
      "cell_type": "code",
      "source": [
        "type(dc_0) # objeto dict son diccionarios"
      ],
      "metadata": {
        "id": "k1XtCHJ9Voaz",
        "colab": {
          "base_uri": "https://localhost:8080/"
        },
        "outputId": "30d84d1a-c921-40de-8a6a-188030074209"
      },
      "execution_count": null,
      "outputs": [
        {
          "output_type": "execute_result",
          "data": {
            "text/plain": [
              "dict"
            ]
          },
          "metadata": {},
          "execution_count": 178
        }
      ]
    },
    {
      "cell_type": "code",
      "source": [
        "type(l_0) # objeto list es una lista"
      ],
      "metadata": {
        "id": "KTNSGZFDKvIf",
        "colab": {
          "base_uri": "https://localhost:8080/"
        },
        "outputId": "a1af160e-aa92-4688-e67d-755bbc88a3a7"
      },
      "execution_count": null,
      "outputs": [
        {
          "output_type": "execute_result",
          "data": {
            "text/plain": [
              "list"
            ]
          },
          "metadata": {},
          "execution_count": 179
        }
      ]
    },
    {
      "cell_type": "code",
      "source": [
        "type(t_0) # objeto tuple es una tupla"
      ],
      "metadata": {
        "id": "t2WwmeHlKvZ1",
        "colab": {
          "base_uri": "https://localhost:8080/"
        },
        "outputId": "962c2958-c517-47e6-f4d3-52e20afabd00"
      },
      "execution_count": null,
      "outputs": [
        {
          "output_type": "execute_result",
          "data": {
            "text/plain": [
              "tuple"
            ]
          },
          "metadata": {},
          "execution_count": 180
        }
      ]
    },
    {
      "cell_type": "code",
      "source": [
        "# Diccionarios pueden ser homogéneos\n",
        "# Considerar el concepto => clave:valor\n",
        "# Los valores son del mismo tipo (enteros)\n",
        "# Las claves son caracteres\n",
        "\n",
        "dc_1 = {\"a\":1,\n",
        "        \"b\":2,\n",
        "        \"c\":3\n",
        "        }\n",
        "\n",
        "print(f\"El diccionario es \\n{dc_1}\")"
      ],
      "metadata": {
        "id": "YF1FKhXbVw9k",
        "colab": {
          "base_uri": "https://localhost:8080/"
        },
        "outputId": "adbd1b3d-58c9-4982-9d68-2898381451f0"
      },
      "execution_count": null,
      "outputs": [
        {
          "output_type": "stream",
          "name": "stdout",
          "text": [
            "El diccionario es \n",
            "{'a': 1, 'b': 2, 'c': 3}\n"
          ]
        }
      ]
    },
    {
      "cell_type": "code",
      "source": [
        "type(dc_1)"
      ],
      "metadata": {
        "id": "xXF5KRfVLMlK",
        "colab": {
          "base_uri": "https://localhost:8080/"
        },
        "outputId": "90571f00-37ff-4196-c396-535d51d73925"
      },
      "execution_count": null,
      "outputs": [
        {
          "output_type": "execute_result",
          "data": {
            "text/plain": [
              "dict"
            ]
          },
          "metadata": {},
          "execution_count": 182
        }
      ]
    },
    {
      "cell_type": "code",
      "source": [
        "# Diccionarios pueden ser heterogéneos\n",
        "# Considerar el concepto => clave:valor\n",
        "# Los valores NO son del mismo tipo (valor1: diccionario, valor2: lista, valor3: tupla)\n",
        "# Las claves son caracteres\n",
        "dc_2 = {\"a\":{\"x\":100},\n",
        "        \"b\":[10,20,30],\n",
        "        \"c\":(1,2,3,4,5)\n",
        "        }\n",
        "print(f\"El diccionario es \\n{dc_2}\")"
      ],
      "metadata": {
        "id": "Ci64T0OkWc2K",
        "colab": {
          "base_uri": "https://localhost:8080/"
        },
        "outputId": "164ef285-3e54-4858-d6b0-61e4e982f3e4"
      },
      "execution_count": null,
      "outputs": [
        {
          "output_type": "stream",
          "name": "stdout",
          "text": [
            "El diccionario es \n",
            "{'a': {'x': 100}, 'b': [10, 20, 30], 'c': (1, 2, 3, 4, 5)}\n"
          ]
        }
      ]
    },
    {
      "cell_type": "code",
      "source": [
        "type(dc_2)"
      ],
      "metadata": {
        "id": "nlWLEL5WL3dl",
        "colab": {
          "base_uri": "https://localhost:8080/"
        },
        "outputId": "088dcb61-2727-4974-a411-d256c3faf14a"
      },
      "execution_count": null,
      "outputs": [
        {
          "output_type": "execute_result",
          "data": {
            "text/plain": [
              "dict"
            ]
          },
          "metadata": {},
          "execution_count": 184
        }
      ]
    },
    {
      "cell_type": "code",
      "source": [
        "# Diccionarios con claves repetidas\n",
        "# Las claves de los diccionarios son únicas\n",
        "dc_3 = {\"a\":100,\n",
        "        \"b\":200,\n",
        "        \"a\":300}\n",
        "type(dc_3)"
      ],
      "metadata": {
        "id": "dwzog2qpXCr7",
        "colab": {
          "base_uri": "https://localhost:8080/"
        },
        "outputId": "1af5378c-e02e-461f-a377-50867a080c1e"
      },
      "execution_count": null,
      "outputs": [
        {
          "output_type": "execute_result",
          "data": {
            "text/plain": [
              "dict"
            ]
          },
          "metadata": {},
          "execution_count": 185
        }
      ]
    },
    {
      "cell_type": "code",
      "source": [
        "print(f\"El diccionario dc_3 es \\n{dc_3}\")"
      ],
      "metadata": {
        "id": "-6VfrikSXcTH",
        "colab": {
          "base_uri": "https://localhost:8080/"
        },
        "outputId": "e8854b0c-536c-46ac-f967-b513945a113d"
      },
      "execution_count": null,
      "outputs": [
        {
          "output_type": "stream",
          "name": "stdout",
          "text": [
            "El diccionario dc_3 es \n",
            "{'a': 300, 'b': 200}\n"
          ]
        }
      ]
    },
    {
      "cell_type": "code",
      "source": [
        "# Diccionario: dict_info\n",
        "# Claves: nombre,apellido,edad,profesion\n",
        "# Valores: su información personal\n",
        "# Los valores son distinto tipo (cadenas, int) => diccionario heterogéneo\n",
        "dict_info = {\"nombre\":\"david\",\n",
        "             \"apellido\":\"allende\",\n",
        "             \"edad\":37,\n",
        "             \"profesion\":\"ingeniero\"\n",
        "             }\n",
        "\n",
        "print(f\"El diccionario con mi info personal es \\n{dict_info}\")"
      ],
      "metadata": {
        "id": "8BUx8ML7Xz57",
        "colab": {
          "base_uri": "https://localhost:8080/"
        },
        "outputId": "adf1dac7-d0e2-4f7d-9019-17ae2d5e881b"
      },
      "execution_count": null,
      "outputs": [
        {
          "output_type": "stream",
          "name": "stdout",
          "text": [
            "El diccionario con mi info personal es \n",
            "{'nombre': 'david', 'apellido': 'allende', 'edad': 37, 'profesion': 'ingeniero'}\n"
          ]
        }
      ]
    },
    {
      "cell_type": "code",
      "source": [
        "# Diccionario con claves numéricas\n",
        "\n",
        "dc_4 = {1:100,\n",
        "        2:200,\n",
        "        3:300\n",
        "        }\n",
        "type(dc_4)"
      ],
      "metadata": {
        "id": "0tDAAoxxZ2T_",
        "colab": {
          "base_uri": "https://localhost:8080/"
        },
        "outputId": "40ffb895-9667-4cab-b048-7007c0a975f8"
      },
      "execution_count": null,
      "outputs": [
        {
          "output_type": "execute_result",
          "data": {
            "text/plain": [
              "dict"
            ]
          },
          "metadata": {},
          "execution_count": 188
        }
      ]
    },
    {
      "cell_type": "code",
      "source": [
        "dc_4_ = {\n",
        "    1:100,\n",
        "    \"b\":200,\n",
        "    \"David\":\"profesor\"\n",
        "}\n",
        "\n",
        "type(dc_4_)"
      ],
      "metadata": {
        "colab": {
          "base_uri": "https://localhost:8080/"
        },
        "id": "SHATPptzVdtP",
        "outputId": "0fd780c9-8fc9-4e31-a51e-1865aac8a053"
      },
      "execution_count": null,
      "outputs": [
        {
          "output_type": "execute_result",
          "data": {
            "text/plain": [
              "dict"
            ]
          },
          "metadata": {},
          "execution_count": 189
        }
      ]
    },
    {
      "cell_type": "code",
      "source": [
        "# Diccionario con claves cadenas y valores numéricos\n",
        "\n",
        "dc_5 = {\"david\":10,\n",
        "        \"enzo\":20,\n",
        "        \"pedro\":30,\n",
        "        \"maria\":40,\n",
        "        \"andrea\":50\n",
        "        }\n",
        "\n",
        "type(dc_5)"
      ],
      "metadata": {
        "id": "aruFcE76aPLl",
        "colab": {
          "base_uri": "https://localhost:8080/"
        },
        "outputId": "c6331819-e3a5-4755-ef1a-4f5f08b13af9"
      },
      "execution_count": null,
      "outputs": [
        {
          "output_type": "execute_result",
          "data": {
            "text/plain": [
              "dict"
            ]
          },
          "metadata": {},
          "execution_count": 190
        }
      ]
    },
    {
      "cell_type": "code",
      "source": [
        "%whos"
      ],
      "metadata": {
        "id": "71iwo2yeamj1",
        "colab": {
          "base_uri": "https://localhost:8080/"
        },
        "outputId": "001fbd68-edc0-4150-cb5e-8d69c71c4534"
      },
      "execution_count": null,
      "outputs": [
        {
          "output_type": "stream",
          "name": "stdout",
          "text": [
            "Variable               Type           Data/Info\n",
            "-----------------------------------------------\n",
            "Counter                type           <class 'collections.Counter'>\n",
            "Image                  type           <class 'IPython.core.display.Image'>\n",
            "c                      str            Carla\n",
            "claves_dic_prod        dict_keys      dict_keys(['detergente', <...>eite', 'cereal', 'cafe'])\n",
            "copy                   module         <module 'copy' from '/usr<...>/lib/python3.11/copy.py'>\n",
            "dc_0                   dict           n=0\n",
            "dc_1                   dict           n=3\n",
            "dc_16                  dict           n=6\n",
            "dc_2                   dict           n=3\n",
            "dc_2_ele2              list           n=3\n",
            "dc_3                   dict           n=2\n",
            "dc_4                   dict           n=3\n",
            "dc_4_                  dict           n=3\n",
            "dc_5                   dict           n=5\n",
            "deep_copy              dict           n=2\n",
            "df                     DataFrame          ID  EDAD  INGRESOS RI<...>    6245      E      8798\n",
            "dic_jugadores          dict           n=7\n",
            "dic_prod               dict           n=5\n",
            "dic_universidades      dict           n=5\n",
            "dic_universidades_     dict           n=4\n",
            "diccionario_u          dict           n=2\n",
            "dict_info              dict           n=4\n",
            "dict_info_copy         dict           n=4\n",
            "display                function       <function display at 0x7d42498b9ee0>\n",
            "files                  module         <module 'google.colab.fil<...>s/google/colab/files.py'>\n",
            "frecuencia             Counter        Counter({'a': 3, 'n': 2, 'b': 1})\n",
            "items_dc_1             dict_items     dict_items([('a', 1), ('b', 2), ('c', 3)])\n",
            "items_dic_jugadores    dict_items     dict_items([('messi', 100<...> 10), ('Maradona', 111)])\n",
            "keys_dic_jugadores     dict_keys      dict_keys(['messi', 'cafu<...>ta', 'pele', 'Maradona'])\n",
            "l_0                    list           n=0\n",
            "l_dc_2                 list           n=3\n",
            "l_dc_2_0               list           n=2\n",
            "l_dc_5                 list           n=5\n",
            "l_dic_prod_keys        list           n=3\n",
            "l_estudiantes          list           n=3\n",
            "l_valores_dic_prod     list           n=4\n",
            "lista_universidades    list           n=5\n",
            "mi_diccionario         dict           n=6\n",
            "notas_estudiantes      dict           n=3\n",
            "original               dict           n=2\n",
            "par_1                  tuple          n=2\n",
            "par_2                  tuple          n=2\n",
            "pd                     module         <module 'pandas' from '/u<...>ages/pandas/__init__.py'>\n",
            "prod                   str            gaseosa\n",
            "referencia             dict           n=0\n",
            "shallow_copy           dict           n=2\n",
            "t_0                    tuple          n=0\n",
            "texto                  str            banana\n",
            "uploaded               dict           n=1\n",
            "v                      list           n=3\n",
            "valores_dic_prod       dict_values    dict_values([70, 20, 10, 15, 45])\n",
            "values_dic_jugadores   dict_values    dict_values([1000, 100, 5, 7, 8, 10, 111])\n"
          ]
        }
      ]
    },
    {
      "cell_type": "markdown",
      "source": [
        "### Actividad N028"
      ],
      "metadata": {
        "id": "UIO6ejzJ94Ko"
      }
    },
    {
      "cell_type": "markdown",
      "source": [
        "Crear un diccionario con la información de los 5 productos que compra con frecuencia en un supermercado.\n",
        "Considere las siguientes claves: ítem, cantidad, precio\n"
      ],
      "metadata": {
        "id": "Sbij3vTk9_-3"
      }
    },
    {
      "cell_type": "code",
      "source": [
        "dc_productos= {\"item\":['alfajor','manzana','aceite','detergente'],\n",
        "               \"cantidad\":[12,5,5,1],\n",
        "               \"precio\":[5,5,12,19]\n",
        "               }\n",
        "print(f\"Mi lista del super es \\n{dc_productos}\")\n",
        "print(f\"El tipo de objeto es \\n{type(dc_productos)}\")"
      ],
      "metadata": {
        "colab": {
          "base_uri": "https://localhost:8080/"
        },
        "id": "SWh2tDbY-Ec_",
        "outputId": "e677a138-480e-4775-a2d3-fba25d820481"
      },
      "execution_count": null,
      "outputs": [
        {
          "output_type": "stream",
          "name": "stdout",
          "text": [
            "Mi lista del super es \n",
            "{'item': ['alfajor', 'manzana', 'aceite', 'detergente'], 'cantidad': [12, 5, 5, 1], 'precio': [5, 5, 12, 19]}\n",
            "El tipo de objeto es \n",
            "<class 'dict'>\n"
          ]
        }
      ]
    },
    {
      "cell_type": "code",
      "source": [
        "dc_prod = {\"item\":1,\n",
        "        \"cantidad\":2,\n",
        "        \"nombre\":\"jabon\",\n",
        "        \"precio\":10,\n",
        "        \"descuento\":0.10\n",
        "        }\n",
        "print(f\"El diccionario de mis compras es \\n{dc_prod}\")"
      ],
      "metadata": {
        "id": "PFMoDRbPYP0Y"
      },
      "execution_count": null,
      "outputs": []
    },
    {
      "cell_type": "code",
      "source": [
        "productos = [{\"ítem\": \"Leche\", \"cantidad\": 2, \"precio\": 1.50},\n",
        " {\"ítem\": \"Pan\", \"cantidad\": 1, \"precio\": 1.00},\n",
        "  {\"ítem\": \"Huevos\", \"cantidad\": 1, \"precio\": 2.75},\n",
        "   {\"ítem\": \"Arroz\", \"cantidad\": 1, \"precio\": 3.20},\n",
        "    {\"ítem\": \"Manzanas\", \"cantidad\": 6, \"precio\": 0.40}]\n",
        "print(f\"El diccionario de productos es \\n{productos}\")"
      ],
      "metadata": {
        "colab": {
          "base_uri": "https://localhost:8080/"
        },
        "id": "sEPoorZsZAWM",
        "outputId": "8543bfae-d56e-48c1-bb17-ade3687e113d"
      },
      "execution_count": null,
      "outputs": [
        {
          "output_type": "stream",
          "name": "stdout",
          "text": [
            "El diccionario de productos es \n",
            "[{'ítem': 'Leche', 'cantidad': 2, 'precio': 1.5}, {'ítem': 'Pan', 'cantidad': 1, 'precio': 1.0}, {'ítem': 'Huevos', 'cantidad': 1, 'precio': 2.75}, {'ítem': 'Arroz', 'cantidad': 1, 'precio': 3.2}, {'ítem': 'Manzanas', 'cantidad': 6, 'precio': 0.4}]\n"
          ]
        }
      ]
    },
    {
      "cell_type": "code",
      "source": [
        "type(productos)"
      ],
      "metadata": {
        "colab": {
          "base_uri": "https://localhost:8080/"
        },
        "id": "066Dp6CSZNzM",
        "outputId": "01f049d0-14e5-4d2b-9aef-21438ecd101d"
      },
      "execution_count": null,
      "outputs": [
        {
          "output_type": "execute_result",
          "data": {
            "text/plain": [
              "list"
            ]
          },
          "metadata": {},
          "execution_count": 196
        }
      ]
    },
    {
      "cell_type": "markdown",
      "source": [
        "### [2] Acceder a los elementos de un diccionario"
      ],
      "metadata": {
        "id": "6_dWiA99a4oy"
      }
    },
    {
      "cell_type": "code",
      "source": [
        "print(f\"El diccionario con mi info personal es \\n{dict_info}\")"
      ],
      "metadata": {
        "id": "BGZExoDTascp",
        "colab": {
          "base_uri": "https://localhost:8080/"
        },
        "outputId": "48b74a97-31fa-4c6d-97e8-50bb3f01a97f"
      },
      "execution_count": null,
      "outputs": [
        {
          "output_type": "stream",
          "name": "stdout",
          "text": [
            "El diccionario con mi info personal es \n",
            "{'nombre': 'david', 'apellido': 'allende', 'edad': 37, 'profesion': 'ingeniero'}\n"
          ]
        }
      ]
    },
    {
      "cell_type": "code",
      "source": [
        "dict_info[\"edad\"] # A través de la clave accedo al valor (la clave está entre comillas dobles)"
      ],
      "metadata": {
        "id": "bKn82Z59bfdz",
        "colab": {
          "base_uri": "https://localhost:8080/"
        },
        "outputId": "34dcb8fe-3b8f-4eca-eb6d-875f5d14d04e"
      },
      "execution_count": null,
      "outputs": [
        {
          "output_type": "execute_result",
          "data": {
            "text/plain": [
              "37"
            ]
          },
          "metadata": {},
          "execution_count": 198
        }
      ]
    },
    {
      "cell_type": "code",
      "source": [
        "dict_info['edad'] # A través de la clave accedo al valor (la clave está entre comillas simples)"
      ],
      "metadata": {
        "id": "ArGCSPqsb1En",
        "colab": {
          "base_uri": "https://localhost:8080/"
        },
        "outputId": "b707e22c-a1a1-456a-f337-d6df18a977c5"
      },
      "execution_count": null,
      "outputs": [
        {
          "output_type": "execute_result",
          "data": {
            "text/plain": [
              "37"
            ]
          },
          "metadata": {},
          "execution_count": 199
        }
      ]
    },
    {
      "cell_type": "code",
      "source": [
        "dict_info[0] # Es incorrecto"
      ],
      "metadata": {
        "id": "dJMD5crmPRfm",
        "colab": {
          "base_uri": "https://localhost:8080/",
          "height": 144
        },
        "outputId": "69cb84e3-ec28-425b-f245-803b6bf74e11"
      },
      "execution_count": null,
      "outputs": [
        {
          "output_type": "error",
          "ename": "KeyError",
          "evalue": "0",
          "traceback": [
            "\u001b[0;31m---------------------------------------------------------------------------\u001b[0m",
            "\u001b[0;31mKeyError\u001b[0m                                  Traceback (most recent call last)",
            "\u001b[0;32m<ipython-input-200-fd173a0db1b4>\u001b[0m in \u001b[0;36m<cell line: 0>\u001b[0;34m()\u001b[0m\n\u001b[0;32m----> 1\u001b[0;31m \u001b[0mdict_info\u001b[0m\u001b[0;34m[\u001b[0m\u001b[0;36m0\u001b[0m\u001b[0;34m]\u001b[0m \u001b[0;31m# Es incorrecto\u001b[0m\u001b[0;34m\u001b[0m\u001b[0;34m\u001b[0m\u001b[0m\n\u001b[0m",
            "\u001b[0;31mKeyError\u001b[0m: 0"
          ]
        }
      ]
    },
    {
      "cell_type": "code",
      "source": [
        "print(f\"La edad de la persona es {dict_info['edad']} años\")"
      ],
      "metadata": {
        "id": "6CxnpIC9bDW8",
        "colab": {
          "base_uri": "https://localhost:8080/"
        },
        "outputId": "6bd29219-a92f-427d-aab3-8d94d74b650a"
      },
      "execution_count": null,
      "outputs": [
        {
          "output_type": "stream",
          "name": "stdout",
          "text": [
            "La edad de la persona es 37 años\n"
          ]
        }
      ]
    },
    {
      "cell_type": "code",
      "source": [
        "print(f\"La profesión de la persona es {dict_info['profesion']}\")"
      ],
      "metadata": {
        "id": "zYVHEpvxbZED",
        "colab": {
          "base_uri": "https://localhost:8080/"
        },
        "outputId": "d4955d99-de88-4241-ae4b-24a4a392e144"
      },
      "execution_count": null,
      "outputs": [
        {
          "output_type": "stream",
          "name": "stdout",
          "text": [
            "La profesión de la persona es ingeniero\n"
          ]
        }
      ]
    },
    {
      "cell_type": "code",
      "source": [
        "print(f\"El diccionario es \\n{dc_2}\")"
      ],
      "metadata": {
        "id": "lpprzK1XcPvL",
        "colab": {
          "base_uri": "https://localhost:8080/"
        },
        "outputId": "df61dbd9-52ca-4b28-ba1d-98e6636d3280"
      },
      "execution_count": null,
      "outputs": [
        {
          "output_type": "stream",
          "name": "stdout",
          "text": [
            "El diccionario es \n",
            "{'a': {'x': 100}, 'b': [10, 20, 30], 'c': (1, 2, 3, 4, 5)}\n"
          ]
        }
      ]
    },
    {
      "cell_type": "code",
      "source": [
        "dc_2[\"a\"][\"x\"]"
      ],
      "metadata": {
        "colab": {
          "base_uri": "https://localhost:8080/"
        },
        "id": "qpH60-aibpoY",
        "outputId": "e63d8704-f042-4330-9780-9c1bf37ea536"
      },
      "execution_count": null,
      "outputs": [
        {
          "output_type": "execute_result",
          "data": {
            "text/plain": [
              "100"
            ]
          },
          "metadata": {},
          "execution_count": 205
        }
      ]
    },
    {
      "cell_type": "code",
      "source": [
        "print(f\"El primer elemento del diccionario es \\n{dc_2['a']}\")"
      ],
      "metadata": {
        "id": "BucuCWHAcpR6",
        "colab": {
          "base_uri": "https://localhost:8080/"
        },
        "outputId": "e5c3591b-0992-41db-db87-f496f2780e9a"
      },
      "execution_count": null,
      "outputs": [
        {
          "output_type": "stream",
          "name": "stdout",
          "text": [
            "El primer elemento del diccionario es \n",
            "{'x': 100}\n"
          ]
        }
      ]
    },
    {
      "cell_type": "code",
      "source": [
        "print(f\"El primer elemento del diccionario es del tipo \\n{type(dc_2['a'])}\")"
      ],
      "metadata": {
        "id": "4hUV-47hc7kE",
        "colab": {
          "base_uri": "https://localhost:8080/"
        },
        "outputId": "a000e522-63e2-49a8-e29c-7d753d57b466"
      },
      "execution_count": null,
      "outputs": [
        {
          "output_type": "stream",
          "name": "stdout",
          "text": [
            "El primer elemento del diccionario es del tipo \n",
            "<class 'dict'>\n"
          ]
        }
      ]
    },
    {
      "cell_type": "code",
      "source": [
        "print(f\"El segundo elemento del diccionario es \\n{dc_2['b']}\")"
      ],
      "metadata": {
        "id": "hJVsSDn1dUVI",
        "colab": {
          "base_uri": "https://localhost:8080/"
        },
        "outputId": "ac4b2153-187c-4e16-87d6-4c63c6596940"
      },
      "execution_count": null,
      "outputs": [
        {
          "output_type": "stream",
          "name": "stdout",
          "text": [
            "El segundo elemento del diccionario es \n",
            "[10, 20, 30]\n"
          ]
        }
      ]
    },
    {
      "cell_type": "code",
      "source": [
        "print(f\"El segundo elemento del diccionario es del tipo \\n{type(dc_2['b'])}\")"
      ],
      "metadata": {
        "id": "rvg03ysAcxjW",
        "colab": {
          "base_uri": "https://localhost:8080/"
        },
        "outputId": "c366a4fa-ab8a-4e8f-f797-ae426672a1e9"
      },
      "execution_count": null,
      "outputs": [
        {
          "output_type": "stream",
          "name": "stdout",
          "text": [
            "El segundo elemento del diccionario es del tipo \n",
            "<class 'list'>\n"
          ]
        }
      ]
    },
    {
      "cell_type": "code",
      "source": [
        "print(f\"El tercer elemento del diccionario es \\n{dc_2['c']}\")"
      ],
      "metadata": {
        "id": "rYo67GZsRSuI",
        "colab": {
          "base_uri": "https://localhost:8080/"
        },
        "outputId": "3771dea6-5e0d-4006-953d-05fb2612fc73"
      },
      "execution_count": null,
      "outputs": [
        {
          "output_type": "stream",
          "name": "stdout",
          "text": [
            "El tercer elemento del diccionario es \n",
            "(1, 2, 3, 4, 5)\n"
          ]
        }
      ]
    },
    {
      "cell_type": "code",
      "source": [
        "print(f\"El tercer elemento del diccionario es del tipo \\n{type(dc_2['c'])}\")"
      ],
      "metadata": {
        "id": "cnCIrNp-RYj4",
        "colab": {
          "base_uri": "https://localhost:8080/"
        },
        "outputId": "21fa8e7c-eca9-4575-e229-5a48ebe2a278"
      },
      "execution_count": null,
      "outputs": [
        {
          "output_type": "stream",
          "name": "stdout",
          "text": [
            "El tercer elemento del diccionario es del tipo \n",
            "<class 'tuple'>\n"
          ]
        }
      ]
    },
    {
      "cell_type": "code",
      "source": [
        "# Pasos\n",
        "#########\n",
        "\n",
        "# Paso 1: Accedo al segundo elemento del diccionario y lo almaceno en la variable \"dc_2_ele2\"\n",
        "dc_2_ele2 = dc_2['b']\n",
        "print(f\"El segundo elemento del diccionario es \\n{dc_2_ele2}\")"
      ],
      "metadata": {
        "id": "AHjDdumjc4gw",
        "colab": {
          "base_uri": "https://localhost:8080/"
        },
        "outputId": "d86929ec-52f4-4382-dc6c-2204cdc301f6"
      },
      "execution_count": null,
      "outputs": [
        {
          "output_type": "stream",
          "name": "stdout",
          "text": [
            "El segundo elemento del diccionario es \n",
            "[10, 20, 30]\n"
          ]
        }
      ]
    },
    {
      "cell_type": "code",
      "source": [
        "# Paso 2: Validamos el tipo de dato (lista)\n",
        "type(dc_2_ele2)"
      ],
      "metadata": {
        "id": "o237nzcLJJiz",
        "colab": {
          "base_uri": "https://localhost:8080/"
        },
        "outputId": "8ad216de-e0ea-44bc-f04e-bdb7991dbebe"
      },
      "execution_count": null,
      "outputs": [
        {
          "output_type": "execute_result",
          "data": {
            "text/plain": [
              "list"
            ]
          },
          "metadata": {},
          "execution_count": 213
        }
      ]
    },
    {
      "cell_type": "code",
      "source": [
        "# Paso 3: Accedemos al último elemento de la lista\n",
        "dc_2_ele2[-1]"
      ],
      "metadata": {
        "id": "sp6qOqxvR7y0",
        "colab": {
          "base_uri": "https://localhost:8080/"
        },
        "outputId": "ec9d4a30-9417-4da5-cc86-3a4e7a3ea32d"
      },
      "execution_count": null,
      "outputs": [
        {
          "output_type": "execute_result",
          "data": {
            "text/plain": [
              "30"
            ]
          },
          "metadata": {},
          "execution_count": 214
        }
      ]
    },
    {
      "cell_type": "code",
      "source": [
        "dc_2['b'][-1]"
      ],
      "metadata": {
        "colab": {
          "base_uri": "https://localhost:8080/"
        },
        "id": "PzK3H-e9cST3",
        "outputId": "62758e1d-d39e-470d-81a4-4461f77d7fb0"
      },
      "execution_count": null,
      "outputs": [
        {
          "output_type": "execute_result",
          "data": {
            "text/plain": [
              "30"
            ]
          },
          "metadata": {},
          "execution_count": 215
        }
      ]
    },
    {
      "cell_type": "code",
      "source": [
        "## Todo en un solo paso\n",
        "\n",
        "print(f\"El último elemento de la clave b del diccionario es \\n{dc_2['b'][-1]}\")"
      ],
      "metadata": {
        "id": "ZjtmCrqeSCJT",
        "colab": {
          "base_uri": "https://localhost:8080/"
        },
        "outputId": "48ac8556-4232-4eb4-92a8-0760e6908ec4"
      },
      "execution_count": null,
      "outputs": [
        {
          "output_type": "stream",
          "name": "stdout",
          "text": [
            "El último elemento de la clave b del diccionario es \n",
            "30\n"
          ]
        }
      ]
    },
    {
      "cell_type": "code",
      "source": [
        "print(f\"El diccionario con claves y valores numéricos: \\n{dc_4}\")"
      ],
      "metadata": {
        "id": "BckLuTKXS0yu",
        "colab": {
          "base_uri": "https://localhost:8080/"
        },
        "outputId": "782cfd72-b342-49b9-c1c8-86f153ef48ec"
      },
      "execution_count": null,
      "outputs": [
        {
          "output_type": "stream",
          "name": "stdout",
          "text": [
            "El diccionario con claves y valores numéricos: \n",
            "{1: 100, 2: 200, 3: 300}\n"
          ]
        }
      ]
    },
    {
      "cell_type": "code",
      "source": [
        "print(f\"El primer elemento del diccionario es {dc_4[1]}\")"
      ],
      "metadata": {
        "id": "97XAYVx3TJgI"
      },
      "execution_count": null,
      "outputs": []
    },
    {
      "cell_type": "code",
      "source": [
        "print(f\"El segundo elemento del diccionario es {dc_4[2]}\")"
      ],
      "metadata": {
        "id": "qTq1y0fyT1vX"
      },
      "execution_count": null,
      "outputs": []
    },
    {
      "cell_type": "code",
      "source": [
        "print(f\"El tercer elemento del diccionario es {dc_4[3]}\")"
      ],
      "metadata": {
        "id": "a_iejp25T8xC"
      },
      "execution_count": null,
      "outputs": []
    },
    {
      "cell_type": "code",
      "source": [
        "print(f\"El diccionario con claves que son cadenas y valores numéricos: \\n{dc_5}\")"
      ],
      "metadata": {
        "id": "RZhPHoaZUC_P"
      },
      "execution_count": null,
      "outputs": []
    },
    {
      "cell_type": "code",
      "source": [
        "print(f\"El valor de la clave 'pedro' es {dc_5['pedro']}\")"
      ],
      "metadata": {
        "id": "WCGNeGB4UcGR"
      },
      "execution_count": null,
      "outputs": []
    },
    {
      "cell_type": "markdown",
      "source": [
        "### Actividad N029"
      ],
      "metadata": {
        "id": "Q5KYOhzZC1gF"
      }
    },
    {
      "cell_type": "markdown",
      "source": [
        "Acceder al último valor del diccionario productos, creado en la actividad #028."
      ],
      "metadata": {
        "id": "MgLXBd87C4iV"
      }
    },
    {
      "cell_type": "code",
      "source": [],
      "metadata": {
        "id": "6frbxgb3C80i"
      },
      "execution_count": null,
      "outputs": []
    },
    {
      "cell_type": "markdown",
      "source": [
        "### [3] Método items()"
      ],
      "metadata": {
        "id": "7vEjjE4OV6kz"
      }
    },
    {
      "cell_type": "code",
      "source": [
        "%whos"
      ],
      "metadata": {
        "id": "QGQOYovTVNTX"
      },
      "execution_count": null,
      "outputs": []
    },
    {
      "cell_type": "code",
      "source": [
        "dc_1 # Diccionario con claves (caracteres): valores (numéricos)"
      ],
      "metadata": {
        "id": "6TiEVLYLWJep"
      },
      "execution_count": null,
      "outputs": []
    },
    {
      "cell_type": "code",
      "source": [
        "# Almacenar todos los pares clave : valor del diccionario \"dc_1\"\n",
        "items_dc_1 = dc_1.items()"
      ],
      "metadata": {
        "id": "Y16iFKrTWNVL"
      },
      "execution_count": null,
      "outputs": []
    },
    {
      "cell_type": "code",
      "source": [
        "print(f\"Todos los pares clave:valor del diccionario \\n{items_dc_1}\")"
      ],
      "metadata": {
        "id": "_QCT3CpQW8Va"
      },
      "execution_count": null,
      "outputs": []
    },
    {
      "cell_type": "code",
      "source": [
        "for c,v in dc_1.items():\n",
        "  print(f\"La clave {c}, tiene el valor {v}\")"
      ],
      "metadata": {
        "id": "-QvVyDZ7XEsd"
      },
      "execution_count": null,
      "outputs": []
    },
    {
      "cell_type": "code",
      "source": [
        "for c,v in dc_5.items():\n",
        "  print(f\"La clave {c}, tiene el valor {v}\")"
      ],
      "metadata": {
        "id": "hT5l2cZaYcQc"
      },
      "execution_count": null,
      "outputs": []
    },
    {
      "cell_type": "code",
      "source": [
        "# Crear una lista a partir del método items\n",
        "l_dc_5 = list(dc_5.items())\n",
        "print(f\"La lista creada a partir del método items es \\n{l_dc_5}\")"
      ],
      "metadata": {
        "id": "B1Zw-xrFYoyy"
      },
      "execution_count": null,
      "outputs": []
    },
    {
      "cell_type": "code",
      "source": [
        "# Acceder al último elemento de la lista y mostrar el tipo de dato resultante\n",
        "print(f\"El último elemeno de la lista es {l_dc_5[4]}\")\n",
        "print(f\"El tipo de dato del último elemeno de la lista es {type(l_dc_5[4])}\")\n"
      ],
      "metadata": {
        "id": "gqH7e4-4ZkTs"
      },
      "execution_count": null,
      "outputs": []
    },
    {
      "cell_type": "code",
      "source": [
        "print(f\"El diccionario con valores de distinto tipo \\n{dc_2}\")"
      ],
      "metadata": {
        "id": "_JoLHUT-aG1C"
      },
      "execution_count": null,
      "outputs": []
    },
    {
      "cell_type": "code",
      "source": [
        "dc_2['b'][-1] = 300"
      ],
      "metadata": {
        "id": "e2BkS0DTgDFC"
      },
      "execution_count": null,
      "outputs": []
    },
    {
      "cell_type": "code",
      "source": [
        "print(f\"El diccionario actualizado con valores de distinto tipo \\n{dc_2}\")"
      ],
      "metadata": {
        "id": "ZU23MGB4gUhg"
      },
      "execution_count": null,
      "outputs": []
    },
    {
      "cell_type": "code",
      "source": [
        "# Actividad\n",
        "\n",
        "# El diccionario dc_2 lo vamos a convertir a una lista con elementos que tendrán\n",
        "# pares a nivel de tuplas que contengan la clave y valor del diccionario\n",
        "\n",
        "l_dc_2 = list(dc_2.items())\n",
        "print(f\"La lista creada es \\n{l_dc_2}\")\n",
        "\n",
        "# Acceder a la primera tupla y la vamos a convertir en una lista\n",
        "\n",
        "print(f\"\\nEl primer elemento de la nueva lista es {l_dc_2[0]}\")\n",
        "print(f\"El tipo de dato del primer elemento de la nueva lista es {type(l_dc_2[0])}\")\n",
        "\n",
        "l_dc_2_0 = list(l_dc_2[0])\n",
        "print(f\"\\nLa nueva lista creada es {l_dc_2_0}\")\n",
        "print(f\"La nueva lista creada es del tipo {type(l_dc_2_0)}\")\n",
        "\n",
        "# Y vamos a renombrar al primer elemento de nueva lista en \"xx\" en vez de \"a\"\n",
        "l_dc_2_0[0] = \"xx\"\n",
        "print(f\"\\nLa nueva lista actualizada es {l_dc_2_0}\")\n"
      ],
      "metadata": {
        "id": "J_Y34P-Ngdpe"
      },
      "execution_count": null,
      "outputs": []
    },
    {
      "cell_type": "markdown",
      "source": [
        "### Actividad N030"
      ],
      "metadata": {
        "id": "hw4bGsmFDAa1"
      }
    },
    {
      "cell_type": "markdown",
      "source": [
        "Acceder a todos los pares clave valor del diccionario creado en la actividad #28"
      ],
      "metadata": {
        "id": "cX2sP-n3DDU7"
      }
    },
    {
      "cell_type": "code",
      "source": [],
      "metadata": {
        "id": "UX7WdSO6DJo0"
      },
      "execution_count": null,
      "outputs": []
    },
    {
      "cell_type": "markdown",
      "source": [
        "### [4] Método clear()"
      ],
      "metadata": {
        "id": "ogSMt8cllaY9"
      }
    },
    {
      "cell_type": "code",
      "source": [
        "%whos"
      ],
      "metadata": {
        "id": "pYRX2vjijN_Y"
      },
      "execution_count": null,
      "outputs": []
    },
    {
      "cell_type": "code",
      "source": [
        "print(f\"El diccionario con información personal es \\n{dict_info}\")"
      ],
      "metadata": {
        "id": "Ntvm665TlkwO"
      },
      "execution_count": null,
      "outputs": []
    },
    {
      "cell_type": "code",
      "source": [
        "dict_info.clear()\n",
        "print(f\"El diccionario con información personal es \\n{dict_info}\")"
      ],
      "metadata": {
        "id": "JK2sPbCCltSw"
      },
      "execution_count": null,
      "outputs": []
    },
    {
      "cell_type": "code",
      "source": [
        "print(f\"El diccionario 'dc_3' es \\n{dc_3}\")"
      ],
      "metadata": {
        "id": "Qmwdb8Orl14-"
      },
      "execution_count": null,
      "outputs": []
    },
    {
      "cell_type": "code",
      "source": [
        "# Crear al diccionario 'referencia'\n",
        "referencia = dc_3\n",
        "print(f\"El diccionario referencia es \\n{referencia}\")"
      ],
      "metadata": {
        "id": "Su_iug2GmOgY"
      },
      "execution_count": null,
      "outputs": []
    },
    {
      "cell_type": "code",
      "source": [
        "dc_3.clear()"
      ],
      "metadata": {
        "id": "HQtqCLB-mcli"
      },
      "execution_count": null,
      "outputs": []
    },
    {
      "cell_type": "code",
      "source": [
        "print(f\"El diccionario 'dc_3' es \\n{dc_3}\")"
      ],
      "metadata": {
        "id": "PmtmpEikmyyL"
      },
      "execution_count": null,
      "outputs": []
    },
    {
      "cell_type": "code",
      "source": [
        "print(f\"El diccionario referencia es \\n{referencia}\")"
      ],
      "metadata": {
        "id": "YbuGzlcbm1Et"
      },
      "execution_count": null,
      "outputs": []
    },
    {
      "cell_type": "markdown",
      "source": [
        "### [5] Crear una copia de un diccionario"
      ],
      "metadata": {
        "id": "HwikSSi4FsZF"
      }
    },
    {
      "cell_type": "code",
      "source": [
        "original = {\n",
        "    \"nombre\": \"David\",\n",
        "    \"hobbies\": [\"artes marciales\",\"música\",\"lectura\"]\n",
        "}\n",
        "\n",
        "print(f\"El diccionario original es \\n{original}\")"
      ],
      "metadata": {
        "id": "EYuZ1EcXFx8B"
      },
      "execution_count": null,
      "outputs": []
    },
    {
      "cell_type": "code",
      "source": [
        "# Copia Simple\n",
        "shallow_copy = original.copy()"
      ],
      "metadata": {
        "id": "GZJk_fTbGRWv"
      },
      "execution_count": null,
      "outputs": []
    },
    {
      "cell_type": "code",
      "source": [
        "print(f\"El diccionario copiado es \\n{shallow_copy}\")"
      ],
      "metadata": {
        "id": "a8R1Cqq4Gd1o"
      },
      "execution_count": null,
      "outputs": []
    },
    {
      "cell_type": "code",
      "source": [
        "# Copia Profunda\n",
        "import copy\n",
        "\n",
        "deep_copy = copy.deepcopy(original)"
      ],
      "metadata": {
        "id": "2B4cHCLkGjMA"
      },
      "execution_count": null,
      "outputs": []
    },
    {
      "cell_type": "code",
      "source": [
        "print(f\"El diccionario copiado es \\n{deep_copy}\")"
      ],
      "metadata": {
        "id": "yYpeh92vG5sd"
      },
      "execution_count": null,
      "outputs": []
    },
    {
      "cell_type": "code",
      "source": [
        "# Modificamos los diccionarios\n",
        "\n",
        "type(shallow_copy[\"hobbies\"])"
      ],
      "metadata": {
        "id": "vv7DD8h2HKp-"
      },
      "execution_count": null,
      "outputs": []
    },
    {
      "cell_type": "code",
      "source": [
        "shallow_copy[\"hobbies\"]"
      ],
      "metadata": {
        "id": "AqvXoaeDHfhK"
      },
      "execution_count": null,
      "outputs": []
    },
    {
      "cell_type": "code",
      "source": [
        "shallow_copy[\"hobbies\"].append(\"caminata\")\n",
        "print(f\"El diccionario copiado es \\n{shallow_copy}\")"
      ],
      "metadata": {
        "id": "fujWFfAeHjIC"
      },
      "execution_count": null,
      "outputs": []
    },
    {
      "cell_type": "code",
      "source": [
        "deep_copy[\"hobbies\"].append(\"natación\")\n",
        "print(f\"El diccionario copiado es \\n{deep_copy}\")"
      ],
      "metadata": {
        "id": "kERLWgUhHyul"
      },
      "execution_count": null,
      "outputs": []
    },
    {
      "cell_type": "code",
      "source": [
        "print(f\"El diccionario original es \\n{original}\")\n",
        "print(f\"\\nEl diccionario copiado con el método copy es \\n{shallow_copy}\")\n",
        "print(f\"\\nEl diccionario copiado con el método deepcopy es \\n{deep_copy}\")"
      ],
      "metadata": {
        "id": "aZOSA0d5IKFq"
      },
      "execution_count": null,
      "outputs": []
    },
    {
      "cell_type": "markdown",
      "source": [
        "### Actividad N031"
      ],
      "metadata": {
        "id": "5jCOQ32-KQfO"
      }
    },
    {
      "cell_type": "markdown",
      "source": [
        "Crear una copia del diccionario dict_info y renombrarlo como dict_info_copy, en el diccionario dict_info_copy cambiar el valor de la profesion por otra."
      ],
      "metadata": {
        "id": "eTpaqiH3KTrT"
      }
    },
    {
      "cell_type": "code",
      "source": [],
      "metadata": {
        "id": "jki_nKQuKUAt"
      },
      "execution_count": null,
      "outputs": []
    },
    {
      "cell_type": "markdown",
      "source": [
        "### [6] Método keys()"
      ],
      "metadata": {
        "id": "03iRQ6gWnHYs"
      }
    },
    {
      "cell_type": "code",
      "source": [
        "# Crear un diccionario\n",
        "\n",
        "dic_prod = {\n",
        "    \"detergente\":70,\n",
        "    \"arroz\": 20,\n",
        "    \"aceite\":10\n",
        "}\n",
        "\n",
        "print(f\"El diccionario de productos es \\n{dic_prod}\")"
      ],
      "metadata": {
        "id": "6sVAJQlem7Je",
        "colab": {
          "base_uri": "https://localhost:8080/"
        },
        "outputId": "b5fe53f9-362b-4e31-c164-44cba206ec62"
      },
      "execution_count": 1,
      "outputs": [
        {
          "output_type": "stream",
          "name": "stdout",
          "text": [
            "El diccionario de productos es \n",
            "{'detergente': 70, 'arroz': 20, 'aceite': 10}\n"
          ]
        }
      ]
    },
    {
      "cell_type": "code",
      "source": [
        "dic_prod.items()"
      ],
      "metadata": {
        "colab": {
          "base_uri": "https://localhost:8080/"
        },
        "id": "896Eap5XfkSW",
        "outputId": "c3896426-aa2b-4a8f-f618-99249e088a03"
      },
      "execution_count": 6,
      "outputs": [
        {
          "output_type": "execute_result",
          "data": {
            "text/plain": [
              "dict_items([('detergente', 70), ('arroz', 20), ('aceite', 10)])"
            ]
          },
          "metadata": {},
          "execution_count": 6
        }
      ]
    },
    {
      "cell_type": "code",
      "source": [
        "dic_prod.keys() # Este es un objetivo dict_keys, no es una lista."
      ],
      "metadata": {
        "id": "7-jVJjtGnica",
        "colab": {
          "base_uri": "https://localhost:8080/"
        },
        "outputId": "81acbe4f-0699-4d87-ed4f-2003efb0a4a2"
      },
      "execution_count": 2,
      "outputs": [
        {
          "output_type": "execute_result",
          "data": {
            "text/plain": [
              "dict_keys(['detergente', 'arroz', 'aceite'])"
            ]
          },
          "metadata": {},
          "execution_count": 2
        }
      ]
    },
    {
      "cell_type": "code",
      "source": [
        "type(dic_prod.keys())"
      ],
      "metadata": {
        "colab": {
          "base_uri": "https://localhost:8080/"
        },
        "id": "OEavycYHfxyv",
        "outputId": "e70203ff-ff68-4083-dda7-5e1f54257cde"
      },
      "execution_count": 8,
      "outputs": [
        {
          "output_type": "execute_result",
          "data": {
            "text/plain": [
              "dict_keys"
            ]
          },
          "metadata": {},
          "execution_count": 8
        }
      ]
    },
    {
      "cell_type": "code",
      "source": [
        "l_dic_prod_keys = list(dic_prod.keys()) # Convierto el objeto dict_keys en una lista.\n",
        "print(f\"La lista de claves del diccionario productos \\n{l_dic_prod_keys}\")"
      ],
      "metadata": {
        "id": "AdzjPzBmnutF",
        "colab": {
          "base_uri": "https://localhost:8080/"
        },
        "outputId": "9f56380a-94cd-4848-99c2-92cceef49108"
      },
      "execution_count": 3,
      "outputs": [
        {
          "output_type": "stream",
          "name": "stdout",
          "text": [
            "La lista de claves del diccionario productos \n",
            "['detergente', 'arroz', 'aceite']\n"
          ]
        }
      ]
    },
    {
      "cell_type": "code",
      "source": [
        "# Estamos desacoplando el objeto dict_keys\n",
        "for c in dic_prod.keys():\n",
        "  print(f\"La clave es {c}\")"
      ],
      "metadata": {
        "id": "zKOJBoC0oKyG",
        "colab": {
          "base_uri": "https://localhost:8080/"
        },
        "outputId": "94a4ffc6-261d-4c11-9155-08d7bd9d178d"
      },
      "execution_count": 4,
      "outputs": [
        {
          "output_type": "stream",
          "name": "stdout",
          "text": [
            "La clave es detergente\n",
            "La clave es arroz\n",
            "La clave es aceite\n"
          ]
        }
      ]
    },
    {
      "cell_type": "code",
      "source": [
        "# Estamos desacoplando la lista que viene del objeto dict_keys\n",
        "for c in l_dic_prod_keys:\n",
        "  print(f\"La clave es {c}\")"
      ],
      "metadata": {
        "id": "qKL_0Vz8oZjP",
        "colab": {
          "base_uri": "https://localhost:8080/"
        },
        "outputId": "fbce273f-7d62-4a89-8432-623af162979f"
      },
      "execution_count": 5,
      "outputs": [
        {
          "output_type": "stream",
          "name": "stdout",
          "text": [
            "La clave es detergente\n",
            "La clave es arroz\n",
            "La clave es aceite\n"
          ]
        }
      ]
    },
    {
      "cell_type": "code",
      "source": [
        "prod = 'aceite'\n",
        "\n",
        "if prod in dic_prod.keys():\n",
        "  print(f\"El producto {prod} existe en el diccionario.\")\n",
        "else:\n",
        "  print(f\"El producto {prod} no existe en el diccionario\")"
      ],
      "metadata": {
        "id": "Uz6OZXc2olN1",
        "colab": {
          "base_uri": "https://localhost:8080/"
        },
        "outputId": "681aa3c3-f1da-411b-bbee-00dde3cc5a82"
      },
      "execution_count": 9,
      "outputs": [
        {
          "output_type": "stream",
          "name": "stdout",
          "text": [
            "El producto aceite existe en el diccionario.\n"
          ]
        }
      ]
    },
    {
      "cell_type": "code",
      "source": [
        "prod = 'gaseosa'\n",
        "\n",
        "if prod in dic_prod.keys():\n",
        "  print(f\"El producto {prod} existe en el diccionario.\")\n",
        "else:\n",
        "  print(f\"El producto {prod} no existe en el diccionario\")"
      ],
      "metadata": {
        "id": "5XjOYcN1pN7c",
        "colab": {
          "base_uri": "https://localhost:8080/"
        },
        "outputId": "b0da1bb8-e01b-415b-bb0a-4ea2fc38ccd0"
      },
      "execution_count": 10,
      "outputs": [
        {
          "output_type": "stream",
          "name": "stdout",
          "text": [
            "El producto gaseosa no existe en el diccionario\n"
          ]
        }
      ]
    },
    {
      "cell_type": "code",
      "source": [
        "claves_dic_prod = dic_prod.keys()\n",
        "print(f\"Las claves del diccionario productos son \\n{claves_dic_prod}\")\n",
        "print(f\"El objeto es del tipo {type(claves_dic_prod)}\")"
      ],
      "metadata": {
        "id": "tOAPc-J_pUaW",
        "colab": {
          "base_uri": "https://localhost:8080/"
        },
        "outputId": "0f60a4e8-34b0-45f0-bd59-a4f02bd18177"
      },
      "execution_count": 14,
      "outputs": [
        {
          "output_type": "stream",
          "name": "stdout",
          "text": [
            "Las claves del diccionario productos son \n",
            "dict_keys(['detergente', 'arroz', 'aceite'])\n",
            "El objeto es del tipo <class 'dict_keys'>\n"
          ]
        }
      ]
    },
    {
      "cell_type": "code",
      "source": [
        "type(claves_dic_prod)"
      ],
      "metadata": {
        "id": "Xy1PcwIEU0Eh",
        "colab": {
          "base_uri": "https://localhost:8080/"
        },
        "outputId": "747d97aa-d14b-478f-c3e2-6d3c413b28c3"
      },
      "execution_count": 15,
      "outputs": [
        {
          "output_type": "execute_result",
          "data": {
            "text/plain": [
              "dict_keys"
            ]
          },
          "metadata": {},
          "execution_count": 15
        }
      ]
    },
    {
      "cell_type": "code",
      "source": [
        "dic_prod[\"cereal\"] = 15 # actualizo el diccionario"
      ],
      "metadata": {
        "id": "xLYVFtr2jidy"
      },
      "execution_count": 16,
      "outputs": []
    },
    {
      "cell_type": "code",
      "source": [
        "dic_prod[\"cereal\"]"
      ],
      "metadata": {
        "colab": {
          "base_uri": "https://localhost:8080/"
        },
        "id": "dMRrvA3IjkyO",
        "outputId": "b1481d8b-dd23-4082-d716-8b55668d5e7d"
      },
      "execution_count": 17,
      "outputs": [
        {
          "output_type": "execute_result",
          "data": {
            "text/plain": [
              "15"
            ]
          },
          "metadata": {},
          "execution_count": 17
        }
      ]
    },
    {
      "cell_type": "code",
      "source": [
        "dic_prod[\"cereal\"] = 15 # actualizo el diccionario\n",
        "for c in dic_prod.keys():\n",
        "  print(f\"La clave es {c}\")"
      ],
      "metadata": {
        "id": "S_v8uj7Wpynm",
        "colab": {
          "base_uri": "https://localhost:8080/"
        },
        "outputId": "6d84b685-9458-415e-f066-3349cae46482"
      },
      "execution_count": 18,
      "outputs": [
        {
          "output_type": "stream",
          "name": "stdout",
          "text": [
            "La clave es detergente\n",
            "La clave es arroz\n",
            "La clave es aceite\n",
            "La clave es cereal\n"
          ]
        }
      ]
    },
    {
      "cell_type": "code",
      "source": [
        "print(f\"Las claves del diccionario productos son \\n{claves_dic_prod}\")\n",
        "# Para este caso no había actualizado nuevamente el objeto, y en la llamada me doy cuenta que se actualizaron las nuevas claves de forma utomatica."
      ],
      "metadata": {
        "id": "LWU5qonhqNr4",
        "colab": {
          "base_uri": "https://localhost:8080/"
        },
        "outputId": "e6abc77c-ebca-4960-dbda-9dfffbbc4d11"
      },
      "execution_count": 19,
      "outputs": [
        {
          "output_type": "stream",
          "name": "stdout",
          "text": [
            "Las claves del diccionario productos son \n",
            "dict_keys(['detergente', 'arroz', 'aceite', 'cereal'])\n"
          ]
        }
      ]
    },
    {
      "cell_type": "code",
      "source": [
        "print(f\"El diccionario actualizado es \\n{dic_prod}\")"
      ],
      "metadata": {
        "id": "ZXtoMKRqPa_S",
        "colab": {
          "base_uri": "https://localhost:8080/"
        },
        "outputId": "f292384f-5d54-4916-e522-21008bedec16"
      },
      "execution_count": 20,
      "outputs": [
        {
          "output_type": "stream",
          "name": "stdout",
          "text": [
            "El diccionario actualizado es \n",
            "{'detergente': 70, 'arroz': 20, 'aceite': 10, 'cereal': 15}\n"
          ]
        }
      ]
    },
    {
      "cell_type": "code",
      "source": [
        "dic_prod[\"cereal\"] = 10 # actualizo el diccionario\n",
        "print(dic_prod)"
      ],
      "metadata": {
        "colab": {
          "base_uri": "https://localhost:8080/"
        },
        "id": "y7pc-OJuk8gR",
        "outputId": "1c474356-1e8f-4cca-9e4f-a5ad42b2acec"
      },
      "execution_count": 22,
      "outputs": [
        {
          "output_type": "stream",
          "name": "stdout",
          "text": [
            "{'detergente': 70, 'arroz': 20, 'aceite': 10, 'cereal': 10}\n"
          ]
        }
      ]
    },
    {
      "cell_type": "markdown",
      "source": [
        "### [7] Método values()"
      ],
      "metadata": {
        "id": "XPFlZbPCWe0C"
      }
    },
    {
      "cell_type": "code",
      "source": [
        "print(f\"El diccionario de productos es \\n{dic_prod}\")"
      ],
      "metadata": {
        "id": "T9euCP3oqZi4",
        "colab": {
          "base_uri": "https://localhost:8080/"
        },
        "outputId": "32195056-8d7d-4d29-e0f6-779124e6e3d9"
      },
      "execution_count": 23,
      "outputs": [
        {
          "output_type": "stream",
          "name": "stdout",
          "text": [
            "El diccionario de productos es \n",
            "{'detergente': 70, 'arroz': 20, 'aceite': 10, 'cereal': 10}\n"
          ]
        }
      ]
    },
    {
      "cell_type": "code",
      "source": [
        "valores_dic_prod = dic_prod.values() # objeto dict_values\n",
        "print(f\"Los valores del diccionario productos son \\n{valores_dic_prod}\")\n",
        "print(f\"\\nEl tipo de dato del objeto creado es {type(valores_dic_prod)}\") # Me arroja un objeto del tipo dict_values"
      ],
      "metadata": {
        "id": "F4SdWubuW5Lt",
        "colab": {
          "base_uri": "https://localhost:8080/"
        },
        "outputId": "198b86bc-fb5b-42bc-d8f0-07857a74397c"
      },
      "execution_count": 24,
      "outputs": [
        {
          "output_type": "stream",
          "name": "stdout",
          "text": [
            "Los valores del diccionario productos son \n",
            "dict_values([70, 20, 10, 10])\n",
            "\n",
            "El tipo de dato del objeto creado es <class 'dict_values'>\n"
          ]
        }
      ]
    },
    {
      "cell_type": "code",
      "source": [
        "l_valores_dic_prod = list(dic_prod.values()) # Convierto el objeto dict_values en lista\n",
        "print(f\"La lista de valores del diccionario productos son \\n{l_valores_dic_prod}\")\n",
        "print(f\"\\nEl tipo de dato del objeto creado es {type(l_valores_dic_prod)}\")"
      ],
      "metadata": {
        "id": "9gUC_Du-Xea9",
        "colab": {
          "base_uri": "https://localhost:8080/"
        },
        "outputId": "dd9c4ffb-3b55-437b-ef95-5fc32fae9dc3"
      },
      "execution_count": 25,
      "outputs": [
        {
          "output_type": "stream",
          "name": "stdout",
          "text": [
            "La lista de valores del diccionario productos son \n",
            "[70, 20, 10, 10]\n",
            "\n",
            "El tipo de dato del objeto creado es <class 'list'>\n"
          ]
        }
      ]
    },
    {
      "cell_type": "code",
      "source": [
        "print(f\"El diccionario productos inicial es \\n{dic_prod}\")\n",
        "dic_prod[\"cafe\"] = 45 # Actualizar el diccionario\n",
        "print(f\"\\nEl diccionario productos actualizado es \\n{dic_prod}\")\n",
        "print(f\"\\nEl dict values es \\n{valores_dic_prod}\")\n",
        "print(f\"\\nLa lista es \\n{l_valores_dic_prod}\")"
      ],
      "metadata": {
        "id": "EVp51x7VYIsX",
        "colab": {
          "base_uri": "https://localhost:8080/"
        },
        "outputId": "6467259f-0e81-4b10-9a5c-eca2fa0039a3"
      },
      "execution_count": 26,
      "outputs": [
        {
          "output_type": "stream",
          "name": "stdout",
          "text": [
            "El diccionario productos inicial es \n",
            "{'detergente': 70, 'arroz': 20, 'aceite': 10, 'cereal': 10}\n",
            "\n",
            "El diccionario productos actualizado es \n",
            "{'detergente': 70, 'arroz': 20, 'aceite': 10, 'cereal': 10, 'cafe': 45}\n",
            "\n",
            "El dict values es \n",
            "dict_values([70, 20, 10, 10, 45])\n",
            "\n",
            "La lista es \n",
            "[70, 20, 10, 10]\n"
          ]
        }
      ]
    },
    {
      "cell_type": "code",
      "source": [
        "from google.colab import files\n",
        "\n",
        "# Subir archivo desde tu máquina local\n",
        "uploaded = files.upload()"
      ],
      "metadata": {
        "id": "VRHlnu5oZBY2",
        "colab": {
          "base_uri": "https://localhost:8080/",
          "height": 69
        },
        "outputId": "dfd57f6b-4ea2-4e83-9ddc-13e88c4bfd93"
      },
      "execution_count": 29,
      "outputs": [
        {
          "output_type": "display_data",
          "data": {
            "text/plain": [
              "<IPython.core.display.HTML object>"
            ],
            "text/html": [
              "\n",
              "     <input type=\"file\" id=\"files-a7b3f78a-dcee-4819-ab76-5c06653f5373\" name=\"files[]\" multiple disabled\n",
              "        style=\"border:none\" />\n",
              "     <output id=\"result-a7b3f78a-dcee-4819-ab76-5c06653f5373\">\n",
              "      Upload widget is only available when the cell has been executed in the\n",
              "      current browser session. Please rerun this cell to enable.\n",
              "      </output>\n",
              "      <script>// Copyright 2017 Google LLC\n",
              "//\n",
              "// Licensed under the Apache License, Version 2.0 (the \"License\");\n",
              "// you may not use this file except in compliance with the License.\n",
              "// You may obtain a copy of the License at\n",
              "//\n",
              "//      http://www.apache.org/licenses/LICENSE-2.0\n",
              "//\n",
              "// Unless required by applicable law or agreed to in writing, software\n",
              "// distributed under the License is distributed on an \"AS IS\" BASIS,\n",
              "// WITHOUT WARRANTIES OR CONDITIONS OF ANY KIND, either express or implied.\n",
              "// See the License for the specific language governing permissions and\n",
              "// limitations under the License.\n",
              "\n",
              "/**\n",
              " * @fileoverview Helpers for google.colab Python module.\n",
              " */\n",
              "(function(scope) {\n",
              "function span(text, styleAttributes = {}) {\n",
              "  const element = document.createElement('span');\n",
              "  element.textContent = text;\n",
              "  for (const key of Object.keys(styleAttributes)) {\n",
              "    element.style[key] = styleAttributes[key];\n",
              "  }\n",
              "  return element;\n",
              "}\n",
              "\n",
              "// Max number of bytes which will be uploaded at a time.\n",
              "const MAX_PAYLOAD_SIZE = 100 * 1024;\n",
              "\n",
              "function _uploadFiles(inputId, outputId) {\n",
              "  const steps = uploadFilesStep(inputId, outputId);\n",
              "  const outputElement = document.getElementById(outputId);\n",
              "  // Cache steps on the outputElement to make it available for the next call\n",
              "  // to uploadFilesContinue from Python.\n",
              "  outputElement.steps = steps;\n",
              "\n",
              "  return _uploadFilesContinue(outputId);\n",
              "}\n",
              "\n",
              "// This is roughly an async generator (not supported in the browser yet),\n",
              "// where there are multiple asynchronous steps and the Python side is going\n",
              "// to poll for completion of each step.\n",
              "// This uses a Promise to block the python side on completion of each step,\n",
              "// then passes the result of the previous step as the input to the next step.\n",
              "function _uploadFilesContinue(outputId) {\n",
              "  const outputElement = document.getElementById(outputId);\n",
              "  const steps = outputElement.steps;\n",
              "\n",
              "  const next = steps.next(outputElement.lastPromiseValue);\n",
              "  return Promise.resolve(next.value.promise).then((value) => {\n",
              "    // Cache the last promise value to make it available to the next\n",
              "    // step of the generator.\n",
              "    outputElement.lastPromiseValue = value;\n",
              "    return next.value.response;\n",
              "  });\n",
              "}\n",
              "\n",
              "/**\n",
              " * Generator function which is called between each async step of the upload\n",
              " * process.\n",
              " * @param {string} inputId Element ID of the input file picker element.\n",
              " * @param {string} outputId Element ID of the output display.\n",
              " * @return {!Iterable<!Object>} Iterable of next steps.\n",
              " */\n",
              "function* uploadFilesStep(inputId, outputId) {\n",
              "  const inputElement = document.getElementById(inputId);\n",
              "  inputElement.disabled = false;\n",
              "\n",
              "  const outputElement = document.getElementById(outputId);\n",
              "  outputElement.innerHTML = '';\n",
              "\n",
              "  const pickedPromise = new Promise((resolve) => {\n",
              "    inputElement.addEventListener('change', (e) => {\n",
              "      resolve(e.target.files);\n",
              "    });\n",
              "  });\n",
              "\n",
              "  const cancel = document.createElement('button');\n",
              "  inputElement.parentElement.appendChild(cancel);\n",
              "  cancel.textContent = 'Cancel upload';\n",
              "  const cancelPromise = new Promise((resolve) => {\n",
              "    cancel.onclick = () => {\n",
              "      resolve(null);\n",
              "    };\n",
              "  });\n",
              "\n",
              "  // Wait for the user to pick the files.\n",
              "  const files = yield {\n",
              "    promise: Promise.race([pickedPromise, cancelPromise]),\n",
              "    response: {\n",
              "      action: 'starting',\n",
              "    }\n",
              "  };\n",
              "\n",
              "  cancel.remove();\n",
              "\n",
              "  // Disable the input element since further picks are not allowed.\n",
              "  inputElement.disabled = true;\n",
              "\n",
              "  if (!files) {\n",
              "    return {\n",
              "      response: {\n",
              "        action: 'complete',\n",
              "      }\n",
              "    };\n",
              "  }\n",
              "\n",
              "  for (const file of files) {\n",
              "    const li = document.createElement('li');\n",
              "    li.append(span(file.name, {fontWeight: 'bold'}));\n",
              "    li.append(span(\n",
              "        `(${file.type || 'n/a'}) - ${file.size} bytes, ` +\n",
              "        `last modified: ${\n",
              "            file.lastModifiedDate ? file.lastModifiedDate.toLocaleDateString() :\n",
              "                                    'n/a'} - `));\n",
              "    const percent = span('0% done');\n",
              "    li.appendChild(percent);\n",
              "\n",
              "    outputElement.appendChild(li);\n",
              "\n",
              "    const fileDataPromise = new Promise((resolve) => {\n",
              "      const reader = new FileReader();\n",
              "      reader.onload = (e) => {\n",
              "        resolve(e.target.result);\n",
              "      };\n",
              "      reader.readAsArrayBuffer(file);\n",
              "    });\n",
              "    // Wait for the data to be ready.\n",
              "    let fileData = yield {\n",
              "      promise: fileDataPromise,\n",
              "      response: {\n",
              "        action: 'continue',\n",
              "      }\n",
              "    };\n",
              "\n",
              "    // Use a chunked sending to avoid message size limits. See b/62115660.\n",
              "    let position = 0;\n",
              "    do {\n",
              "      const length = Math.min(fileData.byteLength - position, MAX_PAYLOAD_SIZE);\n",
              "      const chunk = new Uint8Array(fileData, position, length);\n",
              "      position += length;\n",
              "\n",
              "      const base64 = btoa(String.fromCharCode.apply(null, chunk));\n",
              "      yield {\n",
              "        response: {\n",
              "          action: 'append',\n",
              "          file: file.name,\n",
              "          data: base64,\n",
              "        },\n",
              "      };\n",
              "\n",
              "      let percentDone = fileData.byteLength === 0 ?\n",
              "          100 :\n",
              "          Math.round((position / fileData.byteLength) * 100);\n",
              "      percent.textContent = `${percentDone}% done`;\n",
              "\n",
              "    } while (position < fileData.byteLength);\n",
              "  }\n",
              "\n",
              "  // All done.\n",
              "  yield {\n",
              "    response: {\n",
              "      action: 'complete',\n",
              "    }\n",
              "  };\n",
              "}\n",
              "\n",
              "scope.google = scope.google || {};\n",
              "scope.google.colab = scope.google.colab || {};\n",
              "scope.google.colab._files = {\n",
              "  _uploadFiles,\n",
              "  _uploadFilesContinue,\n",
              "};\n",
              "})(self);\n",
              "</script> "
            ]
          },
          "metadata": {}
        },
        {
          "output_type": "stream",
          "name": "stdout",
          "text": [
            "Saving Actividad.png to Actividad (1).png\n"
          ]
        }
      ]
    },
    {
      "cell_type": "code",
      "source": [
        "from IPython.display import Image, display\n",
        "\n",
        "# Mostrar la imagen en Colab\n",
        "display(Image(filename='Actividad.png'))"
      ],
      "metadata": {
        "id": "XReexOVKc7Gm",
        "colab": {
          "base_uri": "https://localhost:8080/",
          "height": 505
        },
        "outputId": "6b44e7f2-bd3e-4c28-fd95-018ddb45d9f4"
      },
      "execution_count": 30,
      "outputs": [
        {
          "output_type": "display_data",
          "data": {
            "image/png": "[encoded data removed]",
            "text/plain": [
              "<IPython.core.display.Image object>"
            ]
          },
          "metadata": {}
        }
      ]
    },
    {
      "cell_type": "code",
      "source": [
        "  dic_jugadores = {\n",
        "      \"messi\":10,\n",
        "      \"cafu\":2,\n",
        "      \"zidane\":5,\n",
        "      \"ronaldo\":7,\n",
        "      \"iniesta\":8\n",
        "  }\n",
        "\n",
        "  print(f\"El diccionario de jugadores es \\n{dic_jugadores}\")"
      ],
      "metadata": {
        "id": "utwi3PrSdcA9",
        "colab": {
          "base_uri": "https://localhost:8080/"
        },
        "outputId": "0979bc27-4cae-440d-b180-79da02902881"
      },
      "execution_count": 55,
      "outputs": [
        {
          "output_type": "stream",
          "name": "stdout",
          "text": [
            "El diccionario de jugadores es \n",
            "{'messi': 10, 'cafu': 2, 'zidane': 5, 'ronaldo': 7, 'iniesta': 8}\n"
          ]
        }
      ]
    },
    {
      "cell_type": "code",
      "source": [
        "print(f\"Los pares clave:valor del diccionario son \\n{dic_jugadores.items()}\")\n",
        "print(f\"\\nLas claves del diccionario son \\n{dic_jugadores.keys()}\")\n",
        "print(f\"\\nLos valores del diccionario son \\n{dic_jugadores.values()}\")"
      ],
      "metadata": {
        "id": "i5KyZWTrd3OG",
        "colab": {
          "base_uri": "https://localhost:8080/"
        },
        "outputId": "15162825-51d8-454b-9dfc-a8c8a583eb38"
      },
      "execution_count": 56,
      "outputs": [
        {
          "output_type": "stream",
          "name": "stdout",
          "text": [
            "Los pares clave:valor del diccionario son \n",
            "dict_items([('messi', 10), ('cafu', 2), ('zidane', 5), ('ronaldo', 7), ('iniesta', 8)])\n",
            "\n",
            "Las claves del diccionario son \n",
            "dict_keys(['messi', 'cafu', 'zidane', 'ronaldo', 'iniesta'])\n",
            "\n",
            "Los valores del diccionario son \n",
            "dict_values([10, 2, 5, 7, 8])\n"
          ]
        }
      ]
    },
    {
      "cell_type": "code",
      "source": [
        "items_dic_jugadores = dic_jugadores.items() # Pares clave:valor\n",
        "keys_dic_jugadores = dic_jugadores.keys() # Claves\n",
        "values_dic_jugadores = dic_jugadores.values() # Valores"
      ],
      "metadata": {
        "id": "fEJQNHvmedj1"
      },
      "execution_count": 57,
      "outputs": []
    },
    {
      "cell_type": "code",
      "source": [
        "print(f\"El diccionario inicial de jugadores es \\n{dic_jugadores}\")\n",
        "dic_jugadores[\"pele\"] = 10 # Actualizamos el diccionario\n",
        "print(f\"\\nEl diccionario actualizado de jugadores es \\n{dic_jugadores}\")"
      ],
      "metadata": {
        "id": "veln0ThOfETX",
        "colab": {
          "base_uri": "https://localhost:8080/"
        },
        "outputId": "78f13476-3e71-4c0c-af12-4cebd8d9ae9e"
      },
      "execution_count": 58,
      "outputs": [
        {
          "output_type": "stream",
          "name": "stdout",
          "text": [
            "El diccionario inicial de jugadores es \n",
            "{'messi': 10, 'cafu': 2, 'zidane': 5, 'ronaldo': 7, 'iniesta': 8}\n",
            "\n",
            "El diccionario actualizado de jugadores es \n",
            "{'messi': 10, 'cafu': 2, 'zidane': 5, 'ronaldo': 7, 'iniesta': 8, 'pele': 10}\n"
          ]
        }
      ]
    },
    {
      "cell_type": "code",
      "source": [
        "print(f\"Los pares clave: valor del diccionario son \\n{items_dic_jugadores}\")\n",
        "print(f\"\\nLas claves del diccionario son \\n{keys_dic_jugadores}\")\n",
        "print(f\"\\nLos valores del diccionario son \\n{values_dic_jugadores}\")"
      ],
      "metadata": {
        "id": "R2ew5h_IfXoM",
        "colab": {
          "base_uri": "https://localhost:8080/"
        },
        "outputId": "5b30a6dd-c0a4-4874-855f-a2197df4240d"
      },
      "execution_count": 59,
      "outputs": [
        {
          "output_type": "stream",
          "name": "stdout",
          "text": [
            "Los pares clave: valor del diccionario son \n",
            "dict_items([('messi', 10), ('cafu', 2), ('zidane', 5), ('ronaldo', 7), ('iniesta', 8), ('pele', 10)])\n",
            "\n",
            "Las claves del diccionario son \n",
            "dict_keys(['messi', 'cafu', 'zidane', 'ronaldo', 'iniesta', 'pele'])\n",
            "\n",
            "Los valores del diccionario son \n",
            "dict_values([10, 2, 5, 7, 8, 10])\n"
          ]
        }
      ]
    },
    {
      "cell_type": "markdown",
      "source": [
        "### Actividad N032"
      ],
      "metadata": {
        "id": "fqwEapnRVlTR"
      }
    },
    {
      "cell_type": "markdown",
      "source": [
        "Crear un diccionario que tenga como claves : mina, país y producción.\n",
        "Ingrese los valores de la clave mina en una lista, los valores de la claves país y producción en tuplas.\n"
      ],
      "metadata": {
        "id": "glGaS1mSb5TT"
      }
    },
    {
      "cell_type": "code",
      "source": [
        "from google.colab import files\n",
        "\n",
        "# Subir archivo desde tu máquina local\n",
        "uploaded = files.upload()"
      ],
      "metadata": {
        "id": "hNO6Grrqb7en",
        "colab": {
          "base_uri": "https://localhost:8080/",
          "height": 69
        },
        "outputId": "7bcf9cec-27ee-4e9e-8c70-34e812464a4a"
      },
      "execution_count": 43,
      "outputs": [
        {
          "output_type": "display_data",
          "data": {
            "text/plain": [
              "<IPython.core.display.HTML object>"
            ],
            "text/html": [
              "\n",
              "     <input type=\"file\" id=\"files-df2b70f0-f21d-4394-8c70-b7cc5c88abb9\" name=\"files[]\" multiple disabled\n",
              "        style=\"border:none\" />\n",
              "     <output id=\"result-df2b70f0-f21d-4394-8c70-b7cc5c88abb9\">\n",
              "      Upload widget is only available when the cell has been executed in the\n",
              "      current browser session. Please rerun this cell to enable.\n",
              "      </output>\n",
              "      <script>// Copyright 2017 Google LLC\n",
              "//\n",
              "// Licensed under the Apache License, Version 2.0 (the \"License\");\n",
              "// you may not use this file except in compliance with the License.\n",
              "// You may obtain a copy of the License at\n",
              "//\n",
              "//      http://www.apache.org/licenses/LICENSE-2.0\n",
              "//\n",
              "// Unless required by applicable law or agreed to in writing, software\n",
              "// distributed under the License is distributed on an \"AS IS\" BASIS,\n",
              "// WITHOUT WARRANTIES OR CONDITIONS OF ANY KIND, either express or implied.\n",
              "// See the License for the specific language governing permissions and\n",
              "// limitations under the License.\n",
              "\n",
              "/**\n",
              " * @fileoverview Helpers for google.colab Python module.\n",
              " */\n",
              "(function(scope) {\n",
              "function span(text, styleAttributes = {}) {\n",
              "  const element = document.createElement('span');\n",
              "  element.textContent = text;\n",
              "  for (const key of Object.keys(styleAttributes)) {\n",
              "    element.style[key] = styleAttributes[key];\n",
              "  }\n",
              "  return element;\n",
              "}\n",
              "\n",
              "// Max number of bytes which will be uploaded at a time.\n",
              "const MAX_PAYLOAD_SIZE = 100 * 1024;\n",
              "\n",
              "function _uploadFiles(inputId, outputId) {\n",
              "  const steps = uploadFilesStep(inputId, outputId);\n",
              "  const outputElement = document.getElementById(outputId);\n",
              "  // Cache steps on the outputElement to make it available for the next call\n",
              "  // to uploadFilesContinue from Python.\n",
              "  outputElement.steps = steps;\n",
              "\n",
              "  return _uploadFilesContinue(outputId);\n",
              "}\n",
              "\n",
              "// This is roughly an async generator (not supported in the browser yet),\n",
              "// where there are multiple asynchronous steps and the Python side is going\n",
              "// to poll for completion of each step.\n",
              "// This uses a Promise to block the python side on completion of each step,\n",
              "// then passes the result of the previous step as the input to the next step.\n",
              "function _uploadFilesContinue(outputId) {\n",
              "  const outputElement = document.getElementById(outputId);\n",
              "  const steps = outputElement.steps;\n",
              "\n",
              "  const next = steps.next(outputElement.lastPromiseValue);\n",
              "  return Promise.resolve(next.value.promise).then((value) => {\n",
              "    // Cache the last promise value to make it available to the next\n",
              "    // step of the generator.\n",
              "    outputElement.lastPromiseValue = value;\n",
              "    return next.value.response;\n",
              "  });\n",
              "}\n",
              "\n",
              "/**\n",
              " * Generator function which is called between each async step of the upload\n",
              " * process.\n",
              " * @param {string} inputId Element ID of the input file picker element.\n",
              " * @param {string} outputId Element ID of the output display.\n",
              " * @return {!Iterable<!Object>} Iterable of next steps.\n",
              " */\n",
              "function* uploadFilesStep(inputId, outputId) {\n",
              "  const inputElement = document.getElementById(inputId);\n",
              "  inputElement.disabled = false;\n",
              "\n",
              "  const outputElement = document.getElementById(outputId);\n",
              "  outputElement.innerHTML = '';\n",
              "\n",
              "  const pickedPromise = new Promise((resolve) => {\n",
              "    inputElement.addEventListener('change', (e) => {\n",
              "      resolve(e.target.files);\n",
              "    });\n",
              "  });\n",
              "\n",
              "  const cancel = document.createElement('button');\n",
              "  inputElement.parentElement.appendChild(cancel);\n",
              "  cancel.textContent = 'Cancel upload';\n",
              "  const cancelPromise = new Promise((resolve) => {\n",
              "    cancel.onclick = () => {\n",
              "      resolve(null);\n",
              "    };\n",
              "  });\n",
              "\n",
              "  // Wait for the user to pick the files.\n",
              "  const files = yield {\n",
              "    promise: Promise.race([pickedPromise, cancelPromise]),\n",
              "    response: {\n",
              "      action: 'starting',\n",
              "    }\n",
              "  };\n",
              "\n",
              "  cancel.remove();\n",
              "\n",
              "  // Disable the input element since further picks are not allowed.\n",
              "  inputElement.disabled = true;\n",
              "\n",
              "  if (!files) {\n",
              "    return {\n",
              "      response: {\n",
              "        action: 'complete',\n",
              "      }\n",
              "    };\n",
              "  }\n",
              "\n",
              "  for (const file of files) {\n",
              "    const li = document.createElement('li');\n",
              "    li.append(span(file.name, {fontWeight: 'bold'}));\n",
              "    li.append(span(\n",
              "        `(${file.type || 'n/a'}) - ${file.size} bytes, ` +\n",
              "        `last modified: ${\n",
              "            file.lastModifiedDate ? file.lastModifiedDate.toLocaleDateString() :\n",
              "                                    'n/a'} - `));\n",
              "    const percent = span('0% done');\n",
              "    li.appendChild(percent);\n",
              "\n",
              "    outputElement.appendChild(li);\n",
              "\n",
              "    const fileDataPromise = new Promise((resolve) => {\n",
              "      const reader = new FileReader();\n",
              "      reader.onload = (e) => {\n",
              "        resolve(e.target.result);\n",
              "      };\n",
              "      reader.readAsArrayBuffer(file);\n",
              "    });\n",
              "    // Wait for the data to be ready.\n",
              "    let fileData = yield {\n",
              "      promise: fileDataPromise,\n",
              "      response: {\n",
              "        action: 'continue',\n",
              "      }\n",
              "    };\n",
              "\n",
              "    // Use a chunked sending to avoid message size limits. See b/62115660.\n",
              "    let position = 0;\n",
              "    do {\n",
              "      const length = Math.min(fileData.byteLength - position, MAX_PAYLOAD_SIZE);\n",
              "      const chunk = new Uint8Array(fileData, position, length);\n",
              "      position += length;\n",
              "\n",
              "      const base64 = btoa(String.fromCharCode.apply(null, chunk));\n",
              "      yield {\n",
              "        response: {\n",
              "          action: 'append',\n",
              "          file: file.name,\n",
              "          data: base64,\n",
              "        },\n",
              "      };\n",
              "\n",
              "      let percentDone = fileData.byteLength === 0 ?\n",
              "          100 :\n",
              "          Math.round((position / fileData.byteLength) * 100);\n",
              "      percent.textContent = `${percentDone}% done`;\n",
              "\n",
              "    } while (position < fileData.byteLength);\n",
              "  }\n",
              "\n",
              "  // All done.\n",
              "  yield {\n",
              "    response: {\n",
              "      action: 'complete',\n",
              "    }\n",
              "  };\n",
              "}\n",
              "\n",
              "scope.google = scope.google || {};\n",
              "scope.google.colab = scope.google.colab || {};\n",
              "scope.google.colab._files = {\n",
              "  _uploadFiles,\n",
              "  _uploadFilesContinue,\n",
              "};\n",
              "})(self);\n",
              "</script> "
            ]
          },
          "metadata": {}
        },
        {
          "output_type": "stream",
          "name": "stdout",
          "text": [
            "Saving Minas.png to Minas.png\n"
          ]
        }
      ]
    },
    {
      "cell_type": "code",
      "source": [
        "from IPython.display import Image, display\n",
        "\n",
        "# Mostrar la imagen en Colab\n",
        "display(Image(filename='Minas.png'))"
      ],
      "metadata": {
        "id": "jNbv5GBVcJX4",
        "colab": {
          "base_uri": "https://localhost:8080/",
          "height": 725
        },
        "outputId": "57a31076-9d66-4d18-86f6-023f7fbb1fbd"
      },
      "execution_count": 44,
      "outputs": [
        {
          "output_type": "display_data",
          "data": {
            "image/png": "[encoded data removed]",
            "text/plain": [
              "<IPython.core.display.Image object>"
            ]
          },
          "metadata": {}
        }
      ]
    },
    {
      "cell_type": "code",
      "source": [
        "dic_minas = {\n",
        "    \"Mina\": [\"Escondida\", \"Grasberg\", \"Collahuasi\", \"Antamina\", \"Cerro Verde\", \"Las Bambas\"],\n",
        "    \"Pais\": (\"Chile\", \"Indonesia\", \"Chile\", \"Peru\", \"Peru\", \"Peru\"),\n",
        "    \"Produccion anual\": (1281400, 816466, 563390, 434238, 449096, 400000)\n",
        "}\n",
        "dic_minas"
      ],
      "metadata": {
        "id": "6fF0DwNVcNEm",
        "colab": {
          "base_uri": "https://localhost:8080/"
        },
        "outputId": "8c8647b1-6cde-4708-8042-bf38dc5f0e53"
      },
      "execution_count": 48,
      "outputs": [
        {
          "output_type": "execute_result",
          "data": {
            "text/plain": [
              "{'Mina': ['Escondida',\n",
              "  'Grasberg',\n",
              "  'Collahuasi',\n",
              "  'Antamina',\n",
              "  'Cerro Verde',\n",
              "  'Las Bambas'],\n",
              " 'Pais': ('Chile', 'Indonesia', 'Chile', 'Peru', 'Peru', 'Peru'),\n",
              " 'Produccion anual': (1281400, 816466, 563390, 434238, 449096, 400000)}"
            ]
          },
          "metadata": {},
          "execution_count": 48
        }
      ]
    },
    {
      "cell_type": "markdown",
      "source": [
        "### [8] Agregar/Modificar un valor dentro de un diccionario"
      ],
      "metadata": {
        "id": "zsy4BVE7g6Nk"
      }
    },
    {
      "cell_type": "code",
      "source": [
        "print(f\"El diccionario inicial es \\n{dic_jugadores}\")\n",
        "dic_jugadores[\"kaka\"] = 10 # Agregando (actualizando) diccionario\n",
        "print(f\"\\nEl diccionario actualizado es \\n{dic_jugadores}\")"
      ],
      "metadata": {
        "id": "ob-REuIvf_tn",
        "colab": {
          "base_uri": "https://localhost:8080/"
        },
        "outputId": "71350e63-1535-4e02-81da-eb1c887ab7a1"
      },
      "execution_count": 60,
      "outputs": [
        {
          "output_type": "stream",
          "name": "stdout",
          "text": [
            "El diccionario inicial es \n",
            "{'messi': 10, 'cafu': 2, 'zidane': 5, 'ronaldo': 7, 'iniesta': 8, 'pele': 10}\n",
            "\n",
            "El diccionario actualizado es \n",
            "{'messi': 10, 'cafu': 2, 'zidane': 5, 'ronaldo': 7, 'iniesta': 8, 'pele': 10, 'kaka': 10}\n"
          ]
        }
      ]
    },
    {
      "cell_type": "code",
      "source": [
        "dic_jugadores[\"cafu\"] = 100\n",
        "print(f\"\\nEl diccionario actualizado es \\n{dic_jugadores}\")"
      ],
      "metadata": {
        "id": "LJg003GlhgQo",
        "colab": {
          "base_uri": "https://localhost:8080/"
        },
        "outputId": "828fd638-aa45-4e63-f2e3-99b86f26fd9e"
      },
      "execution_count": 61,
      "outputs": [
        {
          "output_type": "stream",
          "name": "stdout",
          "text": [
            "\n",
            "El diccionario actualizado es \n",
            "{'messi': 10, 'cafu': 100, 'zidane': 5, 'ronaldo': 7, 'iniesta': 8, 'pele': 10, 'kaka': 10}\n"
          ]
        }
      ]
    },
    {
      "cell_type": "code",
      "source": [
        "dic_jugadores[\"messi\"] = 1000\n",
        "print(f\"\\nEl diccionario actualizado es \\n{dic_jugadores}\")\n"
      ],
      "metadata": {
        "id": "DDeldrM_hvRu",
        "colab": {
          "base_uri": "https://localhost:8080/"
        },
        "outputId": "a95b0a9f-5596-4685-961a-204c19d5ad8d"
      },
      "execution_count": 62,
      "outputs": [
        {
          "output_type": "stream",
          "name": "stdout",
          "text": [
            "\n",
            "El diccionario actualizado es \n",
            "{'messi': 1000, 'cafu': 100, 'zidane': 5, 'ronaldo': 7, 'iniesta': 8, 'pele': 10, 'kaka': 10}\n"
          ]
        }
      ]
    },
    {
      "cell_type": "code",
      "source": [
        "print(f\"Los pares clave valor son \\n{items_dic_jugadores}\")\n",
        "print(f\"\\nLas claves son \\n{keys_dic_jugadores}\")\n",
        "print(f\"\\nLos valores son \\n{values_dic_jugadores}\")"
      ],
      "metadata": {
        "colab": {
          "base_uri": "https://localhost:8080/"
        },
        "id": "4s9SlCi7r0al",
        "outputId": "84f78c26-8cab-4f4f-ffe0-5f82ed5a2c14"
      },
      "execution_count": 65,
      "outputs": [
        {
          "output_type": "stream",
          "name": "stdout",
          "text": [
            "Los pares clave valor son \n",
            "dict_items([('messi', 1000), ('cafu', 100), ('zidane', 5), ('ronaldo', 7), ('iniesta', 8), ('pele', 10), ('kaka', 10)])\n",
            "\n",
            "Las claves son \n",
            "dict_keys(['messi', 'cafu', 'zidane', 'ronaldo', 'iniesta', 'pele', 'kaka'])\n",
            "\n",
            "Los valores son \n",
            "dict_values([1000, 100, 5, 7, 8, 10, 10])\n"
          ]
        }
      ]
    },
    {
      "cell_type": "markdown",
      "source": [
        "### [9] Crear un diccionario a partir de una lista"
      ],
      "metadata": {
        "id": "y0_nZit8iRzP"
      }
    },
    {
      "cell_type": "code",
      "source": [
        "lista_universidades = [\"UTEC\",\"UNI\",\"UPC\",\"UNMSM\",\"UNALM\"]\n",
        "print(f\"La lista de universidades es \\n{lista_universidades}\")"
      ],
      "metadata": {
        "id": "Fx_BkfaZiEp9",
        "colab": {
          "base_uri": "https://localhost:8080/"
        },
        "outputId": "8bae8276-a7f4-4c57-f3e8-8e65aa08b6fa"
      },
      "execution_count": 66,
      "outputs": [
        {
          "output_type": "stream",
          "name": "stdout",
          "text": [
            "La lista de universidades es \n",
            "['UTEC', 'UNI', 'UPC', 'UNMSM', 'UNALM']\n"
          ]
        }
      ]
    },
    {
      "cell_type": "code",
      "source": [
        "print(f\"El tipo de dato de la lista creada es \\n{type(lista_universidades)}\")"
      ],
      "metadata": {
        "id": "f2s0V8mDi2Vz",
        "colab": {
          "base_uri": "https://localhost:8080/"
        },
        "outputId": "7d565be4-ac06-427d-d89a-2488b858fac1"
      },
      "execution_count": 67,
      "outputs": [
        {
          "output_type": "stream",
          "name": "stdout",
          "text": [
            "El tipo de dato de la lista creada es \n",
            "<class 'list'>\n"
          ]
        }
      ]
    },
    {
      "cell_type": "code",
      "source": [
        "# dict.fromkeys me genera un diccionario de una lista.\n",
        "# Todos los elementos de la lista pasarán a ser las claves.\n",
        "\n",
        "dic_universidades = dict.fromkeys(lista_universidades)\n",
        "print(f\"El diccionario de universidades es \\n{dic_universidades}\")\n",
        "print(f\"\\nEl tipo de dato del diccionario es \\n{type(dic_universidades)}\")"
      ],
      "metadata": {
        "id": "-j1sHwONioiH",
        "colab": {
          "base_uri": "https://localhost:8080/"
        },
        "outputId": "828db1e9-0652-4dfe-c38c-9718f79bee89"
      },
      "execution_count": 69,
      "outputs": [
        {
          "output_type": "stream",
          "name": "stdout",
          "text": [
            "El diccionario de universidades es \n",
            "{'UTEC': None, 'UNI': None, 'UPC': None, 'UNMSM': None, 'UNALM': None}\n",
            "\n",
            "El tipo de dato del diccionario es \n",
            "<class 'dict'>\n"
          ]
        }
      ]
    },
    {
      "cell_type": "code",
      "source": [
        "# De esta manera le estoy asignando a cada clave el valor de 1\n",
        "\n",
        "dic_universidades_ = dict.fromkeys(lista_universidades,1) # El segundo argumento es el valor que estará en toda la lista.\n",
        "print(f\"El diccionario de universidades es \\n{dic_universidades_}\")\n",
        "print(f\"\\nEl tipo de dato del diccionario es \\n{type(dic_universidades_)}\")"
      ],
      "metadata": {
        "id": "wVMGMomqjPYT",
        "colab": {
          "base_uri": "https://localhost:8080/"
        },
        "outputId": "22bd6772-5bf4-43dc-f3d7-10409805de3c"
      },
      "execution_count": 70,
      "outputs": [
        {
          "output_type": "stream",
          "name": "stdout",
          "text": [
            "El diccionario de universidades es \n",
            "{'UTEC': 1, 'UNI': 1, 'UPC': 1, 'UNMSM': 1, 'UNALM': 1}\n",
            "\n",
            "El tipo de dato del diccionario es \n",
            "<class 'dict'>\n"
          ]
        }
      ]
    },
    {
      "cell_type": "code",
      "source": [
        "for c,v in dic_universidades.items():\n",
        "  print(f\"La clave es {c} y el valor es {v}\")"
      ],
      "metadata": {
        "id": "NvhwQllmjQAt",
        "colab": {
          "base_uri": "https://localhost:8080/"
        },
        "outputId": "361bbe12-b300-45de-f41a-baa191e5b4f9"
      },
      "execution_count": 71,
      "outputs": [
        {
          "output_type": "stream",
          "name": "stdout",
          "text": [
            "La clave es UTEC y el valor es None\n",
            "La clave es UNI y el valor es None\n",
            "La clave es UPC y el valor es None\n",
            "La clave es UNMSM y el valor es None\n",
            "La clave es UNALM y el valor es None\n"
          ]
        }
      ]
    },
    {
      "cell_type": "code",
      "source": [
        "dic_universidades[\"UTEC\"] = 1000"
      ],
      "metadata": {
        "id": "XUCmq7rLk7DR"
      },
      "execution_count": 72,
      "outputs": []
    },
    {
      "cell_type": "code",
      "source": [
        "for c,v in dic_universidades.items():\n",
        "  print(f\"La clave es {c} y el valor es {v}\")"
      ],
      "metadata": {
        "id": "frjQjUs4k-Je",
        "colab": {
          "base_uri": "https://localhost:8080/"
        },
        "outputId": "7071c2ce-0f63-4046-86c7-ee38fac78951"
      },
      "execution_count": 73,
      "outputs": [
        {
          "output_type": "stream",
          "name": "stdout",
          "text": [
            "La clave es UTEC y el valor es 1000\n",
            "La clave es UNI y el valor es None\n",
            "La clave es UPC y el valor es None\n",
            "La clave es UNMSM y el valor es None\n",
            "La clave es UNALM y el valor es None\n"
          ]
        }
      ]
    },
    {
      "cell_type": "code",
      "source": [
        "for c,v in dic_universidades_.items():\n",
        "  print(f\"La clave es {c} y el valor es {v}\")"
      ],
      "metadata": {
        "id": "kibJLH0SjQbk",
        "colab": {
          "base_uri": "https://localhost:8080/"
        },
        "outputId": "619f7ab9-1661-4b13-9764-3ee36eaf581e"
      },
      "execution_count": 74,
      "outputs": [
        {
          "output_type": "stream",
          "name": "stdout",
          "text": [
            "La clave es UTEC y el valor es 1\n",
            "La clave es UNI y el valor es 1\n",
            "La clave es UPC y el valor es 1\n",
            "La clave es UNMSM y el valor es 1\n",
            "La clave es UNALM y el valor es 1\n"
          ]
        }
      ]
    },
    {
      "cell_type": "markdown",
      "source": [
        "### [10] Método popitem()"
      ],
      "metadata": {
        "id": "IcbayUzDpkrs"
      }
    },
    {
      "cell_type": "code",
      "source": [
        "print(f\"El diccionario de jugadores es \\n{dic_jugadores}\")"
      ],
      "metadata": {
        "id": "MmWkFZnFk3ON",
        "colab": {
          "base_uri": "https://localhost:8080/"
        },
        "outputId": "1b422e74-3c80-4601-ddd1-6d59e217b094"
      },
      "execution_count": 75,
      "outputs": [
        {
          "output_type": "stream",
          "name": "stdout",
          "text": [
            "El diccionario de jugadores es \n",
            "{'messi': 1000, 'cafu': 100, 'zidane': 5, 'ronaldo': 7, 'iniesta': 8, 'pele': 10, 'kaka': 10}\n"
          ]
        }
      ]
    },
    {
      "cell_type": "code",
      "source": [
        "# Si no le coloco número al popitem(), elimina el último valor.\n",
        "# El metodo popitem() me permite capturar todo 01 item (clave, valor)\n",
        "\n",
        "par_1 = dic_jugadores.popitem()\n",
        "print(f\"El diccionario actualizado de jugadores es \\n{dic_jugadores}\")\n",
        "print(f\"\\nEl par clave:valor eliminado es {par_1}\")"
      ],
      "metadata": {
        "id": "WIndvOc0pyji",
        "colab": {
          "base_uri": "https://localhost:8080/"
        },
        "outputId": "ada4f5b2-e359-4957-df5f-d9461ac8046a"
      },
      "execution_count": 76,
      "outputs": [
        {
          "output_type": "stream",
          "name": "stdout",
          "text": [
            "El diccionario actualizado de jugadores es \n",
            "{'messi': 1000, 'cafu': 100, 'zidane': 5, 'ronaldo': 7, 'iniesta': 8, 'pele': 10}\n",
            "\n",
            "El par clave:valor eliminado es ('kaka', 10)\n"
          ]
        }
      ]
    },
    {
      "cell_type": "code",
      "source": [
        "print(f\"El tipo de dato del par clave:valor eliminado es {type(par_1)}\")"
      ],
      "metadata": {
        "id": "O-9kF0GIqzeQ",
        "colab": {
          "base_uri": "https://localhost:8080/"
        },
        "outputId": "aa057884-3bc9-48ac-e3b2-616cd70f3b82"
      },
      "execution_count": 77,
      "outputs": [
        {
          "output_type": "stream",
          "name": "stdout",
          "text": [
            "El tipo de dato del par clave:valor eliminado es <class 'tuple'>\n"
          ]
        }
      ]
    },
    {
      "cell_type": "markdown",
      "source": [
        "### [11] El Método pop()"
      ],
      "metadata": {
        "id": "k5PJwXtYrZDd"
      }
    },
    {
      "cell_type": "code",
      "source": [
        "print(f\"El diccionario de universidades es \\n{dic_universidades_}\")"
      ],
      "metadata": {
        "id": "zasy68w1rFk0",
        "colab": {
          "base_uri": "https://localhost:8080/"
        },
        "outputId": "70467b33-d0e3-4e53-abd5-3077211ed690"
      },
      "execution_count": 78,
      "outputs": [
        {
          "output_type": "stream",
          "name": "stdout",
          "text": [
            "El diccionario de universidades es \n",
            "{'UTEC': 1, 'UNI': 1, 'UPC': 1, 'UNMSM': 1, 'UNALM': 1}\n"
          ]
        }
      ]
    },
    {
      "cell_type": "code",
      "source": [
        "# El metodo pop() me entrega el valor a partir de la clave eliminada.\n",
        "\n",
        "dic_universidades_.pop(\"UTEC\") # Elimino el par clave: valor a partir de una clave específica, retorna el valor correspondiente a la clave"
      ],
      "metadata": {
        "id": "2pfC9ti7rnSw",
        "colab": {
          "base_uri": "https://localhost:8080/"
        },
        "outputId": "13f9d3c4-066e-491b-bd5b-a09769adb559"
      },
      "execution_count": 79,
      "outputs": [
        {
          "output_type": "execute_result",
          "data": {
            "text/plain": [
              "1"
            ]
          },
          "metadata": {},
          "execution_count": 79
        }
      ]
    },
    {
      "cell_type": "code",
      "source": [
        "print(f\"El diccionario actualizado de universidades es \\n{dic_universidades_}\")"
      ],
      "metadata": {
        "id": "g8AKi3JTsQmY",
        "colab": {
          "base_uri": "https://localhost:8080/"
        },
        "outputId": "e3578ff6-0fe2-4247-f653-a9d11adc75a2"
      },
      "execution_count": 80,
      "outputs": [
        {
          "output_type": "stream",
          "name": "stdout",
          "text": [
            "El diccionario actualizado de universidades es \n",
            "{'UNI': 1, 'UPC': 1, 'UNMSM': 1, 'UNALM': 1}\n"
          ]
        }
      ]
    },
    {
      "cell_type": "code",
      "source": [
        "dic_universidades_.pop(\"ULIMA\") # Elimino el par clave: valor a partir de una clave no existente"
      ],
      "metadata": {
        "id": "YC63zUblsYxO",
        "colab": {
          "base_uri": "https://localhost:8080/",
          "height": 135
        },
        "outputId": "204727a9-5e0f-4470-db58-10aa02444942"
      },
      "execution_count": 81,
      "outputs": [
        {
          "output_type": "error",
          "ename": "KeyError",
          "evalue": "'ULIMA'",
          "traceback": [
            "\u001b[0;31m---------------------------------------------------------------------------\u001b[0m",
            "\u001b[0;31mKeyError\u001b[0m                                  Traceback (most recent call last)",
            "\u001b[0;32m<ipython-input-81-24e9d68e288f>\u001b[0m in \u001b[0;36m<cell line: 0>\u001b[0;34m()\u001b[0m\n\u001b[0;32m----> 1\u001b[0;31m \u001b[0mdic_universidades_\u001b[0m\u001b[0;34m.\u001b[0m\u001b[0mpop\u001b[0m\u001b[0;34m(\u001b[0m\u001b[0;34m\"ULIMA\"\u001b[0m\u001b[0;34m)\u001b[0m \u001b[0;31m# Elimino el par clave: valor a partir de una clave no existente\u001b[0m\u001b[0;34m\u001b[0m\u001b[0;34m\u001b[0m\u001b[0m\n\u001b[0m",
            "\u001b[0;31mKeyError\u001b[0m: 'ULIMA'"
          ]
        }
      ]
    },
    {
      "cell_type": "code",
      "source": [
        "dic_universidades_.pop(\"ULIMA\",999) # Elimino el par clave: valor a partir de una clave no existente"
      ],
      "metadata": {
        "id": "hw2aXY6mtB_A",
        "colab": {
          "base_uri": "https://localhost:8080/"
        },
        "outputId": "f957b4e2-d606-4603-fa9b-a5e30da4c18f"
      },
      "execution_count": 82,
      "outputs": [
        {
          "output_type": "execute_result",
          "data": {
            "text/plain": [
              "999"
            ]
          },
          "metadata": {},
          "execution_count": 82
        }
      ]
    },
    {
      "cell_type": "code",
      "source": [
        "dic_universidades_.pop(\"ULIMA\",\"Clave no existente\") # Elimino el par clave: valor a partir de una clave no existente"
      ],
      "metadata": {
        "id": "vn8MNRawtV5k",
        "colab": {
          "base_uri": "https://localhost:8080/",
          "height": 34
        },
        "outputId": "816ed121-6ff9-4be8-870a-00516540a62f"
      },
      "execution_count": 83,
      "outputs": [
        {
          "output_type": "execute_result",
          "data": {
            "text/plain": [
              "'Clave no existente'"
            ],
            "application/vnd.google.colaboratory.intrinsic+json": {
              "type": "string"
            }
          },
          "metadata": {},
          "execution_count": 83
        }
      ]
    },
    {
      "cell_type": "code",
      "source": [
        "print(f\"El diccionario actualizado de universidades es \\n{dic_universidades_}\")"
      ],
      "metadata": {
        "id": "oCH3tcTgyEMG"
      },
      "execution_count": null,
      "outputs": []
    },
    {
      "cell_type": "markdown",
      "source": [
        "### [12] Método setdefault()"
      ],
      "metadata": {
        "id": "JPv7ncp7uDQC"
      }
    },
    {
      "cell_type": "code",
      "source": [
        "%whos"
      ],
      "metadata": {
        "id": "s7OBybx7thZI",
        "colab": {
          "base_uri": "https://localhost:8080/"
        },
        "outputId": "a8a5a1f0-a41f-4638-9bb1-3a642881293e"
      },
      "execution_count": 86,
      "outputs": [
        {
          "output_type": "stream",
          "name": "stdout",
          "text": [
            "Variable               Type           Data/Info\n",
            "-----------------------------------------------\n",
            "Image                  type           <class 'IPython.core.display.Image'>\n",
            "c                      str            UNALM\n",
            "claves_dic_prod        dict_keys      dict_keys(['detergente', <...>eite', 'cereal', 'cafe'])\n",
            "dc_1                   dict           n=3\n",
            "dic_jugadores          dict           n=6\n",
            "dic_minas              dict           n=3\n",
            "dic_prod               dict           n=5\n",
            "dic_universidades      dict           n=5\n",
            "dic_universidades_     dict           n=4\n",
            "display                function       <function display at 0x7c749d791ee0>\n",
            "files                  module         <module 'google.colab.fil<...>s/google/colab/files.py'>\n",
            "items_dic_jugadores    dict_items     dict_items([('messi', 100<...>esta', 8), ('pele', 10)])\n",
            "keys_dic_jugadores     dict_keys      dict_keys(['messi', 'cafu<...>ldo', 'iniesta', 'pele'])\n",
            "l_dic_prod_keys        list           n=3\n",
            "l_valores_dic_prod     list           n=4\n",
            "lista_universidades    list           n=5\n",
            "par_1                  tuple          n=2\n",
            "prod                   str            gaseosa\n",
            "uploaded               dict           n=1\n",
            "v                      int            1\n",
            "valores_dic_prod       dict_values    dict_values([70, 20, 10, 10, 45])\n",
            "values_dic_jugadores   dict_values    dict_values([1000, 100, 5, 7, 8, 10])\n"
          ]
        }
      ]
    },
    {
      "cell_type": "code",
      "source": [
        "dc_1 = {\"a\":1,\n",
        "        \"b\":2,\n",
        "        \"c\":3\n",
        "        }\n",
        "print(f\"El diccionario es \\n{dc_1}\")"
      ],
      "metadata": {
        "id": "248rMmQ0yc69",
        "outputId": "f31519e8-4c57-47c4-fca2-a07fede71a4f",
        "colab": {
          "base_uri": "https://localhost:8080/"
        }
      },
      "execution_count": 84,
      "outputs": [
        {
          "output_type": "stream",
          "name": "stdout",
          "text": [
            "El diccionario es \n",
            "{'a': 1, 'b': 2, 'c': 3}\n"
          ]
        }
      ]
    },
    {
      "cell_type": "code",
      "source": [
        "print(f\"El diccionario es {dc_1}\")"
      ],
      "metadata": {
        "id": "tFLtEBdZuQhn",
        "colab": {
          "base_uri": "https://localhost:8080/"
        },
        "outputId": "208fa127-83f0-465f-fd43-65ae98073a2d"
      },
      "execution_count": 85,
      "outputs": [
        {
          "output_type": "stream",
          "name": "stdout",
          "text": [
            "El diccionario es {'a': 1, 'b': 2, 'c': 3}\n"
          ]
        }
      ]
    },
    {
      "cell_type": "code",
      "source": [
        "# Me permite buscar la clave que le pida y me entrega el valor.\n",
        "\n",
        "dc_1.setdefault(\"a\") # Va a buscar la clave \"a\" en el diccionario y me entrega el valor"
      ],
      "metadata": {
        "id": "j4BnuM-Pubfm",
        "colab": {
          "base_uri": "https://localhost:8080/"
        },
        "outputId": "b64e3f2c-9195-492c-d270-304c79baaa42"
      },
      "execution_count": 87,
      "outputs": [
        {
          "output_type": "execute_result",
          "data": {
            "text/plain": [
              "1"
            ]
          },
          "metadata": {},
          "execution_count": 87
        }
      ]
    },
    {
      "cell_type": "code",
      "source": [
        "print(f\"El diccionario de jugadores es \\n{dic_jugadores}\")"
      ],
      "metadata": {
        "id": "Ic0CPUuEur15",
        "colab": {
          "base_uri": "https://localhost:8080/"
        },
        "outputId": "6250f4c2-cf27-4465-c1df-1e0f947147f4"
      },
      "execution_count": 88,
      "outputs": [
        {
          "output_type": "stream",
          "name": "stdout",
          "text": [
            "El diccionario de jugadores es \n",
            "{'messi': 1000, 'cafu': 100, 'zidane': 5, 'ronaldo': 7, 'iniesta': 8, 'pele': 10}\n"
          ]
        }
      ]
    },
    {
      "cell_type": "code",
      "source": [
        "dic_jugadores.setdefault(\"zidane\")"
      ],
      "metadata": {
        "id": "A3gV5D_AvATb",
        "colab": {
          "base_uri": "https://localhost:8080/"
        },
        "outputId": "c75c0102-b002-488a-dd27-57e2c256d673"
      },
      "execution_count": 90,
      "outputs": [
        {
          "output_type": "execute_result",
          "data": {
            "text/plain": [
              "5"
            ]
          },
          "metadata": {},
          "execution_count": 90
        }
      ]
    },
    {
      "cell_type": "code",
      "source": [
        "# Si no encuentra el valor que le pida con setdefault, lo agrega al diccionario y le coloca valor \"None\"\n",
        "\n",
        "dic_jugadores.setdefault(\"Maradona\") # Buscar la clave \"Maradona\" en el diccionario dic_jugadores"
      ],
      "metadata": {
        "id": "IP2CwIPzvH-H"
      },
      "execution_count": 94,
      "outputs": []
    },
    {
      "cell_type": "code",
      "source": [
        "print(f\"El diccionario de jugadores es \\n{dic_jugadores}\")"
      ],
      "metadata": {
        "id": "pIbBp48Avhtk",
        "colab": {
          "base_uri": "https://localhost:8080/"
        },
        "outputId": "1d9aa8a6-1a01-475d-ba6a-f7ada0536066"
      },
      "execution_count": 95,
      "outputs": [
        {
          "output_type": "stream",
          "name": "stdout",
          "text": [
            "El diccionario de jugadores es \n",
            "{'messi': 1000, 'cafu': 100, 'zidane': 5, 'ronaldo': 7, 'iniesta': 8, 'pele': 10, 'Maradona': None}\n"
          ]
        }
      ]
    },
    {
      "cell_type": "code",
      "source": [
        "par_2 = dic_jugadores.popitem()\n",
        "print(f\"El diccionario de jugadores es \\n{dic_jugadores}\")\n",
        "print(f\"El par clave:valor eliminado es {par_2}\")"
      ],
      "metadata": {
        "id": "EqdEQIcSvsH_",
        "colab": {
          "base_uri": "https://localhost:8080/"
        },
        "outputId": "93d35064-845d-4501-9f50-16c070015152"
      },
      "execution_count": 96,
      "outputs": [
        {
          "output_type": "stream",
          "name": "stdout",
          "text": [
            "El diccionario de jugadores es \n",
            "{'messi': 1000, 'cafu': 100, 'zidane': 5, 'ronaldo': 7, 'iniesta': 8, 'pele': 10}\n",
            "El par clave:valor eliminado es ('Maradona', None)\n"
          ]
        }
      ]
    },
    {
      "cell_type": "code",
      "source": [
        "# El setdefault de una clave que no encuentra en el diccionario, lo agrega con el valor que le de.\n",
        "\n",
        "dic_jugadores.setdefault(\"Maradona\",111) # Buscar la clave \"Maradona\" en el diccionario dic_jugadores"
      ],
      "metadata": {
        "id": "K3_cXEoFwKfD",
        "colab": {
          "base_uri": "https://localhost:8080/"
        },
        "outputId": "c08d00c1-a58a-45af-a854-13423e15f0da"
      },
      "execution_count": 97,
      "outputs": [
        {
          "output_type": "execute_result",
          "data": {
            "text/plain": [
              "111"
            ]
          },
          "metadata": {},
          "execution_count": 97
        }
      ]
    },
    {
      "cell_type": "code",
      "source": [
        "print(f\"El diccionario de jugadores es \\n{dic_jugadores}\")"
      ],
      "metadata": {
        "id": "uh3LS5G7wdjy",
        "colab": {
          "base_uri": "https://localhost:8080/"
        },
        "outputId": "60e932e3-8079-4cf7-bed6-c4dcac0fb2bf"
      },
      "execution_count": 98,
      "outputs": [
        {
          "output_type": "stream",
          "name": "stdout",
          "text": [
            "El diccionario de jugadores es \n",
            "{'messi': 1000, 'cafu': 100, 'zidane': 5, 'ronaldo': 7, 'iniesta': 8, 'pele': 10, 'Maradona': 111}\n"
          ]
        }
      ]
    },
    {
      "cell_type": "code",
      "source": [
        "# Si la clave si existe, no reemplaza el valor que le coloquemos en el setdefault\n",
        "\n",
        "dic_jugadores.setdefault(\"Maradona\",999)"
      ],
      "metadata": {
        "id": "eXfi-cpHxCf2",
        "colab": {
          "base_uri": "https://localhost:8080/"
        },
        "outputId": "a08681e4-f552-4e05-8443-e9235686ac8d"
      },
      "execution_count": 101,
      "outputs": [
        {
          "output_type": "execute_result",
          "data": {
            "text/plain": [
              "111"
            ]
          },
          "metadata": {},
          "execution_count": 101
        }
      ]
    },
    {
      "cell_type": "code",
      "source": [
        "print(f\"El diccionario de jugadores es \\n{dic_jugadores}\")"
      ],
      "metadata": {
        "id": "hFv09IOYxLST",
        "colab": {
          "base_uri": "https://localhost:8080/"
        },
        "outputId": "dd0c2bac-a12f-4bd5-9d23-2adb608e112b"
      },
      "execution_count": 102,
      "outputs": [
        {
          "output_type": "stream",
          "name": "stdout",
          "text": [
            "El diccionario de jugadores es \n",
            "{'messi': 1000, 'cafu': 100, 'zidane': 5, 'ronaldo': 7, 'iniesta': 8, 'pele': 10, 'Maradona': 111}\n"
          ]
        }
      ]
    },
    {
      "cell_type": "code",
      "source": [
        "# Crear un diccionario con setdefault\n",
        "\n",
        "mi_diccionario = {} # Diccinario vacío\n",
        "\n",
        "mi_diccionario.setdefault(\"frutas\",[]).append(\"manzana\")\n",
        "\n",
        "print(f\"El diccionario actualizado es {mi_diccionario}\")"
      ],
      "metadata": {
        "id": "vn-sKgHiwgk4",
        "colab": {
          "base_uri": "https://localhost:8080/"
        },
        "outputId": "7e68e49b-74de-44c4-d284-a56946b9f2c8"
      },
      "execution_count": 103,
      "outputs": [
        {
          "output_type": "stream",
          "name": "stdout",
          "text": [
            "El diccionario actualizado es {'frutas': ['manzana']}\n"
          ]
        }
      ]
    },
    {
      "cell_type": "code",
      "source": [
        "mi_diccionario.setdefault(\"frutas\",[]).append(\"pera\")\n",
        "\n",
        "print(f\"El diccionario actualizado es {mi_diccionario}\")"
      ],
      "metadata": {
        "id": "9fSqogfAyhSc",
        "colab": {
          "base_uri": "https://localhost:8080/"
        },
        "outputId": "70f0b3b4-c74b-4e61-f726-9b7d15fe23dd"
      },
      "execution_count": 104,
      "outputs": [
        {
          "output_type": "stream",
          "name": "stdout",
          "text": [
            "El diccionario actualizado es {'frutas': ['manzana', 'pera']}\n"
          ]
        }
      ]
    },
    {
      "cell_type": "markdown",
      "source": [
        "### [13] Método update()"
      ],
      "metadata": {
        "id": "kfiXm5vZFwb_"
      }
    },
    {
      "cell_type": "code",
      "source": [
        "dc_16 = {\"a\":10,\n",
        "         \"b\":15,\n",
        "         \"c\":20\n",
        "         }\n",
        "\n",
        "print(f\"El diccionario dc_16 es \\n{dc_16}\")"
      ],
      "metadata": {
        "id": "lVOsa9o-zZ_s",
        "colab": {
          "base_uri": "https://localhost:8080/"
        },
        "outputId": "bf4dbf62-86fd-4b47-b732-5b446540d0e1"
      },
      "execution_count": 105,
      "outputs": [
        {
          "output_type": "stream",
          "name": "stdout",
          "text": [
            "El diccionario dc_16 es \n",
            "{'a': 10, 'b': 15, 'c': 20}\n"
          ]
        }
      ]
    },
    {
      "cell_type": "code",
      "source": [
        "dc_16.update({\"d\":100}) # actualizar el diccionario, ingresando 1 par clave:valor\n",
        "print(f\"El diccionario dc_16 es \\n{dc_16}\")"
      ],
      "metadata": {
        "id": "QNi8TTvwGaxJ",
        "colab": {
          "base_uri": "https://localhost:8080/"
        },
        "outputId": "1137c1b2-0c1f-46f4-c6ba-42ceae44cf33"
      },
      "execution_count": 122,
      "outputs": [
        {
          "output_type": "stream",
          "name": "stdout",
          "text": [
            "El diccionario dc_16 es \n",
            "{'a': 10, 'b': 15, 'c': 20, 'd': 100, 'e': 100, 'f': 1000}\n"
          ]
        }
      ]
    },
    {
      "cell_type": "code",
      "source": [
        "dc_16.update({\"e\":100,\"f\":1000}) # actualizar el diccionario\n",
        "# ingresar +1 par a nivel de clave:valor\n",
        "print(f\"El diccionario dc_16 es \\n{dc_16}\")"
      ],
      "metadata": {
        "id": "xKak-meaG8ud",
        "colab": {
          "base_uri": "https://localhost:8080/"
        },
        "outputId": "4c597c56-efbd-4390-88ad-9f126def4eac"
      },
      "execution_count": 107,
      "outputs": [
        {
          "output_type": "stream",
          "name": "stdout",
          "text": [
            "El diccionario dc_16 es \n",
            "{'a': 10, 'b': 15, 'c': 20, 'd': 100, 'e': 100, 'f': 1000}\n"
          ]
        }
      ]
    },
    {
      "cell_type": "code",
      "source": [
        "# Diccionario inicial\n",
        "mi_diccionario = {\"a\":1,\n",
        "                  \"b\":2\n",
        "                  }\n",
        "# Diccionario para actualizar\n",
        "diccionario_u = {\"c\":3,\n",
        "                 \"d\":4\n",
        "                 }\n",
        "# Mostrar los diccionarios creados\n",
        "print(f\"El diccionario inicial es \\n{mi_diccionario}\")\n",
        "print(f\"El diccionario para actualizar es \\n{diccionario_u}\")"
      ],
      "metadata": {
        "id": "A_faxuHxHZf5",
        "colab": {
          "base_uri": "https://localhost:8080/"
        },
        "outputId": "3fbb95cd-207d-489e-d4d8-2acee47791f9"
      },
      "execution_count": 108,
      "outputs": [
        {
          "output_type": "stream",
          "name": "stdout",
          "text": [
            "El diccionario inicial es \n",
            "{'a': 1, 'b': 2}\n",
            "El diccionario para actualizar es \n",
            "{'c': 3, 'd': 4}\n"
          ]
        }
      ]
    },
    {
      "cell_type": "code",
      "source": [
        "mi_diccionario.update(diccionario_u)\n",
        "print(f\"El diccionario actualizado es \\n{mi_diccionario}\")"
      ],
      "metadata": {
        "id": "dQshIo99IdzD",
        "colab": {
          "base_uri": "https://localhost:8080/"
        },
        "outputId": "13317e03-772a-47ba-973a-6f698cbd392a"
      },
      "execution_count": 109,
      "outputs": [
        {
          "output_type": "stream",
          "name": "stdout",
          "text": [
            "El diccionario actualizado es \n",
            "{'a': 1, 'b': 2, 'c': 3, 'd': 4}\n"
          ]
        }
      ]
    },
    {
      "cell_type": "code",
      "source": [
        "# Diccionario inicial\n",
        "mi_diccionario = {\"a\":1,\n",
        "                  \"b\":2\n",
        "                  }\n",
        "# Diccionario para actualizar\n",
        "diccionario_u = {\"b\":3,\n",
        "                 \"c\":4\n",
        "                 }\n",
        "# Mostrar los diccionarios creados\n",
        "print(f\"El diccionario inicial es \\n{mi_diccionario}\")\n",
        "print(f\"El diccionario para actualizar es \\n{diccionario_u}\")"
      ],
      "metadata": {
        "id": "nLW_Ee1TI0Ka",
        "colab": {
          "base_uri": "https://localhost:8080/"
        },
        "outputId": "4e85d9db-3aab-4fdd-c914-95b6aca1e220"
      },
      "execution_count": 110,
      "outputs": [
        {
          "output_type": "stream",
          "name": "stdout",
          "text": [
            "El diccionario inicial es \n",
            "{'a': 1, 'b': 2}\n",
            "El diccionario para actualizar es \n",
            "{'b': 3, 'c': 4}\n"
          ]
        }
      ]
    },
    {
      "cell_type": "code",
      "source": [
        "mi_diccionario.update(diccionario_u)\n",
        "print(f\"El diccionario actualizado es \\n{mi_diccionario}\")"
      ],
      "metadata": {
        "id": "AIue9Pp0J6Ry",
        "colab": {
          "base_uri": "https://localhost:8080/"
        },
        "outputId": "18937bbb-2c20-453d-d5f7-96553eca28ec"
      },
      "execution_count": 111,
      "outputs": [
        {
          "output_type": "stream",
          "name": "stdout",
          "text": [
            "El diccionario actualizado es \n",
            "{'a': 1, 'b': 3, 'c': 4}\n"
          ]
        }
      ]
    },
    {
      "cell_type": "code",
      "source": [
        "# Actualización del diccionario a través de argumentos nombrados\n",
        "mi_diccionario.update(z=30,x=15)\n",
        "print(f\"El diccionario actualizado es \\n{mi_diccionario}\")"
      ],
      "metadata": {
        "id": "zTqiMP2KKKaq",
        "colab": {
          "base_uri": "https://localhost:8080/"
        },
        "outputId": "026707a8-46f2-4a7e-bfc8-bc031706885c"
      },
      "execution_count": 112,
      "outputs": [
        {
          "output_type": "stream",
          "name": "stdout",
          "text": [
            "El diccionario actualizado es \n",
            "{'a': 1, 'b': 3, 'c': 4, 'z': 30, 'x': 15}\n"
          ]
        }
      ]
    },
    {
      "cell_type": "code",
      "source": [
        "# Actualización de un diccionario usando una lista de tuplas\n",
        "mi_diccionario.update([(\"a\",10),(\"w\",20)])\n",
        "print(f\"El diccionario actualizado es \\n{mi_diccionario}\")"
      ],
      "metadata": {
        "id": "LmoZEpugK-Sw",
        "colab": {
          "base_uri": "https://localhost:8080/"
        },
        "outputId": "6f3d7fa2-872f-499e-9f77-f665b182ba0a"
      },
      "execution_count": 113,
      "outputs": [
        {
          "output_type": "stream",
          "name": "stdout",
          "text": [
            "El diccionario actualizado es \n",
            "{'a': 10, 'b': 3, 'c': 4, 'z': 30, 'x': 15, 'w': 20}\n"
          ]
        }
      ]
    },
    {
      "cell_type": "markdown",
      "source": [
        "### [14] Método get()"
      ],
      "metadata": {
        "id": "L027FZ7IM8PR"
      }
    },
    {
      "cell_type": "code",
      "source": [
        "mi_diccionario.get(\"b\")"
      ],
      "metadata": {
        "id": "iCAyuNUAMliX",
        "colab": {
          "base_uri": "https://localhost:8080/"
        },
        "outputId": "ab1727ed-72a2-4ad1-cd52-213a18561a33"
      },
      "execution_count": 114,
      "outputs": [
        {
          "output_type": "execute_result",
          "data": {
            "text/plain": [
              "3"
            ]
          },
          "metadata": {},
          "execution_count": 114
        }
      ]
    },
    {
      "cell_type": "code",
      "source": [
        "mi_diccionario.get(\"m\") # No encuentra el valor de la clave, y no sufre cambios"
      ],
      "metadata": {
        "id": "VZkYUV75NMBq"
      },
      "execution_count": 116,
      "outputs": []
    },
    {
      "cell_type": "code",
      "source": [
        "print(f\"El diccionario actualizado es \\n{mi_diccionario}\")"
      ],
      "metadata": {
        "id": "S2jJ5j3sNWX1",
        "colab": {
          "base_uri": "https://localhost:8080/"
        },
        "outputId": "d4ef0b52-6977-458f-b406-6ec0a4adfe73"
      },
      "execution_count": 117,
      "outputs": [
        {
          "output_type": "stream",
          "name": "stdout",
          "text": [
            "El diccionario actualizado es \n",
            "{'a': 10, 'b': 3, 'c': 4, 'z': 30, 'x': 15, 'w': 20}\n"
          ]
        }
      ]
    },
    {
      "cell_type": "code",
      "source": [
        "mi_diccionario.get(\"m\",\"Clave no existente\")"
      ],
      "metadata": {
        "id": "WEgBwoijNh5o",
        "colab": {
          "base_uri": "https://localhost:8080/",
          "height": 34
        },
        "outputId": "5f1bbe6e-dd5d-4624-8f25-dc2ab3a28f85"
      },
      "execution_count": 118,
      "outputs": [
        {
          "output_type": "execute_result",
          "data": {
            "text/plain": [
              "'Clave no existente'"
            ],
            "application/vnd.google.colaboratory.intrinsic+json": {
              "type": "string"
            }
          },
          "metadata": {},
          "execution_count": 118
        }
      ]
    },
    {
      "cell_type": "markdown",
      "source": [
        "### Actividad N033"
      ],
      "metadata": {
        "id": "3UYj8Qs42li8"
      }
    },
    {
      "cell_type": "markdown",
      "source": [
        "Crea el diccionario notas_estudiantes, calcula el promedio de cada estudiante e imprime el resultado del promedio de notas de cada estudiante por pantalla"
      ],
      "metadata": {
        "id": "e8mYSNaY3Av7"
      }
    },
    {
      "cell_type": "code",
      "source": [
        "from google.colab import files\n",
        "\n",
        "# Subir archivo desde tu máquina local\n",
        "uploaded = files.upload()"
      ],
      "metadata": {
        "id": "2wU6bCEyN2lh",
        "colab": {
          "base_uri": "https://localhost:8080/",
          "height": 69
        },
        "outputId": "2d086517-234c-495e-8e44-d76f7db46b31"
      },
      "execution_count": 123,
      "outputs": [
        {
          "output_type": "display_data",
          "data": {
            "text/plain": [
              "<IPython.core.display.HTML object>"
            ],
            "text/html": [
              "\n",
              "     <input type=\"file\" id=\"files-17b7c161-47f5-427a-a81d-853a62debb2a\" name=\"files[]\" multiple disabled\n",
              "        style=\"border:none\" />\n",
              "     <output id=\"result-17b7c161-47f5-427a-a81d-853a62debb2a\">\n",
              "      Upload widget is only available when the cell has been executed in the\n",
              "      current browser session. Please rerun this cell to enable.\n",
              "      </output>\n",
              "      <script>// Copyright 2017 Google LLC\n",
              "//\n",
              "// Licensed under the Apache License, Version 2.0 (the \"License\");\n",
              "// you may not use this file except in compliance with the License.\n",
              "// You may obtain a copy of the License at\n",
              "//\n",
              "//      http://www.apache.org/licenses/LICENSE-2.0\n",
              "//\n",
              "// Unless required by applicable law or agreed to in writing, software\n",
              "// distributed under the License is distributed on an \"AS IS\" BASIS,\n",
              "// WITHOUT WARRANTIES OR CONDITIONS OF ANY KIND, either express or implied.\n",
              "// See the License for the specific language governing permissions and\n",
              "// limitations under the License.\n",
              "\n",
              "/**\n",
              " * @fileoverview Helpers for google.colab Python module.\n",
              " */\n",
              "(function(scope) {\n",
              "function span(text, styleAttributes = {}) {\n",
              "  const element = document.createElement('span');\n",
              "  element.textContent = text;\n",
              "  for (const key of Object.keys(styleAttributes)) {\n",
              "    element.style[key] = styleAttributes[key];\n",
              "  }\n",
              "  return element;\n",
              "}\n",
              "\n",
              "// Max number of bytes which will be uploaded at a time.\n",
              "const MAX_PAYLOAD_SIZE = 100 * 1024;\n",
              "\n",
              "function _uploadFiles(inputId, outputId) {\n",
              "  const steps = uploadFilesStep(inputId, outputId);\n",
              "  const outputElement = document.getElementById(outputId);\n",
              "  // Cache steps on the outputElement to make it available for the next call\n",
              "  // to uploadFilesContinue from Python.\n",
              "  outputElement.steps = steps;\n",
              "\n",
              "  return _uploadFilesContinue(outputId);\n",
              "}\n",
              "\n",
              "// This is roughly an async generator (not supported in the browser yet),\n",
              "// where there are multiple asynchronous steps and the Python side is going\n",
              "// to poll for completion of each step.\n",
              "// This uses a Promise to block the python side on completion of each step,\n",
              "// then passes the result of the previous step as the input to the next step.\n",
              "function _uploadFilesContinue(outputId) {\n",
              "  const outputElement = document.getElementById(outputId);\n",
              "  const steps = outputElement.steps;\n",
              "\n",
              "  const next = steps.next(outputElement.lastPromiseValue);\n",
              "  return Promise.resolve(next.value.promise).then((value) => {\n",
              "    // Cache the last promise value to make it available to the next\n",
              "    // step of the generator.\n",
              "    outputElement.lastPromiseValue = value;\n",
              "    return next.value.response;\n",
              "  });\n",
              "}\n",
              "\n",
              "/**\n",
              " * Generator function which is called between each async step of the upload\n",
              " * process.\n",
              " * @param {string} inputId Element ID of the input file picker element.\n",
              " * @param {string} outputId Element ID of the output display.\n",
              " * @return {!Iterable<!Object>} Iterable of next steps.\n",
              " */\n",
              "function* uploadFilesStep(inputId, outputId) {\n",
              "  const inputElement = document.getElementById(inputId);\n",
              "  inputElement.disabled = false;\n",
              "\n",
              "  const outputElement = document.getElementById(outputId);\n",
              "  outputElement.innerHTML = '';\n",
              "\n",
              "  const pickedPromise = new Promise((resolve) => {\n",
              "    inputElement.addEventListener('change', (e) => {\n",
              "      resolve(e.target.files);\n",
              "    });\n",
              "  });\n",
              "\n",
              "  const cancel = document.createElement('button');\n",
              "  inputElement.parentElement.appendChild(cancel);\n",
              "  cancel.textContent = 'Cancel upload';\n",
              "  const cancelPromise = new Promise((resolve) => {\n",
              "    cancel.onclick = () => {\n",
              "      resolve(null);\n",
              "    };\n",
              "  });\n",
              "\n",
              "  // Wait for the user to pick the files.\n",
              "  const files = yield {\n",
              "    promise: Promise.race([pickedPromise, cancelPromise]),\n",
              "    response: {\n",
              "      action: 'starting',\n",
              "    }\n",
              "  };\n",
              "\n",
              "  cancel.remove();\n",
              "\n",
              "  // Disable the input element since further picks are not allowed.\n",
              "  inputElement.disabled = true;\n",
              "\n",
              "  if (!files) {\n",
              "    return {\n",
              "      response: {\n",
              "        action: 'complete',\n",
              "      }\n",
              "    };\n",
              "  }\n",
              "\n",
              "  for (const file of files) {\n",
              "    const li = document.createElement('li');\n",
              "    li.append(span(file.name, {fontWeight: 'bold'}));\n",
              "    li.append(span(\n",
              "        `(${file.type || 'n/a'}) - ${file.size} bytes, ` +\n",
              "        `last modified: ${\n",
              "            file.lastModifiedDate ? file.lastModifiedDate.toLocaleDateString() :\n",
              "                                    'n/a'} - `));\n",
              "    const percent = span('0% done');\n",
              "    li.appendChild(percent);\n",
              "\n",
              "    outputElement.appendChild(li);\n",
              "\n",
              "    const fileDataPromise = new Promise((resolve) => {\n",
              "      const reader = new FileReader();\n",
              "      reader.onload = (e) => {\n",
              "        resolve(e.target.result);\n",
              "      };\n",
              "      reader.readAsArrayBuffer(file);\n",
              "    });\n",
              "    // Wait for the data to be ready.\n",
              "    let fileData = yield {\n",
              "      promise: fileDataPromise,\n",
              "      response: {\n",
              "        action: 'continue',\n",
              "      }\n",
              "    };\n",
              "\n",
              "    // Use a chunked sending to avoid message size limits. See b/62115660.\n",
              "    let position = 0;\n",
              "    do {\n",
              "      const length = Math.min(fileData.byteLength - position, MAX_PAYLOAD_SIZE);\n",
              "      const chunk = new Uint8Array(fileData, position, length);\n",
              "      position += length;\n",
              "\n",
              "      const base64 = btoa(String.fromCharCode.apply(null, chunk));\n",
              "      yield {\n",
              "        response: {\n",
              "          action: 'append',\n",
              "          file: file.name,\n",
              "          data: base64,\n",
              "        },\n",
              "      };\n",
              "\n",
              "      let percentDone = fileData.byteLength === 0 ?\n",
              "          100 :\n",
              "          Math.round((position / fileData.byteLength) * 100);\n",
              "      percent.textContent = `${percentDone}% done`;\n",
              "\n",
              "    } while (position < fileData.byteLength);\n",
              "  }\n",
              "\n",
              "  // All done.\n",
              "  yield {\n",
              "    response: {\n",
              "      action: 'complete',\n",
              "    }\n",
              "  };\n",
              "}\n",
              "\n",
              "scope.google = scope.google || {};\n",
              "scope.google.colab = scope.google.colab || {};\n",
              "scope.google.colab._files = {\n",
              "  _uploadFiles,\n",
              "  _uploadFilesContinue,\n",
              "};\n",
              "})(self);\n",
              "</script> "
            ]
          },
          "metadata": {}
        },
        {
          "output_type": "stream",
          "name": "stdout",
          "text": [
            "Saving Actividad 33.png to Actividad 33.png\n"
          ]
        }
      ]
    },
    {
      "cell_type": "code",
      "source": [
        "from IPython.display import Image, display\n",
        "\n",
        "# Mostrar la imagen en Colab\n",
        "display(Image(filename='Actividad 33.png'))"
      ],
      "metadata": {
        "id": "DQqpPXhd3hgm",
        "colab": {
          "base_uri": "https://localhost:8080/",
          "height": 495
        },
        "outputId": "da3093ab-dad3-423d-bbb1-25d97ea2281b"
      },
      "execution_count": 125,
      "outputs": [
        {
          "output_type": "display_data",
          "data": {
            "image/png": "[encoded data removed]",
            "text/plain": [
              "<IPython.core.display.Image object>"
            ]
          },
          "metadata": {}
        }
      ]
    },
    {
      "cell_type": "code",
      "source": [
        "grades_students = {\n",
        "    \"Ana\": [18, 16, 19],\n",
        "    \"Luis\": [12, 13, 11],\n",
        "    \"Carla\": [14, 15, 14]\n",
        "}\n",
        "for c in grades_students:\n",
        "  average = sum(grades_students[c])/len(grades_students[c])\n",
        "  print(f\"- El promedio de {c} es: {average:.2f}\")"
      ],
      "metadata": {
        "id": "x9az_3oi4ad7",
        "colab": {
          "base_uri": "https://localhost:8080/"
        },
        "outputId": "f4926dd7-ffba-4bb1-e06b-d91ed3391e42"
      },
      "execution_count": 133,
      "outputs": [
        {
          "output_type": "stream",
          "name": "stdout",
          "text": [
            "- El promedio de Ana es: 17.67\n",
            "- El promedio de Luis es: 12.00\n",
            "- El promedio de Carla es: 14.33\n"
          ]
        }
      ]
    },
    {
      "cell_type": "code",
      "source": [
        "print(grades_students.values())"
      ],
      "metadata": {
        "id": "FJshu4pq4FqP",
        "outputId": "9436907b-1677-4b9d-ee9e-b150ec840e2b",
        "colab": {
          "base_uri": "https://localhost:8080/"
        }
      },
      "execution_count": 134,
      "outputs": [
        {
          "output_type": "stream",
          "name": "stdout",
          "text": [
            "dict_values([[18, 16, 19], [12, 13, 11], [14, 15, 14]])\n"
          ]
        }
      ]
    }
  ]
}