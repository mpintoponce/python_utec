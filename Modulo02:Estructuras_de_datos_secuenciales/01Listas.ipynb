{
  "nbformat": 4,
  "nbformat_minor": 0,
  "metadata": {
    "colab": {
      "provenance": [],
      "include_colab_link": true
    },
    "kernelspec": {
      "name": "python3",
      "display_name": "Python 3"
    },
    "language_info": {
      "name": "python"
    }
  },
  "cells": [
    {
      "cell_type": "markdown",
      "metadata": {
        "id": "view-in-github",
        "colab_type": "text"
      },
      "source": [
        "<a href=\"https://colab.research.google.com/github/mpintoponce/python_utec/blob/main/Modulo02%3AEstructuras_de_datos_secuenciales/01Listas.ipynb\" target=\"_parent\"><img src=\"https://colab.research.google.com/assets/colab-badge.svg\" alt=\"Open In Colab\"/></a>"
      ]
    },
    {
      "cell_type": "markdown",
      "source": [
        "## [1] Ejemplos de resutados en Python (listas)"
      ],
      "metadata": {
        "id": "RC5ssv_RyXXl"
      }
    },
    {
      "cell_type": "markdown",
      "source": [
        "### [1.1] De expresiones regulares"
      ],
      "metadata": {
        "id": "m8U92nipzNEz"
      }
    },
    {
      "cell_type": "code",
      "execution_count": 1,
      "metadata": {
        "id": "y2j3ZkyJxfTf",
        "outputId": "39a4bb2a-3a7b-4519-dfa0-fb8d4a02890d",
        "colab": {
          "base_uri": "https://localhost:8080/"
        }
      },
      "outputs": [
        {
          "output_type": "stream",
          "name": "stdout",
          "text": [
            "['david@example.com', 'ana123@gmail.com']\n"
          ]
        }
      ],
      "source": [
        "import re # Estoy importante un empaquetado de funciones, el \"re\" me permite buscar\n",
        "\n",
        "texto = \"Mi correo es david@example.com y el de Ana es ana123@gmail.com\"\n",
        "correos = re.findall(r'\\S+@\\S+', texto)\n",
        "print(correos)\n",
        "\n",
        "# Existen muchas funciones que tienen como resultado lista."
      ]
    },
    {
      "cell_type": "code",
      "source": [
        "type(correos)"
      ],
      "metadata": {
        "id": "E-JxjBuwyavM",
        "outputId": "d42b251e-070a-4a13-dd80-bc1dd087a856",
        "colab": {
          "base_uri": "https://localhost:8080/"
        }
      },
      "execution_count": 2,
      "outputs": [
        {
          "output_type": "execute_result",
          "data": {
            "text/plain": [
              "list"
            ]
          },
          "metadata": {},
          "execution_count": 2
        }
      ]
    },
    {
      "cell_type": "markdown",
      "source": [
        "### [1.2] Del uso de librerías"
      ],
      "metadata": {
        "id": "emDsY1i0z-Ej"
      }
    },
    {
      "cell_type": "code",
      "source": [
        "import sys\n",
        "\n",
        "sys.path"
      ],
      "metadata": {
        "id": "p6yeYDvb0Lr7",
        "outputId": "53b676b0-0864-4989-cc7c-b7a791868b6b",
        "colab": {
          "base_uri": "https://localhost:8080/"
        }
      },
      "execution_count": 3,
      "outputs": [
        {
          "output_type": "execute_result",
          "data": {
            "text/plain": [
              "['/content',\n",
              " '/env/python',\n",
              " '/usr/lib/python311.zip',\n",
              " '/usr/lib/python3.11',\n",
              " '/usr/lib/python3.11/lib-dynload',\n",
              " '',\n",
              " '/usr/local/lib/python3.11/dist-packages',\n",
              " '/usr/lib/python3/dist-packages',\n",
              " '/usr/local/lib/python3.11/dist-packages/IPython/extensions',\n",
              " '/usr/local/lib/python3.11/dist-packages/setuptools/_vendor',\n",
              " '/root/.ipython']"
            ]
          },
          "metadata": {},
          "execution_count": 3
        }
      ]
    },
    {
      "cell_type": "code",
      "source": [
        "type(sys.path)"
      ],
      "metadata": {
        "id": "3QgxX7400Tod",
        "outputId": "e626975c-423f-485d-a3d6-10d7180aeaf3",
        "colab": {
          "base_uri": "https://localhost:8080/"
        }
      },
      "execution_count": 4,
      "outputs": [
        {
          "output_type": "execute_result",
          "data": {
            "text/plain": [
              "list"
            ]
          },
          "metadata": {},
          "execution_count": 4
        }
      ]
    },
    {
      "cell_type": "markdown",
      "source": [
        "### [1.3] De Dataframes"
      ],
      "metadata": {
        "id": "SrQhILEo0bwm"
      }
    },
    {
      "cell_type": "code",
      "source": [
        "import pandas as pd\n",
        "\n",
        "df = pd.read_csv(\"/content/clientes.csv\", sep=\";\") # Función read_csv\n",
        "nombres = df.columns.tolist() # Las columnas las vamos a almacenar a través de una lista.\n",
        "print(nombres) # Me arroja como elementos el nombre de las variables."
      ],
      "metadata": {
        "id": "wvk_SxO8zEaK",
        "outputId": "03c7140f-2216-425a-a1d3-0ee59bd9cd66",
        "colab": {
          "base_uri": "https://localhost:8080/"
        }
      },
      "execution_count": 5,
      "outputs": [
        {
          "output_type": "stream",
          "name": "stdout",
          "text": [
            "['ID', 'EDAD', 'INGRESOS', 'RIESGO', 'LINEA_TC']\n"
          ]
        }
      ]
    },
    {
      "cell_type": "code",
      "source": [
        "type(nombres)"
      ],
      "metadata": {
        "id": "m77tovvY0sQC",
        "outputId": "c4ab6982-33fc-443c-b1f7-d8aae7d8f3d7",
        "colab": {
          "base_uri": "https://localhost:8080/"
        }
      },
      "execution_count": 6,
      "outputs": [
        {
          "output_type": "execute_result",
          "data": {
            "text/plain": [
              "list"
            ]
          },
          "metadata": {},
          "execution_count": 6
        }
      ]
    },
    {
      "cell_type": "markdown",
      "source": [
        "### [1.3] De archivos de texto"
      ],
      "metadata": {
        "id": "ZmHzYEI91xj3"
      }
    },
    {
      "cell_type": "code",
      "source": [
        "import csv\n",
        "\n",
        "with open(\"/content/clientes.csv\", newline='') as archivo:\n",
        "    lector = csv.reader(archivo, delimiter=';')\n",
        "    filas = list(lector) # Estoy colocando en una lista cada cliente.\n",
        "    print(filas)  # Lista de listas (filas del archivo CSV)\n"
      ],
      "metadata": {
        "id": "Sp2JIB8x1Gp0",
        "outputId": "61535b83-b24a-4ef0-a901-dc6716ea8630",
        "colab": {
          "base_uri": "https://localhost:8080/"
        }
      },
      "execution_count": 7,
      "outputs": [
        {
          "output_type": "stream",
          "name": "stdout",
          "text": [
            "[['ID', 'EDAD', 'INGRESOS', 'RIESGO', 'LINEA_TC'], ['123', '36', '1348', 'A', '49924'], ['234', '52', '9479', 'A', '28454'], ['345', '60', '7511', 'B', '14250'], ['456', '40', '7992', 'C', '32064'], ['567', '58', '2675', 'C', '1485'], ['678', '47', '7086', 'D', '29157'], ['789', '31', '4704', 'E', '14945'], ['999', '42', '6245', 'E', '8798']]\n"
          ]
        }
      ]
    },
    {
      "cell_type": "code",
      "source": [
        "# Las listas son heterogéneas, porque tiene un Caracter: \"Riesgo\""
      ],
      "metadata": {
        "id": "uDK-tt7FOJKv"
      },
      "execution_count": null,
      "outputs": []
    },
    {
      "cell_type": "markdown",
      "source": [
        "## [2] Crear una lista"
      ],
      "metadata": {
        "id": "irKBCMSW02eJ"
      }
    },
    {
      "cell_type": "markdown",
      "source": [
        "### Actividad N001"
      ],
      "metadata": {
        "id": "--8g9GOM463B"
      }
    },
    {
      "cell_type": "code",
      "source": [
        "lugares = ['macchupichu','punta sal','pastoruri','laguna sauce','huacachina'] # Es una lista homogénea, porque todos los elementos que estan es cadena de caracteres"
      ],
      "metadata": {
        "id": "vnmUFQc_0xKy"
      },
      "execution_count": 8,
      "outputs": []
    },
    {
      "cell_type": "code",
      "source": [
        "print(f\"La lista de mis lugares favoritos es \\n {lugares}\")"
      ],
      "metadata": {
        "id": "EwmY7UZh21hv",
        "outputId": "6ebb03db-3d02-4d40-cff9-962bd3807513",
        "colab": {
          "base_uri": "https://localhost:8080/"
        }
      },
      "execution_count": 9,
      "outputs": [
        {
          "output_type": "stream",
          "name": "stdout",
          "text": [
            "La lista de mis lugares favoritos es \n",
            " ['macchupichu', 'punta sal', 'pastoruri', 'laguna sauce', 'huacachina']\n"
          ]
        }
      ]
    },
    {
      "cell_type": "markdown",
      "source": [
        "## [3] Tipos de listas"
      ],
      "metadata": {
        "id": "wQ0it4O23BVX"
      }
    },
    {
      "cell_type": "markdown",
      "source": [
        "### Actividad N002"
      ],
      "metadata": {
        "id": "mJ__gEzN5A8u"
      }
    },
    {
      "cell_type": "code",
      "source": [
        "nombre = 'david'\n",
        "apellidoPaterno = 'allende'\n",
        "profesion = 'estadístico'\n",
        "edad = 37\n",
        "centroLabores = 'misd'\n",
        "aniosExperiencia = 13\n",
        "\n",
        "info_personal = [nombre, apellidoPaterno, profesion, edad, centroLabores, aniosExperiencia]"
      ],
      "metadata": {
        "id": "GaG9FW5Y27RN"
      },
      "execution_count": null,
      "outputs": []
    },
    {
      "cell_type": "code",
      "source": [
        "print(f\"La lista info_personal contiene \\n {info_personal}\")"
      ],
      "metadata": {
        "id": "aK6OVxAI3oUN"
      },
      "execution_count": null,
      "outputs": []
    },
    {
      "cell_type": "code",
      "source": [
        "name = \"Miguel\"\n",
        "last_name = \"Pinto\"\n",
        "proffesion = \"Ingeniero\"\n",
        "age = 30\n",
        "work_place = \"Pluspetrol\"\n",
        "year_experience = 7\n",
        "\n",
        "personal_info = [name, last_name, proffesion, age, work_place, year_experience] # Es una lista hetereogenea, tienes caracteres y números."
      ],
      "metadata": {
        "id": "3bdwIwnrORze"
      },
      "execution_count": 57,
      "outputs": []
    },
    {
      "cell_type": "code",
      "source": [
        "print(f\"La lista personal_info contiene \\n {personal_info}\")"
      ],
      "metadata": {
        "id": "51DE1rHeO0cu",
        "outputId": "a2fd0a6a-dc6c-4c1b-c4e1-40fecd830541",
        "colab": {
          "base_uri": "https://localhost:8080/"
        }
      },
      "execution_count": 11,
      "outputs": [
        {
          "output_type": "stream",
          "name": "stdout",
          "text": [
            "La lista personal_info contiene \n",
            " ['Miguel', 'Pinto', 'Ingeniero', 30, 'Gas Plant', 7]\n"
          ]
        }
      ]
    },
    {
      "cell_type": "markdown",
      "source": [
        "## [4] Acceder a los elementos de una lista"
      ],
      "metadata": {
        "id": "7Bw-DDlF31UD"
      }
    },
    {
      "cell_type": "code",
      "source": [
        "materias = ['álgebra','aritmética','razonamiento verbal','trigonometría','geometría']"
      ],
      "metadata": {
        "id": "WFYgRar93v2D"
      },
      "execution_count": 48,
      "outputs": []
    },
    {
      "cell_type": "code",
      "source": [
        "print(f\"La lista materias contiene:\")\n",
        "for i in range(len(materias)):\n",
        "  print(f\"{i+1}. {materias[i].capitalize()}\")\n",
        "print(f\"\\nEl segundo elemento de la lista es {materias[1]}.\")"
      ],
      "metadata": {
        "id": "lTC_xydf4VfA",
        "outputId": "9fd0250b-2fcc-42fb-975b-3af17d57a6e7",
        "colab": {
          "base_uri": "https://localhost:8080/"
        }
      },
      "execution_count": 29,
      "outputs": [
        {
          "output_type": "stream",
          "name": "stdout",
          "text": [
            "La lista materias contiene:\n",
            "1. Álgebra\n",
            "2. Aritmética\n",
            "3. Razonamiento verbal\n",
            "4. Trigonometría\n",
            "5. Geometría\n",
            "\n",
            "El segundo elemento de la lista es aritmética.\n"
          ]
        }
      ]
    },
    {
      "cell_type": "markdown",
      "source": [
        "### Actividad N003"
      ],
      "metadata": {
        "id": "q0AS9Dqx4wN2"
      }
    },
    {
      "cell_type": "code",
      "source": [
        "## SOLUCIÓN ACTIVIDAD N003\n",
        "lugares = ['macchupichu','punta sal','pastoruri','laguna sauce','huacachina']"
      ],
      "metadata": {
        "id": "aFI0M3XO4oSb"
      },
      "execution_count": 32,
      "outputs": []
    },
    {
      "cell_type": "code",
      "source": [
        "print(f\"La lista lugares: \\n {lugares}\")\n",
        "print(f\"El primer elemento de la lista lugares es {lugares[0]}\")\n",
        "print(f\"El primer elemento de la lista lugares (en mayúsculas) es {lugares[0].upper()}\")"
      ],
      "metadata": {
        "id": "-2v5LC1A5RKV",
        "outputId": "df3520a9-ee6d-4fa6-beab-4fbc9c144987",
        "colab": {
          "base_uri": "https://localhost:8080/"
        }
      },
      "execution_count": 33,
      "outputs": [
        {
          "output_type": "stream",
          "name": "stdout",
          "text": [
            "La lista lugares: \n",
            " ['macchupichu', 'punta sal', 'pastoruri', 'laguna sauce', 'huacachina']\n",
            "El primer elemento de la lista lugares es macchupichu\n",
            "El primer elemento de la lista lugares (en mayúsculas) es MACCHUPICHU\n"
          ]
        }
      ]
    },
    {
      "cell_type": "markdown",
      "source": [
        "### Actividad N004"
      ],
      "metadata": {
        "id": "oxmJ79pa57qM"
      }
    },
    {
      "cell_type": "code",
      "source": [
        "## SOLUCIÓN ACTIVIDAD N004\n",
        "print(f\"Hola me llamo {personal_info[0].capitalize()} {personal_info[1].capitalize()} soy {personal_info[2].capitalize()}, tengo {personal_info[3]} años, trabajo en la empresa {personal_info[4].capitalize()} y tengo {personal_info[5]} años de experiencia.\")"
      ],
      "metadata": {
        "id": "CeGQrfyY5frQ",
        "outputId": "2c3005e7-b34f-4e04-f17b-7d0ca7adc675",
        "colab": {
          "base_uri": "https://localhost:8080/"
        }
      },
      "execution_count": 37,
      "outputs": [
        {
          "output_type": "stream",
          "name": "stdout",
          "text": [
            "Hola me llamo Miguel Pinto soy Ingeniero, tengo 30 años, trabajo en la empresa Pluspetrol y tengo 7 años de experiencia.\n"
          ]
        }
      ]
    },
    {
      "cell_type": "code",
      "source": [
        "print(f\"La lista materias contiene \\n{materias}\")\n",
        "print(f\"El último elemento de la lista es {materias[-3]}\") # Nos arroja el tercer elemento de izquierda a derecha."
      ],
      "metadata": {
        "id": "l6kaEYDr6Sn_",
        "outputId": "b7ef6547-c4e1-4edd-8d1d-22b635c9f941",
        "colab": {
          "base_uri": "https://localhost:8080/"
        }
      },
      "execution_count": 39,
      "outputs": [
        {
          "output_type": "stream",
          "name": "stdout",
          "text": [
            "La lista materias contiene \n",
            "['álgebra', 'aritmética', 'razonamiento verbal', 'trigonometría', 'geometría']\n",
            "El último elemento de la lista es razonamiento verbal\n"
          ]
        }
      ]
    },
    {
      "cell_type": "markdown",
      "source": [
        "### Actividad N005"
      ],
      "metadata": {
        "id": "gXt3UlLD6j1I"
      }
    },
    {
      "cell_type": "code",
      "source": [
        "## SOLUCIÓN ACTIVIDAD N005\n",
        "brands = [\"toyota\", \"nissan\", \"Lamborgini\", \"mazda\", \"renault\", \"ford\"]\n",
        "print(f\"El último elemento de la lista es {brands[-1].capitalize()}.\")"
      ],
      "metadata": {
        "id": "Xw-NMtVe6aJ4",
        "outputId": "f822ebfc-2e54-4a21-f834-6632c2d7bd3e",
        "colab": {
          "base_uri": "https://localhost:8080/"
        }
      },
      "execution_count": 42,
      "outputs": [
        {
          "output_type": "stream",
          "name": "stdout",
          "text": [
            "El último elemento de la lista es Ford.\n"
          ]
        }
      ]
    },
    {
      "cell_type": "code",
      "source": [
        "marca = (\"toyota\", \"nissan\", \"Lamborgini\", \"mazda\", \"renault\", \"ford\")\n",
        "print(f\"El último elemento de la tupla es {marca[-1].capitalize()}.\")"
      ],
      "metadata": {
        "id": "G2iCKZDJZukJ",
        "outputId": "49f4a959-488b-4dd5-ee45-9dbe4bc1a3e4",
        "colab": {
          "base_uri": "https://localhost:8080/"
        }
      },
      "execution_count": 44,
      "outputs": [
        {
          "output_type": "stream",
          "name": "stdout",
          "text": [
            "El último elemento de la tupla es Ford.\n"
          ]
        }
      ]
    },
    {
      "cell_type": "code",
      "source": [
        "%whos"
      ],
      "metadata": {
        "id": "RstM6ZD7Zss3",
        "outputId": "5cd5bc8d-bbfc-44ee-bab7-5e7b0b9a1462",
        "colab": {
          "base_uri": "https://localhost:8080/"
        }
      },
      "execution_count": 45,
      "outputs": [
        {
          "output_type": "stream",
          "name": "stdout",
          "text": [
            "Variable          Type             Data/Info\n",
            "--------------------------------------------\n",
            "age               int              30\n",
            "archivo           TextIOWrapper    <_io.TextIOWrapper name='<...>ode='r' encoding='utf-8'>\n",
            "brands            list             n=6\n",
            "correos           list             n=2\n",
            "csv               module           <module 'csv' from '/usr/lib/python3.11/csv.py'>\n",
            "df                DataFrame            ID  EDAD  INGRESOS RI<...>    6245      E      8798\n",
            "filas             list             n=9\n",
            "i                 int              4\n",
            "last_name         str              Pinto\n",
            "lector            reader           <_csv.reader object at 0x7f745abd5070>\n",
            "lugares           list             n=5\n",
            "marca             tuple            n=6\n",
            "materias          list             n=5\n",
            "name              str              Miguel\n",
            "nombres           list             n=5\n",
            "pd                module           <module 'pandas' from '/u<...>ages/pandas/__init__.py'>\n",
            "personal_info     list             n=6\n",
            "proffesion        str              Ingeniero\n",
            "re                module           <module 're' from '/usr/l<...>thon3.11/re/__init__.py'>\n",
            "sys               module           <module 'sys' (built-in)>\n",
            "texto             str              Mi correo es david@exampl<...>e Ana es ana123@gmail.com\n",
            "work_place        str              Pluspetrol\n",
            "year_experience   int              7\n"
          ]
        }
      ]
    },
    {
      "cell_type": "markdown",
      "source": [
        "## [5] Modificar los elementos de una lista"
      ],
      "metadata": {
        "id": "9vPV8Ya06s84"
      }
    },
    {
      "cell_type": "code",
      "source": [
        "print(f\"La lista original de materias es \\n{materias}\")\n",
        "materias[1] = 'filosofía'\n",
        "print(f\"La lista actualizada de materias es \\n{materias}\")"
      ],
      "metadata": {
        "id": "qeD97ZwE6n4m",
        "outputId": "288216ef-3c86-47fc-a61c-231ea1d5f7e2",
        "colab": {
          "base_uri": "https://localhost:8080/"
        }
      },
      "execution_count": 49,
      "outputs": [
        {
          "output_type": "stream",
          "name": "stdout",
          "text": [
            "La lista original de materias es \n",
            "['álgebra', 'aritmética', 'razonamiento verbal', 'trigonometría', 'geometría']\n",
            "La lista actualizada de materias es \n",
            "['álgebra', 'filosofía', 'razonamiento verbal', 'trigonometría', 'geometría']\n"
          ]
        }
      ]
    },
    {
      "cell_type": "markdown",
      "source": [
        "### Actividad N006"
      ],
      "metadata": {
        "id": "piyoQAzu7Pqv"
      }
    },
    {
      "cell_type": "code",
      "source": [
        "## SOLUCIÓN ACTIVIDAD N006\n",
        "print(f\"La lista original de información personal es \\n{personal_info}\")\n",
        "personal_info[4] = 'Saudi Aranco'\n",
        "print(f\"\\nLa lista actualizada de información personal es \\n{personal_info}\")"
      ],
      "metadata": {
        "id": "cW_FXD7G7JI_",
        "outputId": "58a7d233-81db-45dc-fd66-0aaa17e9e382",
        "colab": {
          "base_uri": "https://localhost:8080/"
        }
      },
      "execution_count": 53,
      "outputs": [
        {
          "output_type": "stream",
          "name": "stdout",
          "text": [
            "La lista original de información personal es \n",
            "['Miguel', 'Pinto', 'Ingeniero', 30, 'Pluspetrol', 7]\n",
            "\n",
            "La lista actualizada de información personal es \n",
            "['Miguel', 'Pinto', 'Ingeniero', 30, 'Saudi Aranco', 7]\n"
          ]
        }
      ]
    },
    {
      "cell_type": "markdown",
      "source": [
        "## [6] Añadir un elemento a una lista"
      ],
      "metadata": {
        "id": "nzRyoj8H7bMD"
      }
    },
    {
      "cell_type": "markdown",
      "source": [
        "### Método append"
      ],
      "metadata": {
        "id": "F5qgskxX79FW"
      }
    },
    {
      "cell_type": "code",
      "source": [
        "print(f\"La lista original es \\n{materias}\")\n",
        "materias.append('química')\n",
        "print(f\"La lista actualizada es \\n{materias}\")"
      ],
      "metadata": {
        "id": "5YeIR2kw7XTZ",
        "outputId": "1b0d5171-981e-43b5-f2cf-aed3010d9fb0",
        "colab": {
          "base_uri": "https://localhost:8080/"
        }
      },
      "execution_count": 46,
      "outputs": [
        {
          "output_type": "stream",
          "name": "stdout",
          "text": [
            "La lista original es \n",
            "['álgebra', 'aritmética', 'razonamiento verbal', 'trigonometría', 'geometría']\n",
            "La lista actualizada es \n",
            "['álgebra', 'aritmética', 'razonamiento verbal', 'trigonometría', 'geometría', 'química']\n"
          ]
        }
      ]
    },
    {
      "cell_type": "markdown",
      "source": [
        "### Actividad N007"
      ],
      "metadata": {
        "id": "uKnBn9RX7zoB"
      }
    },
    {
      "cell_type": "code",
      "source": [
        "## SOLUCIÓN ACTIVIDA N007\n"
      ],
      "metadata": {
        "id": "f25BvpPa7vSw"
      },
      "execution_count": null,
      "outputs": []
    },
    {
      "cell_type": "markdown",
      "source": [
        "### Método insert"
      ],
      "metadata": {
        "id": "Ejv_9b5g8CKs"
      }
    },
    {
      "cell_type": "code",
      "source": [
        "print(f\"La lista de materias es \\n{materias}\")\n",
        "materias.insert(3,'física') # De esta manera inserto en el elemento 3, una variable más.\n",
        "print(f\"La lista de materias actualizada es \\n{materias}\")"
      ],
      "metadata": {
        "id": "jC1p2XUZ73wB",
        "outputId": "37e0e54b-97dc-4e66-c990-b3be91c4bfbc",
        "colab": {
          "base_uri": "https://localhost:8080/"
        }
      },
      "execution_count": 54,
      "outputs": [
        {
          "output_type": "stream",
          "name": "stdout",
          "text": [
            "La lista de materias es \n",
            "['álgebra', 'filosofía', 'razonamiento verbal', 'trigonometría', 'geometría']\n",
            "La lista de materias actualizada es \n",
            "['álgebra', 'filosofía', 'razonamiento verbal', 'física', 'trigonometría', 'geometría']\n"
          ]
        }
      ]
    },
    {
      "cell_type": "markdown",
      "source": [
        "### Actividad N008"
      ],
      "metadata": {
        "id": "DcgswlJf8ggw"
      }
    },
    {
      "cell_type": "code",
      "source": [
        "## SOLUCIÓN ACTIVIDAD N008\n",
        "#print(f\"La lista de información personal es \\n{personal_info}\")\n",
        "personal_info.insert(4,'UNI')\n",
        "print(f\"Hola me llamo {personal_info[0].capitalize()} {personal_info[1].capitalize()} soy {personal_info[2].capitalize()}, estudie en la institución {personal_info[4].upper()}, tengo {personal_info[3]} años, trabajo en la empresa {personal_info[5].capitalize()} y tengo {personal_info[6]} años de experiencia.\")"
      ],
      "metadata": {
        "id": "0xWkqsRR8azc",
        "outputId": "a7d6d695-d751-4348-dead-8809cbd13153",
        "colab": {
          "base_uri": "https://localhost:8080/"
        }
      },
      "execution_count": 58,
      "outputs": [
        {
          "output_type": "stream",
          "name": "stdout",
          "text": [
            "Hola me llamo Miguel Pinto soy Ingeniero, estudie en la institución UNI, tengo 30 años, trabajo en la empresa Pluspetrol y tengo 7 años de experiencia.\n"
          ]
        }
      ]
    },
    {
      "cell_type": "markdown",
      "source": [
        "## [7] Remover los elementos de una lista"
      ],
      "metadata": {
        "id": "s2icJ_8C8scH"
      }
    },
    {
      "cell_type": "markdown",
      "source": [
        "### Método del"
      ],
      "metadata": {
        "id": "Oc8L61Ao9Vyt"
      }
    },
    {
      "cell_type": "code",
      "source": [
        "print(f\"La lista materias es \\n{materias}\")\n",
        "del materias[3]\n",
        "print(f\"La lista actualizada es \\n{materias}\")"
      ],
      "metadata": {
        "id": "1K-iK1NQ8kEf",
        "outputId": "8cc8c768-15ed-4d01-95bb-b40905372211",
        "colab": {
          "base_uri": "https://localhost:8080/"
        }
      },
      "execution_count": 59,
      "outputs": [
        {
          "output_type": "stream",
          "name": "stdout",
          "text": [
            "La lista materias es \n",
            "['álgebra', 'filosofía', 'razonamiento verbal', 'física', 'UNI', 'trigonometría', 'geometría']\n",
            "La lista actualizada es \n",
            "['álgebra', 'filosofía', 'razonamiento verbal', 'UNI', 'trigonometría', 'geometría']\n"
          ]
        }
      ]
    },
    {
      "cell_type": "code",
      "source": [
        "materias[3:5] # Significa que voy a tomar el indice 3 y 4 (no toma el 5)"
      ],
      "metadata": {
        "id": "G5i9MSUGhZG9",
        "outputId": "e6fb2cb9-903a-4c5b-81f3-3b6638f1bc63",
        "colab": {
          "base_uri": "https://localhost:8080/"
        }
      },
      "execution_count": 65,
      "outputs": [
        {
          "output_type": "execute_result",
          "data": {
            "text/plain": [
              "['UNI', 'trigonometría']"
            ]
          },
          "metadata": {},
          "execution_count": 65
        }
      ]
    },
    {
      "cell_type": "markdown",
      "source": [
        "### Actividad N009"
      ],
      "metadata": {
        "id": "VFggpdYt9MR4"
      }
    },
    {
      "cell_type": "code",
      "source": [
        "## SOLUCIÓN ACTIVIDAD N009\n"
      ],
      "metadata": {
        "id": "2j90g_Ct9Itc"
      },
      "execution_count": null,
      "outputs": []
    },
    {
      "cell_type": "markdown",
      "source": [],
      "metadata": {
        "id": "itYsZtLr9a1y"
      }
    },
    {
      "cell_type": "markdown",
      "source": [
        "### Método pop"
      ],
      "metadata": {
        "id": "G_-05doA9ckW"
      }
    },
    {
      "cell_type": "code",
      "source": [
        "print(f\"La lista materias es \\n{materias}\")\n",
        "el_exc1 = materias.pop()\n",
        "print(f\"La lista materias actualizada es \\n{materias}\")"
      ],
      "metadata": {
        "id": "vzzIn2MP9QQ0",
        "outputId": "21cf3e19-e826-471e-89a0-b9a9814da653",
        "colab": {
          "base_uri": "https://localhost:8080/"
        }
      },
      "execution_count": 70,
      "outputs": [
        {
          "output_type": "stream",
          "name": "stdout",
          "text": [
            "La lista materias es \n",
            "['álgebra', 'filosofía', 'razonamiento verbal', 'UNI', 'trigonometría']\n",
            "La lista materias actualizada es \n",
            "['álgebra', 'filosofía', 'razonamiento verbal', 'UNI']\n"
          ]
        }
      ]
    },
    {
      "cell_type": "code",
      "source": [
        "print(f\"El elemento eliminado de la lista materias, ubicado al final de la lista es {el_exc1}\")"
      ],
      "metadata": {
        "id": "_dYro6si9qDD",
        "outputId": "278a263b-c592-4810-cd6d-f40771c52c5d",
        "colab": {
          "base_uri": "https://localhost:8080/"
        }
      },
      "execution_count": 71,
      "outputs": [
        {
          "output_type": "stream",
          "name": "stdout",
          "text": [
            "El elemento eliminado de la lista materias, ubicado al final de la lista es trigonometría\n"
          ]
        }
      ]
    },
    {
      "cell_type": "code",
      "source": [
        "el_exc2 = materias.pop(3)\n",
        "print(f\"El elemento eliminado de la lista materias, ubicado en la cuarta posición es {el_exc2}\")\n",
        "print(f\"La lista materias actualizada es \\n{materias}\")"
      ],
      "metadata": {
        "id": "X-w9D9Cf9wsE",
        "outputId": "5770a8d2-4f16-4cca-a58b-251f4892c810",
        "colab": {
          "base_uri": "https://localhost:8080/"
        }
      },
      "execution_count": 72,
      "outputs": [
        {
          "output_type": "stream",
          "name": "stdout",
          "text": [
            "El elemento eliminado de la lista materias, ubicado en la cuarta posición es UNI\n",
            "La lista materias actualizada es \n",
            "['álgebra', 'filosofía', 'razonamiento verbal']\n"
          ]
        }
      ]
    },
    {
      "cell_type": "markdown",
      "source": [
        "### Actividad N010"
      ],
      "metadata": {
        "id": "11c8mjWM-N4m"
      }
    },
    {
      "cell_type": "code",
      "source": [
        "## SOLUCIÓN ACTIVIDAD N010\n"
      ],
      "metadata": {
        "id": "QhLPByTU-BPb"
      },
      "execution_count": null,
      "outputs": []
    },
    {
      "cell_type": "markdown",
      "source": [
        "### Método remove"
      ],
      "metadata": {
        "id": "GPviXjjh-WZr"
      }
    },
    {
      "cell_type": "code",
      "source": [
        "print(f\"La lista materias es \\n{materias}\")\n",
        "materias.remove('filosofía')\n",
        "print(f\"La lista materias actualizada es \\n{materias}\")"
      ],
      "metadata": {
        "id": "tAxqSlE0-SDt"
      },
      "execution_count": null,
      "outputs": []
    },
    {
      "cell_type": "markdown",
      "source": [
        "### Actividad N011"
      ],
      "metadata": {
        "id": "I7nsxzfd-oTV"
      }
    },
    {
      "cell_type": "code",
      "source": [
        "## SOLUCIÓN ACTIVIDAD N011\n"
      ],
      "metadata": {
        "id": "i3RyrzJw-kCr"
      },
      "execution_count": null,
      "outputs": []
    },
    {
      "cell_type": "markdown",
      "source": [
        "## [8] Ordenar los elementos de una lista"
      ],
      "metadata": {
        "id": "PMOmvQ1O-vz7"
      }
    },
    {
      "cell_type": "markdown",
      "source": [
        "### De manera permanente"
      ],
      "metadata": {
        "id": "2fdlt9Vc_weK"
      }
    },
    {
      "cell_type": "code",
      "source": [
        "print(f\"La lista materias es \\n{materias}\")\n",
        "materias.sort()\n",
        "print(f\"La lista materias actualizada es \\n{materias}\")\n"
      ],
      "metadata": {
        "id": "UCivu0jT-ryW"
      },
      "execution_count": null,
      "outputs": []
    },
    {
      "cell_type": "code",
      "source": [
        "print(f\"La lista lugares es \\n{lugares}\")\n",
        "lugares.sort(reverse=True)\n",
        "print(f\"La lista lugares actualizada es \\n{lugares}\")"
      ],
      "metadata": {
        "id": "rjkFon3L_Byz"
      },
      "execution_count": null,
      "outputs": []
    },
    {
      "cell_type": "markdown",
      "source": [
        "### Actividad N012"
      ],
      "metadata": {
        "id": "jJh7CDJO_s2r"
      }
    },
    {
      "cell_type": "code",
      "source": [
        "## SOLUCIÓN ACTIVIDAD N012\n"
      ],
      "metadata": {
        "id": "vvPtDflm_cNf"
      },
      "execution_count": null,
      "outputs": []
    },
    {
      "cell_type": "markdown",
      "source": [
        "### De manera temporal"
      ],
      "metadata": {
        "id": "gpQQQ2ZU_6tG"
      }
    },
    {
      "cell_type": "code",
      "source": [
        "print(f\"La lista lugares es \\n{lugares}\")\n",
        "print(f\"La lista lugares actualizada es \\n{sorted(lugares)}\")"
      ],
      "metadata": {
        "id": "8V88UcQL_5Qb"
      },
      "execution_count": null,
      "outputs": []
    },
    {
      "cell_type": "code",
      "source": [
        "print(f\"La lista lugares es \\n{lugares}\")\n",
        "print(f\"La lista lugares actualizada es \\n{sorted(lugares,reverse=True)}\")"
      ],
      "metadata": {
        "id": "NbIEj-qrAI5R"
      },
      "execution_count": null,
      "outputs": []
    },
    {
      "cell_type": "markdown",
      "source": [
        "### Actividad N013"
      ],
      "metadata": {
        "id": "rDQF6aidAYLm"
      }
    },
    {
      "cell_type": "code",
      "source": [
        "## SOLUCIÓN ACTIVIDAD N013\n"
      ],
      "metadata": {
        "id": "5gUbMvDKAQs2"
      },
      "execution_count": null,
      "outputs": []
    },
    {
      "cell_type": "markdown",
      "source": [
        "## [9] Invertir los elementos de una lista"
      ],
      "metadata": {
        "id": "TCzgVFc2Adgi"
      }
    },
    {
      "cell_type": "code",
      "source": [
        "print(f\"La lista materias es \\n{materias}\")\n",
        "materias.reverse()\n",
        "print(f\"La lista materias actualizada es \\n{materias}\")"
      ],
      "metadata": {
        "id": "VfMEiCyEAb4e"
      },
      "execution_count": null,
      "outputs": []
    },
    {
      "cell_type": "markdown",
      "source": [
        "### Actividad N014"
      ],
      "metadata": {
        "id": "BnpGEyXRAy9X"
      }
    },
    {
      "cell_type": "code",
      "source": [
        "## SOLUCIÓN ACTIVIDAD N014\n"
      ],
      "metadata": {
        "id": "alT3g_kjAu_F"
      },
      "execution_count": null,
      "outputs": []
    },
    {
      "cell_type": "markdown",
      "source": [
        "## [10] Cuantificar los elementos de una lista"
      ],
      "metadata": {
        "id": "sQVSPLHcA53H"
      }
    },
    {
      "cell_type": "code",
      "source": [
        "print(f\"La lista lugares es \\n{lugares}\")\n",
        "print(f\"La cantidad de elementos de la lista lugares es {len(lugares)}\")"
      ],
      "metadata": {
        "id": "yW0-j-EaA4E0"
      },
      "execution_count": null,
      "outputs": []
    },
    {
      "cell_type": "markdown",
      "source": [
        "### Actividad N015"
      ],
      "metadata": {
        "id": "roDrSGHjBI-x"
      }
    },
    {
      "cell_type": "code",
      "source": [
        "## SOLUCIÓN ACTIVIDAD N015\n"
      ],
      "metadata": {
        "id": "wXYtA8HzBG-6"
      },
      "execution_count": null,
      "outputs": []
    },
    {
      "cell_type": "code",
      "source": [],
      "metadata": {
        "id": "izy_t_MQBNny"
      },
      "execution_count": null,
      "outputs": []
    }
  ]
}