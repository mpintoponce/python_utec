{
  "nbformat": 4,
  "nbformat_minor": 0,
  "metadata": {
    "colab": {
      "provenance": [],
      "include_colab_link": true
    },
    "kernelspec": {
      "name": "python3",
      "display_name": "Python 3"
    },
    "language_info": {
      "name": "python"
    }
  },
  "cells": [
    {
      "cell_type": "markdown",
      "metadata": {
        "id": "view-in-github",
        "colab_type": "text"
      },
      "source": [
        "<a href=\"https://colab.research.google.com/github/mpintoponce/python_utec/blob/main/Modulo02%3AEstructuras_de_datos_secuenciales/01Listas.ipynb\" target=\"_parent\"><img src=\"https://colab.research.google.com/assets/colab-badge.svg\" alt=\"Open In Colab\"/></a>"
      ]
    },
    {
      "cell_type": "markdown",
      "source": [
        "## [1] Ejemplos de resutados en Python (listas)"
      ],
      "metadata": {
        "id": "RC5ssv_RyXXl"
      }
    },
    {
      "cell_type": "markdown",
      "source": [
        "### [1.1] De expresiones regulares"
      ],
      "metadata": {
        "id": "m8U92nipzNEz"
      }
    },
    {
      "cell_type": "code",
      "execution_count": null,
      "metadata": {
        "id": "y2j3ZkyJxfTf"
      },
      "outputs": [],
      "source": [
        "import re\n",
        "\n",
        "texto = \"Mi correo es david@example.com y el de Ana es ana123@gmail.com\"\n",
        "correos = re.findall(r'\\S+@\\S+', texto)\n",
        "print(correos)"
      ]
    },
    {
      "cell_type": "code",
      "source": [
        "type(correos)"
      ],
      "metadata": {
        "id": "E-JxjBuwyavM"
      },
      "execution_count": null,
      "outputs": []
    },
    {
      "cell_type": "markdown",
      "source": [
        "### [1.2] Del uso de librerías"
      ],
      "metadata": {
        "id": "emDsY1i0z-Ej"
      }
    },
    {
      "cell_type": "code",
      "source": [
        "import sys\n",
        "\n",
        "sys.path"
      ],
      "metadata": {
        "id": "p6yeYDvb0Lr7"
      },
      "execution_count": null,
      "outputs": []
    },
    {
      "cell_type": "code",
      "source": [
        "type(sys.path)"
      ],
      "metadata": {
        "id": "3QgxX7400Tod"
      },
      "execution_count": null,
      "outputs": []
    },
    {
      "cell_type": "markdown",
      "source": [
        "### [1.3] De Dataframes"
      ],
      "metadata": {
        "id": "SrQhILEo0bwm"
      }
    },
    {
      "cell_type": "code",
      "source": [
        "import pandas as pd\n",
        "\n",
        "df = pd.read_csv(\"/content/clientes.csv\", sep=\";\")\n",
        "nombres = df.columns.tolist()\n",
        "print(nombres)"
      ],
      "metadata": {
        "id": "wvk_SxO8zEaK"
      },
      "execution_count": null,
      "outputs": []
    },
    {
      "cell_type": "code",
      "source": [
        "type(nombres)"
      ],
      "metadata": {
        "id": "m77tovvY0sQC"
      },
      "execution_count": null,
      "outputs": []
    },
    {
      "cell_type": "markdown",
      "source": [
        "### [1.3] De archivos de texto"
      ],
      "metadata": {
        "id": "ZmHzYEI91xj3"
      }
    },
    {
      "cell_type": "code",
      "source": [
        "import csv\n",
        "\n",
        "with open(\"/content/clientes.csv\", newline='') as archivo:\n",
        "    lector = csv.reader(archivo, delimiter=';')\n",
        "    filas = list(lector)\n",
        "    print(filas)  # Lista de listas (filas del archivo CSV)\n"
      ],
      "metadata": {
        "id": "Sp2JIB8x1Gp0"
      },
      "execution_count": null,
      "outputs": []
    },
    {
      "cell_type": "markdown",
      "source": [
        "## [2] Crear una lista"
      ],
      "metadata": {
        "id": "irKBCMSW02eJ"
      }
    },
    {
      "cell_type": "markdown",
      "source": [
        "### Actividad N001"
      ],
      "metadata": {
        "id": "--8g9GOM463B"
      }
    },
    {
      "cell_type": "code",
      "source": [
        "lugares = ['macchupichu','punta sal','pastoruri','laguna sauce','huacachina']"
      ],
      "metadata": {
        "id": "vnmUFQc_0xKy"
      },
      "execution_count": null,
      "outputs": []
    },
    {
      "cell_type": "code",
      "source": [
        "print(f\"La lista de mis lugares favoritos es \\n {lugares}\")"
      ],
      "metadata": {
        "id": "EwmY7UZh21hv"
      },
      "execution_count": null,
      "outputs": []
    },
    {
      "cell_type": "markdown",
      "source": [
        "## [3] Tipos de listas"
      ],
      "metadata": {
        "id": "wQ0it4O23BVX"
      }
    },
    {
      "cell_type": "markdown",
      "source": [
        "### Actividad N002"
      ],
      "metadata": {
        "id": "mJ__gEzN5A8u"
      }
    },
    {
      "cell_type": "code",
      "source": [
        "nombre = 'david'\n",
        "apellidoPaterno = 'allende'\n",
        "profesion = 'estadístico'\n",
        "edad = 37\n",
        "centroLabores = 'misd'\n",
        "aniosExperiencia = 13\n",
        "\n",
        "info_personal = [nombre, apellidoPaterno, profesion, edad, centroLabores, aniosExperiencia]"
      ],
      "metadata": {
        "id": "GaG9FW5Y27RN"
      },
      "execution_count": null,
      "outputs": []
    },
    {
      "cell_type": "code",
      "source": [
        "print(f\"La lista info_personal contiene \\n {info_personal}\")"
      ],
      "metadata": {
        "id": "aK6OVxAI3oUN"
      },
      "execution_count": null,
      "outputs": []
    },
    {
      "cell_type": "markdown",
      "source": [
        "## [4] Acceder a los elementos de una lista"
      ],
      "metadata": {
        "id": "7Bw-DDlF31UD"
      }
    },
    {
      "cell_type": "code",
      "source": [
        "materias = ['álgebra','aritmética','razonamiento verbal','trigonometría','geometría']"
      ],
      "metadata": {
        "id": "WFYgRar93v2D"
      },
      "execution_count": null,
      "outputs": []
    },
    {
      "cell_type": "code",
      "source": [
        "print(f\"La lista materias contiene \\n {materias}\")\n",
        "print(f\"El segundo elemento de la lista es {materias[1]}\")"
      ],
      "metadata": {
        "id": "lTC_xydf4VfA"
      },
      "execution_count": null,
      "outputs": []
    },
    {
      "cell_type": "markdown",
      "source": [
        "### Actividad N003"
      ],
      "metadata": {
        "id": "q0AS9Dqx4wN2"
      }
    },
    {
      "cell_type": "code",
      "source": [
        "## SOLUCIÓN ACTIVIDAD N003\n"
      ],
      "metadata": {
        "id": "aFI0M3XO4oSb"
      },
      "execution_count": null,
      "outputs": []
    },
    {
      "cell_type": "code",
      "source": [
        "print(f\"La lista lugares: \\n {lugares}\")\n",
        "print(f\"El primer elemento de la lista lugares es {lugares[0]}\")\n",
        "print(f\"El primer elemento de la lista lugares (en mayúsculas) es {lugares[0].upper()}\")"
      ],
      "metadata": {
        "id": "-2v5LC1A5RKV"
      },
      "execution_count": null,
      "outputs": []
    },
    {
      "cell_type": "markdown",
      "source": [
        "### Actividad N004"
      ],
      "metadata": {
        "id": "oxmJ79pa57qM"
      }
    },
    {
      "cell_type": "code",
      "source": [
        "## SOLUCIÓN ACTIVIDAD N004\n"
      ],
      "metadata": {
        "id": "CeGQrfyY5frQ"
      },
      "execution_count": null,
      "outputs": []
    },
    {
      "cell_type": "code",
      "source": [
        "print(f\"La lista materias contiene \\n{materias}\")\n",
        "print(f\"El último elemento de la lista es {materias[-1]}\")"
      ],
      "metadata": {
        "id": "l6kaEYDr6Sn_"
      },
      "execution_count": null,
      "outputs": []
    },
    {
      "cell_type": "markdown",
      "source": [
        "### Actividad N005"
      ],
      "metadata": {
        "id": "gXt3UlLD6j1I"
      }
    },
    {
      "cell_type": "code",
      "source": [
        "## SOLUCIÓN ACTIVIDAD N005\n"
      ],
      "metadata": {
        "id": "Xw-NMtVe6aJ4"
      },
      "execution_count": null,
      "outputs": []
    },
    {
      "cell_type": "markdown",
      "source": [
        "## [5] Modificar los elementos de una lista"
      ],
      "metadata": {
        "id": "9vPV8Ya06s84"
      }
    },
    {
      "cell_type": "code",
      "source": [
        "print(f\"La lista original de materias es \\n{materias}\")\n",
        "materias[1] = 'filosofía'\n",
        "print(f\"La lista actualizada de materias es \\n{materias}\")"
      ],
      "metadata": {
        "id": "qeD97ZwE6n4m"
      },
      "execution_count": null,
      "outputs": []
    },
    {
      "cell_type": "markdown",
      "source": [
        "### Actividad N006"
      ],
      "metadata": {
        "id": "piyoQAzu7Pqv"
      }
    },
    {
      "cell_type": "code",
      "source": [
        "## SOLUCIÓN ACTIVIDAD N006\n"
      ],
      "metadata": {
        "id": "cW_FXD7G7JI_"
      },
      "execution_count": null,
      "outputs": []
    },
    {
      "cell_type": "markdown",
      "source": [
        "## [6] Añadir un elemento a una lista"
      ],
      "metadata": {
        "id": "nzRyoj8H7bMD"
      }
    },
    {
      "cell_type": "markdown",
      "source": [
        "### Método append"
      ],
      "metadata": {
        "id": "F5qgskxX79FW"
      }
    },
    {
      "cell_type": "code",
      "source": [
        "print(f\"La lista original es \\n{materias}\")\n",
        "materias.append('química')\n",
        "print(f\"La lista actualizada es \\n{materias}\")"
      ],
      "metadata": {
        "id": "5YeIR2kw7XTZ"
      },
      "execution_count": null,
      "outputs": []
    },
    {
      "cell_type": "markdown",
      "source": [
        "### Actividad N007"
      ],
      "metadata": {
        "id": "uKnBn9RX7zoB"
      }
    },
    {
      "cell_type": "code",
      "source": [
        "## SOLUCIÓN ACTIVIDA N007\n"
      ],
      "metadata": {
        "id": "f25BvpPa7vSw"
      },
      "execution_count": null,
      "outputs": []
    },
    {
      "cell_type": "markdown",
      "source": [
        "### Método insert"
      ],
      "metadata": {
        "id": "Ejv_9b5g8CKs"
      }
    },
    {
      "cell_type": "code",
      "source": [
        "print(f\"La lista de materias es \\n{materias}\")\n",
        "materias.insert(3,'física')\n",
        "print(f\"La lista de materias actualizada es \\n{materias}\")"
      ],
      "metadata": {
        "id": "jC1p2XUZ73wB"
      },
      "execution_count": null,
      "outputs": []
    },
    {
      "cell_type": "markdown",
      "source": [
        "### Actividad N008"
      ],
      "metadata": {
        "id": "DcgswlJf8ggw"
      }
    },
    {
      "cell_type": "code",
      "source": [
        "## SOLUCIÓN ACTIVIDAD N008\n"
      ],
      "metadata": {
        "id": "0xWkqsRR8azc"
      },
      "execution_count": null,
      "outputs": []
    },
    {
      "cell_type": "markdown",
      "source": [
        "## [7] Remover los elementos de una lista"
      ],
      "metadata": {
        "id": "s2icJ_8C8scH"
      }
    },
    {
      "cell_type": "markdown",
      "source": [
        "### Método del"
      ],
      "metadata": {
        "id": "Oc8L61Ao9Vyt"
      }
    },
    {
      "cell_type": "code",
      "source": [
        "print(f\"La lista materias es \\n{materias}\")\n",
        "del materias[3]\n",
        "print(f\"La lista actualizada es \\n{materias}\")"
      ],
      "metadata": {
        "id": "1K-iK1NQ8kEf"
      },
      "execution_count": null,
      "outputs": []
    },
    {
      "cell_type": "markdown",
      "source": [
        "### Actividad N009"
      ],
      "metadata": {
        "id": "VFggpdYt9MR4"
      }
    },
    {
      "cell_type": "code",
      "source": [
        "## SOLUCIÓN ACTIVIDAD N009\n"
      ],
      "metadata": {
        "id": "2j90g_Ct9Itc"
      },
      "execution_count": null,
      "outputs": []
    },
    {
      "cell_type": "markdown",
      "source": [],
      "metadata": {
        "id": "itYsZtLr9a1y"
      }
    },
    {
      "cell_type": "markdown",
      "source": [
        "### Método pop"
      ],
      "metadata": {
        "id": "G_-05doA9ckW"
      }
    },
    {
      "cell_type": "code",
      "source": [
        "print(f\"La lista materias es \\n{materias}\")\n",
        "el_exc1 = materias.pop()\n",
        "print(f\"La lista materias actualizada es \\n{materias}\")"
      ],
      "metadata": {
        "id": "vzzIn2MP9QQ0"
      },
      "execution_count": null,
      "outputs": []
    },
    {
      "cell_type": "code",
      "source": [
        "print(f\"El elemento eliminado de la lista materias, ubicado al final de la lista es {el_exc1}\")"
      ],
      "metadata": {
        "id": "_dYro6si9qDD"
      },
      "execution_count": null,
      "outputs": []
    },
    {
      "cell_type": "code",
      "source": [
        "el_exc2 = materias.pop(3)\n",
        "print(f\"El elemento eliminado de la lista materias, ubicado en la cuarta posición es {el_exc2}\")\n",
        "print(f\"La lista materias actualizada es \\n{materias}\")"
      ],
      "metadata": {
        "id": "X-w9D9Cf9wsE"
      },
      "execution_count": null,
      "outputs": []
    },
    {
      "cell_type": "markdown",
      "source": [
        "### Actividad N010"
      ],
      "metadata": {
        "id": "11c8mjWM-N4m"
      }
    },
    {
      "cell_type": "code",
      "source": [
        "## SOLUCIÓN ACTIVIDAD N010\n"
      ],
      "metadata": {
        "id": "QhLPByTU-BPb"
      },
      "execution_count": null,
      "outputs": []
    },
    {
      "cell_type": "markdown",
      "source": [
        "### Método remove"
      ],
      "metadata": {
        "id": "GPviXjjh-WZr"
      }
    },
    {
      "cell_type": "code",
      "source": [
        "print(f\"La lista materias es \\n{materias}\")\n",
        "materias.remove('filosofía')\n",
        "print(f\"La lista materias actualizada es \\n{materias}\")"
      ],
      "metadata": {
        "id": "tAxqSlE0-SDt"
      },
      "execution_count": null,
      "outputs": []
    },
    {
      "cell_type": "markdown",
      "source": [
        "### Actividad N011"
      ],
      "metadata": {
        "id": "I7nsxzfd-oTV"
      }
    },
    {
      "cell_type": "code",
      "source": [
        "## SOLUCIÓN ACTIVIDAD N011\n"
      ],
      "metadata": {
        "id": "i3RyrzJw-kCr"
      },
      "execution_count": null,
      "outputs": []
    },
    {
      "cell_type": "markdown",
      "source": [
        "## [8] Ordenar los elementos de una lista"
      ],
      "metadata": {
        "id": "PMOmvQ1O-vz7"
      }
    },
    {
      "cell_type": "markdown",
      "source": [
        "### De manera permanente"
      ],
      "metadata": {
        "id": "2fdlt9Vc_weK"
      }
    },
    {
      "cell_type": "code",
      "source": [
        "print(f\"La lista materias es \\n{materias}\")\n",
        "materias.sort()\n",
        "print(f\"La lista materias actualizada es \\n{materias}\")\n"
      ],
      "metadata": {
        "id": "UCivu0jT-ryW"
      },
      "execution_count": null,
      "outputs": []
    },
    {
      "cell_type": "code",
      "source": [
        "print(f\"La lista lugares es \\n{lugares}\")\n",
        "lugares.sort(reverse=True)\n",
        "print(f\"La lista lugares actualizada es \\n{lugares}\")"
      ],
      "metadata": {
        "id": "rjkFon3L_Byz"
      },
      "execution_count": null,
      "outputs": []
    },
    {
      "cell_type": "markdown",
      "source": [
        "### Actividad N012"
      ],
      "metadata": {
        "id": "jJh7CDJO_s2r"
      }
    },
    {
      "cell_type": "code",
      "source": [
        "## SOLUCIÓN ACTIVIDAD N012\n"
      ],
      "metadata": {
        "id": "vvPtDflm_cNf"
      },
      "execution_count": null,
      "outputs": []
    },
    {
      "cell_type": "markdown",
      "source": [
        "### De manera temporal"
      ],
      "metadata": {
        "id": "gpQQQ2ZU_6tG"
      }
    },
    {
      "cell_type": "code",
      "source": [
        "print(f\"La lista lugares es \\n{lugares}\")\n",
        "print(f\"La lista lugares actualizada es \\n{sorted(lugares)}\")"
      ],
      "metadata": {
        "id": "8V88UcQL_5Qb"
      },
      "execution_count": null,
      "outputs": []
    },
    {
      "cell_type": "code",
      "source": [
        "print(f\"La lista lugares es \\n{lugares}\")\n",
        "print(f\"La lista lugares actualizada es \\n{sorted(lugares,reverse=True)}\")"
      ],
      "metadata": {
        "id": "NbIEj-qrAI5R"
      },
      "execution_count": null,
      "outputs": []
    },
    {
      "cell_type": "markdown",
      "source": [
        "### Actividad N013"
      ],
      "metadata": {
        "id": "rDQF6aidAYLm"
      }
    },
    {
      "cell_type": "code",
      "source": [
        "## SOLUCIÓN ACTIVIDAD N013\n"
      ],
      "metadata": {
        "id": "5gUbMvDKAQs2"
      },
      "execution_count": null,
      "outputs": []
    },
    {
      "cell_type": "markdown",
      "source": [
        "## [9] Invertir los elementos de una lista"
      ],
      "metadata": {
        "id": "TCzgVFc2Adgi"
      }
    },
    {
      "cell_type": "code",
      "source": [
        "print(f\"La lista materias es \\n{materias}\")\n",
        "materias.reverse()\n",
        "print(f\"La lista materias actualizada es \\n{materias}\")"
      ],
      "metadata": {
        "id": "VfMEiCyEAb4e"
      },
      "execution_count": null,
      "outputs": []
    },
    {
      "cell_type": "markdown",
      "source": [
        "### Actividad N014"
      ],
      "metadata": {
        "id": "BnpGEyXRAy9X"
      }
    },
    {
      "cell_type": "code",
      "source": [
        "## SOLUCIÓN ACTIVIDAD N014\n"
      ],
      "metadata": {
        "id": "alT3g_kjAu_F"
      },
      "execution_count": null,
      "outputs": []
    },
    {
      "cell_type": "markdown",
      "source": [
        "## [10] Cuantificar los elementos de una lista"
      ],
      "metadata": {
        "id": "sQVSPLHcA53H"
      }
    },
    {
      "cell_type": "code",
      "source": [
        "print(f\"La lista lugares es \\n{lugares}\")\n",
        "print(f\"La cantidad de elementos de la lista lugares es {len(lugares)}\")"
      ],
      "metadata": {
        "id": "yW0-j-EaA4E0"
      },
      "execution_count": null,
      "outputs": []
    },
    {
      "cell_type": "markdown",
      "source": [
        "### Actividad N015"
      ],
      "metadata": {
        "id": "roDrSGHjBI-x"
      }
    },
    {
      "cell_type": "code",
      "source": [
        "## SOLUCIÓN ACTIVIDAD N015\n"
      ],
      "metadata": {
        "id": "wXYtA8HzBG-6"
      },
      "execution_count": null,
      "outputs": []
    },
    {
      "cell_type": "code",
      "source": [],
      "metadata": {
        "id": "izy_t_MQBNny"
      },
      "execution_count": null,
      "outputs": []
    }
  ]
}