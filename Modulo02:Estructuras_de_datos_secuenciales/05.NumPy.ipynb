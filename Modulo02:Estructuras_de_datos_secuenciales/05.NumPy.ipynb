{
  "nbformat": 4,
  "nbformat_minor": 0,
  "metadata": {
    "colab": {
      "provenance": [],
      "toc_visible": true,
      "include_colab_link": true
    },
    "kernelspec": {
      "name": "python3",
      "display_name": "Python 3"
    },
    "language_info": {
      "name": "python"
    }
  },
  "cells": [
    {
      "cell_type": "markdown",
      "metadata": {
        "id": "view-in-github",
        "colab_type": "text"
      },
      "source": [
        "<a href=\"https://colab.research.google.com/github/mpintoponce/python_utec/blob/main/Modulo02%3AEstructuras_de_datos_secuenciales/05.NumPy.ipynb\" target=\"_parent\"><img src=\"https://colab.research.google.com/assets/colab-badge.svg\" alt=\"Open In Colab\"/></a>"
      ]
    },
    {
      "cell_type": "markdown",
      "source": [
        "## NumPy"
      ],
      "metadata": {
        "id": "M7ax-NH9Qw82"
      }
    },
    {
      "cell_type": "markdown",
      "source": [
        "### [1] Crear un arreglo NumPy"
      ],
      "metadata": {
        "id": "DFN-vU8MSO6d"
      }
    },
    {
      "cell_type": "code",
      "execution_count": null,
      "metadata": {
        "id": "g6evhYb4QrvL"
      },
      "outputs": [],
      "source": [
        "# Llamar a la librería\n",
        "import numpy as np"
      ]
    },
    {
      "cell_type": "code",
      "source": [
        "# Crear un arreglo en numpy\n",
        "arr_1 = np.array([2,4,6])"
      ],
      "metadata": {
        "id": "wNH_N_ZFRHTI"
      },
      "execution_count": null,
      "outputs": []
    },
    {
      "cell_type": "code",
      "source": [
        "# Visualizar el arreglo\n",
        "print(f\"El arreglo en numpy es \\n{arr_1}\")"
      ],
      "metadata": {
        "id": "Q2LXArvJRaxe"
      },
      "execution_count": null,
      "outputs": []
    },
    {
      "cell_type": "code",
      "source": [
        "# Crear una lista\n",
        "lista_1 = [2,4,6]\n",
        "print(f\"La lista es \\n{lista_1}\")"
      ],
      "metadata": {
        "id": "3XsqVLskRk2j"
      },
      "execution_count": null,
      "outputs": []
    },
    {
      "cell_type": "code",
      "source": [
        "print(f\"El objeto arr_1 es del tipo \\n{type(arr_1)}\")\n",
        "print(f\"\\nEl objeto lista_1 es del tipo \\n{type(lista_1)}\")"
      ],
      "metadata": {
        "id": "IKOZVtQdRwgx"
      },
      "execution_count": null,
      "outputs": []
    },
    {
      "cell_type": "code",
      "source": [
        "# Operaciones listas\n",
        "print(f\"El valor mínimo de la lista \\n{lista_1} es {min(lista_1)}\")\n",
        "print(f\"\\nEl valor máximo de la lista \\n{lista_1} es {max(lista_1)}\")\n",
        "print(f\"\\nLa suma total de la lista \\n{lista_1} es {sum(lista_1)}\")"
      ],
      "metadata": {
        "id": "JLk0F3VoSGC5"
      },
      "execution_count": null,
      "outputs": []
    },
    {
      "cell_type": "code",
      "source": [
        "# El símbolo \"+\" permite concatenar listas\n",
        "lista_1 + [5]"
      ],
      "metadata": {
        "id": "syypEvzBSvnE"
      },
      "execution_count": null,
      "outputs": []
    },
    {
      "cell_type": "code",
      "source": [
        "print(f\"El arreglo en numpy es \\n{arr_1}\")\n",
        "print(f\"Suma del arreglo en numpy con 5 es \\n{arr_1 + 5}\")"
      ],
      "metadata": {
        "id": "EIXdc1GPTYLg"
      },
      "execution_count": null,
      "outputs": []
    },
    {
      "cell_type": "code",
      "source": [
        "# Crear arreglos de numpy\n",
        "\n",
        "a1 = np.array([1,2,3])\n",
        "a2 = np.array([4,5,6])\n",
        "\n",
        "print(f\"El arreglo a1 es \\n{a1}\")\n",
        "print(f\"\\nEl arreglo a2 es \\n{a2}\")"
      ],
      "metadata": {
        "id": "_MYwIeGhT6xV"
      },
      "execution_count": null,
      "outputs": []
    },
    {
      "cell_type": "code",
      "source": [
        "print(f\"El arreglo a1 es del tipo \\n{type(a1)}\")\n",
        "print(f\"\\nEl arreglo a2 es del tipo \\n{type(a2)}\")"
      ],
      "metadata": {
        "id": "B7N437r5Up_A"
      },
      "execution_count": null,
      "outputs": []
    },
    {
      "cell_type": "markdown",
      "source": [
        "### Actividad N034"
      ],
      "metadata": {
        "id": "HKmjSqdxS8Fw"
      }
    },
    {
      "cell_type": "markdown",
      "source": [
        "Crear un arreglo en NumPy a partir de la información de la siguiente tabla y nombrarlo como data_array"
      ],
      "metadata": {
        "id": "kx3YcpVKTFbO"
      }
    },
    {
      "cell_type": "code",
      "source": [
        "from google.colab import files\n",
        "\n",
        "# Subir archivo desde tu máquina local\n",
        "uploaded = files.upload()"
      ],
      "metadata": {
        "id": "DC1TlVMxTiiZ"
      },
      "execution_count": null,
      "outputs": []
    },
    {
      "cell_type": "code",
      "source": [
        "from IPython.display import Image, display\n",
        "\n",
        "# Mostrar la imagen en Colab\n",
        "display(Image(filename='data_arreglo.png'))"
      ],
      "metadata": {
        "id": "5dFQd7L_Tjr7"
      },
      "execution_count": null,
      "outputs": []
    },
    {
      "cell_type": "code",
      "source": [],
      "metadata": {
        "id": "Yt8I7zPZT81c"
      },
      "execution_count": null,
      "outputs": []
    },
    {
      "cell_type": "markdown",
      "source": [
        "### [2] Características de un arreglo"
      ],
      "metadata": {
        "id": "r7-m_bzyUMZS"
      }
    },
    {
      "cell_type": "code",
      "source": [
        "arreglo_1 = np.array([[0, 1, 2, 3],[4, 5, 6, 7],[8, 9, 10, 11]])"
      ],
      "metadata": {
        "id": "-_AubxSmUSuJ"
      },
      "execution_count": null,
      "outputs": []
    },
    {
      "cell_type": "code",
      "source": [
        "arreglo_1.ndim"
      ],
      "metadata": {
        "id": "QKHJ1b60UZ_d"
      },
      "execution_count": null,
      "outputs": []
    },
    {
      "cell_type": "code",
      "source": [
        "arreglo_1.shape"
      ],
      "metadata": {
        "id": "sckRTGENUeXm"
      },
      "execution_count": null,
      "outputs": []
    },
    {
      "cell_type": "code",
      "source": [
        "arreglo_1.size"
      ],
      "metadata": {
        "id": "_PDqakPpUhLx"
      },
      "execution_count": null,
      "outputs": []
    },
    {
      "cell_type": "code",
      "source": [
        "arreglo_1.dtype.name"
      ],
      "metadata": {
        "id": "uBsa3bH9UjmD"
      },
      "execution_count": null,
      "outputs": []
    },
    {
      "cell_type": "markdown",
      "source": [
        "### Actividad N035"
      ],
      "metadata": {
        "id": "VuPreCZLUsn9"
      }
    },
    {
      "cell_type": "markdown",
      "source": [
        "Obtenga las siguientes características del arreglo NumPy data_array: el número de dimensiones, tamaño de cada dimensión, el número de elementos."
      ],
      "metadata": {
        "id": "Q9SnUAUjUwx5"
      }
    },
    {
      "cell_type": "code",
      "source": [],
      "metadata": {
        "id": "0B6qwiAAU0q9"
      },
      "execution_count": null,
      "outputs": []
    },
    {
      "cell_type": "markdown",
      "source": [
        "### [3] Operaciones matemáticas con arreglos NumPy"
      ],
      "metadata": {
        "id": "WcN1zyxaU3vT"
      }
    },
    {
      "cell_type": "code",
      "source": [
        "arreglo_2 = np.array( [11, 12, 13, 14])\n",
        "arreglo_3 = np.array( [ 1, 2, 3, 4])"
      ],
      "metadata": {
        "id": "bM-cNQMgVKed"
      },
      "execution_count": null,
      "outputs": []
    },
    {
      "cell_type": "code",
      "source": [
        "# Suma de arreglos\n",
        "arreglo_4 = arreglo_2 + arreglo_3"
      ],
      "metadata": {
        "id": "iP_admGHVNO4"
      },
      "execution_count": null,
      "outputs": []
    },
    {
      "cell_type": "code",
      "source": [
        "# Resta de arreglos\n",
        "arreglo_5 = arreglo_2 - arreglo_3"
      ],
      "metadata": {
        "id": "idpDjiIGVRk2"
      },
      "execution_count": null,
      "outputs": []
    },
    {
      "cell_type": "code",
      "source": [
        "# Potencia de arreglos\n",
        "arreglo_3**2"
      ],
      "metadata": {
        "id": "b-sGyJKYVbT3"
      },
      "execution_count": null,
      "outputs": []
    },
    {
      "cell_type": "code",
      "source": [
        "# Transformación de un arreglo\n",
        "np.cos(arreglo_3)"
      ],
      "metadata": {
        "id": "iRgBq4tTVgdZ"
      },
      "execution_count": null,
      "outputs": []
    },
    {
      "cell_type": "code",
      "source": [
        "# Multiplicación de matrices\n",
        "\n",
        "A1 = np.array([[1, 1],[0, 1]])\n",
        "A2 = np.array([[2, 0],[3, 4]])"
      ],
      "metadata": {
        "id": "Qu6uMOVnVl34"
      },
      "execution_count": null,
      "outputs": []
    },
    {
      "cell_type": "code",
      "source": [
        "np.dot(A1,A2)"
      ],
      "metadata": {
        "id": "u4S9UdHEVl6U"
      },
      "execution_count": null,
      "outputs": []
    },
    {
      "cell_type": "code",
      "source": [
        "# Operaciones matemáticas con los arreglos de numpy\n",
        "arr_sum = a1 + a2\n",
        "arr_prod = a1 * a2\n",
        "print(f\"La suma de los arreglos es \\n{arr_sum}\")\n",
        "print(f\"\\nLa multiplicación de los arreglos es \\n{arr_prod}\")"
      ],
      "metadata": {
        "id": "Oep_gqWsU4g8"
      },
      "execution_count": null,
      "outputs": []
    },
    {
      "cell_type": "code",
      "source": [
        "# Matrices de 2D\n",
        "mat_4 = np.array([[1,2,3],[4,5,6]])\n",
        "print(f\"La matriz de 2D es \\n{mat_4}\")"
      ],
      "metadata": {
        "id": "g1gxfd7fVjc1"
      },
      "execution_count": null,
      "outputs": []
    },
    {
      "cell_type": "code",
      "source": [
        "# Crear una lista de listas\n",
        "ll_1 = [[10,20,30],[10,10,10]]\n",
        "print(f\"La lista de listas es \\n{ll_1}\")\n",
        "print(f\"\\nEl objeto ll_1 es del tipo \\n{type(ll_1)}\")"
      ],
      "metadata": {
        "id": "hDeFOdGYW02Q"
      },
      "execution_count": null,
      "outputs": []
    },
    {
      "cell_type": "code",
      "source": [
        "# Crear una matriz en numpy a partir de una lista\n",
        "\n",
        "mat_6 = np.array(ll_1)\n",
        "print(f\"La matriz de 2D es \\n{mat_6}\")\n",
        "print(f\"\\nEl objeto mat_6 es del tipo \\n{type(mat_6)}\")"
      ],
      "metadata": {
        "id": "9VYr7KCjXjoW"
      },
      "execution_count": null,
      "outputs": []
    },
    {
      "cell_type": "code",
      "source": [
        "# Creamos una matriz 1D a parit de arange\n",
        "mat_7 = np.arange(15)\n",
        "print(f\"La matriz 1D de numpy es \\n{mat_7}\")\n",
        "print(f\"\\nEl objeto mat_7 es del tipo \\n{type(mat_7)}\")"
      ],
      "metadata": {
        "id": "xVpociN9YCzM"
      },
      "execution_count": null,
      "outputs": []
    },
    {
      "cell_type": "code",
      "source": [
        "# Crear una matriz 2D en numpy a partir de una matriz 1D\n",
        "mat_8 = mat_7.reshape(3,5) #3 filas, 5 columnas\n",
        "print(f\"La matriz 2D de numpy es \\n{mat_8}\")\n",
        "print(f\"\\nEl objeto mat_8 es del tipo \\n{type(mat_8)}\")"
      ],
      "metadata": {
        "id": "zBCQkxowYszN"
      },
      "execution_count": null,
      "outputs": []
    },
    {
      "cell_type": "code",
      "source": [
        "print(f\"El número de dimensiones del objeto mat_8 es {mat_8.ndim}\")\n",
        "print(f\"\\nEl tamaño de las dimensiones del objeto mat_8 es {mat_8.shape}\")\n",
        "print(f\"\\nEl número de elementos del objeto mat_8 es {mat_8.size}\")"
      ],
      "metadata": {
        "id": "uL28s-jdZfRI"
      },
      "execution_count": null,
      "outputs": []
    },
    {
      "cell_type": "code",
      "source": [
        "# Crear una matriz de ceros con determinadas dimensiones\n",
        "mat_9 = np.zeros((4,3))"
      ],
      "metadata": {
        "id": "lZJSIKI-aTZV"
      },
      "execution_count": null,
      "outputs": []
    },
    {
      "cell_type": "code",
      "source": [
        "# Las características de la matriz\n",
        "print(f\"La matriz mat_9 es \\n{mat_9}\")\n",
        "print(f\"\\nEl objeto mat_9 es del tipo \\n{type(mat_9)}\")\n",
        "print(f\"\\nEl número de dimensiones de la matriz mat_9 es {mat_9.ndim}\")\n",
        "print(f\"\\nEl tamaño de las dimensiones de la matriz mat_9 es {mat_9.shape}\")\n",
        "print(f\"\\nEl número de elementos de la matriz mat_9 es {mat_9.size}\")"
      ],
      "metadata": {
        "id": "4bvzOoLMeVOe"
      },
      "execution_count": null,
      "outputs": []
    },
    {
      "cell_type": "code",
      "source": [
        "# Crear una matriz de valores espaciados en un intervalo\n",
        "mat_10 = np.linspace(50,60,20)\n",
        "# Las características de la matriz\n",
        "print(f\"La matriz mat_10 es \\n{mat_10}\")\n",
        "print(f\"\\nEl objeto mat_10 es del tipo \\n{type(mat_10)}\")\n",
        "print(f\"\\nEl número de dimensiones de la matriz mat_10 es {mat_10.ndim}\")\n",
        "print(f\"\\nEl tamaño de las dimensiones de la matriz mat_10 es {mat_10.shape}\")\n",
        "print(f\"\\nEl número de elementos de la matriz mat_10 es {mat_10.size}\")"
      ],
      "metadata": {
        "id": "AHxgSSv6fDzC"
      },
      "execution_count": null,
      "outputs": []
    },
    {
      "cell_type": "code",
      "source": [
        "l_0 = [30,32,40,50,65]\n",
        "print(f\"El objeto l_0 es {l_0}\")\n",
        "print(f\"El objeto l_0 es del tipo {type(l_0)}\")"
      ],
      "metadata": {
        "id": "I6qfHJdvfp4B"
      },
      "execution_count": null,
      "outputs": []
    },
    {
      "cell_type": "code",
      "source": [
        "mat_11 = np.array(l_0) # Convertir una lista en un arreglo numpy\n",
        "print(f\"El objeto mat_11 es {mat_11}\")\n",
        "print(f\"El objeto mat_11 es del tipo {type(mat_11)}\")"
      ],
      "metadata": {
        "id": "BPLlnuJHhLeY"
      },
      "execution_count": null,
      "outputs": []
    },
    {
      "cell_type": "code",
      "source": [
        "# Las características de la matriz\n",
        "print(f\"La matriz mat_11 es \\n{mat_11}\")\n",
        "print(f\"\\nEl objeto mat_11 es del tipo \\n{type(mat_11)}\")\n",
        "print(f\"\\nEl número de dimensiones de la matriz mat_11 es {mat_11.ndim}\")\n",
        "print(f\"\\nEl tamaño de las dimensiones de la matriz mat_11 es {mat_11.shape}\")\n",
        "print(f\"\\nEl número de elementos de la matriz mat_11 es {mat_11.size}\")"
      ],
      "metadata": {
        "id": "uN22MonEhLrv"
      },
      "execution_count": null,
      "outputs": []
    },
    {
      "cell_type": "code",
      "source": [
        "import numpy as np\n",
        "mat_12 = np.arange(24).reshape(2,4,3)\n",
        "# Las características de la matriz\n",
        "print(f\"La matriz mat_12 es \\n{mat_12}\")\n",
        "print(f\"\\nEl objeto mat_12 es del tipo \\n{type(mat_12)}\")\n",
        "print(f\"\\nEl número de dimensiones de la matriz mat_12 es {mat_12.ndim}\")\n",
        "print(f\"\\nEl tamaño de las dimensiones de la matriz mat_12 es {mat_12.shape}\")\n",
        "print(f\"\\nEl número de elementos de la matriz mat_12 es {mat_12.size}\")"
      ],
      "metadata": {
        "id": "_CPKGXr0hL3T"
      },
      "execution_count": null,
      "outputs": []
    },
    {
      "cell_type": "code",
      "source": [
        "print(f\"\\nEl número de dimensiones de la matriz mat_12 es {mat_12.ndim}\") # Matriz de 3D\n",
        "print(f\"\\nLa matriz mat_12 se convierte con la función ravel en \\n{mat_12.ravel()}\")\n",
        "mat_12 = mat_12.ravel()"
      ],
      "metadata": {
        "id": "G1Z1pK-hhMCc"
      },
      "execution_count": null,
      "outputs": []
    },
    {
      "cell_type": "code",
      "source": [
        "print(f\"\\nEl número de dimensiones de la matriz mat_12 es {mat_12.ndim}\")"
      ],
      "metadata": {
        "id": "uVGF2oqMNS8n"
      },
      "execution_count": null,
      "outputs": []
    },
    {
      "cell_type": "code",
      "source": [
        "# np.array(objeto) => objeto se convierte en numpy array\n",
        "ll_x = [[57,21,48,0],[71,27,60,0],[111,51,96,0]]\n",
        "print(f\"La lista de listas es \\n{ll_x}\")"
      ],
      "metadata": {
        "id": "KCofsUZpQFW_"
      },
      "execution_count": null,
      "outputs": []
    },
    {
      "cell_type": "code",
      "source": [
        "mat_13 = np.array(ll_x)\n",
        "print(f\"La matriz mat_13 es \\n{mat_13}\")"
      ],
      "metadata": {
        "id": "s47KbA5oSmBa"
      },
      "execution_count": null,
      "outputs": []
    },
    {
      "cell_type": "code",
      "source": [
        "mat_13 = np.array([\n",
        "    [  # Primera matriz\n",
        "        [57, 21, 48, 0],\n",
        "        [71, 27, 60, 0],\n",
        "        [111, 51, 96, 0]\n",
        "    ],\n",
        "    [  # Segunda matriz\n",
        "        [66, 16, 36, 18],\n",
        "        [95, 22, 58, 29],\n",
        "        [83, 20, 46, 23]\n",
        "    ],\n",
        "    [  # Tercera matriz\n",
        "        [44, 34, 72, 44],\n",
        "        [34, 32, 72, 34],\n",
        "        [13, 25, 64, 13]\n",
        "    ]\n",
        "])"
      ],
      "metadata": {
        "id": "-rgDuAncS1Mg"
      },
      "execution_count": null,
      "outputs": []
    },
    {
      "cell_type": "code",
      "source": [
        "# Las características de la matriz\n",
        "print(f\"La matriz mat_13 es \\n{mat_13}\")\n",
        "print(f\"\\nEl objeto mat_13 es del tipo \\n{type(mat_13)}\")\n",
        "print(f\"\\nEl número de dimensiones de la matriz mat_13 es {mat_13.ndim}\")\n",
        "print(f\"\\nEl tamaño de las dimensiones de la matriz mat_13 es {mat_13.shape}\")\n",
        "print(f\"\\nEl número de elementos de la matriz mat_13 es {mat_13.size}\")"
      ],
      "metadata": {
        "id": "Jt1CXWeEVHps"
      },
      "execution_count": null,
      "outputs": []
    },
    {
      "cell_type": "code",
      "source": [
        "# Crear una matriz con la ayuda de numpy de 3D que tenga 6 matrices de 2 filas x 2 columnas\n",
        "# Podemos usar la función arange() para generar los elementos de la matriz\n",
        "mat_14 = np.arange(24).reshape(6,2,2)\n",
        "# Las características de la matriz\n",
        "print(f\"La matriz mat_14 es \\n{mat_14}\")\n",
        "print(f\"\\nEl objeto mat_14 es del tipo \\n{type(mat_14)}\")\n",
        "print(f\"\\nEl número de dimensiones de la matriz mat_14 es {mat_14.ndim}\")\n",
        "print(f\"\\nEl tamaño de las dimensiones de la matriz mat_14 es {mat_14.shape}\")\n",
        "print(f\"\\nEl número de elementos de la matriz mat_14 es {mat_14.size}\")"
      ],
      "metadata": {
        "id": "eBAQbi50VtR0"
      },
      "execution_count": null,
      "outputs": []
    },
    {
      "cell_type": "code",
      "source": [
        "# Acceder a los elementos de una matriz 3D\n",
        "\n",
        "print(f\"Los elementos de la primera matriz mat_13 son \\n{mat_13[0]}\")\n",
        "print(f\"\\nLos elementos de la segunda matriz mat_13 son \\n{mat_13[1]}\")\n",
        "print(f\"\\nLos elementos de la tercera matriz mat_13 son \\n{mat_13[2]}\")"
      ],
      "metadata": {
        "id": "xPuvd7s0W2X5"
      },
      "execution_count": null,
      "outputs": []
    },
    {
      "cell_type": "code",
      "source": [
        "print(f\"Los elementos de la primera fila y la primera matriz mat_13 son \\n{mat_13[0][0]}\")"
      ],
      "metadata": {
        "id": "3jc7JJlZYavj"
      },
      "execution_count": null,
      "outputs": []
    },
    {
      "cell_type": "code",
      "source": [
        "print(f\"Los elementos de la tercera fila de la segunda matriz mat_13 son \\n{mat_13[1][2]}\")"
      ],
      "metadata": {
        "id": "X9ZA8pWQXkLj"
      },
      "execution_count": null,
      "outputs": []
    },
    {
      "cell_type": "code",
      "source": [
        "print(f\"Los elementos de la tercera fila de la segunda matriz mat_13 son \\n{mat_13[1][2][0]}\")"
      ],
      "metadata": {
        "id": "Pu43ZhW-ZaZU"
      },
      "execution_count": null,
      "outputs": []
    },
    {
      "cell_type": "code",
      "source": [
        "print(f\"El valor mínimo de la matriz mat_13 es {mat_13.min()}\")\n",
        "print(f\"El valor máximo de la matriz mat_13 es {mat_13.max()}\")\n",
        "print(f\"La suma de los elementos de la matriz mat_13 es {mat_13.sum()}\")"
      ],
      "metadata": {
        "id": "RQ-slN8GZgGi"
      },
      "execution_count": null,
      "outputs": []
    },
    {
      "cell_type": "markdown",
      "source": [
        "### Actividad N036"
      ],
      "metadata": {
        "id": "8rQicFvjWTd3"
      }
    },
    {
      "cell_type": "markdown",
      "source": [
        "Crear los arreglos A y B, realice el cálculo de multiplicación de matrices (A.B) y de (B.A)"
      ],
      "metadata": {
        "id": "SzKkR5a0WWIK"
      }
    },
    {
      "cell_type": "code",
      "source": [
        "from google.colab import files\n",
        "\n",
        "# Subir archivo desde tu máquina local\n",
        "uploaded = files.upload()"
      ],
      "metadata": {
        "id": "FqYwItr9WqkT"
      },
      "execution_count": null,
      "outputs": []
    },
    {
      "cell_type": "code",
      "source": [
        "from IPython.display import Image, display\n",
        "\n",
        "# Mostrar la imagen en Colab\n",
        "display(Image(filename='actividad36.png'))"
      ],
      "metadata": {
        "id": "_CiiDyEZWrOC"
      },
      "execution_count": null,
      "outputs": []
    },
    {
      "cell_type": "code",
      "source": [],
      "metadata": {
        "id": "vrAV34UKWrqa"
      },
      "execution_count": null,
      "outputs": []
    },
    {
      "cell_type": "markdown",
      "source": [
        "### [4] Operaciones con arreglos"
      ],
      "metadata": {
        "id": "0hrw-5IkbXqW"
      }
    },
    {
      "cell_type": "code",
      "source": [
        "mat_15 = np.array([[3,1],[2,7]])\n",
        "# Las características de la matriz mat_15\n",
        "print(f\"La matriz es \\n{mat_15}\")\n",
        "print(f\"\\nEl objeto es del tipo \\n{type(mat_15)}\")\n",
        "print(f\"\\nEl número de dimensiones de la matriz es {mat_15.ndim}\")\n",
        "print(f\"\\nEl tamaño de las dimensiones de la matriz es {mat_15.shape}\")\n",
        "print(f\"\\nEl número de elementos de la matriz es {mat_15.size}\")"
      ],
      "metadata": {
        "id": "g_mN9lsJZ_-w"
      },
      "execution_count": null,
      "outputs": []
    },
    {
      "cell_type": "code",
      "source": [
        "mat_16 = np.array([[4,2],[5,7]])\n",
        "# Las características de la matriz mat_16\n",
        "print(f\"La matriz es \\n{mat_16}\")\n",
        "print(f\"\\nEl objeto es del tipo \\n{type(mat_16)}\")\n",
        "print(f\"\\nEl número de dimensiones de la matriz es {mat_16.ndim}\")\n",
        "print(f\"\\nEl tamaño de las dimensiones de la matriz es {mat_16.shape}\")\n",
        "print(f\"\\nEl número de elementos de la matriz es {mat_16.size}\")"
      ],
      "metadata": {
        "id": "6LA5B_1rb07_"
      },
      "execution_count": null,
      "outputs": []
    },
    {
      "cell_type": "code",
      "source": [
        "# Suma de matrices por método directo\n",
        "mat_17 = mat_15 + mat_16\n",
        "# Las características de la matriz mat_17\n",
        "print(f\"La matriz es \\n{mat_17}\")\n",
        "print(f\"\\nEl objeto es del tipo \\n{type(mat_17)}\")\n",
        "print(f\"\\nEl número de dimensiones de la matriz es {mat_17.ndim}\")\n",
        "print(f\"\\nEl tamaño de las dimensiones de la matriz es {mat_17.shape}\")\n",
        "print(f\"\\nEl número de elementos de la matriz es {mat_17.size}\")"
      ],
      "metadata": {
        "id": "ffzonjJXcFi4"
      },
      "execution_count": null,
      "outputs": []
    },
    {
      "cell_type": "code",
      "source": [
        "# Suma de matrices por método add\n",
        "print(f\"La primera matriz es \\n{mat_15}\")\n",
        "print(f\"\\nLa segunda matriz es \\n{mat_16}\")\n",
        "print(f\"\\nLa matriz resultado de la suma es \\n{np.add(mat_15,mat_16)}\")"
      ],
      "metadata": {
        "id": "j0V4g4dQccUT"
      },
      "execution_count": null,
      "outputs": []
    },
    {
      "cell_type": "code",
      "source": [
        "# Resta de matrices\n",
        "print(f\"La primera matriz es \\n{mat_15}\")\n",
        "print(f\"\\nLa segunda matriz es \\n{mat_16}\")\n",
        "print(f\"\\nLa matriz resultado de la resta es \\n{mat_15-mat_16}\")"
      ],
      "metadata": {
        "id": "wsGMQi9mc_RK"
      },
      "execution_count": null,
      "outputs": []
    },
    {
      "cell_type": "code",
      "source": [
        "# Resta de matrices con método subtract\n",
        "print(f\"La primera matriz es \\n{mat_15}\")\n",
        "print(f\"\\nLa segunda matriz es \\n{mat_16}\")\n",
        "print(f\"\\nLa matriz resultado de la resta es \\n{np.subtract(mat_15,mat_16)}\")"
      ],
      "metadata": {
        "id": "XVIA_CNthvCE"
      },
      "execution_count": null,
      "outputs": []
    },
    {
      "cell_type": "code",
      "source": [
        "# Multiplicar matrices (a nivel de posiciones)\n",
        "print(f\"La primera matriz es \\n{mat_15}\")\n",
        "print(f\"\\nLa segunda matriz es \\n{mat_16}\")\n",
        "print(f\"\\nLa matriz resultado de la multiplicación es \\n{np.multiply(mat_15,mat_16)}\")"
      ],
      "metadata": {
        "id": "K0LlpL6ziW2z"
      },
      "execution_count": null,
      "outputs": []
    },
    {
      "cell_type": "code",
      "source": [
        "# Multiplicar matrices\n",
        "print(f\"La primera matriz es \\n{mat_15}\")\n",
        "print(f\"\\nLa segunda matriz es \\n{mat_16}\")\n",
        "print(f\"\\nLa matriz resultado de la multiplicación es \\n{mat_15.dot(mat_16)}\")"
      ],
      "metadata": {
        "id": "MjLn1oSukXx3"
      },
      "execution_count": null,
      "outputs": []
    },
    {
      "cell_type": "code",
      "source": [
        "mat_18 = np.array([[1,2],[3,4],[5,6]])\n",
        "mat_19 = np.array([[1,2,3],[3,4,5]])\n",
        "\n",
        "print(f\"La matriz mat_18 es \\n{mat_18}\")\n",
        "print(f\"\\nEl número de dimensiones de la matriz mat_18 es {mat_18.ndim}\")\n",
        "print(f\"\\nEl tamaño de las dimensiones de la matriz mat_18 es {mat_18.shape}\")\n",
        "\n",
        "print(f\"\\nLa matriz mat_19 es \\n{mat_19}\")\n",
        "print(f\"\\nEl número de dimensiones de la matriz mat_19 es {mat_19.ndim}\")\n",
        "print(f\"\\nEl tamaño de las dimensiones de la matriz mat_19 es {mat_19.shape}\")\n"
      ],
      "metadata": {
        "id": "VZ_1YOuQnE-G"
      },
      "execution_count": null,
      "outputs": []
    },
    {
      "cell_type": "code",
      "source": [
        "# Multiplicar matrices\n",
        "print(f\"La primera matriz es \\n{mat_18}\")\n",
        "print(f\"\\nLa segunda matriz es \\n{mat_19}\")\n",
        "print(f\"\\nLa matriz resultado de la multiplicación es \\n{mat_18.dot(mat_19)}\")\n",
        "print(f\"\\nLa matriz resultado de la multiplicación es \\n{mat_19.dot(mat_18)}\")"
      ],
      "metadata": {
        "id": "tKBorDbloUFs"
      },
      "execution_count": null,
      "outputs": []
    },
    {
      "cell_type": "code",
      "source": [
        "print(f\"La primera matriz es \\n{mat_18}\")\n",
        "print(f\"\\nLa segunda matriz es \\n{mat_19}\")\n",
        "print(f\"\\nLa matriz resultado de la multiplicación es \\n{mat_18+mat_19}\")"
      ],
      "metadata": {
        "id": "riHOiqlXo-uE"
      },
      "execution_count": null,
      "outputs": []
    },
    {
      "cell_type": "code",
      "source": [
        "print(f\"La primera matriz es \\n{mat_15}\")\n",
        "print(f\"\\nLa segunda matriz es \\n{mat_16}\")\n",
        "print(f\"\\nLas matrices concatenadas \\n{np.concatenate([mat_15,mat_16],axis=0)}\")"
      ],
      "metadata": {
        "id": "iGkMTESJpPHq"
      },
      "execution_count": null,
      "outputs": []
    },
    {
      "cell_type": "code",
      "source": [
        "print(f\"La primera matriz es \\n{mat_15}\")\n",
        "print(f\"\\nLa segunda matriz es \\n{mat_16}\")\n",
        "print(f\"\\nLas matrices concatenadas \\n{np.concatenate([mat_15,mat_16],axis=1)}\")"
      ],
      "metadata": {
        "id": "camf5mlbqJ7e"
      },
      "execution_count": null,
      "outputs": []
    },
    {
      "cell_type": "code",
      "source": [
        "# Multiplicar matrices\n",
        "print(f\"La primera matriz es \\n{mat_19}\")\n",
        "print(f\"\\nLa segunda matriz es \\n{mat_18}\")\n",
        "print(f\"\\nLa matriz resultado de la multiplicación es \\n{mat_19.dot(mat_18)}\")"
      ],
      "metadata": {
        "id": "niWjoF-sqRRN"
      },
      "execution_count": null,
      "outputs": []
    },
    {
      "cell_type": "code",
      "source": [
        "# Arreglo original\n",
        "arreglo_1"
      ],
      "metadata": {
        "id": "tMJFRG3HXWTx"
      },
      "execution_count": null,
      "outputs": []
    },
    {
      "cell_type": "code",
      "source": [
        "arreglo_1.ravel()"
      ],
      "metadata": {
        "id": "vZN3_k-2XeL6"
      },
      "execution_count": null,
      "outputs": []
    },
    {
      "cell_type": "code",
      "source": [
        "arreglo_1.shape = (6,2)"
      ],
      "metadata": {
        "id": "S5dlrdg1XgCT"
      },
      "execution_count": null,
      "outputs": []
    },
    {
      "cell_type": "code",
      "source": [
        "arreglo_1.transpose()"
      ],
      "metadata": {
        "id": "odhL7RqdXksE"
      },
      "execution_count": null,
      "outputs": []
    },
    {
      "cell_type": "code",
      "source": [
        "#Seleccionamos la fila 1 y la columna 2.\n",
        "arreglo_1[0,1]"
      ],
      "metadata": {
        "id": "BFZGYsDcYH3_"
      },
      "execution_count": null,
      "outputs": []
    },
    {
      "cell_type": "code",
      "source": [
        "#Seleccionamos la fila 1 y las 3 primeras columnas.\n",
        "arreglo_1[ 0 , 0:3 ]"
      ],
      "metadata": {
        "id": "_B1JZKb5YSfc"
      },
      "execution_count": null,
      "outputs": []
    },
    {
      "cell_type": "code",
      "source": [
        "#Seleccionamos la fila 1 y todas las columnas.\n",
        "arreglo_1[ 0 , : ]"
      ],
      "metadata": {
        "id": "YgUxPko1YT8j"
      },
      "execution_count": null,
      "outputs": []
    },
    {
      "cell_type": "code",
      "source": [
        "#Seleccionamos todas las filas y la columna 2.\n",
        "arreglo_1[ : , 1 ]"
      ],
      "metadata": {
        "id": "IBOmihejYVQd"
      },
      "execution_count": null,
      "outputs": []
    },
    {
      "cell_type": "markdown",
      "source": [
        "### Actividad N037"
      ],
      "metadata": {
        "id": "TTYIFEXvYWZv"
      }
    },
    {
      "cell_type": "markdown",
      "source": [
        "Seleccione del arreglo data_array la edad y los años de experiencia del primer y tercer registro\n"
      ],
      "metadata": {
        "id": "l_pRWxCRYaji"
      }
    },
    {
      "cell_type": "code",
      "source": [],
      "metadata": {
        "id": "3jNMiNmKYhVI"
      },
      "execution_count": null,
      "outputs": []
    },
    {
      "cell_type": "markdown",
      "source": [
        "### [5] Estadísticas en arreglos NumPy"
      ],
      "metadata": {
        "id": "bgDhLt00XvBE"
      }
    },
    {
      "cell_type": "code",
      "source": [
        "a = np.array([1, 2, 3, 4])\n",
        "\n",
        "print(a.mean())   # promedio\n",
        "print(a.sum())    # suma total\n",
        "print(a.max())    # valor máximo\n",
        "print(a.min())    # valor mínimo\n"
      ],
      "metadata": {
        "id": "LgSCO9TkX1TF"
      },
      "execution_count": null,
      "outputs": []
    },
    {
      "cell_type": "markdown",
      "source": [
        "### Actividad N038"
      ],
      "metadata": {
        "id": "b8cqM5mJX7f-"
      }
    },
    {
      "cell_type": "markdown",
      "source": [
        "Del arreglo data_array, calcule los valores mínimo, máximos y promedios de todas las variables\n"
      ],
      "metadata": {
        "id": "vgJpDiufYkfC"
      }
    },
    {
      "cell_type": "code",
      "source": [],
      "metadata": {
        "id": "KPKkTN8RYqao"
      },
      "execution_count": null,
      "outputs": []
    },
    {
      "cell_type": "markdown",
      "source": [
        "### [6] Comparación de listas y arreglos NumPy"
      ],
      "metadata": {
        "id": "nwoy0lQ2Ys6d"
      }
    },
    {
      "cell_type": "code",
      "source": [
        "import numpy as np\n",
        "\n",
        "lista = list(range(1_000_000))\n",
        "array = np.array(lista)"
      ],
      "metadata": {
        "id": "5ZV888_YrxQH"
      },
      "execution_count": null,
      "outputs": []
    },
    {
      "cell_type": "code",
      "source": [
        "lista"
      ],
      "metadata": {
        "id": "4gYi5Isavgqz"
      },
      "execution_count": null,
      "outputs": []
    },
    {
      "cell_type": "code",
      "source": [
        "array"
      ],
      "metadata": {
        "id": "D0ay9CWgvmjs"
      },
      "execution_count": null,
      "outputs": []
    },
    {
      "cell_type": "code",
      "source": [
        "type(lista)"
      ],
      "metadata": {
        "id": "v2gIlxFxvqdx"
      },
      "execution_count": null,
      "outputs": []
    },
    {
      "cell_type": "code",
      "source": [
        "type(array)"
      ],
      "metadata": {
        "id": "aKrIzQbEvskN"
      },
      "execution_count": null,
      "outputs": []
    },
    {
      "cell_type": "code",
      "source": [
        "import time\n",
        "\n",
        "start = time.time()\n",
        "[ x*2 for x in lista ]\n",
        "print(\"Lista:\", time.time() - start)\n"
      ],
      "metadata": {
        "id": "4PGE4iYzvuwf"
      },
      "execution_count": null,
      "outputs": []
    },
    {
      "cell_type": "code",
      "source": [
        "import time\n",
        "\n",
        "start = time.time()\n",
        "array * 2\n",
        "print(\"NumPy:\", time.time() - start)"
      ],
      "metadata": {
        "id": "9VbDA_WIvyIP"
      },
      "execution_count": null,
      "outputs": []
    },
    {
      "cell_type": "markdown",
      "source": [
        "### [7] Caso aplicado: Cálculo de la elasticidad precio"
      ],
      "metadata": {
        "id": "C05k156lY2C5"
      }
    },
    {
      "cell_type": "code",
      "source": [
        "import pandas as pd\n",
        "\n",
        "data = pd.read_csv(\"data_arroz.csv\", encoding='latin-1')"
      ],
      "metadata": {
        "id": "3z5ywQqCv8li"
      },
      "execution_count": null,
      "outputs": []
    },
    {
      "cell_type": "code",
      "source": [
        "data.head(2)"
      ],
      "metadata": {
        "id": "XnjgBcRq3mo8"
      },
      "execution_count": null,
      "outputs": []
    },
    {
      "cell_type": "code",
      "source": [
        "array_arroz = np.array(data.iloc[:,2:])"
      ],
      "metadata": {
        "id": "OMJT7N0l4B7e"
      },
      "execution_count": null,
      "outputs": []
    },
    {
      "cell_type": "code",
      "source": [
        "X = array_arroz[:,0]\n",
        "X"
      ],
      "metadata": {
        "id": "wEbPCv1Y4HNH"
      },
      "execution_count": null,
      "outputs": []
    },
    {
      "cell_type": "code",
      "source": [
        "print(f\"Las estadísticas de los precios son \\n Mínimo: {X.min()} \\n Máximo: {X.max()} \\n Promedio: {X.mean()}\")"
      ],
      "metadata": {
        "id": "-Gmz4qEbNQUb"
      },
      "execution_count": null,
      "outputs": []
    },
    {
      "cell_type": "code",
      "source": [
        "y = array_arroz[:,1]\n",
        "y"
      ],
      "metadata": {
        "id": "6IbkffoD4x4E"
      },
      "execution_count": null,
      "outputs": []
    },
    {
      "cell_type": "code",
      "source": [
        "print(f\"Las estadísticas de la demanda semanal en unidades son \\n Mínimo: {y.min()} \\n Máximo: {y.max()} \\n Promedio: {np.round(y.mean(),2)}\")"
      ],
      "metadata": {
        "id": "jnXNWTsZNvpX"
      },
      "execution_count": null,
      "outputs": []
    },
    {
      "cell_type": "code",
      "source": [
        "X_ = np.column_stack((np.ones(len(X)), X))\n",
        "X_"
      ],
      "metadata": {
        "id": "u1DCeqtD44tq"
      },
      "execution_count": null,
      "outputs": []
    },
    {
      "cell_type": "code",
      "source": [
        "y = y.reshape(-1, 1)\n",
        "y"
      ],
      "metadata": {
        "id": "NEH7dDfI5B9d"
      },
      "execution_count": null,
      "outputs": []
    },
    {
      "cell_type": "code",
      "source": [
        "p1 = np.linalg.inv(np.dot(X_.transpose(),X_))\n",
        "p2 = np.dot(X_.transpose(),y)\n",
        "beta = np.dot(p1,p2)"
      ],
      "metadata": {
        "id": "bEACEGhg5IDe"
      },
      "execution_count": null,
      "outputs": []
    },
    {
      "cell_type": "code",
      "source": [
        "beta"
      ],
      "metadata": {
        "id": "XXZKF9qc6c3x"
      },
      "execution_count": null,
      "outputs": []
    },
    {
      "cell_type": "code",
      "source": [
        "beta[1,:]"
      ],
      "metadata": {
        "id": "M4EsJDee6kFm"
      },
      "execution_count": null,
      "outputs": []
    },
    {
      "cell_type": "code",
      "source": [
        "elasticidad = beta[1,:] * (X.mean()/y.mean())"
      ],
      "metadata": {
        "id": "w1nqRXjc6vkp"
      },
      "execution_count": null,
      "outputs": []
    },
    {
      "cell_type": "code",
      "source": [
        "elasticidad"
      ],
      "metadata": {
        "id": "pwXtE90YPRP5"
      },
      "execution_count": null,
      "outputs": []
    },
    {
      "cell_type": "markdown",
      "source": [
        "### Actividad N039"
      ],
      "metadata": {
        "id": "lLRhA9HrY_N2"
      }
    },
    {
      "cell_type": "markdown",
      "source": [
        "Calcular la elasticidad precio de un yogurt de 1 Litro, considere la información del archivo yogurt1L.csv que registra los precios y la demanda de este producto en 20 semanas consecutivas."
      ],
      "metadata": {
        "id": "xK3YD4cWZGrw"
      }
    },
    {
      "cell_type": "code",
      "source": [],
      "metadata": {
        "id": "U9N_TaxQPSo3"
      },
      "execution_count": null,
      "outputs": []
    }
  ]
}