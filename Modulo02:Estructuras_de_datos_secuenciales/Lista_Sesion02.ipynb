{
  "nbformat": 4,
  "nbformat_minor": 0,
  "metadata": {
    "colab": {
      "provenance": [],
      "include_colab_link": true
    },
    "kernelspec": {
      "name": "python3",
      "display_name": "Python 3"
    },
    "language_info": {
      "name": "python"
    }
  },
  "cells": [
    {
      "cell_type": "markdown",
      "metadata": {
        "id": "view-in-github",
        "colab_type": "text"
      },
      "source": [
        "<a href=\"https://colab.research.google.com/github/mpintoponce/python_utec/blob/main/Modulo02%3AEstructuras_de_datos_secuenciales/Lista_Sesion02.ipynb\" target=\"_parent\"><img src=\"https://colab.research.google.com/assets/colab-badge.svg\" alt=\"Open In Colab\"/></a>"
      ]
    },
    {
      "cell_type": "markdown",
      "source": [
        "## [1] Recorrer una lista en Python"
      ],
      "metadata": {
        "id": "MD4emPFaL0p6"
      }
    },
    {
      "cell_type": "code",
      "execution_count": null,
      "metadata": {
        "id": "D8mSGH6KLL_l"
      },
      "outputs": [],
      "source": [
        "librerias = ['numpy','pandas','scipy','matplotlib','scikit learn']"
      ]
    },
    {
      "cell_type": "code",
      "source": [
        "print(f\"Los elementos de la lista librerias son \\n{librerias}\")"
      ],
      "metadata": {
        "colab": {
          "base_uri": "https://localhost:8080/"
        },
        "id": "oHnqo8bEL3JP",
        "outputId": "2f2c760b-1ae1-4f6f-ef09-9e38f912c105"
      },
      "execution_count": null,
      "outputs": [
        {
          "output_type": "stream",
          "name": "stdout",
          "text": [
            "Los elementos de la lista librerias son \n",
            "['numpy', 'pandas', 'scipy', 'matplotlib', 'scikit learn']\n"
          ]
        }
      ]
    },
    {
      "cell_type": "code",
      "source": [
        "type(librerias)"
      ],
      "metadata": {
        "colab": {
          "base_uri": "https://localhost:8080/"
        },
        "id": "Psqhco3ashR0",
        "outputId": "3c56c285-79a3-4d24-c287-eef5631587c1"
      },
      "execution_count": null,
      "outputs": [
        {
          "output_type": "execute_result",
          "data": {
            "text/plain": [
              "list"
            ]
          },
          "metadata": {},
          "execution_count": 50
        }
      ]
    },
    {
      "cell_type": "code",
      "source": [
        "for libreria in librerias:\n",
        "  print(libreria)"
      ],
      "metadata": {
        "colab": {
          "base_uri": "https://localhost:8080/"
        },
        "id": "2M0sHbWgMHN7",
        "outputId": "3731560d-1cd1-46c7-94e4-f6c82c98f5a3"
      },
      "execution_count": null,
      "outputs": [
        {
          "output_type": "stream",
          "name": "stdout",
          "text": [
            "numpy\n",
            "pandas\n",
            "scipy\n",
            "matplotlib\n",
            "scikit learn\n"
          ]
        }
      ]
    },
    {
      "cell_type": "markdown",
      "source": [
        "### Actividad N016"
      ],
      "metadata": {
        "id": "R8ZIY17-MQqA"
      }
    },
    {
      "cell_type": "code",
      "source": [
        "## SOLUCIÓN ACTIVIDAD N016\n",
        "\n",
        "productos = [\"Arroz\", \"Leche\", \"Pan\", \"Huevos\", \"Frutas\"]\n",
        "\n",
        "print(\"Mi lista de compra habitual en el supermercado es:\")\n",
        "for producto in productos:\n",
        "    print(producto)"
      ],
      "metadata": {
        "colab": {
          "base_uri": "https://localhost:8080/"
        },
        "id": "8M9HBSKOMLgH",
        "outputId": "f38540b5-2aa1-444b-ea85-1e7f34e0647f"
      },
      "execution_count": null,
      "outputs": [
        {
          "output_type": "stream",
          "name": "stdout",
          "text": [
            "Mi lista de compra habitual en el supermercado es:\n",
            "Arroz\n",
            "Leche\n",
            "Pan\n",
            "Huevos\n",
            "Frutas\n"
          ]
        }
      ]
    },
    {
      "cell_type": "markdown",
      "source": [
        "## [2] Realizar una acción después del bucle"
      ],
      "metadata": {
        "id": "mI8P28IGMe5e"
      }
    },
    {
      "cell_type": "code",
      "source": [
        "productos = ['aceite','arroz','agua','carne','pollo']"
      ],
      "metadata": {
        "id": "Ubh6rpUnMaYT"
      },
      "execution_count": null,
      "outputs": []
    },
    {
      "cell_type": "code",
      "source": [
        "print(\"Mi lista habitual en el supermercado es\")\n",
        "for producto in productos:\n",
        "  print('-',producto)\n",
        "print(\"Mi presupuesto principalmente se basa en esta lista\")"
      ],
      "metadata": {
        "colab": {
          "base_uri": "https://localhost:8080/"
        },
        "id": "3jqWsTTVMvj4",
        "outputId": "0f53391e-08dc-4e33-dcc0-67e87cc234da"
      },
      "execution_count": null,
      "outputs": [
        {
          "output_type": "stream",
          "name": "stdout",
          "text": [
            "Mi lista habitual en el supermercado es\n",
            "- Arroz\n",
            "- Leche\n",
            "- Pan\n",
            "- Huevos\n",
            "- Frutas\n",
            "Mi presupuesto principalmente se basa en esta lista\n"
          ]
        }
      ]
    },
    {
      "cell_type": "markdown",
      "source": [
        "### Actividad N017"
      ],
      "metadata": {
        "id": "aW6MbEPqNGZe"
      }
    },
    {
      "cell_type": "code",
      "source": [
        "## SOLUCIÓN DE ACTIVIDAD N017\n",
        "print(\"Las librerías más usadas en Python son:\")\n",
        "for libreria in librerias:\n",
        "  print('-',libreria)\n",
        "print(\"Tengo experiencia profesional trabajando con todas ellas\")"
      ],
      "metadata": {
        "colab": {
          "base_uri": "https://localhost:8080/"
        },
        "id": "2mWHMqd9M_5c",
        "outputId": "a9e5f973-6678-4ca9-fc9a-46c1c67de4a7"
      },
      "execution_count": null,
      "outputs": [
        {
          "output_type": "stream",
          "name": "stdout",
          "text": [
            "Las librerías más usadas en Python son:\n",
            "- numpy\n",
            "- pandas\n",
            "- scipy\n",
            "- matplotlib\n",
            "- scikit learn\n",
            "Tengo experiencia profesional trabajando con todas ellas\n"
          ]
        }
      ]
    },
    {
      "cell_type": "markdown",
      "source": [
        "## [3] Problemas con identación y dos puntos"
      ],
      "metadata": {
        "id": "IZVy2ddcNULO"
      }
    },
    {
      "cell_type": "markdown",
      "source": [
        "### Olvidamos la identación"
      ],
      "metadata": {
        "id": "A_88Du1_NpC5"
      }
    },
    {
      "cell_type": "code",
      "source": [
        "print(\"En Python las librerías más populares son\")\n",
        "for libreria in librerias:\n",
        "print(\"-\",libreria)"
      ],
      "metadata": {
        "colab": {
          "base_uri": "https://localhost:8080/",
          "height": 108
        },
        "id": "tbJzYa-7NONP",
        "outputId": "b3b78bb2-86c4-4e35-a251-ba0820b6b422"
      },
      "execution_count": null,
      "outputs": [
        {
          "output_type": "error",
          "ename": "IndentationError",
          "evalue": "expected an indented block after 'for' statement on line 2 (<ipython-input-55-a6bc1d6d471e>, line 3)",
          "traceback": [
            "\u001b[0;36m  File \u001b[0;32m\"<ipython-input-55-a6bc1d6d471e>\"\u001b[0;36m, line \u001b[0;32m3\u001b[0m\n\u001b[0;31m    print(\"-\",libreria)\u001b[0m\n\u001b[0m    ^\u001b[0m\n\u001b[0;31mIndentationError\u001b[0m\u001b[0;31m:\u001b[0m expected an indented block after 'for' statement on line 2\n"
          ]
        }
      ]
    },
    {
      "cell_type": "markdown",
      "source": [
        "### Usamos la identación de manera innecesaria"
      ],
      "metadata": {
        "id": "OPt53QvUNtIZ"
      }
    },
    {
      "cell_type": "code",
      "source": [
        "print(\"En Python las librerías más populares son\")\n",
        "for libreria in librerias:\n",
        "  print(\"-\",libreria)\n",
        "  print(\"Tengo experiencia profesional trabajando con todas ellas\")"
      ],
      "metadata": {
        "colab": {
          "base_uri": "https://localhost:8080/"
        },
        "id": "OUHG8ch-NhzH",
        "outputId": "b7c709d8-2f1c-4e51-a3bf-10aa2405ef0e"
      },
      "execution_count": null,
      "outputs": [
        {
          "output_type": "stream",
          "name": "stdout",
          "text": [
            "En Python las librerías más populares son\n",
            "- numpy\n",
            "Tengo experiencia profesional trabajando con todas ellas\n",
            "- pandas\n",
            "Tengo experiencia profesional trabajando con todas ellas\n",
            "- scipy\n",
            "Tengo experiencia profesional trabajando con todas ellas\n",
            "- matplotlib\n",
            "Tengo experiencia profesional trabajando con todas ellas\n",
            "- scikit learn\n",
            "Tengo experiencia profesional trabajando con todas ellas\n"
          ]
        }
      ]
    },
    {
      "cell_type": "markdown",
      "source": [
        "### Olvidamos los dos puntos"
      ],
      "metadata": {
        "id": "kE584601OE7l"
      }
    },
    {
      "cell_type": "code",
      "source": [
        "print(\"En Python las librerías más populares son\")\n",
        "for libreria in librerias\n",
        "  print(\"-\",libreria)\n",
        "print(\"Tengo experiencia profesional trabajando con todas ellas\")"
      ],
      "metadata": {
        "colab": {
          "base_uri": "https://localhost:8080/",
          "height": 108
        },
        "id": "u5lNRDnJN5wm",
        "outputId": "28dd6f19-f909-43ee-ed03-144817c70971"
      },
      "execution_count": null,
      "outputs": [
        {
          "output_type": "error",
          "ename": "SyntaxError",
          "evalue": "expected ':' (<ipython-input-57-70d9aa6ab298>, line 2)",
          "traceback": [
            "\u001b[0;36m  File \u001b[0;32m\"<ipython-input-57-70d9aa6ab298>\"\u001b[0;36m, line \u001b[0;32m2\u001b[0m\n\u001b[0;31m    for libreria in librerias\u001b[0m\n\u001b[0m                             ^\u001b[0m\n\u001b[0;31mSyntaxError\u001b[0m\u001b[0;31m:\u001b[0m expected ':'\n"
          ]
        }
      ]
    },
    {
      "cell_type": "markdown",
      "source": [
        "### Actividad N018"
      ],
      "metadata": {
        "id": "zn72L7ycOStz"
      }
    },
    {
      "cell_type": "code",
      "source": [
        "## SOLUCIÓN ACTIVIDAD N018\n",
        "paises = [\"Noruega\", \"Italia\", \"España\", \"Francia\"]\n",
        "print(\"Los paises que me gustaría conocer son:\")\n",
        "for pais in paises:\n",
        "  print('-',pais)\n",
        "print(\"Estos paises se caracterizan por sus bellos paisajes\")"
      ],
      "metadata": {
        "colab": {
          "base_uri": "https://localhost:8080/"
        },
        "id": "7Onf7aj0OUWW",
        "outputId": "38161cba-7d42-45ec-fef6-4173c0de8d1d"
      },
      "execution_count": null,
      "outputs": [
        {
          "output_type": "stream",
          "name": "stdout",
          "text": [
            "Los paises que me gustaría conocer son:\n",
            "- Noruega\n",
            "- Italia\n",
            "- España\n",
            "- Francia\n",
            "Estos paises se caracterizan por sus bellos paisajes\n"
          ]
        }
      ]
    },
    {
      "cell_type": "markdown",
      "source": [
        "## [2] Función RANGE"
      ],
      "metadata": {
        "id": "p0MaGjRGOZgU"
      }
    },
    {
      "cell_type": "code",
      "source": [
        "range(1,5)"
      ],
      "metadata": {
        "colab": {
          "base_uri": "https://localhost:8080/"
        },
        "id": "Q8VFXc-AOXm5",
        "outputId": "e29fc611-f9f3-405f-d7b8-78036e8e4c0d"
      },
      "execution_count": null,
      "outputs": [
        {
          "output_type": "execute_result",
          "data": {
            "text/plain": [
              "range(1, 5)"
            ]
          },
          "metadata": {},
          "execution_count": 59
        }
      ]
    },
    {
      "cell_type": "code",
      "source": [
        "for valor in range(1,5):\n",
        "  print(valor)"
      ],
      "metadata": {
        "colab": {
          "base_uri": "https://localhost:8080/"
        },
        "id": "W1KbWORTOgo9",
        "outputId": "0a0ad1e0-2e37-4277-e8b9-56e9405c2f19"
      },
      "execution_count": null,
      "outputs": [
        {
          "output_type": "stream",
          "name": "stdout",
          "text": [
            "1\n",
            "2\n",
            "3\n",
            "4\n"
          ]
        }
      ]
    },
    {
      "cell_type": "markdown",
      "source": [
        "## [3] Crear una lista usando la función RANGE"
      ],
      "metadata": {
        "id": "qjKgyikIOqWQ"
      }
    },
    {
      "cell_type": "code",
      "source": [
        "numeros = list(range(1,11))"
      ],
      "metadata": {
        "id": "BJ9nwe27Oj8t"
      },
      "execution_count": null,
      "outputs": []
    },
    {
      "cell_type": "code",
      "source": [
        "print(f\"La lista numeros contiene los siguientes elementos \\n{numeros}\")"
      ],
      "metadata": {
        "colab": {
          "base_uri": "https://localhost:8080/"
        },
        "id": "NoBvB3ddO9WL",
        "outputId": "36d448dc-a1a5-4dc6-b9da-46f721f8a705"
      },
      "execution_count": null,
      "outputs": [
        {
          "output_type": "stream",
          "name": "stdout",
          "text": [
            "La lista numeros contiene los siguientes elementos \n",
            "[1, 2, 3, 4, 5, 6, 7, 8, 9, 10]\n"
          ]
        }
      ]
    },
    {
      "cell_type": "code",
      "source": [
        "type(numeros)"
      ],
      "metadata": {
        "colab": {
          "base_uri": "https://localhost:8080/"
        },
        "id": "NMfmCSRWPDFA",
        "outputId": "a226f331-1169-4403-c9f0-d7c2165a6d5d"
      },
      "execution_count": null,
      "outputs": [
        {
          "output_type": "execute_result",
          "data": {
            "text/plain": [
              "list"
            ]
          },
          "metadata": {},
          "execution_count": 63
        }
      ]
    },
    {
      "cell_type": "code",
      "source": [
        "for valor in numeros:\n",
        "  print(valor)"
      ],
      "metadata": {
        "colab": {
          "base_uri": "https://localhost:8080/"
        },
        "id": "R7a7UfsqzsGY",
        "outputId": "9a60a391-6e6a-4a3f-c8b8-cd09d3e0ddc4"
      },
      "execution_count": null,
      "outputs": [
        {
          "output_type": "stream",
          "name": "stdout",
          "text": [
            "1\n",
            "2\n",
            "3\n",
            "4\n",
            "5\n",
            "6\n",
            "7\n",
            "8\n",
            "9\n",
            "10\n"
          ]
        }
      ]
    },
    {
      "cell_type": "markdown",
      "source": [
        "### Actividad N019"
      ],
      "metadata": {
        "id": "4CdtcPKoPIQv"
      }
    },
    {
      "cell_type": "code",
      "source": [
        "## SOLUCIÓN ACTIVIDAD N019\n",
        "\n",
        "#print(f\"La lista numeros contiene los siguientes elementos \\n{numeros}\")\n",
        "for valor in range(10,21):\n",
        "  print(valor)"
      ],
      "metadata": {
        "colab": {
          "base_uri": "https://localhost:8080/"
        },
        "id": "3diMOYkBPHGp",
        "outputId": "d14b3d23-d3e2-4abd-c889-e48990912ecd"
      },
      "execution_count": null,
      "outputs": [
        {
          "output_type": "stream",
          "name": "stdout",
          "text": [
            "10\n",
            "11\n",
            "12\n",
            "13\n",
            "14\n",
            "15\n",
            "16\n",
            "17\n",
            "18\n",
            "19\n",
            "20\n"
          ]
        }
      ]
    },
    {
      "cell_type": "code",
      "source": [
        "correlativos = list(range(10,21))\n",
        "print(f\"La lista numeros contiene los siguientes elementos \\n{correlativos}\")\n",
        "# Mostrar todos los elemento de la lista\n",
        "print(\"Acceder a los elementos de la lista a través de un bucle\")\n",
        "for valor in correlativos:\n",
        "  print(valor)"
      ],
      "metadata": {
        "colab": {
          "base_uri": "https://localhost:8080/"
        },
        "id": "D8QqA44I0z4l",
        "outputId": "0f6118af-e334-41bd-dd04-f4d7834c7cf5"
      },
      "execution_count": null,
      "outputs": [
        {
          "output_type": "stream",
          "name": "stdout",
          "text": [
            "La lista numeros contiene los siguientes elementos \n",
            "[10, 11, 12, 13, 14, 15, 16, 17, 18, 19, 20]\n",
            "Acceder a los elementos de la lista a través de un bucle\n",
            "10\n",
            "11\n",
            "12\n",
            "13\n",
            "14\n",
            "15\n",
            "16\n",
            "17\n",
            "18\n",
            "19\n",
            "20\n"
          ]
        }
      ]
    },
    {
      "cell_type": "code",
      "source": [
        "pares = list(range(2,22,2))"
      ],
      "metadata": {
        "id": "ndqZ8ReMPPYA"
      },
      "execution_count": null,
      "outputs": []
    },
    {
      "cell_type": "code",
      "source": [
        "pares = list(range(2,22,2))\n",
        "pares"
      ],
      "metadata": {
        "id": "kshE8NK4NkcH",
        "outputId": "14b8ff19-4709-41c3-9a35-9b7580a7bf70",
        "colab": {
          "base_uri": "https://localhost:8080/"
        }
      },
      "execution_count": null,
      "outputs": [
        {
          "output_type": "execute_result",
          "data": {
            "text/plain": [
              "[2, 4, 6, 8, 10, 12, 14, 16, 18, 20]"
            ]
          },
          "metadata": {},
          "execution_count": 8
        }
      ]
    },
    {
      "cell_type": "code",
      "source": [
        "print(f\"La lista pares contiene los elementos \\n{pares}\")"
      ],
      "metadata": {
        "colab": {
          "base_uri": "https://localhost:8080/"
        },
        "id": "t0jzzsXfPY8b",
        "outputId": "51a763a0-112e-48f5-8418-742bef14a772"
      },
      "execution_count": null,
      "outputs": [
        {
          "output_type": "stream",
          "name": "stdout",
          "text": [
            "La lista pares contiene los elementos \n",
            "[2, 4, 6, 8, 10, 12, 14, 16, 18, 20]\n"
          ]
        }
      ]
    },
    {
      "cell_type": "code",
      "source": [
        "type(pares)"
      ],
      "metadata": {
        "colab": {
          "base_uri": "https://localhost:8080/"
        },
        "id": "McsS_5fWPcq2",
        "outputId": "90f0d4ed-6633-470a-aa17-026412ea188e"
      },
      "execution_count": null,
      "outputs": [
        {
          "output_type": "execute_result",
          "data": {
            "text/plain": [
              "list"
            ]
          },
          "metadata": {},
          "execution_count": 4
        }
      ]
    },
    {
      "cell_type": "markdown",
      "source": [
        "## [4] Crear una lista en función de otra lista"
      ],
      "metadata": {
        "id": "kjTuXQfbPiyW"
      }
    },
    {
      "cell_type": "code",
      "source": [
        "cuadrados = [] # lista vacía\n",
        "for par in pares:\n",
        "  cuadrado = par**2\n",
        "  cuadrados.append(cuadrado)\n",
        "print(f\"La lista pares contiene los elementos \\n{pares}\")\n",
        "print(f\"\\nLa lista cuadrados contiene los elementos \\n{cuadrados}\")"
      ],
      "metadata": {
        "colab": {
          "base_uri": "https://localhost:8080/"
        },
        "id": "zYuLtoPCPfRa",
        "outputId": "5e492116-65ba-4fc4-dc73-8be509fde4a3"
      },
      "execution_count": null,
      "outputs": [
        {
          "output_type": "stream",
          "name": "stdout",
          "text": [
            "La lista pares contiene los elementos \n",
            "[2, 4, 6, 8, 10, 12, 14, 16, 18, 20]\n",
            "\n",
            "La lista cuadrados contiene los elementos \n",
            "[4, 16, 36, 64, 100, 144, 196, 256, 324, 400]\n"
          ]
        }
      ]
    },
    {
      "cell_type": "markdown",
      "source": [
        "## [5] Calcular estadísticas a partir de una lista"
      ],
      "metadata": {
        "id": "L6H83fgtQJva"
      }
    },
    {
      "cell_type": "code",
      "source": [
        "print(f\"El valor mínimo de la lista cuadrados es {min(cuadrados)}\")"
      ],
      "metadata": {
        "colab": {
          "base_uri": "https://localhost:8080/"
        },
        "id": "FjefhDc3P1Lz",
        "outputId": "72285c12-a32c-4446-f6f4-fe8c5d195c60"
      },
      "execution_count": null,
      "outputs": [
        {
          "output_type": "stream",
          "name": "stdout",
          "text": [
            "El valor mínimo de la lista cuadrados es 4\n"
          ]
        }
      ]
    },
    {
      "cell_type": "code",
      "source": [
        "print(f\"El valor máximo de la lista cuadrados es {max(cuadrados)}\")"
      ],
      "metadata": {
        "colab": {
          "base_uri": "https://localhost:8080/"
        },
        "id": "h2Q8zEjCQUF4",
        "outputId": "2a6a882a-b68f-4d76-fa38-9321f9ac1303"
      },
      "execution_count": null,
      "outputs": [
        {
          "output_type": "stream",
          "name": "stdout",
          "text": [
            "El valor máximo de la lista cuadrados es 400\n"
          ]
        }
      ]
    },
    {
      "cell_type": "code",
      "source": [
        "print(f\"La suma de los valores de la lista cuadrados es {sum(cuadrados)}\")"
      ],
      "metadata": {
        "colab": {
          "base_uri": "https://localhost:8080/"
        },
        "id": "RQmQj9xuQW9m",
        "outputId": "bd863b4e-653b-4f1b-fafa-699b7292eab2"
      },
      "execution_count": null,
      "outputs": [
        {
          "output_type": "stream",
          "name": "stdout",
          "text": [
            "La suma de los valores de la lista cuadrados es 1540\n"
          ]
        }
      ]
    },
    {
      "cell_type": "code",
      "source": [
        "print(f\"El promedio de los valores de la lista cuadrados es {sum(cuadrados)/len(cuadrados)}\")"
      ],
      "metadata": {
        "colab": {
          "base_uri": "https://localhost:8080/"
        },
        "id": "Nv2IMNtMQbaR",
        "outputId": "57325a6b-2d3c-403f-96fa-14d2c93680e5"
      },
      "execution_count": null,
      "outputs": [
        {
          "output_type": "stream",
          "name": "stdout",
          "text": [
            "El promedio de los valores de la lista cuadrados es 154.0\n"
          ]
        }
      ]
    },
    {
      "cell_type": "markdown",
      "source": [
        "Crear una lista de valores numéricos que sean correlativos, inicien en 10 y acaben en 20 **correlativos**. A cada valor de la lista sumarle 5 y almacenarlo en otra lista llamada correlativosn, mostrar los resultados en pantalla, use comprensión de listas"
      ],
      "metadata": {
        "id": "l7kcq2d7PG0u"
      }
    },
    {
      "cell_type": "code",
      "source": [
        "# Sin comprensión\n",
        "correlativos = list(range(10,20,1))\n",
        "correlativos2 = []\n",
        "for i in correlativos:\n",
        "  correlativos2.append(i+5)\n",
        "print(f\"La lista correlativos contiene los elementos \\nCorrelativos: {correlativos} \\nCorrelativos 2: {correlativos2}\")"
      ],
      "metadata": {
        "colab": {
          "base_uri": "https://localhost:8080/"
        },
        "id": "aoJ55caWPJsm",
        "outputId": "00db3b4f-5332-4eda-c7eb-fc555a89ed1b"
      },
      "execution_count": null,
      "outputs": [
        {
          "output_type": "stream",
          "name": "stdout",
          "text": [
            "La lista correlativos contiene los elementos \n",
            "Correlativos: [10, 11, 12, 13, 14, 15, 16, 17, 18, 19] \n",
            "Correlativos 2: [15, 16, 17, 18, 19, 20, 21, 22, 23, 24]\n"
          ]
        }
      ]
    },
    {
      "cell_type": "markdown",
      "source": [
        "## [6] Comprensión de listas"
      ],
      "metadata": {
        "id": "M5GhhcB2QqaS"
      }
    },
    {
      "cell_type": "code",
      "source": [
        "cuadrados = [par**2 for par in pares]"
      ],
      "metadata": {
        "id": "yILWEw6hQjO3"
      },
      "execution_count": null,
      "outputs": []
    },
    {
      "cell_type": "code",
      "source": [
        "print(f\"La lista pares contiene los elementos \\n{pares}\")\n",
        "print(f\"\\nLa lista cuadrados contiene los elementos \\n{cuadrados}\")"
      ],
      "metadata": {
        "id": "4dWHFsmTQ01v",
        "colab": {
          "base_uri": "https://localhost:8080/"
        },
        "outputId": "ee7fc262-f444-4a93-e65f-4ffacad0fe7c"
      },
      "execution_count": null,
      "outputs": [
        {
          "output_type": "stream",
          "name": "stdout",
          "text": [
            "La lista pares contiene los elementos \n",
            "[2, 4, 6, 8, 10, 12, 14, 16, 18, 20]\n",
            "\n",
            "La lista cuadrados contiene los elementos \n",
            "[4, 16, 36, 64, 100, 144, 196, 256, 324, 400]\n"
          ]
        }
      ]
    },
    {
      "cell_type": "markdown",
      "source": [
        "### Actividad N020"
      ],
      "metadata": {
        "id": "c0IKdY8qRFtw"
      }
    },
    {
      "cell_type": "code",
      "source": [
        "## SOLUCIÓN ACTIVIDAD N020\n",
        "# Con comprensión\n",
        "correlativos3 = [i+5 for i in correlativos]\n",
        "print(f\"La lista correlativos contiene los elementos \\nCorrelativos: {correlativos} \\nCorrelativos 3: {correlativos3}\")"
      ],
      "metadata": {
        "id": "zY7Z2YCUQ9p9",
        "colab": {
          "base_uri": "https://localhost:8080/"
        },
        "outputId": "b8f01714-2701-4150-aa26-f34e711070cb"
      },
      "execution_count": null,
      "outputs": [
        {
          "output_type": "stream",
          "name": "stdout",
          "text": [
            "La lista correlativos contiene los elementos \n",
            "Correlativos: [10, 11, 12, 13, 14, 15, 16, 17, 18, 19] \n",
            "Correlativos 3: [15, 16, 17, 18, 19, 20, 21, 22, 23, 24]\n"
          ]
        }
      ]
    },
    {
      "cell_type": "markdown",
      "source": [
        "## [7] Acceder a más de un elemento de la lista"
      ],
      "metadata": {
        "id": "NRl9ZEmZRMyj"
      }
    },
    {
      "cell_type": "code",
      "source": [
        "librarys = ['numpy','pandas','scipy','matplotlib','scikit learn']"
      ],
      "metadata": {
        "id": "1oFbRhGfRrGt"
      },
      "execution_count": null,
      "outputs": []
    },
    {
      "cell_type": "code",
      "source": [
        "print(f\"Los elementos de la lista librerias son \\n{librarys}\")"
      ],
      "metadata": {
        "id": "ooOaZzSlRJx4",
        "colab": {
          "base_uri": "https://localhost:8080/"
        },
        "outputId": "d46a1eec-1faf-4b44-a161-32d31c631ffc"
      },
      "execution_count": null,
      "outputs": [
        {
          "output_type": "stream",
          "name": "stdout",
          "text": [
            "Los elementos de la lista librerias son \n",
            "['numpy', 'pandas', 'scipy', 'matplotlib', 'scikit learn']\n"
          ]
        }
      ]
    },
    {
      "cell_type": "code",
      "source": [
        "librarys[1:3]"
      ],
      "metadata": {
        "id": "C4uMCrKmRX07",
        "colab": {
          "base_uri": "https://localhost:8080/"
        },
        "outputId": "da80a070-1cd7-4641-9ade-f6ac4ef3c385"
      },
      "execution_count": null,
      "outputs": [
        {
          "output_type": "execute_result",
          "data": {
            "text/plain": [
              "['pandas', 'scipy']"
            ]
          },
          "metadata": {},
          "execution_count": 16
        }
      ]
    },
    {
      "cell_type": "code",
      "source": [
        "librarys[0:3]"
      ],
      "metadata": {
        "id": "6LpdSmUVRefl",
        "colab": {
          "base_uri": "https://localhost:8080/"
        },
        "outputId": "fe296268-306d-4986-e95a-870c3267a93b"
      },
      "execution_count": null,
      "outputs": [
        {
          "output_type": "execute_result",
          "data": {
            "text/plain": [
              "['numpy', 'pandas', 'scipy']"
            ]
          },
          "metadata": {},
          "execution_count": 17
        }
      ]
    },
    {
      "cell_type": "code",
      "source": [
        "librarys[:3]"
      ],
      "metadata": {
        "id": "uSJZAu2uRh1H",
        "colab": {
          "base_uri": "https://localhost:8080/"
        },
        "outputId": "724ed7b8-0cb2-4c6c-a5df-c344b69b8276"
      },
      "execution_count": null,
      "outputs": [
        {
          "output_type": "execute_result",
          "data": {
            "text/plain": [
              "['numpy', 'pandas', 'scipy']"
            ]
          },
          "metadata": {},
          "execution_count": 18
        }
      ]
    },
    {
      "cell_type": "code",
      "source": [
        "librarys[3:5]"
      ],
      "metadata": {
        "id": "NXjQUYiURjR1",
        "colab": {
          "base_uri": "https://localhost:8080/"
        },
        "outputId": "0818adf1-803f-4e77-93fb-a3186d4afe17"
      },
      "execution_count": null,
      "outputs": [
        {
          "output_type": "execute_result",
          "data": {
            "text/plain": [
              "['matplotlib', 'scikit learn']"
            ]
          },
          "metadata": {},
          "execution_count": 19
        }
      ]
    },
    {
      "cell_type": "code",
      "source": [
        "librarys[3:]"
      ],
      "metadata": {
        "id": "OOzBP1nbRnPW",
        "colab": {
          "base_uri": "https://localhost:8080/"
        },
        "outputId": "d4e43abf-4923-42f5-95d0-d7ef246c901d"
      },
      "execution_count": null,
      "outputs": [
        {
          "output_type": "execute_result",
          "data": {
            "text/plain": [
              "['matplotlib', 'scikit learn']"
            ]
          },
          "metadata": {},
          "execution_count": 20
        }
      ]
    },
    {
      "cell_type": "code",
      "source": [
        "librarys[-2:]"
      ],
      "metadata": {
        "id": "g7nHNQ69V1eq",
        "outputId": "8925c643-886a-4c67-ced9-9e5b1e6f9c3d",
        "colab": {
          "base_uri": "https://localhost:8080/"
        }
      },
      "execution_count": null,
      "outputs": [
        {
          "output_type": "execute_result",
          "data": {
            "text/plain": [
              "['matplotlib', 'scikit learn']"
            ]
          },
          "metadata": {},
          "execution_count": 21
        }
      ]
    },
    {
      "cell_type": "markdown",
      "source": [
        "### Actividad N021"
      ],
      "metadata": {
        "id": "PiGCrXKRRuCc"
      }
    },
    {
      "cell_type": "code",
      "source": [
        "## SOLUCIÓN ACTIVIDAD N021\n",
        "universities= [\"UNI\", \"San Marcos\", \"UPC\", \"Catolica\", \"Cesar Vallejo\", \"UTEC\", \"Agraria\", \"Trujillo\"]\n",
        "print(f\"Las universidades que me gustaría conocer son \\n{universities}\")\n",
        "print(len(universities))\n",
        "universities[len(universities)-3:]"
      ],
      "metadata": {
        "id": "M-J8B0Z6Rpb0",
        "colab": {
          "base_uri": "https://localhost:8080/"
        },
        "outputId": "c1c129c6-d94e-4af9-d212-db4bc256e33c"
      },
      "execution_count": null,
      "outputs": [
        {
          "output_type": "stream",
          "name": "stdout",
          "text": [
            "Las universidades que me gustaría conocer son \n",
            "['UNI', 'San Marcos', 'UPC', 'Catolica', 'Cesar Vallejo', 'UTEC', 'Agraria', 'Trujillo']\n",
            "8\n"
          ]
        },
        {
          "output_type": "execute_result",
          "data": {
            "text/plain": [
              "['UTEC', 'Agraria', 'Trujillo']"
            ]
          },
          "metadata": {},
          "execution_count": 26
        }
      ]
    },
    {
      "cell_type": "markdown",
      "source": [
        "## [8] Copiar una lista"
      ],
      "metadata": {
        "id": "_V71W0HcR35w"
      }
    },
    {
      "cell_type": "code",
      "source": [
        "tools = librarys[:] # De esta manera hacemos listas iguales pero independientes.\n",
        "tools"
      ],
      "metadata": {
        "id": "uVpuKpdmWrIB",
        "outputId": "4e10b88d-2b9b-449a-e990-7fd2c534322f",
        "colab": {
          "base_uri": "https://localhost:8080/"
        }
      },
      "execution_count": null,
      "outputs": [
        {
          "output_type": "execute_result",
          "data": {
            "text/plain": [
              "['numpy', 'pandas', 'scipy', 'matplotlib', 'scikit learn']"
            ]
          },
          "metadata": {},
          "execution_count": 37
        }
      ]
    },
    {
      "cell_type": "code",
      "source": [
        "librarys.append(\"re\")\n",
        "librarys"
      ],
      "metadata": {
        "id": "FtsvCFuSW5E7",
        "outputId": "a1f3653a-0f45-40a7-c589-e9bd53834206",
        "colab": {
          "base_uri": "https://localhost:8080/"
        }
      },
      "execution_count": null,
      "outputs": [
        {
          "output_type": "execute_result",
          "data": {
            "text/plain": [
              "['numpy', 'pandas', 'scipy', 'matplotlib', 'scikit learn', 're']"
            ]
          },
          "metadata": {},
          "execution_count": 38
        }
      ]
    },
    {
      "cell_type": "code",
      "source": [
        "tools.append(\"sqlAlchemy\")\n",
        "tools"
      ],
      "metadata": {
        "id": "j84mGarvW9SL",
        "outputId": "084653ad-6c5e-4757-ac0b-29ba338a2404",
        "colab": {
          "base_uri": "https://localhost:8080/"
        }
      },
      "execution_count": null,
      "outputs": [
        {
          "output_type": "execute_result",
          "data": {
            "text/plain": [
              "['numpy', 'pandas', 'scipy', 'matplotlib', 'scikit learn', 'sqlAlchemy']"
            ]
          },
          "metadata": {},
          "execution_count": 39
        }
      ]
    },
    {
      "cell_type": "code",
      "source": [
        "studies = universities # A esto se llama listas espejo."
      ],
      "metadata": {
        "id": "38MbWvQDXSs2"
      },
      "execution_count": null,
      "outputs": []
    },
    {
      "cell_type": "code",
      "source": [
        "studies.append(\"Harvard\")\n",
        "studies"
      ],
      "metadata": {
        "id": "nJ-Ok3XpXU-2",
        "outputId": "de6e0bae-6548-4a01-c364-49f6f74bb790",
        "colab": {
          "base_uri": "https://localhost:8080/"
        }
      },
      "execution_count": null,
      "outputs": [
        {
          "output_type": "execute_result",
          "data": {
            "text/plain": [
              "['UNI',\n",
              " 'San Marcos',\n",
              " 'UPC',\n",
              " 'Catolica',\n",
              " 'Cesar Vallejo',\n",
              " 'UTEC',\n",
              " 'Agraria',\n",
              " 'Trujillo',\n",
              " 'Harvard']"
            ]
          },
          "metadata": {},
          "execution_count": 45
        }
      ]
    },
    {
      "cell_type": "code",
      "source": [
        "universities.append(\"MIT\") #En este caso como omitimos el [:] cuando hicimos studies = universities, lo que le haga a universities, lo considera para studies.\n",
        "universities"
      ],
      "metadata": {
        "id": "-6uvJ5EcXaAP",
        "outputId": "228cca2f-9468-4cc4-bf9e-674c80b75e20",
        "colab": {
          "base_uri": "https://localhost:8080/"
        }
      },
      "execution_count": null,
      "outputs": [
        {
          "output_type": "execute_result",
          "data": {
            "text/plain": [
              "['UNI',\n",
              " 'San Marcos',\n",
              " 'UPC',\n",
              " 'Catolica',\n",
              " 'Cesar Vallejo',\n",
              " 'UTEC',\n",
              " 'Agraria',\n",
              " 'Trujillo',\n",
              " 'Harvard',\n",
              " 'MIT']"
            ]
          },
          "metadata": {},
          "execution_count": 46
        }
      ]
    },
    {
      "cell_type": "markdown",
      "source": [
        "1.1. Crear una lista que inicie en el número 12 y acabe en el número 200, en su construcción se considere saltos de 2 en 2, guarde la lista con el nombre \"lista_x\".\n",
        "\n",
        "1.2. Con la lista_x, eliminar el primer y el último valor, los valores eliminados se deberán almacenar en otra lista llamada numeros_eliminados.\n",
        "\n",
        "1.3. Muestre los valores de la lista numeros_eliminados.\n",
        "\n",
        "1.4. Muestre los valores mínimos y máximos de la lista_x."
      ],
      "metadata": {
        "id": "Bn7fwthBbhto"
      }
    },
    {
      "cell_type": "code",
      "source": [
        "# 1.1.\n",
        "lista_x = list(range(12,201,2))\n",
        "\n",
        "#1.2\n",
        "delete_numbers = []\n",
        "delete_numbers.append(lista_x[0])\n",
        "delete_numbers.append(lista_x[len(lista_x)-1])\n",
        "del lista_x[0]\n",
        "del lista_x[len(lista_x)-1]\n",
        "\n",
        "# 1.3.\n",
        "print(\"Números eliminados:\",delete_numbers)\n",
        "\n",
        "# 1.4.\n",
        "print(f\"El valor mínimo de la lista lista_x es {min(lista_x)}\")\n",
        "print(f\"El valor máximo de la lista lista_x es {max(lista_x)}\")"
      ],
      "metadata": {
        "id": "vAMe4c6XbiO4",
        "outputId": "0b570e09-ff4e-4da6-9d38-c2b8d28b647d",
        "colab": {
          "base_uri": "https://localhost:8080/"
        }
      },
      "execution_count": null,
      "outputs": [
        {
          "output_type": "stream",
          "name": "stdout",
          "text": [
            "Números eliminados: [12, 200]\n",
            "El valor mínimo de la lista lista_x es 14\n",
            "El valor máximo de la lista lista_x es 198\n"
          ]
        }
      ]
    },
    {
      "cell_type": "code",
      "source": [
        "# Otra forma de eliminar y agregarlos a una lista.\n",
        "numeros_eliminados = [lista_x.pop(0), lista_x.pop(-1)]\n",
        "numeros_eliminados = [lista_x.pop(0), lista_x.pop()] #Si dejamos pop sin ningún valor entre paréntesis, eliminará el último elemento.\n",
        "numeros_eliminados"
      ],
      "metadata": {
        "id": "vostAeU9bo8v",
        "outputId": "5a25a94d-20be-4010-d9c3-daad3e4026eb",
        "colab": {
          "base_uri": "https://localhost:8080/"
        }
      },
      "execution_count": null,
      "outputs": [
        {
          "output_type": "execute_result",
          "data": {
            "text/plain": [
              "[14, 200]"
            ]
          },
          "metadata": {},
          "execution_count": 62
        }
      ]
    },
    {
      "cell_type": "markdown",
      "source": [
        "# RETO N002\n",
        "Listas\n",
        "2.1. Determine el número de elementos de la lista a crear.\n",
        "2.2. Ingrese los valores de la lista a crear.\n",
        "2.3. Almacene los valores en una lista.\n",
        "2.4. Muestre los valores de la lista.\n",
        "2.5. Calcule y muestre los valores mínimo, máximo y promedio de los valores de la lista."
      ],
      "metadata": {
        "id": "VznOCndofGmH"
      }
    },
    {
      "cell_type": "code",
      "source": [
        "my_list = []\n",
        "i = 0\n",
        "while i <=5:\n",
        "  value = float(input(f\"Ingrese el valor N°{i+1} de su lista: \"))\n",
        "  my_list.append(value)\n",
        "  i += 1\n",
        "print(f\"La lista contiene los siguientes elementos \\n{my_list}\")\n",
        "\n",
        "print(f\"El número de elementos de la lista es {len(my_list)}\")\n",
        "\n",
        "print(f\"El valor mínimo de la lista es {min(my_list)}\")\n",
        "\n",
        "print(f\"El valor máximo de la lista es {max(my_list)}\")\n",
        "\n",
        "print(f\"El valor promedio de la lista es {sum(my_list)/len(my_list)}\")"
      ],
      "metadata": {
        "colab": {
          "base_uri": "https://localhost:8080/"
        },
        "id": "fO5_e6BDfIGM",
        "outputId": "0a00061b-9127-45cc-87ba-98a39c5f3220"
      },
      "execution_count": 79,
      "outputs": [
        {
          "output_type": "stream",
          "name": "stdout",
          "text": [
            "Ingrese el valor N°1 de su lista: 1\n",
            "Ingrese el valor N°2 de su lista: 2\n",
            "Ingrese el valor N°3 de su lista: 3\n",
            "Ingrese el valor N°4 de su lista: 4\n",
            "Ingrese el valor N°5 de su lista: 5\n",
            "Ingrese el valor N°6 de su lista: 6\n",
            "La lista contiene los siguientes elementos \n",
            "[1.0, 2.0, 3.0, 4.0, 5.0, 6.0]\n",
            "El número de elementos de la lista es 6\n",
            "El valor mínimo de la lista es 1.0\n",
            "El valor máximo de la lista es 6.0\n",
            "El valor promedio de la lista es 3.5\n"
          ]
        }
      ]
    },
    {
      "cell_type": "code",
      "source": [
        "23\n",
        "n = int(input(\"Ingrese la calidad de elementos a ingresar en la lista: \"))\n",
        "my_list = []\n",
        "for i in range(n):\n",
        "  value = float(input(f\"Ingrese el valor N°{i+1} de su lista: \"))\n",
        "  my_list.append(value)\n",
        "\n",
        "print(f\"La lista contiene los siguientes elementos \\n{my_list}\")\n",
        "print(f\"El número de elementos de la lista es {len(my_list)}\")\n",
        "print(f\"El valor mínimo de la lista es {min(my_list)}\")\n",
        "print(f\"El valor máximo de la lista es {max(my_list)}\")\n",
        "print(f\"El valor promedio de la lista es {sum(my_list)/len(my_list)}\")"
      ],
      "metadata": {
        "colab": {
          "base_uri": "https://localhost:8080/"
        },
        "id": "dpytIAG5gF9-",
        "outputId": "47b6a123-6ce5-438d-e7f5-4673ee76cd2f"
      },
      "execution_count": 75,
      "outputs": [
        {
          "output_type": "stream",
          "name": "stdout",
          "text": [
            "Ingrese la calidad de elementos a ingresar en la lista: 4\n",
            "Ingrese el valor N°1 de su lista: 1\n",
            "Ingrese el valor N°2 de su lista: 2\n",
            "Ingrese el valor N°3 de su lista: 3\n",
            "Ingrese el valor N°4 de su lista: 4\n",
            "La lista contiene los siguientes elementos \n",
            "['1', '2', '3', '4']\n",
            "El número de elementos de la lista es 4\n",
            "El valor mínimo de la lista es 1\n",
            "El valor máximo de la lista es 4\n"
          ]
        }
      ]
    },
    {
      "cell_type": "code",
      "source": [
        "n = int(input(\"Ingrese la calidad de elementos a ingresar en la lista: \"))\n",
        "elementos = []\n",
        "for elemento in range(n):\n",
        "  elementos.insert(elemento,int(input(f\"Ingrese el valor N°{elemento} de su lista: \")))\n",
        "\n",
        "print(f\"La lista contiene los siguientes elementos \\n{elementos}\")\n",
        "print(f\"El número de elementos de la lista es {len(elementos)}\")\n",
        "print(f\"El valor mínimo de la lista es {min(elementos)}\")\n",
        "print(f\"El valor máximo de la lista es {max(elementos)}\")\n",
        "print(f\"El valor promedio de la lista es {sum(elementos)/len(elementos)}\")"
      ],
      "metadata": {
        "colab": {
          "base_uri": "https://localhost:8080/"
        },
        "id": "PNu4vpkihbOe",
        "outputId": "1764d43f-9ec4-4c0d-ead4-8571fd338b07"
      },
      "execution_count": 80,
      "outputs": [
        {
          "output_type": "stream",
          "name": "stdout",
          "text": [
            "Ingrese la calidad de elementos a ingresar en la lista: 5\n",
            "Ingrese el valor N°0 de su lista: 1\n",
            "Ingrese el valor N°1 de su lista: 23\n",
            "Ingrese el valor N°2 de su lista: 45\n",
            "Ingrese el valor N°3 de su lista: 32\n",
            "Ingrese el valor N°4 de su lista: 54\n",
            "La lista contiene los siguientes elementos \n",
            "[1, 23, 45, 32, 54]\n",
            "El número de elementos de la lista es 5\n",
            "El valor mínimo de la lista es 1\n",
            "El valor máximo de la lista es 54\n",
            "El valor promedio de la lista es 31.0\n"
          ]
        }
      ]
    },
    {
      "cell_type": "markdown",
      "source": [
        "# RETO N003\n",
        "Listas\n",
        "\n",
        "3.1. Ingrese a python la siguiente lista_x = [\"A\", \"B\", \"b\", \"c\", \"E\", \"E\", \"f\"]\n",
        "\n",
        "3.2. Solicitar al usuario un elemento a eliminar.\n",
        "\n",
        "3.3. Mostrar el elemento eliminado y la lista resultante."
      ],
      "metadata": {
        "id": "XVpS-__rkwj_"
      }
    },
    {
      "cell_type": "code",
      "source": [
        "# 3.1.\n",
        "lista_x = [\"A\", \"B\", \"b\", \"c\", \"E\", \"E\", \"f\"]\n",
        "\n",
        "# 3.2.\n",
        "print(f\"La lista contiene los siguientes elementos: \\n{lista_x}\")\n",
        "n = input(f\"Seleccione el elementos que le gustaría eliminar: \")\n",
        "lista_x.remove(n)\n",
        "\n",
        "# 3.3.\n",
        "print(f\"El elemento eliminado es {n}. \\nLa lista resultante es {lista_x}\")\n"
      ],
      "metadata": {
        "colab": {
          "base_uri": "https://localhost:8080/"
        },
        "id": "F8ljegq2k4jA",
        "outputId": "dfeea27c-7132-4943-ed35-a079efd84e2b"
      },
      "execution_count": 90,
      "outputs": [
        {
          "output_type": "stream",
          "name": "stdout",
          "text": [
            "La lista contiene los siguientes elementos: \n",
            "['A', 'B', 'b', 'c', 'E', 'E', 'f']\n",
            "Seleccione el elementos que le gustaría eliminar: E\n",
            "El elemento eliminado es E. \n",
            "La lista resultante es ['A', 'B', 'b', 'c', 'E', 'f']\n"
          ]
        }
      ]
    },
    {
      "cell_type": "code",
      "source": [
        "lista_y = [\"A\", \"B\", \"b\", \"c\", \"E\", \"E\", \"f\"]\n",
        "el_el1 = input(\"Ingrese el elemento a eliminar: \")\n",
        "\n",
        "lista_z = []\n",
        "for elemento in lista_y:\n",
        "  if elemento != el_el1:\n",
        "    lista_z.append(elemento)\n",
        "\n",
        "print(f\"El elemento eliminado es {el_el1}. \\nLa lista resultante es {lista_z}\")\n",
        "\n",
        "# De esta manera eliminaría los 02 \"E\" que se encuentran en la lista."
      ],
      "metadata": {
        "colab": {
          "base_uri": "https://localhost:8080/"
        },
        "id": "YRYlXrfqmYHM",
        "outputId": "c934e9fb-c085-4cc2-f6cd-b72b767f3578"
      },
      "execution_count": 92,
      "outputs": [
        {
          "output_type": "stream",
          "name": "stdout",
          "text": [
            "Ingrese el elemento a eliminar: E\n",
            "El elemento eliminado es E. \n",
            "La lista resultante es ['A', 'B', 'b', 'c', 'f']\n"
          ]
        }
      ]
    }
  ]
}