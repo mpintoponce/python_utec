{
  "nbformat": 4,
  "nbformat_minor": 0,
  "metadata": {
    "colab": {
      "provenance": [],
      "include_colab_link": true
    },
    "kernelspec": {
      "name": "python3",
      "display_name": "Python 3"
    },
    "language_info": {
      "name": "python"
    }
  },
  "cells": [
    {
      "cell_type": "markdown",
      "metadata": {
        "id": "view-in-github",
        "colab_type": "text"
      },
      "source": [
        "<a href=\"https://colab.research.google.com/github/mpintoponce/python_utec/blob/main/Modulo02%3AEstructuras_de_datos_secuenciales/07.Pandas_Actividad.ipynb\" target=\"_parent\"><img src=\"https://colab.research.google.com/assets/colab-badge.svg\" alt=\"Open In Colab\"/></a>"
      ]
    },
    {
      "cell_type": "markdown",
      "source": [
        "# Actividad 41: Caso Trackus"
      ],
      "metadata": {
        "id": "G63QJSCQTjTm"
      }
    },
    {
      "cell_type": "markdown",
      "source": [
        "## [0] Librerías necesarias para el proyecto"
      ],
      "metadata": {
        "id": "dRVDjQOmQn2E"
      }
    },
    {
      "cell_type": "code",
      "source": [
        "# Conectamos Google Drive con Google Colab\n",
        "from google.colab import drive\n",
        "drive.mount('/gdrive')"
      ],
      "metadata": {
        "colab": {
          "base_uri": "https://localhost:8080/",
          "height": 308
        },
        "id": "w-hre9WERolN",
        "outputId": "bf05295c-65de-49ec-cd0e-c044757b0d1a"
      },
      "execution_count": 1,
      "outputs": [
        {
          "output_type": "error",
          "ename": "MessageError",
          "evalue": "Error: credential propagation was unsuccessful",
          "traceback": [
            "\u001b[0;31m---------------------------------------------------------------------------\u001b[0m",
            "\u001b[0;31mMessageError\u001b[0m                              Traceback (most recent call last)",
            "\u001b[0;32m<ipython-input-1-2921486822>\u001b[0m in \u001b[0;36m<cell line: 0>\u001b[0;34m()\u001b[0m\n\u001b[1;32m      1\u001b[0m \u001b[0;31m# Conectamos Google Drive con Google Colab\u001b[0m\u001b[0;34m\u001b[0m\u001b[0;34m\u001b[0m\u001b[0m\n\u001b[1;32m      2\u001b[0m \u001b[0;32mfrom\u001b[0m \u001b[0mgoogle\u001b[0m\u001b[0;34m.\u001b[0m\u001b[0mcolab\u001b[0m \u001b[0;32mimport\u001b[0m \u001b[0mdrive\u001b[0m\u001b[0;34m\u001b[0m\u001b[0;34m\u001b[0m\u001b[0m\n\u001b[0;32m----> 3\u001b[0;31m \u001b[0mdrive\u001b[0m\u001b[0;34m.\u001b[0m\u001b[0mmount\u001b[0m\u001b[0;34m(\u001b[0m\u001b[0;34m'/gdrive'\u001b[0m\u001b[0;34m)\u001b[0m\u001b[0;34m\u001b[0m\u001b[0;34m\u001b[0m\u001b[0m\n\u001b[0m",
            "\u001b[0;32m/usr/local/lib/python3.11/dist-packages/google/colab/drive.py\u001b[0m in \u001b[0;36mmount\u001b[0;34m(mountpoint, force_remount, timeout_ms, readonly)\u001b[0m\n\u001b[1;32m     98\u001b[0m \u001b[0;32mdef\u001b[0m \u001b[0mmount\u001b[0m\u001b[0;34m(\u001b[0m\u001b[0mmountpoint\u001b[0m\u001b[0;34m,\u001b[0m \u001b[0mforce_remount\u001b[0m\u001b[0;34m=\u001b[0m\u001b[0;32mFalse\u001b[0m\u001b[0;34m,\u001b[0m \u001b[0mtimeout_ms\u001b[0m\u001b[0;34m=\u001b[0m\u001b[0;36m120000\u001b[0m\u001b[0;34m,\u001b[0m \u001b[0mreadonly\u001b[0m\u001b[0;34m=\u001b[0m\u001b[0;32mFalse\u001b[0m\u001b[0;34m)\u001b[0m\u001b[0;34m:\u001b[0m\u001b[0;34m\u001b[0m\u001b[0;34m\u001b[0m\u001b[0m\n\u001b[1;32m     99\u001b[0m   \u001b[0;34m\"\"\"Mount your Google Drive at the specified mountpoint path.\"\"\"\u001b[0m\u001b[0;34m\u001b[0m\u001b[0;34m\u001b[0m\u001b[0m\n\u001b[0;32m--> 100\u001b[0;31m   return _mount(\n\u001b[0m\u001b[1;32m    101\u001b[0m       \u001b[0mmountpoint\u001b[0m\u001b[0;34m,\u001b[0m\u001b[0;34m\u001b[0m\u001b[0;34m\u001b[0m\u001b[0m\n\u001b[1;32m    102\u001b[0m       \u001b[0mforce_remount\u001b[0m\u001b[0;34m=\u001b[0m\u001b[0mforce_remount\u001b[0m\u001b[0;34m,\u001b[0m\u001b[0;34m\u001b[0m\u001b[0;34m\u001b[0m\u001b[0m\n",
            "\u001b[0;32m/usr/local/lib/python3.11/dist-packages/google/colab/drive.py\u001b[0m in \u001b[0;36m_mount\u001b[0;34m(mountpoint, force_remount, timeout_ms, ephemeral, readonly)\u001b[0m\n\u001b[1;32m    135\u001b[0m   )\n\u001b[1;32m    136\u001b[0m   \u001b[0;32mif\u001b[0m \u001b[0mephemeral\u001b[0m\u001b[0;34m:\u001b[0m\u001b[0;34m\u001b[0m\u001b[0;34m\u001b[0m\u001b[0m\n\u001b[0;32m--> 137\u001b[0;31m     _message.blocking_request(\n\u001b[0m\u001b[1;32m    138\u001b[0m         \u001b[0;34m'request_auth'\u001b[0m\u001b[0;34m,\u001b[0m\u001b[0;34m\u001b[0m\u001b[0;34m\u001b[0m\u001b[0m\n\u001b[1;32m    139\u001b[0m         \u001b[0mrequest\u001b[0m\u001b[0;34m=\u001b[0m\u001b[0;34m{\u001b[0m\u001b[0;34m'authType'\u001b[0m\u001b[0;34m:\u001b[0m \u001b[0;34m'dfs_ephemeral'\u001b[0m\u001b[0;34m}\u001b[0m\u001b[0;34m,\u001b[0m\u001b[0;34m\u001b[0m\u001b[0;34m\u001b[0m\u001b[0m\n",
            "\u001b[0;32m/usr/local/lib/python3.11/dist-packages/google/colab/_message.py\u001b[0m in \u001b[0;36mblocking_request\u001b[0;34m(request_type, request, timeout_sec, parent)\u001b[0m\n\u001b[1;32m    174\u001b[0m       \u001b[0mrequest_type\u001b[0m\u001b[0;34m,\u001b[0m \u001b[0mrequest\u001b[0m\u001b[0;34m,\u001b[0m \u001b[0mparent\u001b[0m\u001b[0;34m=\u001b[0m\u001b[0mparent\u001b[0m\u001b[0;34m,\u001b[0m \u001b[0mexpect_reply\u001b[0m\u001b[0;34m=\u001b[0m\u001b[0;32mTrue\u001b[0m\u001b[0;34m\u001b[0m\u001b[0;34m\u001b[0m\u001b[0m\n\u001b[1;32m    175\u001b[0m   )\n\u001b[0;32m--> 176\u001b[0;31m   \u001b[0;32mreturn\u001b[0m \u001b[0mread_reply_from_input\u001b[0m\u001b[0;34m(\u001b[0m\u001b[0mrequest_id\u001b[0m\u001b[0;34m,\u001b[0m \u001b[0mtimeout_sec\u001b[0m\u001b[0;34m)\u001b[0m\u001b[0;34m\u001b[0m\u001b[0;34m\u001b[0m\u001b[0m\n\u001b[0m",
            "\u001b[0;32m/usr/local/lib/python3.11/dist-packages/google/colab/_message.py\u001b[0m in \u001b[0;36mread_reply_from_input\u001b[0;34m(message_id, timeout_sec)\u001b[0m\n\u001b[1;32m    101\u001b[0m     ):\n\u001b[1;32m    102\u001b[0m       \u001b[0;32mif\u001b[0m \u001b[0;34m'error'\u001b[0m \u001b[0;32min\u001b[0m \u001b[0mreply\u001b[0m\u001b[0;34m:\u001b[0m\u001b[0;34m\u001b[0m\u001b[0;34m\u001b[0m\u001b[0m\n\u001b[0;32m--> 103\u001b[0;31m         \u001b[0;32mraise\u001b[0m \u001b[0mMessageError\u001b[0m\u001b[0;34m(\u001b[0m\u001b[0mreply\u001b[0m\u001b[0;34m[\u001b[0m\u001b[0;34m'error'\u001b[0m\u001b[0;34m]\u001b[0m\u001b[0;34m)\u001b[0m\u001b[0;34m\u001b[0m\u001b[0;34m\u001b[0m\u001b[0m\n\u001b[0m\u001b[1;32m    104\u001b[0m       \u001b[0;32mreturn\u001b[0m \u001b[0mreply\u001b[0m\u001b[0;34m.\u001b[0m\u001b[0mget\u001b[0m\u001b[0;34m(\u001b[0m\u001b[0;34m'data'\u001b[0m\u001b[0;34m,\u001b[0m \u001b[0;32mNone\u001b[0m\u001b[0;34m)\u001b[0m\u001b[0;34m\u001b[0m\u001b[0;34m\u001b[0m\u001b[0m\n\u001b[1;32m    105\u001b[0m \u001b[0;34m\u001b[0m\u001b[0m\n",
            "\u001b[0;31mMessageError\u001b[0m: Error: credential propagation was unsuccessful"
          ]
        }
      ]
    },
    {
      "cell_type": "code",
      "source": [
        "# Librerías necesarias para el desarrollo del proyecto\n",
        "import pandas as pd\n",
        "import numpy as np\n",
        "#from datetime import date"
      ],
      "metadata": {
        "id": "Q4DbWlUcRrmy"
      },
      "execution_count": null,
      "outputs": []
    },
    {
      "cell_type": "markdown",
      "source": [
        "## [1] Entendimiento de los datos\n",
        "\n",
        "Etapa inicial en un proyecto de Ciencia de Datos, nos permite explorar las características de los datos a ser modelados."
      ],
      "metadata": {
        "id": "rKmT-BI1B7Ay"
      }
    },
    {
      "cell_type": "code",
      "execution_count": null,
      "metadata": {
        "id": "E81gvnxfBMkN"
      },
      "outputs": [],
      "source": [
        "# Lectura de los datos (formato parquet)\n",
        "ruta = \"/gdrive/My Drive/[UTEC_2025]/[Programa_Python_Mayo]/ALUMNOS/\"\n",
        "dataset = \"dataset_test.parquet\"\n",
        "data = pd.read_parquet(ruta+dataset, engine='pyarrow')"
      ]
    },
    {
      "cell_type": "code",
      "source": [
        "# Dimensionalidad de los datos a nivel de número de filas y columnas\n",
        "data.shape"
      ],
      "metadata": {
        "id": "EzrFecoGTKCT"
      },
      "execution_count": null,
      "outputs": []
    },
    {
      "cell_type": "code",
      "source": [
        "# Inspección de los datos, cinco registros iniciales\n",
        "data.head(5)"
      ],
      "metadata": {
        "id": "mwo8HixdDCL_"
      },
      "execution_count": null,
      "outputs": []
    },
    {
      "cell_type": "code",
      "source": [
        "data[['Quantity']].describe()"
      ],
      "metadata": {
        "id": "UkHMQgjQ69Kc"
      },
      "execution_count": null,
      "outputs": []
    },
    {
      "cell_type": "code",
      "source": [
        "# Cantidad de clientes únicos\n",
        "data.Account_id.nunique()"
      ],
      "metadata": {
        "id": "zJhQ0OcjH03k"
      },
      "execution_count": null,
      "outputs": []
    },
    {
      "cell_type": "code",
      "source": [
        "# Cantidad de productos únicos\n",
        "data.Product_id.nunique()"
      ],
      "metadata": {
        "id": "SHGQNYqHICW4"
      },
      "execution_count": null,
      "outputs": []
    },
    {
      "cell_type": "code",
      "source": [
        "# Cantidad de categorías de productos únicos\n",
        "data.Category.nunique()"
      ],
      "metadata": {
        "id": "WU2pa7xpIoNi"
      },
      "execution_count": null,
      "outputs": []
    },
    {
      "cell_type": "code",
      "source": [
        "# Evaluamos a las categorías\n",
        "data.groupby(['Category'])['Account_id'].count()"
      ],
      "metadata": {
        "id": "AhhfjMCg3Kbv"
      },
      "execution_count": null,
      "outputs": []
    },
    {
      "cell_type": "code",
      "source": [
        "data.Category.unique()"
      ],
      "metadata": {
        "id": "YVrpkEQWeaa2"
      },
      "execution_count": null,
      "outputs": []
    },
    {
      "cell_type": "code",
      "source": [
        "# Inspeccionamos la compra del cliente (código 33236916)\n",
        "data[data['Account_id']==33236916]"
      ],
      "metadata": {
        "id": "xca1WTwnIcjQ"
      },
      "execution_count": null,
      "outputs": []
    },
    {
      "cell_type": "code",
      "source": [
        "# Creamos una lista de campos que serán analizados\n",
        "vars = data.columns.to_list()\n",
        "vars"
      ],
      "metadata": {
        "id": "WMw2SicKJrox"
      },
      "execution_count": null,
      "outputs": []
    },
    {
      "cell_type": "code",
      "source": [
        "# Agrupamos la data (está expresada a nivel transaccional) a nivel cliente - producto - día\n",
        "data = data.groupby(vars[:-1])[vars[-1]].sum().reset_index()"
      ],
      "metadata": {
        "id": "5q22KLo-I1GN"
      },
      "execution_count": null,
      "outputs": []
    },
    {
      "cell_type": "code",
      "source": [
        "# Inspeccionamos la compra del cliente (código 33236916)\n",
        "data[data['Account_id']==33236916]"
      ],
      "metadata": {
        "id": "UHsSrd55KcEp"
      },
      "execution_count": null,
      "outputs": []
    },
    {
      "cell_type": "code",
      "source": [
        "# Inspeccionamos la nueva dimensionalidad de los datos\n",
        "data.shape"
      ],
      "metadata": {
        "id": "_i5CAbhjMYi3"
      },
      "execution_count": null,
      "outputs": []
    },
    {
      "cell_type": "code",
      "source": [
        "# Inspeccionamos el tipo del dato\n",
        "data.dtypes"
      ],
      "metadata": {
        "id": "m4EteZzlaW4t"
      },
      "execution_count": null,
      "outputs": []
    },
    {
      "cell_type": "code",
      "source": [
        "# Cambiamos el campo Date de objeto a fecha\n",
        "data['Date'] = data['Date'].astype('datetime64[ns]')"
      ],
      "metadata": {
        "id": "rWcWu0clb090"
      },
      "execution_count": null,
      "outputs": []
    },
    {
      "cell_type": "code",
      "source": [
        "# Calculamos la fecha mínima y máxima de transacción\n",
        "print(\"Fecha Mínima: \", data.Date.min())\n",
        "print(\"Fecha Máxima: \", data.Date.max())\n",
        "print(\"*\"*100)"
      ],
      "metadata": {
        "id": "tSnGCtBI7ICI"
      },
      "execution_count": null,
      "outputs": []
    },
    {
      "cell_type": "code",
      "source": [
        "# Generamos el resumen de la cantidad de clientes a nivel día\n",
        "res_date = data.groupby(['Date'])['Account_id'].count().reset_index()"
      ],
      "metadata": {
        "id": "uTOzrm4d8nym"
      },
      "execution_count": null,
      "outputs": []
    },
    {
      "cell_type": "code",
      "source": [
        "res_date.head(10)"
      ],
      "metadata": {
        "id": "L1gc1qAcfqfl"
      },
      "execution_count": null,
      "outputs": []
    },
    {
      "cell_type": "code",
      "source": [
        "# Estadísticas del resumen de la cantidad de clientes a nivel día\n",
        "res_date['Account_id'].describe().T"
      ],
      "metadata": {
        "id": "AZCBfJdLhXhu"
      },
      "execution_count": null,
      "outputs": []
    },
    {
      "cell_type": "code",
      "source": [
        "# Calculamos las fechas que presentan un comportamiento atípico a nivel de clientes\n",
        "p75 = np.quantile(res_date['Account_id'],0.75)\n",
        "p25 = np.quantile(res_date['Account_id'],0.25)\n",
        "ric = p75 - p25\n",
        "l_inf = p25 - (1.5*ric)\n",
        "l_sup = p75 - (1.5*ric)"
      ],
      "metadata": {
        "id": "6xZvCKqjg1Bz"
      },
      "execution_count": null,
      "outputs": []
    },
    {
      "cell_type": "code",
      "source": [
        "# Calculamos la fecha mínima y máxima de transacción\n",
        "print(\"Umbral mínimo de clientes por día: \", l_inf)\n",
        "print(\"Umbral máximo de clientes por día \", l_sup)\n",
        "print(\"*\"*100)"
      ],
      "metadata": {
        "id": "Fr8lbBbEiME8"
      },
      "execution_count": null,
      "outputs": []
    },
    {
      "cell_type": "code",
      "source": [
        "# Extraemos los campos Year y Month desde el campo Date\n",
        "data['Year'] = data['Date'].dt.year\n",
        "data['Month'] = data['Date'].dt.month"
      ],
      "metadata": {
        "id": "95FmTkw4cpZs"
      },
      "execution_count": null,
      "outputs": []
    },
    {
      "cell_type": "code",
      "source": [
        "# Inspeccionamos los primeros cinco registros\n",
        "data.head(5)"
      ],
      "metadata": {
        "id": "AILw4PIKc5E2"
      },
      "execution_count": null,
      "outputs": []
    },
    {
      "cell_type": "code",
      "source": [
        "# Guardamos los datos agrupados a nivel cliente - producto - día\n",
        "ruta = \"/gdrive/My Drive/[UTEC_2025]/[Programa_Python_Mayo]/ALUMNOS/out/\"\n",
        "dataset = \"data_agrupada.csv\"\n",
        "data.to_csv(ruta+dataset,header='True',index_label='False')"
      ],
      "metadata": {
        "id": "HKYHWTNEUDS1"
      },
      "execution_count": null,
      "outputs": []
    },
    {
      "cell_type": "markdown",
      "source": [
        "## [2] Preparación de los datos\n",
        "\n",
        "Etapa en la que limpiamos los datos para simplificar la complejidad natural de la búsqueda de patrones por parte de los algoritmos."
      ],
      "metadata": {
        "id": "znm0bQnLZWau"
      }
    },
    {
      "cell_type": "code",
      "source": [
        "# Calculamos los rangos intercuartílicos para la identificación de outliers a nivel de cantidad de compras\n",
        "\n",
        "q3 = np.quantile(data['Quantity'],0.75)\n",
        "q1 = np.quantile(data['Quantity'],0.25)\n",
        "ric = q3 - q1\n",
        "lim_sup = q3 + (1.5*ric)\n",
        "lim_inf = q1 - (1.5*ric)"
      ],
      "metadata": {
        "id": "9eo-6qTBT62W"
      },
      "execution_count": null,
      "outputs": []
    },
    {
      "cell_type": "code",
      "source": [
        "# Límites según criterio de Boxplot\n",
        "lim_inf, lim_sup"
      ],
      "metadata": {
        "id": "wSsZgGXWT67d"
      },
      "execution_count": null,
      "outputs": []
    },
    {
      "cell_type": "code",
      "source": [
        "# Filtramos los casos que se encuentran contenidos entre los límites\n",
        "data = data[(data['Quantity']>= lim_inf) & (data['Quantity']<= lim_sup)]"
      ],
      "metadata": {
        "id": "psAeTBEbT7Od"
      },
      "execution_count": null,
      "outputs": []
    },
    {
      "cell_type": "code",
      "source": [
        "# Exploramos la nueva dimensionalidad de los datos, no están considerados los valores outliers\n",
        "data.shape"
      ],
      "metadata": {
        "id": "B_LyJx61TdWS"
      },
      "execution_count": null,
      "outputs": []
    },
    {
      "cell_type": "code",
      "source": [
        "# Analizamos la cantidad promedio de productos comprados por día\n",
        "data.groupby(['Month'])['Quantity'].mean()"
      ],
      "metadata": {
        "id": "p8T3rkElV3GF"
      },
      "execution_count": null,
      "outputs": []
    },
    {
      "cell_type": "code",
      "source": [
        "# Analizamos la mediana de la cantidad de productos comprados por día\n",
        "data.groupby(['Month'])['Quantity'].median()"
      ],
      "metadata": {
        "id": "6dCZ8kkVV3Iz"
      },
      "execution_count": null,
      "outputs": []
    },
    {
      "cell_type": "code",
      "source": [
        "# Analizamos la dispersión de la cantidad de productos comprados por día\n",
        "data.groupby(['Month'])['Quantity'].std()"
      ],
      "metadata": {
        "id": "UTKQ2UqAahv2"
      },
      "execution_count": null,
      "outputs": []
    }
  ]
}