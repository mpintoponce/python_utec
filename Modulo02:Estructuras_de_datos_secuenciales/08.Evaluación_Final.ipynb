{
  "nbformat": 4,
  "nbformat_minor": 0,
  "metadata": {
    "colab": {
      "provenance": [],
      "authorship_tag": "ABX9TyMVsTpYSJr319d9ndBiW8DI",
      "include_colab_link": true
    },
    "kernelspec": {
      "name": "python3",
      "display_name": "Python 3"
    },
    "language_info": {
      "name": "python"
    }
  },
  "cells": [
    {
      "cell_type": "markdown",
      "metadata": {
        "id": "view-in-github",
        "colab_type": "text"
      },
      "source": [
        "<a href=\"https://colab.research.google.com/github/mpintoponce/python_utec/blob/main/Modulo02%3AEstructuras_de_datos_secuenciales/08.Evaluaci%C3%B3n_Final.ipynb\" target=\"_parent\"><img src=\"https://colab.research.google.com/assets/colab-badge.svg\" alt=\"Open In Colab\"/></a>"
      ]
    },
    {
      "cell_type": "markdown",
      "source": [
        "**Pregunta N°1**\n",
        "\n",
        "Crea una lista llamada numeros_pares que contenga los números del 1 al 100 con saltos de 2 en 2."
      ],
      "metadata": {
        "id": "PzJREARxpAmJ"
      }
    },
    {
      "cell_type": "code",
      "source": [
        "# Creando una lista vacía\n",
        "numeros_pares = []\n",
        "\n",
        "#Agregando números pares a la lista\n",
        "for i in range(2,102,2):\n",
        "    numeros_pares.append(i)\n",
        "\n",
        "#Imprimiento lista\n",
        "print(numeros_pares)"
      ],
      "metadata": {
        "id": "s6V4MyGkpCzk",
        "outputId": "6e072a0c-e52e-4361-8859-f76d1495d63b",
        "colab": {
          "base_uri": "https://localhost:8080/"
        }
      },
      "execution_count": 24,
      "outputs": [
        {
          "output_type": "stream",
          "name": "stdout",
          "text": [
            "[2, 4, 6, 8, 10, 12, 14, 16, 18, 20, 22, 24, 26, 28, 30, 32, 34, 36, 38, 40, 42, 44, 46, 48, 50, 52, 54, 56, 58, 60, 62, 64, 66, 68, 70, 72, 74, 76, 78, 80, 82, 84, 86, 88, 90, 92, 94, 96, 98, 100]\n"
          ]
        }
      ]
    },
    {
      "cell_type": "markdown",
      "source": [
        "**Pregunta N°2**\n",
        "\n",
        "Agrega los números 102, 104 y 106 al final de la lista numeros_pares y luego elimina los primeros 5 números de la lista numeros_pares. Muestra la lista resultante."
      ],
      "metadata": {
        "id": "0AhO9mwpqD1O"
      }
    },
    {
      "cell_type": "code",
      "source": [
        "#Agregando números 102, 104 y 106 a la lista\n",
        "for i in range(102,108,2):\n",
        "    numeros_pares.append(i)\n",
        "\n",
        "#Eliminando los primeros 5 números\n",
        "del numeros_pares[0:5]\n",
        "\n",
        "#Imprimiento lista\n",
        "print(numeros_pares)"
      ],
      "metadata": {
        "id": "HL0FyGQkpamO",
        "outputId": "2b11a36c-b436-418e-d56d-ae32b7c3d2f6",
        "colab": {
          "base_uri": "https://localhost:8080/"
        }
      },
      "execution_count": 25,
      "outputs": [
        {
          "output_type": "stream",
          "name": "stdout",
          "text": [
            "[12, 14, 16, 18, 20, 22, 24, 26, 28, 30, 32, 34, 36, 38, 40, 42, 44, 46, 48, 50, 52, 54, 56, 58, 60, 62, 64, 66, 68, 70, 72, 74, 76, 78, 80, 82, 84, 86, 88, 90, 92, 94, 96, 98, 100, 102, 104, 106]\n"
          ]
        }
      ]
    },
    {
      "cell_type": "markdown",
      "source": [
        "**Pregunta N°3**\n",
        "\n",
        "Crea una lista llamada resultante que contenga la raíz cuadrada de cada elemento de la lista numeros_pares usando list comprehension."
      ],
      "metadata": {
        "id": "XPcEVwIcqyCI"
      }
    },
    {
      "cell_type": "code",
      "source": [
        "#Creando lista resultante\n",
        "resultante = []\n",
        "\n",
        "#Calculando la raiz cuadrada de cada número\n",
        "resultante = [round(numeros_pares[num] ** 0.5,2) for num in range(len(numeros_pares))]\n",
        "\n",
        "#Imprimiento lista\n",
        "print(numeros_pares)\n",
        "print(resultante)"
      ],
      "metadata": {
        "id": "9Gy9ZRj1q7yV",
        "outputId": "c641444c-1190-4a99-c7f9-fce0ff56f67e",
        "colab": {
          "base_uri": "https://localhost:8080/"
        }
      },
      "execution_count": 26,
      "outputs": [
        {
          "output_type": "stream",
          "name": "stdout",
          "text": [
            "[12, 14, 16, 18, 20, 22, 24, 26, 28, 30, 32, 34, 36, 38, 40, 42, 44, 46, 48, 50, 52, 54, 56, 58, 60, 62, 64, 66, 68, 70, 72, 74, 76, 78, 80, 82, 84, 86, 88, 90, 92, 94, 96, 98, 100, 102, 104, 106]\n",
            "[3.46, 3.74, 4.0, 4.24, 4.47, 4.69, 4.9, 5.1, 5.29, 5.48, 5.66, 5.83, 6.0, 6.16, 6.32, 6.48, 6.63, 6.78, 6.93, 7.07, 7.21, 7.35, 7.48, 7.62, 7.75, 7.87, 8.0, 8.12, 8.25, 8.37, 8.49, 8.6, 8.72, 8.83, 8.94, 9.06, 9.17, 9.27, 9.38, 9.49, 9.59, 9.7, 9.8, 9.9, 10.0, 10.1, 10.2, 10.3]\n"
          ]
        }
      ]
    },
    {
      "cell_type": "markdown",
      "source": [
        "**Pregunta N°4**\n",
        "\n",
        "Dada la siguiente tupla tupla_x = (“alumno”,”Pedro”,15), desempaqueta la tupla tupla_x en tres variables: x, y, z, e imprime la siguiente estructura “El alumno Pedro obtuvo la calificación de 15 usando las variables x, y, z”."
      ],
      "metadata": {
        "id": "nt8YAnudsnLy"
      }
    },
    {
      "cell_type": "code",
      "source": [
        "#Creando tupla\n",
        "tupla_x = (\"alumno\",\"Pedro\",15)\n",
        "\n",
        "#Desempaquetando tupla\n",
        "x,y,z = tupla_x\n",
        "\n",
        "#Presentando resultado\n",
        "print(f\"El {x} {y} obtuvo la calificación de {z} usando las variables x, y, z\")"
      ],
      "metadata": {
        "id": "gLG_QDQPsrKy",
        "outputId": "fb0bfe49-fa0d-49ae-c081-78740f147e37",
        "colab": {
          "base_uri": "https://localhost:8080/"
        }
      },
      "execution_count": 30,
      "outputs": [
        {
          "output_type": "stream",
          "name": "stdout",
          "text": [
            "El alumno Pedro obtuvo la calificación de 15 usando las variables x, y, z\n"
          ]
        }
      ]
    },
    {
      "cell_type": "markdown",
      "source": [
        "**Pregunta N°5**\n",
        "\n",
        "Dado el siguiente diccionario notas = {“Programacion”:15.9, “Matematica”: 15.1, “Fisica”:15.6}, escribe un bucle for que imprima cada clave y su valor en el diccionario con la siguiente estructura “Mis calificaciones en el curso de Programacion es 15.9”"
      ],
      "metadata": {
        "id": "4kQIH_QvvrOu"
      }
    },
    {
      "cell_type": "code",
      "source": [
        "#Creando diccionario\n",
        "notas = {\"Programacion\":15.9, \"Matematica\": 15.1, \"Fisica\":15.6}\n",
        "\n",
        "#Imprimiendo clave y valor\n",
        "for clave, valor in notas.items():\n",
        "    print(f\"Mis calificaciones en el curso de {clave} es {valor}\")"
      ],
      "metadata": {
        "id": "wCaIKei4tyrn",
        "outputId": "39dedc75-7322-48d3-d5fa-5c7ef3bb5613",
        "colab": {
          "base_uri": "https://localhost:8080/"
        }
      },
      "execution_count": 31,
      "outputs": [
        {
          "output_type": "stream",
          "name": "stdout",
          "text": [
            "Mis calificaciones en el curso de Programacion es 15.9\n",
            "Mis calificaciones en el curso de Matematica es 15.1\n",
            "Mis calificaciones en el curso de Fisica es 15.6\n"
          ]
        }
      ]
    },
    {
      "cell_type": "markdown",
      "source": [
        "**Pregunta N°6**\n",
        "\n",
        "Crea una matriz 1D que contenga los primeros 16 elementos de la lista numeros_pares (creada en la pregunta 1), modifique las dimensiones y convertiela en una matriz 2D con shape(4,4), calcula la suma total de los elementos de la matriz matriz 2D."
      ],
      "metadata": {
        "id": "HDrkgphMwEnG"
      }
    },
    {
      "cell_type": "code",
      "source": [],
      "metadata": {
        "id": "pKXt6k3vv-wx"
      },
      "execution_count": null,
      "outputs": []
    }
  ]
}