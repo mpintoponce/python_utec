{
  "nbformat": 4,
  "nbformat_minor": 0,
  "metadata": {
    "colab": {
      "provenance": [],
      "authorship_tag": "ABX9TyM6nV6t+a4GXDx4CRtTWGLP",
      "include_colab_link": true
    },
    "kernelspec": {
      "name": "python3",
      "display_name": "Python 3"
    },
    "language_info": {
      "name": "python"
    }
  },
  "cells": [
    {
      "cell_type": "markdown",
      "metadata": {
        "id": "view-in-github",
        "colab_type": "text"
      },
      "source": [
        "<a href=\"https://colab.research.google.com/github/mpintoponce/python_utec/blob/main/Modulo02%3AEstructuras_de_datos_secuenciales/08.Evaluaci%C3%B3n_Final.ipynb\" target=\"_parent\"><img src=\"https://colab.research.google.com/assets/colab-badge.svg\" alt=\"Open In Colab\"/></a>"
      ]
    },
    {
      "cell_type": "markdown",
      "source": [
        "**Pregunta N°1**\n",
        "\n",
        "Crea una lista llamada numeros_pares que contenga los números del 1 al 100 con saltos de 2 en 2."
      ],
      "metadata": {
        "id": "PzJREARxpAmJ"
      }
    },
    {
      "cell_type": "code",
      "source": [
        "# Creando una lista vacía\n",
        "numeros_pares = []\n",
        "\n",
        "#Agregando números pares a la lista\n",
        "for i in range(2,102,2):\n",
        "    numeros_pares.append(i)\n",
        "\n",
        "#Imprimiento lista\n",
        "print(numeros_pares)"
      ],
      "metadata": {
        "colab": {
          "base_uri": "https://localhost:8080/"
        },
        "id": "s6V4MyGkpCzk",
        "outputId": "03553145-5418-4701-b42d-4337b4a1014e"
      },
      "execution_count": 6,
      "outputs": [
        {
          "output_type": "stream",
          "name": "stdout",
          "text": [
            "[2, 4, 6, 8, 10, 12, 14, 16, 18, 20, 22, 24, 26, 28, 30, 32, 34, 36, 38, 40, 42, 44, 46, 48, 50, 52, 54, 56, 58, 60, 62, 64, 66, 68, 70, 72, 74, 76, 78, 80, 82, 84, 86, 88, 90, 92, 94, 96, 98, 100]\n"
          ]
        }
      ]
    },
    {
      "cell_type": "markdown",
      "source": [
        "**Pregunta N°2**\n",
        "\n",
        "Agrega los números 102, 104 y 106 al final de la lista numeros_pares y luego elimina los primeros 5 números de la lista numeros_pares. Muestra la lista resultante."
      ],
      "metadata": {
        "id": "0AhO9mwpqD1O"
      }
    },
    {
      "cell_type": "code",
      "source": [
        "#Agregando números 102, 104 y 106 a la lista\n",
        "for i in range(102,108,2):\n",
        "    numeros_pares.append(i)\n",
        "\n",
        "#Eliminando los primeros 5 números\n",
        "del numeros_pares[0:5]\n",
        "\n",
        "#Imprimiento lista\n",
        "print(numeros_pares)"
      ],
      "metadata": {
        "colab": {
          "base_uri": "https://localhost:8080/"
        },
        "id": "HL0FyGQkpamO",
        "outputId": "830021d6-6119-4b28-80f4-46ab89f54d45"
      },
      "execution_count": 3,
      "outputs": [
        {
          "output_type": "stream",
          "name": "stdout",
          "text": [
            "[12, 14, 16, 18, 20, 22, 24, 26, 28, 30, 32, 34, 36, 38, 40, 42, 44, 46, 48, 50, 52, 54, 56, 58, 60, 62, 64, 66, 68, 70, 72, 74, 76, 78, 80, 82, 84, 86, 88, 90, 92, 94, 96, 98, 100, 102, 104, 106]\n"
          ]
        }
      ]
    },
    {
      "cell_type": "markdown",
      "source": [
        "**Pregunta N°3**\n",
        "\n",
        "Crea una lista llamada resultante que contenga la raíz cuadrada de cada elemento de la lista numeros_pares usando list comprehension."
      ],
      "metadata": {
        "id": "XPcEVwIcqyCI"
      }
    },
    {
      "cell_type": "code",
      "source": [
        "#Creando lista resultante\n",
        "resultante = []\n",
        "\n",
        "#Calculando la raiz cuadrada de cada número\n",
        "resultante = [round(numeros_pares[num] ** 0.5,2) for num in range(len(numeros_pares))]\n",
        "\n",
        "#Imprimiento lista\n",
        "print(numeros_pares)\n",
        "print(resultante)"
      ],
      "metadata": {
        "colab": {
          "base_uri": "https://localhost:8080/"
        },
        "id": "9Gy9ZRj1q7yV",
        "outputId": "1db3db0a-c74b-43c2-f728-7e9e546df083"
      },
      "execution_count": 4,
      "outputs": [
        {
          "output_type": "stream",
          "name": "stdout",
          "text": [
            "[12, 14, 16, 18, 20, 22, 24, 26, 28, 30, 32, 34, 36, 38, 40, 42, 44, 46, 48, 50, 52, 54, 56, 58, 60, 62, 64, 66, 68, 70, 72, 74, 76, 78, 80, 82, 84, 86, 88, 90, 92, 94, 96, 98, 100, 102, 104, 106]\n",
            "[3.46, 3.74, 4.0, 4.24, 4.47, 4.69, 4.9, 5.1, 5.29, 5.48, 5.66, 5.83, 6.0, 6.16, 6.32, 6.48, 6.63, 6.78, 6.93, 7.07, 7.21, 7.35, 7.48, 7.62, 7.75, 7.87, 8.0, 8.12, 8.25, 8.37, 8.49, 8.6, 8.72, 8.83, 8.94, 9.06, 9.17, 9.27, 9.38, 9.49, 9.59, 9.7, 9.8, 9.9, 10.0, 10.1, 10.2, 10.3]\n"
          ]
        }
      ]
    },
    {
      "cell_type": "markdown",
      "source": [
        "**Pregunta N°4**\n",
        "\n",
        "Dada la siguiente tupla tupla_x = (“alumno”,”Pedro”,15), desempaqueta la tupla tupla_x en tres variables: x, y, z, e imprime la siguiente estructura “El alumno Pedro obtuvo la calificación de 15 usando las variables x, y, z”."
      ],
      "metadata": {
        "id": "nt8YAnudsnLy"
      }
    },
    {
      "cell_type": "code",
      "source": [
        "#Creando tupla\n",
        "tupla_x = (\"alumno\",\"Pedro\",15)\n",
        "\n",
        "#Desempaquetando tupla\n",
        "x,y,z = tupla_x\n",
        "\n",
        "#Presentando resultado\n",
        "print(f\"El {x} {y} obtuvo la calificación de {z} usando las variables x, y, z\")"
      ],
      "metadata": {
        "colab": {
          "base_uri": "https://localhost:8080/"
        },
        "id": "gLG_QDQPsrKy",
        "outputId": "fb0bfe49-fa0d-49ae-c081-78740f147e37"
      },
      "execution_count": 30,
      "outputs": [
        {
          "output_type": "stream",
          "name": "stdout",
          "text": [
            "El alumno Pedro obtuvo la calificación de 15 usando las variables x, y, z\n"
          ]
        }
      ]
    },
    {
      "cell_type": "markdown",
      "source": [
        "**Pregunta N°5**\n",
        "\n",
        "Dado el siguiente diccionario notas = {“Programacion”:15.9, “Matematica”: 15.1, “Fisica”:15.6}, escribe un bucle for que imprima cada clave y su valor en el diccionario con la siguiente estructura “Mis calificaciones en el curso de Programacion es 15.9”"
      ],
      "metadata": {
        "id": "4kQIH_QvvrOu"
      }
    },
    {
      "cell_type": "code",
      "source": [
        "#Creando diccionario\n",
        "notas = {\"Programacion\":15.9, \"Matematica\": 15.1, \"Fisica\":15.6}\n",
        "\n",
        "#Imprimiendo clave y valor\n",
        "for clave, valor in notas.items():\n",
        "    print(f\"Mis calificaciones en el curso de {clave} es {valor}\")"
      ],
      "metadata": {
        "colab": {
          "base_uri": "https://localhost:8080/"
        },
        "id": "wCaIKei4tyrn",
        "outputId": "39dedc75-7322-48d3-d5fa-5c7ef3bb5613"
      },
      "execution_count": 31,
      "outputs": [
        {
          "output_type": "stream",
          "name": "stdout",
          "text": [
            "Mis calificaciones en el curso de Programacion es 15.9\n",
            "Mis calificaciones en el curso de Matematica es 15.1\n",
            "Mis calificaciones en el curso de Fisica es 15.6\n"
          ]
        }
      ]
    },
    {
      "cell_type": "markdown",
      "source": [
        "**Pregunta N°6**\n",
        "\n",
        "Crea una matriz 1D que contenga los primeros 16 elementos de la lista numeros_pares (creada en la pregunta 1), modifique las dimensiones y convertiela en una matriz 2D con shape(4,4), calcula la suma total de los elementos de la matriz matriz 2D."
      ],
      "metadata": {
        "id": "HDrkgphMwEnG"
      }
    },
    {
      "cell_type": "code",
      "source": [
        "#Creando matriz 1D (16 primeros elementos)\n",
        "matriz_1D = numeros_pares[0:16]\n",
        "\n",
        "#Convirtiendo en 2D (4x4)\n",
        "import numpy as np\n",
        "matriz_2D = np.array(matriz_1D).reshape(4,4)\n",
        "\n",
        "#Calculando suma total\n",
        "suma_total = np.sum(matriz_2D)\n",
        "\n",
        "#Imprimiendo resultados\n",
        "print(f\"La nueva matriz 2D (4x4) es: \\n{matriz_2D}\")\n",
        "print(f\"\\nLa suma de los elementos de la matriz 2D (4x4) es: {suma_total}\")"
      ],
      "metadata": {
        "colab": {
          "base_uri": "https://localhost:8080/"
        },
        "id": "pKXt6k3vv-wx",
        "outputId": "e81b7449-e1dd-4a83-df94-a51b8eef1df3"
      },
      "execution_count": 16,
      "outputs": [
        {
          "output_type": "stream",
          "name": "stdout",
          "text": [
            "La nueva matriz 2D (4x4) es: \n",
            "[[ 2  4  6  8]\n",
            " [10 12 14 16]\n",
            " [18 20 22 24]\n",
            " [26 28 30 32]]\n",
            "\n",
            "La suma de los elementos de la matriz 2D (4x4) es: 272\n"
          ]
        }
      ]
    },
    {
      "cell_type": "markdown",
      "source": [
        "**Pregunta N°7**\n",
        "\n",
        "Leer el archivo datosDemograficos.xlsx y realice un análisis descriptivo en función de las variables más relevantes."
      ],
      "metadata": {
        "id": "QvoTlOJ2Eldd"
      }
    },
    {
      "cell_type": "code",
      "source": [
        "# Conectamos Google Drive con Google Colab\n",
        "import pandas as pd\n",
        "import numpy as np\n",
        "from google.colab import drive\n",
        "drive.mount('/gdrive')\n",
        "ruta = \"/gdrive/My Drive/\"\n",
        "dataset = \"datosDemograficos (1).xlsx\"\n",
        "data = pd.read_excel(ruta+dataset)"
      ],
      "metadata": {
        "colab": {
          "base_uri": "https://localhost:8080/"
        },
        "id": "xRIu14HhAmu5",
        "outputId": "fd8152ac-a807-4fb6-cecf-b8992f9304e9"
      },
      "execution_count": 19,
      "outputs": [
        {
          "output_type": "stream",
          "name": "stdout",
          "text": [
            "Drive already mounted at /gdrive; to attempt to forcibly remount, call drive.mount(\"/gdrive\", force_remount=True).\n"
          ]
        }
      ]
    },
    {
      "cell_type": "code",
      "source": [
        "data.shape"
      ],
      "metadata": {
        "id": "wXHD6kjVLyyZ",
        "outputId": "c3106c14-d3e6-4f40-de91-5f498d3c5613",
        "colab": {
          "base_uri": "https://localhost:8080/"
        }
      },
      "execution_count": 23,
      "outputs": [
        {
          "output_type": "execute_result",
          "data": {
            "text/plain": [
              "(25, 9)"
            ]
          },
          "metadata": {},
          "execution_count": 23
        }
      ]
    },
    {
      "cell_type": "code",
      "source": [
        "data.head()"
      ],
      "metadata": {
        "id": "9H26O94RMinf",
        "outputId": "979a0bd6-6e51-465b-b06a-62e79a6f4425",
        "colab": {
          "base_uri": "https://localhost:8080/",
          "height": 201
        }
      },
      "execution_count": 24,
      "outputs": [
        {
          "output_type": "execute_result",
          "data": {
            "text/plain": [
              "  Indicadores  Fecundidad  Mortalidad  TasaMortalidadxMil  EsperanzaVida  \\\n",
              "0        Puno       30108        9951                6.86          71.44   \n",
              "1  San Martín       16074        4889                5.63          72.45   \n",
              "2       Tacna        5605        1900                5.40          75.11   \n",
              "3      Tumbes        3924        1209                4.94          74.96   \n",
              "4     Ucayali        8872        3020                5.93          71.99   \n",
              "\n",
              "   EVSoloHombres  EVSoloMujeres  TasaMortalidadInfantilxMilNacidos  \\\n",
              "0          68.77          74.25                              26.82   \n",
              "1          69.65          75.40                              17.53   \n",
              "2          72.31          78.06                              11.77   \n",
              "3          72.09          77.98                              11.46   \n",
              "4          69.24          74.87                              21.07   \n",
              "\n",
              "   CrecimientoNatural  \n",
              "0               20157  \n",
              "1               11185  \n",
              "2                3705  \n",
              "3                2715  \n",
              "4                5852  "
            ],
            "text/html": [
              "\n",
              "  <div id=\"df-86e7979d-f9b7-4348-a093-59432eed203c\" class=\"colab-df-container\">\n",
              "    <div>\n",
              "<style scoped>\n",
              "    .dataframe tbody tr th:only-of-type {\n",
              "        vertical-align: middle;\n",
              "    }\n",
              "\n",
              "    .dataframe tbody tr th {\n",
              "        vertical-align: top;\n",
              "    }\n",
              "\n",
              "    .dataframe thead th {\n",
              "        text-align: right;\n",
              "    }\n",
              "</style>\n",
              "<table border=\"1\" class=\"dataframe\">\n",
              "  <thead>\n",
              "    <tr style=\"text-align: right;\">\n",
              "      <th></th>\n",
              "      <th>Indicadores</th>\n",
              "      <th>Fecundidad</th>\n",
              "      <th>Mortalidad</th>\n",
              "      <th>TasaMortalidadxMil</th>\n",
              "      <th>EsperanzaVida</th>\n",
              "      <th>EVSoloHombres</th>\n",
              "      <th>EVSoloMujeres</th>\n",
              "      <th>TasaMortalidadInfantilxMilNacidos</th>\n",
              "      <th>CrecimientoNatural</th>\n",
              "    </tr>\n",
              "  </thead>\n",
              "  <tbody>\n",
              "    <tr>\n",
              "      <th>0</th>\n",
              "      <td>Puno</td>\n",
              "      <td>30108</td>\n",
              "      <td>9951</td>\n",
              "      <td>6.86</td>\n",
              "      <td>71.44</td>\n",
              "      <td>68.77</td>\n",
              "      <td>74.25</td>\n",
              "      <td>26.82</td>\n",
              "      <td>20157</td>\n",
              "    </tr>\n",
              "    <tr>\n",
              "      <th>1</th>\n",
              "      <td>San Martín</td>\n",
              "      <td>16074</td>\n",
              "      <td>4889</td>\n",
              "      <td>5.63</td>\n",
              "      <td>72.45</td>\n",
              "      <td>69.65</td>\n",
              "      <td>75.40</td>\n",
              "      <td>17.53</td>\n",
              "      <td>11185</td>\n",
              "    </tr>\n",
              "    <tr>\n",
              "      <th>2</th>\n",
              "      <td>Tacna</td>\n",
              "      <td>5605</td>\n",
              "      <td>1900</td>\n",
              "      <td>5.40</td>\n",
              "      <td>75.11</td>\n",
              "      <td>72.31</td>\n",
              "      <td>78.06</td>\n",
              "      <td>11.77</td>\n",
              "      <td>3705</td>\n",
              "    </tr>\n",
              "    <tr>\n",
              "      <th>3</th>\n",
              "      <td>Tumbes</td>\n",
              "      <td>3924</td>\n",
              "      <td>1209</td>\n",
              "      <td>4.94</td>\n",
              "      <td>74.96</td>\n",
              "      <td>72.09</td>\n",
              "      <td>77.98</td>\n",
              "      <td>11.46</td>\n",
              "      <td>2715</td>\n",
              "    </tr>\n",
              "    <tr>\n",
              "      <th>4</th>\n",
              "      <td>Ucayali</td>\n",
              "      <td>8872</td>\n",
              "      <td>3020</td>\n",
              "      <td>5.93</td>\n",
              "      <td>71.99</td>\n",
              "      <td>69.24</td>\n",
              "      <td>74.87</td>\n",
              "      <td>21.07</td>\n",
              "      <td>5852</td>\n",
              "    </tr>\n",
              "  </tbody>\n",
              "</table>\n",
              "</div>\n",
              "    <div class=\"colab-df-buttons\">\n",
              "\n",
              "  <div class=\"colab-df-container\">\n",
              "    <button class=\"colab-df-convert\" onclick=\"convertToInteractive('df-86e7979d-f9b7-4348-a093-59432eed203c')\"\n",
              "            title=\"Convert this dataframe to an interactive table.\"\n",
              "            style=\"display:none;\">\n",
              "\n",
              "  <svg xmlns=\"http://www.w3.org/2000/svg\" height=\"24px\" viewBox=\"0 -960 960 960\">\n",
              "    <path d=\"M120-120v-720h720v720H120Zm60-500h600v-160H180v160Zm220 220h160v-160H400v160Zm0 220h160v-160H400v160ZM180-400h160v-160H180v160Zm440 0h160v-160H620v160ZM180-180h160v-160H180v160Zm440 0h160v-160H620v160Z\"/>\n",
              "  </svg>\n",
              "    </button>\n",
              "\n",
              "  <style>\n",
              "    .colab-df-container {\n",
              "      display:flex;\n",
              "      gap: 12px;\n",
              "    }\n",
              "\n",
              "    .colab-df-convert {\n",
              "      background-color: #E8F0FE;\n",
              "      border: none;\n",
              "      border-radius: 50%;\n",
              "      cursor: pointer;\n",
              "      display: none;\n",
              "      fill: #1967D2;\n",
              "      height: 32px;\n",
              "      padding: 0 0 0 0;\n",
              "      width: 32px;\n",
              "    }\n",
              "\n",
              "    .colab-df-convert:hover {\n",
              "      background-color: #E2EBFA;\n",
              "      box-shadow: 0px 1px 2px rgba(60, 64, 67, 0.3), 0px 1px 3px 1px rgba(60, 64, 67, 0.15);\n",
              "      fill: #174EA6;\n",
              "    }\n",
              "\n",
              "    .colab-df-buttons div {\n",
              "      margin-bottom: 4px;\n",
              "    }\n",
              "\n",
              "    [theme=dark] .colab-df-convert {\n",
              "      background-color: #3B4455;\n",
              "      fill: #D2E3FC;\n",
              "    }\n",
              "\n",
              "    [theme=dark] .colab-df-convert:hover {\n",
              "      background-color: #434B5C;\n",
              "      box-shadow: 0px 1px 3px 1px rgba(0, 0, 0, 0.15);\n",
              "      filter: drop-shadow(0px 1px 2px rgba(0, 0, 0, 0.3));\n",
              "      fill: #FFFFFF;\n",
              "    }\n",
              "  </style>\n",
              "\n",
              "    <script>\n",
              "      const buttonEl =\n",
              "        document.querySelector('#df-86e7979d-f9b7-4348-a093-59432eed203c button.colab-df-convert');\n",
              "      buttonEl.style.display =\n",
              "        google.colab.kernel.accessAllowed ? 'block' : 'none';\n",
              "\n",
              "      async function convertToInteractive(key) {\n",
              "        const element = document.querySelector('#df-86e7979d-f9b7-4348-a093-59432eed203c');\n",
              "        const dataTable =\n",
              "          await google.colab.kernel.invokeFunction('convertToInteractive',\n",
              "                                                    [key], {});\n",
              "        if (!dataTable) return;\n",
              "\n",
              "        const docLinkHtml = 'Like what you see? Visit the ' +\n",
              "          '<a target=\"_blank\" href=https://colab.research.google.com/notebooks/data_table.ipynb>data table notebook</a>'\n",
              "          + ' to learn more about interactive tables.';\n",
              "        element.innerHTML = '';\n",
              "        dataTable['output_type'] = 'display_data';\n",
              "        await google.colab.output.renderOutput(dataTable, element);\n",
              "        const docLink = document.createElement('div');\n",
              "        docLink.innerHTML = docLinkHtml;\n",
              "        element.appendChild(docLink);\n",
              "      }\n",
              "    </script>\n",
              "  </div>\n",
              "\n",
              "\n",
              "    <div id=\"df-73523652-9481-4fc2-992f-3c9a336b1269\">\n",
              "      <button class=\"colab-df-quickchart\" onclick=\"quickchart('df-73523652-9481-4fc2-992f-3c9a336b1269')\"\n",
              "                title=\"Suggest charts\"\n",
              "                style=\"display:none;\">\n",
              "\n",
              "<svg xmlns=\"http://www.w3.org/2000/svg\" height=\"24px\"viewBox=\"0 0 24 24\"\n",
              "     width=\"24px\">\n",
              "    <g>\n",
              "        <path d=\"M19 3H5c-1.1 0-2 .9-2 2v14c0 1.1.9 2 2 2h14c1.1 0 2-.9 2-2V5c0-1.1-.9-2-2-2zM9 17H7v-7h2v7zm4 0h-2V7h2v10zm4 0h-2v-4h2v4z\"/>\n",
              "    </g>\n",
              "</svg>\n",
              "      </button>\n",
              "\n",
              "<style>\n",
              "  .colab-df-quickchart {\n",
              "      --bg-color: #E8F0FE;\n",
              "      --fill-color: #1967D2;\n",
              "      --hover-bg-color: #E2EBFA;\n",
              "      --hover-fill-color: #174EA6;\n",
              "      --disabled-fill-color: #AAA;\n",
              "      --disabled-bg-color: #DDD;\n",
              "  }\n",
              "\n",
              "  [theme=dark] .colab-df-quickchart {\n",
              "      --bg-color: #3B4455;\n",
              "      --fill-color: #D2E3FC;\n",
              "      --hover-bg-color: #434B5C;\n",
              "      --hover-fill-color: #FFFFFF;\n",
              "      --disabled-bg-color: #3B4455;\n",
              "      --disabled-fill-color: #666;\n",
              "  }\n",
              "\n",
              "  .colab-df-quickchart {\n",
              "    background-color: var(--bg-color);\n",
              "    border: none;\n",
              "    border-radius: 50%;\n",
              "    cursor: pointer;\n",
              "    display: none;\n",
              "    fill: var(--fill-color);\n",
              "    height: 32px;\n",
              "    padding: 0;\n",
              "    width: 32px;\n",
              "  }\n",
              "\n",
              "  .colab-df-quickchart:hover {\n",
              "    background-color: var(--hover-bg-color);\n",
              "    box-shadow: 0 1px 2px rgba(60, 64, 67, 0.3), 0 1px 3px 1px rgba(60, 64, 67, 0.15);\n",
              "    fill: var(--button-hover-fill-color);\n",
              "  }\n",
              "\n",
              "  .colab-df-quickchart-complete:disabled,\n",
              "  .colab-df-quickchart-complete:disabled:hover {\n",
              "    background-color: var(--disabled-bg-color);\n",
              "    fill: var(--disabled-fill-color);\n",
              "    box-shadow: none;\n",
              "  }\n",
              "\n",
              "  .colab-df-spinner {\n",
              "    border: 2px solid var(--fill-color);\n",
              "    border-color: transparent;\n",
              "    border-bottom-color: var(--fill-color);\n",
              "    animation:\n",
              "      spin 1s steps(1) infinite;\n",
              "  }\n",
              "\n",
              "  @keyframes spin {\n",
              "    0% {\n",
              "      border-color: transparent;\n",
              "      border-bottom-color: var(--fill-color);\n",
              "      border-left-color: var(--fill-color);\n",
              "    }\n",
              "    20% {\n",
              "      border-color: transparent;\n",
              "      border-left-color: var(--fill-color);\n",
              "      border-top-color: var(--fill-color);\n",
              "    }\n",
              "    30% {\n",
              "      border-color: transparent;\n",
              "      border-left-color: var(--fill-color);\n",
              "      border-top-color: var(--fill-color);\n",
              "      border-right-color: var(--fill-color);\n",
              "    }\n",
              "    40% {\n",
              "      border-color: transparent;\n",
              "      border-right-color: var(--fill-color);\n",
              "      border-top-color: var(--fill-color);\n",
              "    }\n",
              "    60% {\n",
              "      border-color: transparent;\n",
              "      border-right-color: var(--fill-color);\n",
              "    }\n",
              "    80% {\n",
              "      border-color: transparent;\n",
              "      border-right-color: var(--fill-color);\n",
              "      border-bottom-color: var(--fill-color);\n",
              "    }\n",
              "    90% {\n",
              "      border-color: transparent;\n",
              "      border-bottom-color: var(--fill-color);\n",
              "    }\n",
              "  }\n",
              "</style>\n",
              "\n",
              "      <script>\n",
              "        async function quickchart(key) {\n",
              "          const quickchartButtonEl =\n",
              "            document.querySelector('#' + key + ' button');\n",
              "          quickchartButtonEl.disabled = true;  // To prevent multiple clicks.\n",
              "          quickchartButtonEl.classList.add('colab-df-spinner');\n",
              "          try {\n",
              "            const charts = await google.colab.kernel.invokeFunction(\n",
              "                'suggestCharts', [key], {});\n",
              "          } catch (error) {\n",
              "            console.error('Error during call to suggestCharts:', error);\n",
              "          }\n",
              "          quickchartButtonEl.classList.remove('colab-df-spinner');\n",
              "          quickchartButtonEl.classList.add('colab-df-quickchart-complete');\n",
              "        }\n",
              "        (() => {\n",
              "          let quickchartButtonEl =\n",
              "            document.querySelector('#df-73523652-9481-4fc2-992f-3c9a336b1269 button');\n",
              "          quickchartButtonEl.style.display =\n",
              "            google.colab.kernel.accessAllowed ? 'block' : 'none';\n",
              "        })();\n",
              "      </script>\n",
              "    </div>\n",
              "\n",
              "    </div>\n",
              "  </div>\n"
            ],
            "application/vnd.google.colaboratory.intrinsic+json": {
              "type": "dataframe",
              "variable_name": "data",
              "summary": "{\n  \"name\": \"data\",\n  \"rows\": 25,\n  \"fields\": [\n    {\n      \"column\": \"Indicadores\",\n      \"properties\": {\n        \"dtype\": \"string\",\n        \"num_unique_values\": 25,\n        \"samples\": [\n          \"Pasco\",\n          \"Callao\",\n          \"Puno\"\n        ],\n        \"semantic_type\": \"\",\n        \"description\": \"\"\n      }\n    },\n    {\n      \"column\": \"Fecundidad\",\n      \"properties\": {\n        \"dtype\": \"number\",\n        \"std\": 30817,\n        \"min\": 2571,\n        \"max\": 163089,\n        \"num_unique_values\": 25,\n        \"samples\": [\n          6355,\n          15584,\n          30108\n        ],\n        \"semantic_type\": \"\",\n        \"description\": \"\"\n      }\n    },\n    {\n      \"column\": \"Mortalidad\",\n      \"properties\": {\n        \"dtype\": \"number\",\n        \"std\": 10451,\n        \"min\": 660,\n        \"max\": 55201,\n        \"num_unique_values\": 25,\n        \"samples\": [\n          1715,\n          5513,\n          9951\n        ],\n        \"semantic_type\": \"\",\n        \"description\": \"\"\n      }\n    },\n    {\n      \"column\": \"TasaMortalidadxMil\",\n      \"properties\": {\n        \"dtype\": \"number\",\n        \"std\": 0.5807765915353015,\n        \"min\": 4.54,\n        \"max\": 6.97,\n        \"num_unique_values\": 21,\n        \"samples\": [\n          6.86,\n          6.15,\n          6.97\n        ],\n        \"semantic_type\": \"\",\n        \"description\": \"\"\n      }\n    },\n    {\n      \"column\": \"EsperanzaVida\",\n      \"properties\": {\n        \"dtype\": \"number\",\n        \"std\": 2.375037683911563,\n        \"min\": 70.93,\n        \"max\": 78.38,\n        \"num_unique_values\": 25,\n        \"samples\": [\n          72.52,\n          78.38,\n          71.44\n        ],\n        \"semantic_type\": \"\",\n        \"description\": \"\"\n      }\n    },\n    {\n      \"column\": \"EVSoloHombres\",\n      \"properties\": {\n        \"dtype\": \"number\",\n        \"std\": 2.3154976426965623,\n        \"min\": 68.53,\n        \"max\": 75.68,\n        \"num_unique_values\": 25,\n        \"samples\": [\n          69.63,\n          75.68,\n          68.77\n        ],\n        \"semantic_type\": \"\",\n        \"description\": \"\"\n      }\n    },\n    {\n      \"column\": \"EVSoloMujeres\",\n      \"properties\": {\n        \"dtype\": \"number\",\n        \"std\": 2.4437657416372804,\n        \"min\": 73.45,\n        \"max\": 81.22,\n        \"num_unique_values\": 25,\n        \"samples\": [\n          75.56,\n          81.22,\n          74.25\n        ],\n        \"semantic_type\": \"\",\n        \"description\": \"\"\n      }\n    },\n    {\n      \"column\": \"TasaMortalidadInfantilxMilNacidos\",\n      \"properties\": {\n        \"dtype\": \"number\",\n        \"std\": 5.434434193179636,\n        \"min\": 7.81,\n        \"max\": 26.82,\n        \"num_unique_values\": 23,\n        \"samples\": [\n          7.81,\n          9.14,\n          26.82\n        ],\n        \"semantic_type\": \"\",\n        \"description\": \"\"\n      }\n    },\n    {\n      \"column\": \"CrecimientoNatural\",\n      \"properties\": {\n        \"dtype\": \"number\",\n        \"std\": 20409,\n        \"min\": 1566,\n        \"max\": 107888,\n        \"num_unique_values\": 25,\n        \"samples\": [\n          4640,\n          10071,\n          20157\n        ],\n        \"semantic_type\": \"\",\n        \"description\": \"\"\n      }\n    }\n  ]\n}"
            }
          },
          "metadata": {},
          "execution_count": 24
        }
      ]
    },
    {
      "cell_type": "code",
      "source": [],
      "metadata": {
        "id": "Y7NLXQLYNKkQ"
      },
      "execution_count": null,
      "outputs": []
    }
  ]
}