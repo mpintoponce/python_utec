{
  "nbformat": 4,
  "nbformat_minor": 0,
  "metadata": {
    "colab": {
      "provenance": [],
      "include_colab_link": true
    },
    "kernelspec": {
      "name": "python3",
      "display_name": "Python 3"
    },
    "language_info": {
      "name": "python"
    }
  },
  "cells": [
    {
      "cell_type": "markdown",
      "metadata": {
        "id": "view-in-github",
        "colab_type": "text"
      },
      "source": [
        "<a href=\"https://colab.research.google.com/github/mpintoponce/python_utec/blob/main/Modulo03%3AVisualizacion_de_Datos/02.Sesio%CC%81n_1_%5BStudent_View%5D.ipynb\" target=\"_parent\"><img src=\"https://colab.research.google.com/assets/colab-badge.svg\" alt=\"Open In Colab\"/></a>"
      ]
    },
    {
      "cell_type": "markdown",
      "source": [
        "![picture](https://drive.google.com/uc?export=view&id=1KaUW3_JAieeY7WVNfoRiTSr2JsaeAcXi)"
      ],
      "metadata": {
        "id": "mjPS1Pq-cHY1"
      }
    },
    {
      "cell_type": "markdown",
      "source": [
        "![image.png](data:image/png;base64,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)"
      ],
      "metadata": {
        "id": "Ukz8PhLGeTAc"
      }
    },
    {
      "cell_type": "markdown",
      "source": [
        "# **<font color='lightcoral'>Módulo 3 - Sesión 1 </font>**\n",
        "## <font color='#80b1d3'> Profesor: Germain Garcia Zanabria</font>\n",
        "\n",
        "### Indicaciones\n",
        "\n",
        "Completa las secciones de código en las que se indique `### Completar`. Siga las instrucciones y proporcione la implementación adecuada en cada caso. Si necesitas ayuda o tienes alguna pregunta, no dudes en levantar la mano para que pueda asistirte.\n",
        "\n",
        "# Archivos a usar:\n",
        "- Metales.xlsx\n",
        "- Ejercicio-Grupal-Clase1.xlsx"
      ],
      "metadata": {
        "id": "-IJQbZ1meirl"
      }
    },
    {
      "cell_type": "code",
      "source": [
        "# Conectar con Google Drive\n",
        "\n",
        "try:\n",
        "    from google.colab import drive\n",
        "    drive.mount('/content/drive')\n",
        "    PATH = '/content/drive/MyDrive/'    # Cambiar a: '/content/drive/MyDrive/'\n",
        "except:\n",
        "    PATH = '../'"
      ],
      "metadata": {
        "colab": {
          "base_uri": "https://localhost:8080/"
        },
        "id": "RNmXV3cTegRl",
        "outputId": "4e09bdb5-2e00-4fbb-8947-16c9460bc8bc"
      },
      "execution_count": null,
      "outputs": [
        {
          "output_type": "stream",
          "name": "stdout",
          "text": [
            "Mounted at /content/drive\n"
          ]
        }
      ]
    },
    {
      "cell_type": "code",
      "source": [
        "# Instala pandas si aún no está instalado\n",
        "# !pip install pandas"
      ],
      "metadata": {
        "id": "SkBhs2tMjmkl"
      },
      "execution_count": null,
      "outputs": []
    },
    {
      "cell_type": "markdown",
      "source": [
        "## Ejercicio 1\n",
        " Dada la base de datos de Metales, responda las preguntas que siguen:"
      ],
      "metadata": {
        "id": "U6uhbCtbhsOu"
      }
    },
    {
      "cell_type": "code",
      "source": [
        "from IPython.display import display\n",
        "import pandas as pd\n",
        "import numpy as np\n",
        "import xml.etree.ElementTree as ET\n",
        "\n",
        "# Lee el archivo .xlsx\n",
        "df = pd.read_excel(PATH + \"Metales.xlsx\")\n",
        "\n",
        "# df.head()  # Muestra solo los 5 primeros elementos del dataframe\n",
        "df"
      ],
      "metadata": {
        "id": "-Gn0mjyWjyq5",
        "colab": {
          "base_uri": "https://localhost:8080/",
          "height": 770
        },
        "outputId": "101c3273-cd97-4533-b527-a62072499571"
      },
      "execution_count": null,
      "outputs": [
        {
          "output_type": "execute_result",
          "data": {
            "text/plain": [
              "     AÑO    COBRE(TMF)        ORO(KG)     ZINC(TMF)     PLATA(KG)  \\\n",
              "0   2000  5.539240e+05  132585.078000  9.103030e+05  2.437706e+06   \n",
              "1   2001  7.223553e+05  138522.109261  1.056629e+06  2.571114e+06   \n",
              "2   2002  8.445529e+05  157529.918536  1.232997e+06  2.869639e+06   \n",
              "3   2003  8.426051e+05  172624.629844  1.373792e+06  2.923686e+06   \n",
              "4   2004  1.035574e+06  173223.817386  1.209006e+06  3.059817e+06   \n",
              "5   2005  1.009899e+06  208001.717819  1.201671e+06  3.205673e+06   \n",
              "6   2006  1.048472e+06  202825.999000  1.203364e+06  3.470661e+06   \n",
              "7   2007  1.190274e+06  170235.885180  1.444361e+06  3.501462e+06   \n",
              "8   2008  1.267867e+06  179870.472996  1.602597e+06  3.685931e+06   \n",
              "9   2009  1.276249e+06  183994.691508  1.512931e+06  3.922708e+06   \n",
              "10  2010  1.247184e+06  164084.388901  1.470450e+06  3.640465e+06   \n",
              "11  2011  1.235345e+06  166186.716982  1.256383e+06  3.418862e+06   \n",
              "12  2012  1.289917e+06  153780.960261  1.281282e+06  3.452004e+06   \n",
              "13  2013  1.363453e+06  143716.837420  1.351049e+06  3.648503e+06   \n",
              "14  2014  1.377374e+06  129946.243443  1.315221e+06  3.738280e+06   \n",
              "15  2015  1.699940e+06  137378.305795  1.415824e+06  4.071095e+06   \n",
              "16  2016  2.352960e+06  142230.636693  1.329178e+06  4.329180e+06   \n",
              "17  2017  2.440181e+06  138425.832762  1.466521e+06  4.318324e+06   \n",
              "18  2018  2.416881e+06  125933.914437  1.471846e+06  3.999990e+06   \n",
              "19  2019  2.437925e+06  113586.028971  1.382753e+06  3.706760e+06   \n",
              "20  2020  2.153952e+06   85172.522941  1.334570e+06  2.768240e+06   \n",
              "21  2021  2.329886e+06   97189.981930  1.533135e+06  3.375645e+06   \n",
              "22  2022  2.445110e+06   96739.874550  1.369649e+06  3.083036e+06   \n",
              "\n",
              "       PLOMO(TMF)  \n",
              "0   270576.000000  \n",
              "1   289546.066107  \n",
              "2   305650.719513  \n",
              "3   309163.882190  \n",
              "4   306210.777938  \n",
              "5   319368.000000  \n",
              "6   313332.000000  \n",
              "7   329165.000000  \n",
              "8   345109.270272  \n",
              "9   302459.112910  \n",
              "10  261989.605794  \n",
              "11  230199.082385  \n",
              "12  249236.157472  \n",
              "13  266312.715479  \n",
              "14  277116.527148  \n",
              "15  314011.107509  \n",
              "16  312806.401092  \n",
              "17  305280.599414  \n",
              "18  288796.225296  \n",
              "19  307020.883105  \n",
              "20  241547.913040  \n",
              "21  264426.507050  \n",
              "22  255442.997159  "
            ],
            "text/html": [
              "\n",
              "  <div id=\"df-58920ff6-f67e-47c3-bb4a-30a03902f6ce\" class=\"colab-df-container\">\n",
              "    <div>\n",
              "<style scoped>\n",
              "    .dataframe tbody tr th:only-of-type {\n",
              "        vertical-align: middle;\n",
              "    }\n",
              "\n",
              "    .dataframe tbody tr th {\n",
              "        vertical-align: top;\n",
              "    }\n",
              "\n",
              "    .dataframe thead th {\n",
              "        text-align: right;\n",
              "    }\n",
              "</style>\n",
              "<table border=\"1\" class=\"dataframe\">\n",
              "  <thead>\n",
              "    <tr style=\"text-align: right;\">\n",
              "      <th></th>\n",
              "      <th>AÑO</th>\n",
              "      <th>COBRE(TMF)</th>\n",
              "      <th>ORO(KG)</th>\n",
              "      <th>ZINC(TMF)</th>\n",
              "      <th>PLATA(KG)</th>\n",
              "      <th>PLOMO(TMF)</th>\n",
              "    </tr>\n",
              "  </thead>\n",
              "  <tbody>\n",
              "    <tr>\n",
              "      <th>0</th>\n",
              "      <td>2000</td>\n",
              "      <td>5.539240e+05</td>\n",
              "      <td>132585.078000</td>\n",
              "      <td>9.103030e+05</td>\n",
              "      <td>2.437706e+06</td>\n",
              "      <td>270576.000000</td>\n",
              "    </tr>\n",
              "    <tr>\n",
              "      <th>1</th>\n",
              "      <td>2001</td>\n",
              "      <td>7.223553e+05</td>\n",
              "      <td>138522.109261</td>\n",
              "      <td>1.056629e+06</td>\n",
              "      <td>2.571114e+06</td>\n",
              "      <td>289546.066107</td>\n",
              "    </tr>\n",
              "    <tr>\n",
              "      <th>2</th>\n",
              "      <td>2002</td>\n",
              "      <td>8.445529e+05</td>\n",
              "      <td>157529.918536</td>\n",
              "      <td>1.232997e+06</td>\n",
              "      <td>2.869639e+06</td>\n",
              "      <td>305650.719513</td>\n",
              "    </tr>\n",
              "    <tr>\n",
              "      <th>3</th>\n",
              "      <td>2003</td>\n",
              "      <td>8.426051e+05</td>\n",
              "      <td>172624.629844</td>\n",
              "      <td>1.373792e+06</td>\n",
              "      <td>2.923686e+06</td>\n",
              "      <td>309163.882190</td>\n",
              "    </tr>\n",
              "    <tr>\n",
              "      <th>4</th>\n",
              "      <td>2004</td>\n",
              "      <td>1.035574e+06</td>\n",
              "      <td>173223.817386</td>\n",
              "      <td>1.209006e+06</td>\n",
              "      <td>3.059817e+06</td>\n",
              "      <td>306210.777938</td>\n",
              "    </tr>\n",
              "    <tr>\n",
              "      <th>5</th>\n",
              "      <td>2005</td>\n",
              "      <td>1.009899e+06</td>\n",
              "      <td>208001.717819</td>\n",
              "      <td>1.201671e+06</td>\n",
              "      <td>3.205673e+06</td>\n",
              "      <td>319368.000000</td>\n",
              "    </tr>\n",
              "    <tr>\n",
              "      <th>6</th>\n",
              "      <td>2006</td>\n",
              "      <td>1.048472e+06</td>\n",
              "      <td>202825.999000</td>\n",
              "      <td>1.203364e+06</td>\n",
              "      <td>3.470661e+06</td>\n",
              "      <td>313332.000000</td>\n",
              "    </tr>\n",
              "    <tr>\n",
              "      <th>7</th>\n",
              "      <td>2007</td>\n",
              "      <td>1.190274e+06</td>\n",
              "      <td>170235.885180</td>\n",
              "      <td>1.444361e+06</td>\n",
              "      <td>3.501462e+06</td>\n",
              "      <td>329165.000000</td>\n",
              "    </tr>\n",
              "    <tr>\n",
              "      <th>8</th>\n",
              "      <td>2008</td>\n",
              "      <td>1.267867e+06</td>\n",
              "      <td>179870.472996</td>\n",
              "      <td>1.602597e+06</td>\n",
              "      <td>3.685931e+06</td>\n",
              "      <td>345109.270272</td>\n",
              "    </tr>\n",
              "    <tr>\n",
              "      <th>9</th>\n",
              "      <td>2009</td>\n",
              "      <td>1.276249e+06</td>\n",
              "      <td>183994.691508</td>\n",
              "      <td>1.512931e+06</td>\n",
              "      <td>3.922708e+06</td>\n",
              "      <td>302459.112910</td>\n",
              "    </tr>\n",
              "    <tr>\n",
              "      <th>10</th>\n",
              "      <td>2010</td>\n",
              "      <td>1.247184e+06</td>\n",
              "      <td>164084.388901</td>\n",
              "      <td>1.470450e+06</td>\n",
              "      <td>3.640465e+06</td>\n",
              "      <td>261989.605794</td>\n",
              "    </tr>\n",
              "    <tr>\n",
              "      <th>11</th>\n",
              "      <td>2011</td>\n",
              "      <td>1.235345e+06</td>\n",
              "      <td>166186.716982</td>\n",
              "      <td>1.256383e+06</td>\n",
              "      <td>3.418862e+06</td>\n",
              "      <td>230199.082385</td>\n",
              "    </tr>\n",
              "    <tr>\n",
              "      <th>12</th>\n",
              "      <td>2012</td>\n",
              "      <td>1.289917e+06</td>\n",
              "      <td>153780.960261</td>\n",
              "      <td>1.281282e+06</td>\n",
              "      <td>3.452004e+06</td>\n",
              "      <td>249236.157472</td>\n",
              "    </tr>\n",
              "    <tr>\n",
              "      <th>13</th>\n",
              "      <td>2013</td>\n",
              "      <td>1.363453e+06</td>\n",
              "      <td>143716.837420</td>\n",
              "      <td>1.351049e+06</td>\n",
              "      <td>3.648503e+06</td>\n",
              "      <td>266312.715479</td>\n",
              "    </tr>\n",
              "    <tr>\n",
              "      <th>14</th>\n",
              "      <td>2014</td>\n",
              "      <td>1.377374e+06</td>\n",
              "      <td>129946.243443</td>\n",
              "      <td>1.315221e+06</td>\n",
              "      <td>3.738280e+06</td>\n",
              "      <td>277116.527148</td>\n",
              "    </tr>\n",
              "    <tr>\n",
              "      <th>15</th>\n",
              "      <td>2015</td>\n",
              "      <td>1.699940e+06</td>\n",
              "      <td>137378.305795</td>\n",
              "      <td>1.415824e+06</td>\n",
              "      <td>4.071095e+06</td>\n",
              "      <td>314011.107509</td>\n",
              "    </tr>\n",
              "    <tr>\n",
              "      <th>16</th>\n",
              "      <td>2016</td>\n",
              "      <td>2.352960e+06</td>\n",
              "      <td>142230.636693</td>\n",
              "      <td>1.329178e+06</td>\n",
              "      <td>4.329180e+06</td>\n",
              "      <td>312806.401092</td>\n",
              "    </tr>\n",
              "    <tr>\n",
              "      <th>17</th>\n",
              "      <td>2017</td>\n",
              "      <td>2.440181e+06</td>\n",
              "      <td>138425.832762</td>\n",
              "      <td>1.466521e+06</td>\n",
              "      <td>4.318324e+06</td>\n",
              "      <td>305280.599414</td>\n",
              "    </tr>\n",
              "    <tr>\n",
              "      <th>18</th>\n",
              "      <td>2018</td>\n",
              "      <td>2.416881e+06</td>\n",
              "      <td>125933.914437</td>\n",
              "      <td>1.471846e+06</td>\n",
              "      <td>3.999990e+06</td>\n",
              "      <td>288796.225296</td>\n",
              "    </tr>\n",
              "    <tr>\n",
              "      <th>19</th>\n",
              "      <td>2019</td>\n",
              "      <td>2.437925e+06</td>\n",
              "      <td>113586.028971</td>\n",
              "      <td>1.382753e+06</td>\n",
              "      <td>3.706760e+06</td>\n",
              "      <td>307020.883105</td>\n",
              "    </tr>\n",
              "    <tr>\n",
              "      <th>20</th>\n",
              "      <td>2020</td>\n",
              "      <td>2.153952e+06</td>\n",
              "      <td>85172.522941</td>\n",
              "      <td>1.334570e+06</td>\n",
              "      <td>2.768240e+06</td>\n",
              "      <td>241547.913040</td>\n",
              "    </tr>\n",
              "    <tr>\n",
              "      <th>21</th>\n",
              "      <td>2021</td>\n",
              "      <td>2.329886e+06</td>\n",
              "      <td>97189.981930</td>\n",
              "      <td>1.533135e+06</td>\n",
              "      <td>3.375645e+06</td>\n",
              "      <td>264426.507050</td>\n",
              "    </tr>\n",
              "    <tr>\n",
              "      <th>22</th>\n",
              "      <td>2022</td>\n",
              "      <td>2.445110e+06</td>\n",
              "      <td>96739.874550</td>\n",
              "      <td>1.369649e+06</td>\n",
              "      <td>3.083036e+06</td>\n",
              "      <td>255442.997159</td>\n",
              "    </tr>\n",
              "  </tbody>\n",
              "</table>\n",
              "</div>\n",
              "    <div class=\"colab-df-buttons\">\n",
              "\n",
              "  <div class=\"colab-df-container\">\n",
              "    <button class=\"colab-df-convert\" onclick=\"convertToInteractive('df-58920ff6-f67e-47c3-bb4a-30a03902f6ce')\"\n",
              "            title=\"Convert this dataframe to an interactive table.\"\n",
              "            style=\"display:none;\">\n",
              "\n",
              "  <svg xmlns=\"http://www.w3.org/2000/svg\" height=\"24px\" viewBox=\"0 -960 960 960\">\n",
              "    <path d=\"M120-120v-720h720v720H120Zm60-500h600v-160H180v160Zm220 220h160v-160H400v160Zm0 220h160v-160H400v160ZM180-400h160v-160H180v160Zm440 0h160v-160H620v160ZM180-180h160v-160H180v160Zm440 0h160v-160H620v160Z\"/>\n",
              "  </svg>\n",
              "    </button>\n",
              "\n",
              "  <style>\n",
              "    .colab-df-container {\n",
              "      display:flex;\n",
              "      gap: 12px;\n",
              "    }\n",
              "\n",
              "    .colab-df-convert {\n",
              "      background-color: #E8F0FE;\n",
              "      border: none;\n",
              "      border-radius: 50%;\n",
              "      cursor: pointer;\n",
              "      display: none;\n",
              "      fill: #1967D2;\n",
              "      height: 32px;\n",
              "      padding: 0 0 0 0;\n",
              "      width: 32px;\n",
              "    }\n",
              "\n",
              "    .colab-df-convert:hover {\n",
              "      background-color: #E2EBFA;\n",
              "      box-shadow: 0px 1px 2px rgba(60, 64, 67, 0.3), 0px 1px 3px 1px rgba(60, 64, 67, 0.15);\n",
              "      fill: #174EA6;\n",
              "    }\n",
              "\n",
              "    .colab-df-buttons div {\n",
              "      margin-bottom: 4px;\n",
              "    }\n",
              "\n",
              "    [theme=dark] .colab-df-convert {\n",
              "      background-color: #3B4455;\n",
              "      fill: #D2E3FC;\n",
              "    }\n",
              "\n",
              "    [theme=dark] .colab-df-convert:hover {\n",
              "      background-color: #434B5C;\n",
              "      box-shadow: 0px 1px 3px 1px rgba(0, 0, 0, 0.15);\n",
              "      filter: drop-shadow(0px 1px 2px rgba(0, 0, 0, 0.3));\n",
              "      fill: #FFFFFF;\n",
              "    }\n",
              "  </style>\n",
              "\n",
              "    <script>\n",
              "      const buttonEl =\n",
              "        document.querySelector('#df-58920ff6-f67e-47c3-bb4a-30a03902f6ce button.colab-df-convert');\n",
              "      buttonEl.style.display =\n",
              "        google.colab.kernel.accessAllowed ? 'block' : 'none';\n",
              "\n",
              "      async function convertToInteractive(key) {\n",
              "        const element = document.querySelector('#df-58920ff6-f67e-47c3-bb4a-30a03902f6ce');\n",
              "        const dataTable =\n",
              "          await google.colab.kernel.invokeFunction('convertToInteractive',\n",
              "                                                    [key], {});\n",
              "        if (!dataTable) return;\n",
              "\n",
              "        const docLinkHtml = 'Like what you see? Visit the ' +\n",
              "          '<a target=\"_blank\" href=https://colab.research.google.com/notebooks/data_table.ipynb>data table notebook</a>'\n",
              "          + ' to learn more about interactive tables.';\n",
              "        element.innerHTML = '';\n",
              "        dataTable['output_type'] = 'display_data';\n",
              "        await google.colab.output.renderOutput(dataTable, element);\n",
              "        const docLink = document.createElement('div');\n",
              "        docLink.innerHTML = docLinkHtml;\n",
              "        element.appendChild(docLink);\n",
              "      }\n",
              "    </script>\n",
              "  </div>\n",
              "\n",
              "\n",
              "<div id=\"df-b886bd01-37f3-453f-880b-66fddcdcb432\">\n",
              "  <button class=\"colab-df-quickchart\" onclick=\"quickchart('df-b886bd01-37f3-453f-880b-66fddcdcb432')\"\n",
              "            title=\"Suggest charts\"\n",
              "            style=\"display:none;\">\n",
              "\n",
              "<svg xmlns=\"http://www.w3.org/2000/svg\" height=\"24px\"viewBox=\"0 0 24 24\"\n",
              "     width=\"24px\">\n",
              "    <g>\n",
              "        <path d=\"M19 3H5c-1.1 0-2 .9-2 2v14c0 1.1.9 2 2 2h14c1.1 0 2-.9 2-2V5c0-1.1-.9-2-2-2zM9 17H7v-7h2v7zm4 0h-2V7h2v10zm4 0h-2v-4h2v4z\"/>\n",
              "    </g>\n",
              "</svg>\n",
              "  </button>\n",
              "\n",
              "<style>\n",
              "  .colab-df-quickchart {\n",
              "      --bg-color: #E8F0FE;\n",
              "      --fill-color: #1967D2;\n",
              "      --hover-bg-color: #E2EBFA;\n",
              "      --hover-fill-color: #174EA6;\n",
              "      --disabled-fill-color: #AAA;\n",
              "      --disabled-bg-color: #DDD;\n",
              "  }\n",
              "\n",
              "  [theme=dark] .colab-df-quickchart {\n",
              "      --bg-color: #3B4455;\n",
              "      --fill-color: #D2E3FC;\n",
              "      --hover-bg-color: #434B5C;\n",
              "      --hover-fill-color: #FFFFFF;\n",
              "      --disabled-bg-color: #3B4455;\n",
              "      --disabled-fill-color: #666;\n",
              "  }\n",
              "\n",
              "  .colab-df-quickchart {\n",
              "    background-color: var(--bg-color);\n",
              "    border: none;\n",
              "    border-radius: 50%;\n",
              "    cursor: pointer;\n",
              "    display: none;\n",
              "    fill: var(--fill-color);\n",
              "    height: 32px;\n",
              "    padding: 0;\n",
              "    width: 32px;\n",
              "  }\n",
              "\n",
              "  .colab-df-quickchart:hover {\n",
              "    background-color: var(--hover-bg-color);\n",
              "    box-shadow: 0 1px 2px rgba(60, 64, 67, 0.3), 0 1px 3px 1px rgba(60, 64, 67, 0.15);\n",
              "    fill: var(--button-hover-fill-color);\n",
              "  }\n",
              "\n",
              "  .colab-df-quickchart-complete:disabled,\n",
              "  .colab-df-quickchart-complete:disabled:hover {\n",
              "    background-color: var(--disabled-bg-color);\n",
              "    fill: var(--disabled-fill-color);\n",
              "    box-shadow: none;\n",
              "  }\n",
              "\n",
              "  .colab-df-spinner {\n",
              "    border: 2px solid var(--fill-color);\n",
              "    border-color: transparent;\n",
              "    border-bottom-color: var(--fill-color);\n",
              "    animation:\n",
              "      spin 1s steps(1) infinite;\n",
              "  }\n",
              "\n",
              "  @keyframes spin {\n",
              "    0% {\n",
              "      border-color: transparent;\n",
              "      border-bottom-color: var(--fill-color);\n",
              "      border-left-color: var(--fill-color);\n",
              "    }\n",
              "    20% {\n",
              "      border-color: transparent;\n",
              "      border-left-color: var(--fill-color);\n",
              "      border-top-color: var(--fill-color);\n",
              "    }\n",
              "    30% {\n",
              "      border-color: transparent;\n",
              "      border-left-color: var(--fill-color);\n",
              "      border-top-color: var(--fill-color);\n",
              "      border-right-color: var(--fill-color);\n",
              "    }\n",
              "    40% {\n",
              "      border-color: transparent;\n",
              "      border-right-color: var(--fill-color);\n",
              "      border-top-color: var(--fill-color);\n",
              "    }\n",
              "    60% {\n",
              "      border-color: transparent;\n",
              "      border-right-color: var(--fill-color);\n",
              "    }\n",
              "    80% {\n",
              "      border-color: transparent;\n",
              "      border-right-color: var(--fill-color);\n",
              "      border-bottom-color: var(--fill-color);\n",
              "    }\n",
              "    90% {\n",
              "      border-color: transparent;\n",
              "      border-bottom-color: var(--fill-color);\n",
              "    }\n",
              "  }\n",
              "</style>\n",
              "\n",
              "  <script>\n",
              "    async function quickchart(key) {\n",
              "      const quickchartButtonEl =\n",
              "        document.querySelector('#' + key + ' button');\n",
              "      quickchartButtonEl.disabled = true;  // To prevent multiple clicks.\n",
              "      quickchartButtonEl.classList.add('colab-df-spinner');\n",
              "      try {\n",
              "        const charts = await google.colab.kernel.invokeFunction(\n",
              "            'suggestCharts', [key], {});\n",
              "      } catch (error) {\n",
              "        console.error('Error during call to suggestCharts:', error);\n",
              "      }\n",
              "      quickchartButtonEl.classList.remove('colab-df-spinner');\n",
              "      quickchartButtonEl.classList.add('colab-df-quickchart-complete');\n",
              "    }\n",
              "    (() => {\n",
              "      let quickchartButtonEl =\n",
              "        document.querySelector('#df-b886bd01-37f3-453f-880b-66fddcdcb432 button');\n",
              "      quickchartButtonEl.style.display =\n",
              "        google.colab.kernel.accessAllowed ? 'block' : 'none';\n",
              "    })();\n",
              "  </script>\n",
              "</div>\n",
              "    </div>\n",
              "  </div>\n"
            ],
            "application/vnd.google.colaboratory.intrinsic+json": {
              "type": "dataframe",
              "variable_name": "df",
              "summary": "{\n  \"name\": \"df\",\n  \"rows\": 23,\n  \"fields\": [\n    {\n      \"column\": \"A\\u00d1O\",\n      \"properties\": {\n        \"dtype\": \"number\",\n        \"std\": 6,\n        \"min\": 2000,\n        \"max\": 2022,\n        \"num_unique_values\": 23,\n        \"samples\": [\n          2015,\n          2009,\n          2000\n        ],\n        \"semantic_type\": \"\",\n        \"description\": \"\"\n      }\n    },\n    {\n      \"column\": \"COBRE(TMF)\",\n      \"properties\": {\n        \"dtype\": \"number\",\n        \"std\": 632963.0904792288,\n        \"min\": 553924.0,\n        \"max\": 2445109.5998743977,\n        \"num_unique_values\": 23,\n        \"samples\": [\n          1699939.7432781935,\n          1276249.2028350001,\n          553924.0\n        ],\n        \"semantic_type\": \"\",\n        \"description\": \"\"\n      }\n    },\n    {\n      \"column\": \"ORO(KG)\",\n      \"properties\": {\n        \"dtype\": \"number\",\n        \"std\": 32404.626679538753,\n        \"min\": 85172.52294087617,\n        \"max\": 208001.717818768,\n        \"num_unique_values\": 23,\n        \"samples\": [\n          137378.3057952458,\n          183994.69150778203,\n          132585.078\n        ],\n        \"semantic_type\": \"\",\n        \"description\": \"\"\n      }\n    },\n    {\n      \"column\": \"ZINC(TMF)\",\n      \"properties\": {\n        \"dtype\": \"number\",\n        \"std\": 158019.9829804747,\n        \"min\": 910303.0,\n        \"max\": 1602597.0080209996,\n        \"num_unique_values\": 23,\n        \"samples\": [\n          1415823.5863843863,\n          1512931.0674319996,\n          910303.0\n        ],\n        \"semantic_type\": \"\",\n        \"description\": \"\"\n      }\n    },\n    {\n      \"column\": \"PLATA(KG)\",\n      \"properties\": {\n        \"dtype\": \"number\",\n        \"std\": 520052.73975130153,\n        \"min\": 2437706.0,\n        \"max\": 4329179.762906653,\n        \"num_unique_values\": 23,\n        \"samples\": [\n          4071094.924427138,\n          3922708.3963299994,\n          2437706.0\n        ],\n        \"semantic_type\": \"\",\n        \"description\": \"\"\n      }\n    },\n    {\n      \"column\": \"PLOMO(TMF)\",\n      \"properties\": {\n        \"dtype\": \"number\",\n        \"std\": 30114.121210080986,\n        \"min\": 230199.0823850002,\n        \"max\": 345109.270272,\n        \"num_unique_values\": 23,\n        \"samples\": [\n          314011.10750861233,\n          302459.11290999997,\n          270576.0\n        ],\n        \"semantic_type\": \"\",\n        \"description\": \"\"\n      }\n    }\n  ]\n}"
            }
          },
          "metadata": {},
          "execution_count": 2
        }
      ]
    },
    {
      "cell_type": "markdown",
      "source": [
        "1.1 ¿Cuánto es el promedio anual de toneladas extraídas\n",
        "de cobre y plata?"
      ],
      "metadata": {
        "id": "GuDxvjHsiwFI"
      }
    },
    {
      "cell_type": "code",
      "source": [
        "# Lista los años del dataframe\n",
        "anhos_unicos = df['AÑO']\n",
        "print(anhos_unicos)\n",
        "\n",
        "# Calcula el promedio anual de toneladas extraídas de oro y cobre\n",
        "promedio_oro = df['ORO(KG)'].mean()\n",
        "promedio_plata =  ### Completar\n",
        "\n",
        "print(\"El promedio anual de toneladas extraídas de oro es:\", promedio_oro)\n",
        "print(\"El promedio anual de toneladas extraídas de plata es:\", promedio_plata)\n",
        "\n"
      ],
      "metadata": {
        "id": "Pp76p23LivRS",
        "colab": {
          "base_uri": "https://localhost:8080/"
        },
        "outputId": "ce6bf3aa-b3df-40f0-9e45-15557443e317"
      },
      "execution_count": null,
      "outputs": [
        {
          "output_type": "stream",
          "name": "stdout",
          "text": [
            "0     2000\n",
            "1     2001\n",
            "2     2002\n",
            "3     2003\n",
            "4     2004\n",
            "5     2005\n",
            "6     2006\n",
            "7     2007\n",
            "8     2008\n",
            "9     2009\n",
            "10    2010\n",
            "11    2011\n",
            "12    2012\n",
            "13    2013\n",
            "14    2014\n",
            "15    2015\n",
            "16    2016\n",
            "17    2017\n",
            "18    2018\n",
            "19    2019\n",
            "20    2020\n",
            "21    2021\n",
            "22    2022\n",
            "Name: AÑO, dtype: int64\n",
            "El promedio anual de toneladas extraídas de oro es: 148425.50280930995\n",
            "El promedio anual de toneladas extraídas de oro es: 1503559.9711736946\n"
          ]
        }
      ]
    },
    {
      "cell_type": "markdown",
      "source": [
        "1.2 ¿Cuánto es la cantidad máxima anual extraída de zinc y plata?"
      ],
      "metadata": {
        "id": "dId2lsrSlAZL"
      }
    },
    {
      "cell_type": "code",
      "source": [
        "# Encontrar la cantidad máxima anual extraída de cobre y zinc\n",
        "\n",
        "maxima_cobre =  df['COBRE(TMF)'].max()\n",
        "maxima_zinc =  ### Completar\n",
        "\n",
        "print(\"La cantidad máxima anual extraída de cobre es:\", maxima_cobre, \"TMF\")\n",
        "print(\"La cantidad máxima anual extraída de zinc es:\", maxima_zinc, \"TMF\")"
      ],
      "metadata": {
        "id": "Lv0_mIxOk4EH"
      },
      "execution_count": null,
      "outputs": []
    },
    {
      "cell_type": "markdown",
      "source": [
        "1.3 En el año 2020, ¿cuál fue el material que se extrajo en la **menor** cantidad en **kilogramos** (KG)?"
      ],
      "metadata": {
        "id": "N7wSwWL0mNDV"
      }
    },
    {
      "cell_type": "code",
      "source": [
        "# Filtrar los datos para el año 2020\n",
        "datos_2020 = df[df['AÑO'] == 2020]\n",
        "\n",
        "# Obtener las columnas de materiales KG\n",
        "materiales_kg = [ ### Completar ]   # lista de nombres de materiales que usan KG, ej. ['material 1 ', 'material 2']\n",
        "\n",
        "# Encontrar el material con la menor cantidad extraída en el año 2020\n",
        "material_menor_cantidad = min(materiales_kg, key=lambda material: datos_2020[material].iloc[0])\n",
        "\n",
        "print(\"En el año 2020, el material que se extrajo en la menor cantidad en kilogramos fue:\", material_menor_cantidad)\n"
      ],
      "metadata": {
        "id": "Jb8UJmnlm241"
      },
      "execution_count": null,
      "outputs": []
    },
    {
      "cell_type": "markdown",
      "source": [
        "1.4 En el año 2017, ¿cuál fue el material que se extrajo en **mayor** cantidad en TMF?"
      ],
      "metadata": {
        "id": "bEyyvMYJn6Rf"
      }
    },
    {
      "cell_type": "code",
      "source": [
        "# Filtrar los datos para el año 2017\n",
        "datos_2017 = ### Completar\n",
        "\n",
        "# Obtener las columnas de materiales TMF\n",
        "materiales_tmf = [ ### Completar ]   # lista de nombres de materiales que usan TMF, ej. ['material 1 ', 'material 2']\n",
        "\n",
        "# Encontrar el material con la MAYOR cantidad extraída en el año 2017\n",
        "material_mayor_cantidad = max( ### Completar )\n",
        "\n",
        "print(\"En el año 2020, el material que se extrajo en la menor cantidad en kilogramos fue:\", material_mayor_cantidad)\n"
      ],
      "metadata": {
        "id": "FOIlieQEn5w-"
      },
      "execution_count": null,
      "outputs": []
    },
    {
      "cell_type": "markdown",
      "source": [
        "1.5 Dado un conjunto de datos que registra la cantidad total de distintos metales extraídos en una región durante varios años, analiza la correlación entre la extracción de cada par de metales (cobre, oro, zinc, plata y plomo). Consejo: Usar `corr()`.\n"
      ],
      "metadata": {
        "id": "Q_xco-spcIGS"
      }
    },
    {
      "cell_type": "code",
      "source": [
        "import pandas as pd\n",
        "import seaborn as sns\n",
        "import matplotlib.pyplot as plt\n",
        "\n",
        "# Suponiendo que tienes un DataFrame llamado df con las columnas COBRE(TMF), ORO(KG), ZINC(TMF), PLATA(KG) y PLOMO(TMF)\n",
        "\n",
        "# Seleccionar las columnas relevantes para el análisis de correlación\n",
        "datos_metales = df[['COBRE(TMF)', 'ORO(KG)', 'ZINC(TMF)', 'PLATA(KG)', 'PLOMO(TMF)']]\n",
        "\n",
        "# Calcular la matriz de correlación\n",
        "matriz_correlacion = ### Completar\n",
        "\n",
        "# Visualizar la matriz de correlación utilizando un mapa de calor\n",
        "plt.figure(figsize=(10, 8))\n",
        "sns.heatmap(matriz_correlacion, annot=True, cmap='coolwarm', fmt=\".2f\", linewidths=.5)\n",
        "plt.title('Matriz de correlación entre la extracción de diferentes metales')\n",
        "plt.show()\n"
      ],
      "metadata": {
        "colab": {
          "base_uri": "https://localhost:8080/",
          "height": 699
        },
        "id": "8w4dw813cHxH",
        "outputId": "7a5b7a2a-5fae-44e3-e53f-39694ca1bf8a"
      },
      "execution_count": null,
      "outputs": [
        {
          "output_type": "display_data",
          "data": {
            "text/plain": [
              "<Figure size 1000x800 with 2 Axes>"
            ],
            "image/png": "[encoded data removed]"
          },
          "metadata": {}
        }
      ]
    },
    {
      "cell_type": "markdown",
      "source": [
        "1.6  Calcula los quantiles superior e inferior para la cantidad de oro extraído."
      ],
      "metadata": {
        "id": "R2kWfbJmdKce"
      }
    },
    {
      "cell_type": "code",
      "source": [
        "import pandas as pd\n",
        "\n",
        "\n",
        "# Seleccionar la columna relevante para el análisis\n",
        "oro_extraido = df['ORO(KG)']\n",
        "\n",
        "# Calcular el quantil superior e inferior para la cantidad de oro extraído\n",
        "quantil_superior = oro_extraido.quantile(0.75)  # 0.75\n",
        "quantil_inferior = ### Completar                # 0.25\n",
        "\n",
        "# Mostrar los resultados\n",
        "print(\"Quantil superior para la cantidad de oro extraído:\", quantil_superior)\n",
        "print(\"Quantil inferior para la cantidad de oro extraído:\", quantil_inferior)\n"
      ],
      "metadata": {
        "colab": {
          "base_uri": "https://localhost:8080/"
        },
        "id": "Gffk_7FsdKxi",
        "outputId": "ee778642-f378-473c-d0d5-8b30b80cf8f3"
      },
      "execution_count": null,
      "outputs": [
        {
          "output_type": "stream",
          "name": "stdout",
          "text": [
            "Quantil superior para la cantidad de oro extraído: 171430.25751195467\n",
            "Quantil inferior para la cantidad de oro extraído: 131265.66072140748\n"
          ]
        }
      ]
    },
    {
      "cell_type": "markdown",
      "source": [
        "## Ejercicio 2"
      ],
      "metadata": {
        "id": "e-W-XkqHjy_k"
      }
    },
    {
      "cell_type": "code",
      "source": [
        "from IPython.display import display\n",
        "import pandas as pd\n",
        "import numpy as np\n",
        "import xml.etree.ElementTree as ET\n",
        "\n",
        "# Lee el archivo .xlsx\n",
        "df = pd.read_excel(PATH + \"Ejercicio-Grupal-Clase1.xlsx\")\n",
        "\n",
        "# Muestra las primeras filas del DataFrame para verificar que se haya cargado correctamente\n",
        "print(df.head())"
      ],
      "metadata": {
        "colab": {
          "base_uri": "https://localhost:8080/"
        },
        "id": "5jmojZgreS1w",
        "outputId": "4cbb2e8c-de8a-4bc9-89b0-ebd49bb081fe"
      },
      "execution_count": null,
      "outputs": [
        {
          "output_type": "stream",
          "name": "stdout",
          "text": [
            "    año   claro   entel  movistar\n",
            "0  2005   41061   50385    534980\n",
            "1  2006  198368   67569    722162\n",
            "2  2007  343607  113312   1001873\n",
            "3  2008  582130  170296   1409850\n",
            "4  2009  771496  168040   1781214\n"
          ]
        }
      ]
    },
    {
      "cell_type": "markdown",
      "source": [
        "2.1 ¿Cuánto es el promedio anual de líneas telefónicas por empresa?\n"
      ],
      "metadata": {
        "id": "KMzcRv1_kSHC"
      }
    },
    {
      "cell_type": "code",
      "source": [
        "# Suponiendo que tienes un DataFrame llamado df con las columnas año, claro, entel y movistar\n",
        "\n",
        "# Calcula el promedio anual de líneas telefónicas por empresa\n",
        "promedio_claro = ### Completar\n",
        "promedio_entel = ### Completar\n",
        "promedio_movistar = ### Completar\n",
        "\n",
        "# Imprime los resultados\n",
        "print(\"Promedio anual de líneas telefónicas de Claro:\", promedio_claro)\n",
        "print(\"Promedio anual de líneas telefónicas de Entel:\", promedio_entel)\n",
        "print(\"Promedio anual de líneas telefónicas de Movistar:\", promedio_movistar)\n"
      ],
      "metadata": {
        "id": "l7YdwPf6kdb7"
      },
      "execution_count": null,
      "outputs": []
    },
    {
      "cell_type": "markdown",
      "source": [
        "2.2 Realice un gráfico de Pizza (Pie chart) de las empresas de telefonía"
      ],
      "metadata": {
        "id": "wGhqtmDzeAJE"
      }
    },
    {
      "cell_type": "code",
      "execution_count": null,
      "metadata": {
        "id": "guI6XAAZd6Jw",
        "colab": {
          "base_uri": "https://localhost:8080/",
          "height": 753
        },
        "outputId": "ca2e2bf5-0079-4936-96cd-a4348a5552a3"
      },
      "outputs": [
        {
          "output_type": "stream",
          "name": "stdout",
          "text": [
            "claro       30332209\n",
            "entel        1881138\n",
            "movistar    53179003\n",
            "dtype: int64\n"
          ]
        },
        {
          "output_type": "display_data",
          "data": {
            "text/plain": [
              "<Figure size 800x800 with 1 Axes>"
            ],
            "image/png": "[encoded data removed]"
          },
          "metadata": {}
        }
      ],
      "source": [
        "import matplotlib.pyplot as plt\n",
        "\n",
        "# Seleccionar las columnas relevantes\n",
        "datos_empresas = df[['claro', 'entel', 'movistar']]\n",
        "\n",
        "# Calcular el total anual de líneas telefónicas por empresa\n",
        "total_por_empresa = datos_empresas.sum()\n",
        "print(total_por_empresa)\n",
        "\n",
        "# Crear el gráfico de pastel\n",
        "plt.figure(figsize=(8, 8))\n",
        "plt.pie(total_por_empresa, labels=total_por_empresa.index, autopct='%1.1f%%', startangle=140)\n",
        "plt.title('Distribución de líneas telefónicas por empresa')\n",
        "plt.axis('equal')  # Equal aspect ratio asegura que el pie chart sea un circulo\n",
        "plt.show()\n"
      ]
    },
    {
      "cell_type": "markdown",
      "source": [
        "2.3 ¿Cuál es empresa presentó la **mayor** y la **menor** cantidad de líneas telefónicas ?"
      ],
      "metadata": {
        "id": "4P0CiFI-fQwZ"
      }
    },
    {
      "cell_type": "code",
      "source": [
        "# Seleccionar las columnas relevantes\n",
        "datos_empresas = df[['claro', 'entel', 'movistar']]\n",
        "\n",
        "# Calcular la suma total de líneas telefónicas para cada empresa\n",
        "total_por_empresa = ### Completar\n",
        "\n",
        "# Encontrar la empresa con la mayor cantidad de líneas telefónicas\n",
        "empresa_maxima = total_por_empresa.idxmax()\n",
        "cantidad_maxima = total_por_empresa.max()\n",
        "\n",
        "\n",
        "# Encontrar la empresa con la menor cantidad de líneas telefónicas\n",
        "empresa_minima = ### Completar\n",
        "cantidad_minima = ### Completar\n",
        "\n",
        "print(\"La empresa con la mayor cantidad de líneas telefónicas es:\", empresa_maxima)\n",
        "print(\"Cantidad total de líneas telefónicas:\", cantidad_maxima, '\\n')\n",
        "\n",
        "\n",
        "print(\"La empresa con la menor cantidad de líneas telefónicas es:\", empresa_minima)\n",
        "print(\"Cantidad total de líneas telefónicas:\", cantidad_minima)\n"
      ],
      "metadata": {
        "id": "rnlFaS2PfReE"
      },
      "execution_count": null,
      "outputs": []
    },
    {
      "cell_type": "markdown",
      "source": [
        "\n",
        "2.4  Calcula la moda del número de líneas telefónicas para cada empresa a lo largo de los años.\n"
      ],
      "metadata": {
        "id": "aKnHeHaMaRqT"
      }
    },
    {
      "cell_type": "code",
      "source": [
        "# Seleccionar las columnas relevantes\n",
        "columnas_empresas = [\"claro\", \"entel\", \"movistar\"]\n",
        "datos_empresas = df[columnas_empresas]\n",
        "\n",
        "# Calcular la moda para cada empresa\n",
        "moda_empresas = ### Completar\n",
        "\n",
        "print(\"Moda del número de líneas telefónicas para cada empresa:\")\n",
        "print(moda_empresas)\n"
      ],
      "metadata": {
        "colab": {
          "base_uri": "https://localhost:8080/"
        },
        "id": "3LqfEh87aUqj",
        "outputId": "2c7749a0-faa5-4c2f-d9ed-eb926d2cf3e9"
      },
      "execution_count": null,
      "outputs": [
        {
          "output_type": "stream",
          "name": "stdout",
          "text": [
            "Moda del número de líneas telefónicas para cada empresa:\n",
            "      claro   entel  movistar\n",
            "0     41061   44294    534980\n",
            "1    198368   50385    722162\n",
            "2    343607   53113   1001873\n",
            "3    399949   59279   1123464\n",
            "4    434509   66026   1285585\n",
            "5    438592   67569   1378460\n",
            "6    470036   67667   1409850\n",
            "7    582130   71857   1781214\n",
            "8    771496   89342   1785948\n",
            "9    996318  107356   2779636\n",
            "10  1573924  107588   3662579\n",
            "11  2252225  113312   4089786\n",
            "12  2558617  127181   4667284\n",
            "13  3099066  130374   4976143\n",
            "14  3695736  131288   5451872\n",
            "15  3937604  168040   5465928\n",
            "16  4239353  170296   5517822\n",
            "17  4299618  256171   5544417\n"
          ]
        }
      ]
    },
    {
      "cell_type": "code",
      "source": [
        "plt.figure(figsize=(8, 6))\n",
        "columnas_empresas = [\"claro\", \"entel\", \"movistar\"]\n",
        "plt.plot(df[\"año\"],df[columnas_empresas], marker='o', linestyle='-', label=columnas_empresas)\n",
        "\n",
        "plt.xlabel(\"Años\")\n",
        "plt.ylabel(\"Cantidad de líneas telefónicas\")\n",
        "plt.title(\"número de líneas telefónicas para cada empresa\")\n",
        "plt.grid(True)\n",
        "plt.legend()"
      ],
      "metadata": {
        "id": "yB6dxe1V9I6p"
      },
      "execution_count": null,
      "outputs": []
    },
    {
      "cell_type": "markdown",
      "source": [
        "2.5 Calcula la desviación estándar std() de las líneas telefónicas **para cada empresa **(Claro, Entel y Movistar) a lo largo de los años en la base de datos proporcionada.\n",
        "\n"
      ],
      "metadata": {
        "id": "ue9zrBf2ZQy6"
      }
    },
    {
      "cell_type": "code",
      "source": [
        "import pandas as pd\n",
        "\n",
        "# Seleccionar las columnas relevantes\n",
        "columnas_empresas = [\"claro\", \"entel\", \"movistar\"]\n",
        "datos_empresas = df[columnas_empresas]\n",
        "\n",
        "# Calcular la desviación estándar para cada empresa\n",
        "desviacion_estandar_empresas = ### Completar\n",
        "\n",
        "print(\"Desviación estándar del número de líneas telefónicas para cada empresa:\")\n",
        "print(desviacion_estandar_empresas)\n"
      ],
      "metadata": {
        "id": "YlWnBA8qgbwA",
        "colab": {
          "base_uri": "https://localhost:8080/"
        },
        "outputId": "4df632dd-726e-4587-e25f-f510f44217dc"
      },
      "execution_count": null,
      "outputs": [
        {
          "output_type": "stream",
          "name": "stdout",
          "text": [
            "Desviación estándar del número de líneas telefónicas para cada empresa:\n",
            "claro       1.554063e+06\n",
            "entel       5.428805e+04\n",
            "movistar    1.926045e+06\n",
            "dtype: float64\n"
          ]
        }
      ]
    }
  ]
}