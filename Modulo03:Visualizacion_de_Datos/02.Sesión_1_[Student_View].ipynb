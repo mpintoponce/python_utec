{
  "nbformat": 4,
  "nbformat_minor": 0,
  "metadata": {
    "colab": {
      "provenance": [],
      "include_colab_link": true
    },
    "kernelspec": {
      "name": "python3",
      "display_name": "Python 3"
    },
    "language_info": {
      "name": "python"
    }
  },
  "cells": [
    {
      "cell_type": "markdown",
      "metadata": {
        "id": "view-in-github",
        "colab_type": "text"
      },
      "source": [
        "<a href=\"https://colab.research.google.com/github/mpintoponce/python_utec/blob/main/Modulo03%3AVisualizacion_de_Datos/02.Sesio%CC%81n_1_%5BStudent_View%5D.ipynb\" target=\"_parent\"><img src=\"https://colab.research.google.com/assets/colab-badge.svg\" alt=\"Open In Colab\"/></a>"
      ]
    },
    {
      "cell_type": "markdown",
      "source": [
        "![picture](https://drive.google.com/uc?export=view&id=1KaUW3_JAieeY7WVNfoRiTSr2JsaeAcXi)"
      ],
      "metadata": {
        "id": "mjPS1Pq-cHY1"
      }
    },
    {
      "cell_type": "markdown",
      "source": [
        "![image.png](data:image/png;base64,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)"
      ],
      "metadata": {
        "id": "Ukz8PhLGeTAc"
      }
    },
    {
      "cell_type": "markdown",
      "source": [
        "# **<font color='lightcoral'>Módulo 3 - Sesión 1 </font>**\n",
        "## <font color='#80b1d3'> Profesor: Germain Garcia Zanabria</font>\n",
        "\n",
        "### Indicaciones\n",
        "\n",
        "Completa las secciones de código en las que se indique `### Completar`. Siga las instrucciones y proporcione la implementación adecuada en cada caso. Si necesitas ayuda o tienes alguna pregunta, no dudes en levantar la mano para que pueda asistirte.\n",
        "\n",
        "# Archivos a usar:\n",
        "- Metales.xlsx\n",
        "- Ejercicio-Grupal-Clase1.xlsx"
      ],
      "metadata": {
        "id": "-IJQbZ1meirl"
      }
    },
    {
      "cell_type": "code",
      "source": [
        "# Conectar con Google Drive\n",
        "\n",
        "try:\n",
        "    from google.colab import drive\n",
        "    drive.mount('/content/drive')\n",
        "    PATH = '/content/drive/MyDrive/'    # Cambiar a: '/content/drive/MyDrive/'\n",
        "except:\n",
        "    PATH = '../'"
      ],
      "metadata": {
        "colab": {
          "base_uri": "https://localhost:8080/"
        },
        "id": "RNmXV3cTegRl",
        "outputId": "4e09bdb5-2e00-4fbb-8947-16c9460bc8bc"
      },
      "execution_count": null,
      "outputs": [
        {
          "output_type": "stream",
          "name": "stdout",
          "text": [
            "Mounted at /content/drive\n"
          ]
        }
      ]
    },
    {
      "cell_type": "code",
      "source": [
        "# Instala pandas si aún no está instalado\n",
        "# !pip install pandas"
      ],
      "metadata": {
        "id": "SkBhs2tMjmkl"
      },
      "execution_count": null,
      "outputs": []
    },
    {
      "cell_type": "markdown",
      "source": [
        "## Ejercicio 1\n",
        " Dada la base de datos de Metales, responda las preguntas que siguen:"
      ],
      "metadata": {
        "id": "U6uhbCtbhsOu"
      }
    },
    {
      "cell_type": "code",
      "source": [
        "from IPython.display import display\n",
        "import pandas as pd\n",
        "import numpy as np\n",
        "import xml.etree.ElementTree as ET\n",
        "\n",
        "# Lee el archivo .xlsx\n",
        "#df = pd.read_excel(PATH + \"Metales.xlsx\")\n",
        "df = pd.read_excel(\"Metales.xlsx\") # Siempre y cuando hayamos subido el archivo metales al Google Colabs.\n",
        "\n",
        "df.head()  # Muestra solo los 5 primeros elementos del dataframe\n",
        "#df.tail() # Muestra los 5 últimos elementos del dataframe\n",
        "#df"
      ],
      "metadata": {
        "id": "-Gn0mjyWjyq5",
        "colab": {
          "base_uri": "https://localhost:8080/",
          "height": 201
        },
        "outputId": "a22d57be-dd84-4b81-aabf-a38220f47b2c"
      },
      "execution_count": 4,
      "outputs": [
        {
          "output_type": "execute_result",
          "data": {
            "text/plain": [
              "    AÑO    COBRE(TMF)        ORO(KG)     ZINC(TMF)     PLATA(KG)  \\\n",
              "0  2000  5.539240e+05  132585.078000  9.103030e+05  2.437706e+06   \n",
              "1  2001  7.223553e+05  138522.109261  1.056629e+06  2.571114e+06   \n",
              "2  2002  8.445529e+05  157529.918536  1.232997e+06  2.869639e+06   \n",
              "3  2003  8.426051e+05  172624.629844  1.373792e+06  2.923686e+06   \n",
              "4  2004  1.035574e+06  173223.817386  1.209006e+06  3.059817e+06   \n",
              "\n",
              "      PLOMO(TMF)  \n",
              "0  270576.000000  \n",
              "1  289546.066107  \n",
              "2  305650.719513  \n",
              "3  309163.882190  \n",
              "4  306210.777938  "
            ],
            "text/html": [
              "\n",
              "  <div id=\"df-15a6906e-8b32-435f-9ce8-bb3d66584ebc\" class=\"colab-df-container\">\n",
              "    <div>\n",
              "<style scoped>\n",
              "    .dataframe tbody tr th:only-of-type {\n",
              "        vertical-align: middle;\n",
              "    }\n",
              "\n",
              "    .dataframe tbody tr th {\n",
              "        vertical-align: top;\n",
              "    }\n",
              "\n",
              "    .dataframe thead th {\n",
              "        text-align: right;\n",
              "    }\n",
              "</style>\n",
              "<table border=\"1\" class=\"dataframe\">\n",
              "  <thead>\n",
              "    <tr style=\"text-align: right;\">\n",
              "      <th></th>\n",
              "      <th>AÑO</th>\n",
              "      <th>COBRE(TMF)</th>\n",
              "      <th>ORO(KG)</th>\n",
              "      <th>ZINC(TMF)</th>\n",
              "      <th>PLATA(KG)</th>\n",
              "      <th>PLOMO(TMF)</th>\n",
              "    </tr>\n",
              "  </thead>\n",
              "  <tbody>\n",
              "    <tr>\n",
              "      <th>0</th>\n",
              "      <td>2000</td>\n",
              "      <td>5.539240e+05</td>\n",
              "      <td>132585.078000</td>\n",
              "      <td>9.103030e+05</td>\n",
              "      <td>2.437706e+06</td>\n",
              "      <td>270576.000000</td>\n",
              "    </tr>\n",
              "    <tr>\n",
              "      <th>1</th>\n",
              "      <td>2001</td>\n",
              "      <td>7.223553e+05</td>\n",
              "      <td>138522.109261</td>\n",
              "      <td>1.056629e+06</td>\n",
              "      <td>2.571114e+06</td>\n",
              "      <td>289546.066107</td>\n",
              "    </tr>\n",
              "    <tr>\n",
              "      <th>2</th>\n",
              "      <td>2002</td>\n",
              "      <td>8.445529e+05</td>\n",
              "      <td>157529.918536</td>\n",
              "      <td>1.232997e+06</td>\n",
              "      <td>2.869639e+06</td>\n",
              "      <td>305650.719513</td>\n",
              "    </tr>\n",
              "    <tr>\n",
              "      <th>3</th>\n",
              "      <td>2003</td>\n",
              "      <td>8.426051e+05</td>\n",
              "      <td>172624.629844</td>\n",
              "      <td>1.373792e+06</td>\n",
              "      <td>2.923686e+06</td>\n",
              "      <td>309163.882190</td>\n",
              "    </tr>\n",
              "    <tr>\n",
              "      <th>4</th>\n",
              "      <td>2004</td>\n",
              "      <td>1.035574e+06</td>\n",
              "      <td>173223.817386</td>\n",
              "      <td>1.209006e+06</td>\n",
              "      <td>3.059817e+06</td>\n",
              "      <td>306210.777938</td>\n",
              "    </tr>\n",
              "  </tbody>\n",
              "</table>\n",
              "</div>\n",
              "    <div class=\"colab-df-buttons\">\n",
              "\n",
              "  <div class=\"colab-df-container\">\n",
              "    <button class=\"colab-df-convert\" onclick=\"convertToInteractive('df-15a6906e-8b32-435f-9ce8-bb3d66584ebc')\"\n",
              "            title=\"Convert this dataframe to an interactive table.\"\n",
              "            style=\"display:none;\">\n",
              "\n",
              "  <svg xmlns=\"http://www.w3.org/2000/svg\" height=\"24px\" viewBox=\"0 -960 960 960\">\n",
              "    <path d=\"M120-120v-720h720v720H120Zm60-500h600v-160H180v160Zm220 220h160v-160H400v160Zm0 220h160v-160H400v160ZM180-400h160v-160H180v160Zm440 0h160v-160H620v160ZM180-180h160v-160H180v160Zm440 0h160v-160H620v160Z\"/>\n",
              "  </svg>\n",
              "    </button>\n",
              "\n",
              "  <style>\n",
              "    .colab-df-container {\n",
              "      display:flex;\n",
              "      gap: 12px;\n",
              "    }\n",
              "\n",
              "    .colab-df-convert {\n",
              "      background-color: #E8F0FE;\n",
              "      border: none;\n",
              "      border-radius: 50%;\n",
              "      cursor: pointer;\n",
              "      display: none;\n",
              "      fill: #1967D2;\n",
              "      height: 32px;\n",
              "      padding: 0 0 0 0;\n",
              "      width: 32px;\n",
              "    }\n",
              "\n",
              "    .colab-df-convert:hover {\n",
              "      background-color: #E2EBFA;\n",
              "      box-shadow: 0px 1px 2px rgba(60, 64, 67, 0.3), 0px 1px 3px 1px rgba(60, 64, 67, 0.15);\n",
              "      fill: #174EA6;\n",
              "    }\n",
              "\n",
              "    .colab-df-buttons div {\n",
              "      margin-bottom: 4px;\n",
              "    }\n",
              "\n",
              "    [theme=dark] .colab-df-convert {\n",
              "      background-color: #3B4455;\n",
              "      fill: #D2E3FC;\n",
              "    }\n",
              "\n",
              "    [theme=dark] .colab-df-convert:hover {\n",
              "      background-color: #434B5C;\n",
              "      box-shadow: 0px 1px 3px 1px rgba(0, 0, 0, 0.15);\n",
              "      filter: drop-shadow(0px 1px 2px rgba(0, 0, 0, 0.3));\n",
              "      fill: #FFFFFF;\n",
              "    }\n",
              "  </style>\n",
              "\n",
              "    <script>\n",
              "      const buttonEl =\n",
              "        document.querySelector('#df-15a6906e-8b32-435f-9ce8-bb3d66584ebc button.colab-df-convert');\n",
              "      buttonEl.style.display =\n",
              "        google.colab.kernel.accessAllowed ? 'block' : 'none';\n",
              "\n",
              "      async function convertToInteractive(key) {\n",
              "        const element = document.querySelector('#df-15a6906e-8b32-435f-9ce8-bb3d66584ebc');\n",
              "        const dataTable =\n",
              "          await google.colab.kernel.invokeFunction('convertToInteractive',\n",
              "                                                    [key], {});\n",
              "        if (!dataTable) return;\n",
              "\n",
              "        const docLinkHtml = 'Like what you see? Visit the ' +\n",
              "          '<a target=\"_blank\" href=https://colab.research.google.com/notebooks/data_table.ipynb>data table notebook</a>'\n",
              "          + ' to learn more about interactive tables.';\n",
              "        element.innerHTML = '';\n",
              "        dataTable['output_type'] = 'display_data';\n",
              "        await google.colab.output.renderOutput(dataTable, element);\n",
              "        const docLink = document.createElement('div');\n",
              "        docLink.innerHTML = docLinkHtml;\n",
              "        element.appendChild(docLink);\n",
              "      }\n",
              "    </script>\n",
              "  </div>\n",
              "\n",
              "\n",
              "    <div id=\"df-daa46c87-17f3-463e-b6ac-471af10f70cc\">\n",
              "      <button class=\"colab-df-quickchart\" onclick=\"quickchart('df-daa46c87-17f3-463e-b6ac-471af10f70cc')\"\n",
              "                title=\"Suggest charts\"\n",
              "                style=\"display:none;\">\n",
              "\n",
              "<svg xmlns=\"http://www.w3.org/2000/svg\" height=\"24px\"viewBox=\"0 0 24 24\"\n",
              "     width=\"24px\">\n",
              "    <g>\n",
              "        <path d=\"M19 3H5c-1.1 0-2 .9-2 2v14c0 1.1.9 2 2 2h14c1.1 0 2-.9 2-2V5c0-1.1-.9-2-2-2zM9 17H7v-7h2v7zm4 0h-2V7h2v10zm4 0h-2v-4h2v4z\"/>\n",
              "    </g>\n",
              "</svg>\n",
              "      </button>\n",
              "\n",
              "<style>\n",
              "  .colab-df-quickchart {\n",
              "      --bg-color: #E8F0FE;\n",
              "      --fill-color: #1967D2;\n",
              "      --hover-bg-color: #E2EBFA;\n",
              "      --hover-fill-color: #174EA6;\n",
              "      --disabled-fill-color: #AAA;\n",
              "      --disabled-bg-color: #DDD;\n",
              "  }\n",
              "\n",
              "  [theme=dark] .colab-df-quickchart {\n",
              "      --bg-color: #3B4455;\n",
              "      --fill-color: #D2E3FC;\n",
              "      --hover-bg-color: #434B5C;\n",
              "      --hover-fill-color: #FFFFFF;\n",
              "      --disabled-bg-color: #3B4455;\n",
              "      --disabled-fill-color: #666;\n",
              "  }\n",
              "\n",
              "  .colab-df-quickchart {\n",
              "    background-color: var(--bg-color);\n",
              "    border: none;\n",
              "    border-radius: 50%;\n",
              "    cursor: pointer;\n",
              "    display: none;\n",
              "    fill: var(--fill-color);\n",
              "    height: 32px;\n",
              "    padding: 0;\n",
              "    width: 32px;\n",
              "  }\n",
              "\n",
              "  .colab-df-quickchart:hover {\n",
              "    background-color: var(--hover-bg-color);\n",
              "    box-shadow: 0 1px 2px rgba(60, 64, 67, 0.3), 0 1px 3px 1px rgba(60, 64, 67, 0.15);\n",
              "    fill: var(--button-hover-fill-color);\n",
              "  }\n",
              "\n",
              "  .colab-df-quickchart-complete:disabled,\n",
              "  .colab-df-quickchart-complete:disabled:hover {\n",
              "    background-color: var(--disabled-bg-color);\n",
              "    fill: var(--disabled-fill-color);\n",
              "    box-shadow: none;\n",
              "  }\n",
              "\n",
              "  .colab-df-spinner {\n",
              "    border: 2px solid var(--fill-color);\n",
              "    border-color: transparent;\n",
              "    border-bottom-color: var(--fill-color);\n",
              "    animation:\n",
              "      spin 1s steps(1) infinite;\n",
              "  }\n",
              "\n",
              "  @keyframes spin {\n",
              "    0% {\n",
              "      border-color: transparent;\n",
              "      border-bottom-color: var(--fill-color);\n",
              "      border-left-color: var(--fill-color);\n",
              "    }\n",
              "    20% {\n",
              "      border-color: transparent;\n",
              "      border-left-color: var(--fill-color);\n",
              "      border-top-color: var(--fill-color);\n",
              "    }\n",
              "    30% {\n",
              "      border-color: transparent;\n",
              "      border-left-color: var(--fill-color);\n",
              "      border-top-color: var(--fill-color);\n",
              "      border-right-color: var(--fill-color);\n",
              "    }\n",
              "    40% {\n",
              "      border-color: transparent;\n",
              "      border-right-color: var(--fill-color);\n",
              "      border-top-color: var(--fill-color);\n",
              "    }\n",
              "    60% {\n",
              "      border-color: transparent;\n",
              "      border-right-color: var(--fill-color);\n",
              "    }\n",
              "    80% {\n",
              "      border-color: transparent;\n",
              "      border-right-color: var(--fill-color);\n",
              "      border-bottom-color: var(--fill-color);\n",
              "    }\n",
              "    90% {\n",
              "      border-color: transparent;\n",
              "      border-bottom-color: var(--fill-color);\n",
              "    }\n",
              "  }\n",
              "</style>\n",
              "\n",
              "      <script>\n",
              "        async function quickchart(key) {\n",
              "          const quickchartButtonEl =\n",
              "            document.querySelector('#' + key + ' button');\n",
              "          quickchartButtonEl.disabled = true;  // To prevent multiple clicks.\n",
              "          quickchartButtonEl.classList.add('colab-df-spinner');\n",
              "          try {\n",
              "            const charts = await google.colab.kernel.invokeFunction(\n",
              "                'suggestCharts', [key], {});\n",
              "          } catch (error) {\n",
              "            console.error('Error during call to suggestCharts:', error);\n",
              "          }\n",
              "          quickchartButtonEl.classList.remove('colab-df-spinner');\n",
              "          quickchartButtonEl.classList.add('colab-df-quickchart-complete');\n",
              "        }\n",
              "        (() => {\n",
              "          let quickchartButtonEl =\n",
              "            document.querySelector('#df-daa46c87-17f3-463e-b6ac-471af10f70cc button');\n",
              "          quickchartButtonEl.style.display =\n",
              "            google.colab.kernel.accessAllowed ? 'block' : 'none';\n",
              "        })();\n",
              "      </script>\n",
              "    </div>\n",
              "\n",
              "    </div>\n",
              "  </div>\n"
            ],
            "application/vnd.google.colaboratory.intrinsic+json": {
              "type": "dataframe",
              "summary": "{\n  \"name\": \"#df\",\n  \"rows\": 5,\n  \"fields\": [\n    {\n      \"column\": \"A\\u00d1O\",\n      \"properties\": {\n        \"dtype\": \"number\",\n        \"std\": 1,\n        \"min\": 2000,\n        \"max\": 2004,\n        \"num_unique_values\": 5,\n        \"samples\": [\n          2001,\n          2004,\n          2002\n        ],\n        \"semantic_type\": \"\",\n        \"description\": \"\"\n      }\n    },\n    {\n      \"column\": \"COBRE(TMF)\",\n      \"properties\": {\n        \"dtype\": \"number\",\n        \"std\": 177395.8701263972,\n        \"min\": 553924.0,\n        \"max\": 1035574.04973,\n        \"num_unique_values\": 5,\n        \"samples\": [\n          722355.345559,\n          1035574.04973,\n          844552.874961\n        ],\n        \"semantic_type\": \"\",\n        \"description\": \"\"\n      }\n    },\n    {\n      \"column\": \"ORO(KG)\",\n      \"properties\": {\n        \"dtype\": \"number\",\n        \"std\": 18861.549945454706,\n        \"min\": 132585.078,\n        \"max\": 173223.81738585298,\n        \"num_unique_values\": 5,\n        \"samples\": [\n          138522.109261338,\n          173223.81738585298,\n          157529.918535793\n        ],\n        \"semantic_type\": \"\",\n        \"description\": \"\"\n      }\n    },\n    {\n      \"column\": \"ZINC(TMF)\",\n      \"properties\": {\n        \"dtype\": \"number\",\n        \"std\": 177772.0814554608,\n        \"min\": 910303.0,\n        \"max\": 1373792.267121,\n        \"num_unique_values\": 5,\n        \"samples\": [\n          1056629.375614,\n          1209005.709161,\n          1232996.920469\n        ],\n        \"semantic_type\": \"\",\n        \"description\": \"\"\n      }\n    },\n    {\n      \"column\": \"PLATA(KG)\",\n      \"properties\": {\n        \"dtype\": \"number\",\n        \"std\": 258595.9873338462,\n        \"min\": 2437706.0,\n        \"max\": 3059816.65,\n        \"num_unique_values\": 5,\n        \"samples\": [\n          2571113.7884549997,\n          3059816.65,\n          2869638.984749\n        ],\n        \"semantic_type\": \"\",\n        \"description\": \"\"\n      }\n    },\n    {\n      \"column\": \"PLOMO(TMF)\",\n      \"properties\": {\n        \"dtype\": \"number\",\n        \"std\": 16266.944088213359,\n        \"min\": 270576.0,\n        \"max\": 309163.88219,\n        \"num_unique_values\": 5,\n        \"samples\": [\n          289546.066107,\n          306210.777938,\n          305650.719513\n        ],\n        \"semantic_type\": \"\",\n        \"description\": \"\"\n      }\n    }\n  ]\n}"
            }
          },
          "metadata": {},
          "execution_count": 4
        }
      ]
    },
    {
      "cell_type": "markdown",
      "source": [
        "1.1 ¿Cuánto es el promedio anual de toneladas extraídas\n",
        "de cobre y plata?"
      ],
      "metadata": {
        "id": "GuDxvjHsiwFI"
      }
    },
    {
      "cell_type": "code",
      "source": [
        "# Lista los años del dataframe\n",
        "anhos_unicos = df['AÑO']\n",
        "print(anhos_unicos)\n"
      ],
      "metadata": {
        "id": "Pp76p23LivRS",
        "colab": {
          "base_uri": "https://localhost:8080/"
        },
        "outputId": "3d4126e4-8cec-4bd0-86d8-b7c987b539ef"
      },
      "execution_count": 5,
      "outputs": [
        {
          "output_type": "stream",
          "name": "stdout",
          "text": [
            "0     2000\n",
            "1     2001\n",
            "2     2002\n",
            "3     2003\n",
            "4     2004\n",
            "5     2005\n",
            "6     2006\n",
            "7     2007\n",
            "8     2008\n",
            "9     2009\n",
            "10    2010\n",
            "11    2011\n",
            "12    2012\n",
            "13    2013\n",
            "14    2014\n",
            "15    2015\n",
            "16    2016\n",
            "17    2017\n",
            "18    2018\n",
            "19    2019\n",
            "20    2020\n",
            "21    2021\n",
            "22    2022\n",
            "Name: AÑO, dtype: int64\n"
          ]
        }
      ]
    },
    {
      "cell_type": "code",
      "source": [
        "# Calcula el promedio anual de toneladas extraídas de oro y cobre\n",
        "promedio_oro = round(df['ORO(KG)'].mean(),2)\n",
        "promedio_cobre =  round(df['COBRE(TMF)'].mean(),2)\n",
        "\n",
        "print(\"El promedio anual de toneladas extraídas de oro es:\", promedio_oro, \"KG\")\n",
        "print(\"El promedio anual de toneladas extraídas de cobre es:\", promedio_cobre, \"TMF\")\n"
      ],
      "metadata": {
        "colab": {
          "base_uri": "https://localhost:8080/"
        },
        "id": "RcTrxaLOwkTA",
        "outputId": "de7aaa5b-7291-474f-8704-d0546a7f10d7"
      },
      "execution_count": 11,
      "outputs": [
        {
          "output_type": "stream",
          "name": "stdout",
          "text": [
            "El promedio anual de toneladas extraídas de oro es: 148425.5 KG\n",
            "El promedio anual de toneladas extraídas de cobre es: 1503559.97 TMF\n"
          ]
        }
      ]
    },
    {
      "cell_type": "markdown",
      "source": [
        "1.2 ¿Cuánto es la cantidad máxima anual extraída de zinc y plata?"
      ],
      "metadata": {
        "id": "dId2lsrSlAZL"
      }
    },
    {
      "cell_type": "code",
      "source": [
        "# Encontrar la cantidad máxima anual extraída de cobre y zinc\n",
        "\n",
        "maxima_cobre =  round(df['COBRE(TMF)'].max(),2)\n",
        "maxima_zinc =  round(df['ZINC(TMF)'].max(),2)\n",
        "\n",
        "print(\"La cantidad máxima anual extraída de cobre es:\", maxima_cobre, \"TMF\")\n",
        "print(\"La cantidad máxima anual extraída de zinc es:\", maxima_zinc, \"TMF\")"
      ],
      "metadata": {
        "id": "Lv0_mIxOk4EH",
        "colab": {
          "base_uri": "https://localhost:8080/"
        },
        "outputId": "7c0d8e02-dc26-4151-c6d0-fb24dbaa2f3a"
      },
      "execution_count": 10,
      "outputs": [
        {
          "output_type": "stream",
          "name": "stdout",
          "text": [
            "La cantidad máxima anual extraída de cobre es: 2445109.6 TMF\n",
            "La cantidad máxima anual extraída de zinc es: 1602597.01 TMF\n"
          ]
        }
      ]
    },
    {
      "cell_type": "markdown",
      "source": [
        "1.3 En el año 2020, ¿cuál fue el material que se extrajo en la **menor** cantidad en **kilogramos** (KG)?"
      ],
      "metadata": {
        "id": "N7wSwWL0mNDV"
      }
    },
    {
      "cell_type": "code",
      "source": [
        "# Filtrar los datos para el año 2020\n",
        "datos_2020 = df[df['AÑO']== 2020]\n",
        "datos_2020"
      ],
      "metadata": {
        "colab": {
          "base_uri": "https://localhost:8080/",
          "height": 89
        },
        "id": "DQu1jgx2y_Ul",
        "outputId": "aab24596-09f0-4203-a52d-3ccd18e3b735"
      },
      "execution_count": 13,
      "outputs": [
        {
          "output_type": "execute_result",
          "data": {
            "text/plain": [
              "     AÑO    COBRE(TMF)       ORO(KG)     ZINC(TMF)     PLATA(KG)    PLOMO(TMF)\n",
              "20  2020  2.153952e+06  85172.522941  1.334570e+06  2.768240e+06  241547.91304"
            ],
            "text/html": [
              "\n",
              "  <div id=\"df-95b04fb8-8e32-47ab-b43a-be47829fa392\" class=\"colab-df-container\">\n",
              "    <div>\n",
              "<style scoped>\n",
              "    .dataframe tbody tr th:only-of-type {\n",
              "        vertical-align: middle;\n",
              "    }\n",
              "\n",
              "    .dataframe tbody tr th {\n",
              "        vertical-align: top;\n",
              "    }\n",
              "\n",
              "    .dataframe thead th {\n",
              "        text-align: right;\n",
              "    }\n",
              "</style>\n",
              "<table border=\"1\" class=\"dataframe\">\n",
              "  <thead>\n",
              "    <tr style=\"text-align: right;\">\n",
              "      <th></th>\n",
              "      <th>AÑO</th>\n",
              "      <th>COBRE(TMF)</th>\n",
              "      <th>ORO(KG)</th>\n",
              "      <th>ZINC(TMF)</th>\n",
              "      <th>PLATA(KG)</th>\n",
              "      <th>PLOMO(TMF)</th>\n",
              "    </tr>\n",
              "  </thead>\n",
              "  <tbody>\n",
              "    <tr>\n",
              "      <th>20</th>\n",
              "      <td>2020</td>\n",
              "      <td>2.153952e+06</td>\n",
              "      <td>85172.522941</td>\n",
              "      <td>1.334570e+06</td>\n",
              "      <td>2.768240e+06</td>\n",
              "      <td>241547.91304</td>\n",
              "    </tr>\n",
              "  </tbody>\n",
              "</table>\n",
              "</div>\n",
              "    <div class=\"colab-df-buttons\">\n",
              "\n",
              "  <div class=\"colab-df-container\">\n",
              "    <button class=\"colab-df-convert\" onclick=\"convertToInteractive('df-95b04fb8-8e32-47ab-b43a-be47829fa392')\"\n",
              "            title=\"Convert this dataframe to an interactive table.\"\n",
              "            style=\"display:none;\">\n",
              "\n",
              "  <svg xmlns=\"http://www.w3.org/2000/svg\" height=\"24px\" viewBox=\"0 -960 960 960\">\n",
              "    <path d=\"M120-120v-720h720v720H120Zm60-500h600v-160H180v160Zm220 220h160v-160H400v160Zm0 220h160v-160H400v160ZM180-400h160v-160H180v160Zm440 0h160v-160H620v160ZM180-180h160v-160H180v160Zm440 0h160v-160H620v160Z\"/>\n",
              "  </svg>\n",
              "    </button>\n",
              "\n",
              "  <style>\n",
              "    .colab-df-container {\n",
              "      display:flex;\n",
              "      gap: 12px;\n",
              "    }\n",
              "\n",
              "    .colab-df-convert {\n",
              "      background-color: #E8F0FE;\n",
              "      border: none;\n",
              "      border-radius: 50%;\n",
              "      cursor: pointer;\n",
              "      display: none;\n",
              "      fill: #1967D2;\n",
              "      height: 32px;\n",
              "      padding: 0 0 0 0;\n",
              "      width: 32px;\n",
              "    }\n",
              "\n",
              "    .colab-df-convert:hover {\n",
              "      background-color: #E2EBFA;\n",
              "      box-shadow: 0px 1px 2px rgba(60, 64, 67, 0.3), 0px 1px 3px 1px rgba(60, 64, 67, 0.15);\n",
              "      fill: #174EA6;\n",
              "    }\n",
              "\n",
              "    .colab-df-buttons div {\n",
              "      margin-bottom: 4px;\n",
              "    }\n",
              "\n",
              "    [theme=dark] .colab-df-convert {\n",
              "      background-color: #3B4455;\n",
              "      fill: #D2E3FC;\n",
              "    }\n",
              "\n",
              "    [theme=dark] .colab-df-convert:hover {\n",
              "      background-color: #434B5C;\n",
              "      box-shadow: 0px 1px 3px 1px rgba(0, 0, 0, 0.15);\n",
              "      filter: drop-shadow(0px 1px 2px rgba(0, 0, 0, 0.3));\n",
              "      fill: #FFFFFF;\n",
              "    }\n",
              "  </style>\n",
              "\n",
              "    <script>\n",
              "      const buttonEl =\n",
              "        document.querySelector('#df-95b04fb8-8e32-47ab-b43a-be47829fa392 button.colab-df-convert');\n",
              "      buttonEl.style.display =\n",
              "        google.colab.kernel.accessAllowed ? 'block' : 'none';\n",
              "\n",
              "      async function convertToInteractive(key) {\n",
              "        const element = document.querySelector('#df-95b04fb8-8e32-47ab-b43a-be47829fa392');\n",
              "        const dataTable =\n",
              "          await google.colab.kernel.invokeFunction('convertToInteractive',\n",
              "                                                    [key], {});\n",
              "        if (!dataTable) return;\n",
              "\n",
              "        const docLinkHtml = 'Like what you see? Visit the ' +\n",
              "          '<a target=\"_blank\" href=https://colab.research.google.com/notebooks/data_table.ipynb>data table notebook</a>'\n",
              "          + ' to learn more about interactive tables.';\n",
              "        element.innerHTML = '';\n",
              "        dataTable['output_type'] = 'display_data';\n",
              "        await google.colab.output.renderOutput(dataTable, element);\n",
              "        const docLink = document.createElement('div');\n",
              "        docLink.innerHTML = docLinkHtml;\n",
              "        element.appendChild(docLink);\n",
              "      }\n",
              "    </script>\n",
              "  </div>\n",
              "\n",
              "\n",
              "  <div id=\"id_304bce46-400a-42e5-bb23-d9f69dd52f72\">\n",
              "    <style>\n",
              "      .colab-df-generate {\n",
              "        background-color: #E8F0FE;\n",
              "        border: none;\n",
              "        border-radius: 50%;\n",
              "        cursor: pointer;\n",
              "        display: none;\n",
              "        fill: #1967D2;\n",
              "        height: 32px;\n",
              "        padding: 0 0 0 0;\n",
              "        width: 32px;\n",
              "      }\n",
              "\n",
              "      .colab-df-generate:hover {\n",
              "        background-color: #E2EBFA;\n",
              "        box-shadow: 0px 1px 2px rgba(60, 64, 67, 0.3), 0px 1px 3px 1px rgba(60, 64, 67, 0.15);\n",
              "        fill: #174EA6;\n",
              "      }\n",
              "\n",
              "      [theme=dark] .colab-df-generate {\n",
              "        background-color: #3B4455;\n",
              "        fill: #D2E3FC;\n",
              "      }\n",
              "\n",
              "      [theme=dark] .colab-df-generate:hover {\n",
              "        background-color: #434B5C;\n",
              "        box-shadow: 0px 1px 3px 1px rgba(0, 0, 0, 0.15);\n",
              "        filter: drop-shadow(0px 1px 2px rgba(0, 0, 0, 0.3));\n",
              "        fill: #FFFFFF;\n",
              "      }\n",
              "    </style>\n",
              "    <button class=\"colab-df-generate\" onclick=\"generateWithVariable('datos_2020')\"\n",
              "            title=\"Generate code using this dataframe.\"\n",
              "            style=\"display:none;\">\n",
              "\n",
              "  <svg xmlns=\"http://www.w3.org/2000/svg\" height=\"24px\"viewBox=\"0 0 24 24\"\n",
              "       width=\"24px\">\n",
              "    <path d=\"M7,19H8.4L18.45,9,17,7.55,7,17.6ZM5,21V16.75L18.45,3.32a2,2,0,0,1,2.83,0l1.4,1.43a1.91,1.91,0,0,1,.58,1.4,1.91,1.91,0,0,1-.58,1.4L9.25,21ZM18.45,9,17,7.55Zm-12,3A5.31,5.31,0,0,0,4.9,8.1,5.31,5.31,0,0,0,1,6.5,5.31,5.31,0,0,0,4.9,4.9,5.31,5.31,0,0,0,6.5,1,5.31,5.31,0,0,0,8.1,4.9,5.31,5.31,0,0,0,12,6.5,5.46,5.46,0,0,0,6.5,12Z\"/>\n",
              "  </svg>\n",
              "    </button>\n",
              "    <script>\n",
              "      (() => {\n",
              "      const buttonEl =\n",
              "        document.querySelector('#id_304bce46-400a-42e5-bb23-d9f69dd52f72 button.colab-df-generate');\n",
              "      buttonEl.style.display =\n",
              "        google.colab.kernel.accessAllowed ? 'block' : 'none';\n",
              "\n",
              "      buttonEl.onclick = () => {\n",
              "        google.colab.notebook.generateWithVariable('datos_2020');\n",
              "      }\n",
              "      })();\n",
              "    </script>\n",
              "  </div>\n",
              "\n",
              "    </div>\n",
              "  </div>\n"
            ],
            "application/vnd.google.colaboratory.intrinsic+json": {
              "type": "dataframe",
              "variable_name": "datos_2020",
              "summary": "{\n  \"name\": \"datos_2020\",\n  \"rows\": 1,\n  \"fields\": [\n    {\n      \"column\": \"A\\u00d1O\",\n      \"properties\": {\n        \"dtype\": \"number\",\n        \"std\": null,\n        \"min\": 2020,\n        \"max\": 2020,\n        \"num_unique_values\": 1,\n        \"samples\": [\n          2020\n        ],\n        \"semantic_type\": \"\",\n        \"description\": \"\"\n      }\n    },\n    {\n      \"column\": \"COBRE(TMF)\",\n      \"properties\": {\n        \"dtype\": \"number\",\n        \"std\": null,\n        \"min\": 2153951.734460413,\n        \"max\": 2153951.734460413,\n        \"num_unique_values\": 1,\n        \"samples\": [\n          2153951.734460413\n        ],\n        \"semantic_type\": \"\",\n        \"description\": \"\"\n      }\n    },\n    {\n      \"column\": \"ORO(KG)\",\n      \"properties\": {\n        \"dtype\": \"number\",\n        \"std\": null,\n        \"min\": 85172.52294087617,\n        \"max\": 85172.52294087617,\n        \"num_unique_values\": 1,\n        \"samples\": [\n          85172.52294087617\n        ],\n        \"semantic_type\": \"\",\n        \"description\": \"\"\n      }\n    },\n    {\n      \"column\": \"ZINC(TMF)\",\n      \"properties\": {\n        \"dtype\": \"number\",\n        \"std\": null,\n        \"min\": 1334570.477768076,\n        \"max\": 1334570.477768076,\n        \"num_unique_values\": 1,\n        \"samples\": [\n          1334570.477768076\n        ],\n        \"semantic_type\": \"\",\n        \"description\": \"\"\n      }\n    },\n    {\n      \"column\": \"PLATA(KG)\",\n      \"properties\": {\n        \"dtype\": \"number\",\n        \"std\": null,\n        \"min\": 2768240.2600989644,\n        \"max\": 2768240.2600989644,\n        \"num_unique_values\": 1,\n        \"samples\": [\n          2768240.2600989644\n        ],\n        \"semantic_type\": \"\",\n        \"description\": \"\"\n      }\n    },\n    {\n      \"column\": \"PLOMO(TMF)\",\n      \"properties\": {\n        \"dtype\": \"number\",\n        \"std\": null,\n        \"min\": 241547.91303967,\n        \"max\": 241547.91303967,\n        \"num_unique_values\": 1,\n        \"samples\": [\n          241547.91303967\n        ],\n        \"semantic_type\": \"\",\n        \"description\": \"\"\n      }\n    }\n  ]\n}"
            }
          },
          "metadata": {},
          "execution_count": 13
        }
      ]
    },
    {
      "cell_type": "code",
      "source": [
        "materiales_kg = ['ORO(KG)','PLATA(KG)']\n",
        "materiales_kg"
      ],
      "metadata": {
        "colab": {
          "base_uri": "https://localhost:8080/"
        },
        "id": "v8fPFm6-zfIi",
        "outputId": "a37f3e3e-d27c-461e-d1e5-be4561658223"
      },
      "execution_count": 18,
      "outputs": [
        {
          "output_type": "execute_result",
          "data": {
            "text/plain": [
              "['ORO(KG)', 'PLATA(KG)']"
            ]
          },
          "metadata": {},
          "execution_count": 18
        }
      ]
    },
    {
      "cell_type": "code",
      "source": [
        "# Se asume que la menor cantidad es el ORO para poder compararlo en el for\n",
        "\n",
        "material_menor_cantidad = materiales_kg[0]\n",
        "min_cantidad = datos_2020[material_menor_cantidad].iloc[0] # iloc[0] te permite sacar el elemento 0 (ORO)\n",
        "\n",
        "for material in materiales_kg:\n",
        "  cantidad = datos_2020[material].iloc[0]\n",
        "  if cantidad < min_cantidad:\n",
        "    material_menor_cantidad = material\n",
        "    min_cantidad = cantidad\n",
        "\n",
        "print(\"En el año 2020, el material que se extrajo en la menor cantidad en kilogramos fue:\", material_menor_cantidad)"
      ],
      "metadata": {
        "colab": {
          "base_uri": "https://localhost:8080/"
        },
        "id": "ja2lRura1n-q",
        "outputId": "fc235a07-1558-412f-b2b0-868940e2e7e1"
      },
      "execution_count": 23,
      "outputs": [
        {
          "output_type": "stream",
          "name": "stdout",
          "text": [
            "En el año 2020, el material que se extrajo en la menor cantidad en kilogramos fue: ORO(KG)\n"
          ]
        }
      ]
    },
    {
      "cell_type": "code",
      "source": [
        "# Filtrar los datos para el año 2020\n",
        "datos_2020 = df[df['AÑO']== 2020]\n",
        "\n",
        "# Obtener las columnas de materiales KG\n",
        "materiales_kg = [ ### Completar ]   # lista de nombres de materiales que usan KG, ej. ['material 1 ', 'material 2']\n",
        "\n",
        "# Encontrar el material con la menor cantidad extraída en el año 2020\n",
        "material_menor_cantidad = min(materiales_kg, key=lambda material: datos_2020[material].iloc[0])\n",
        "\n",
        "print(\"En el año 2020, el material que se extrajo en la menor cantidad en kilogramos fue:\", material_menor_cantidad)\n"
      ],
      "metadata": {
        "id": "Jb8UJmnlm241"
      },
      "execution_count": null,
      "outputs": []
    },
    {
      "cell_type": "markdown",
      "source": [
        "1.4 En el año 2017, ¿cuál fue el material que se extrajo en **mayor** cantidad en TMF?"
      ],
      "metadata": {
        "id": "bEyyvMYJn6Rf"
      }
    },
    {
      "cell_type": "code",
      "source": [
        "# Filtrar los datos para el año 2017\n",
        "datos_2017 = df[df['AÑO']==2017]\n",
        "\n",
        "# Obtener las columnas de materiales TMF\n",
        "materiales_tmf = [ 'COBRE(TMF)', 'ZINC(TMF)', 'PLOMO(TMF)'] #  # lista de nombres de materiales que usan TMF, ej. ['material 1 ', 'material 2']\n",
        "max_cantidad = datos_2017[materiales_tmf[0]].iloc[0] # iloc[0] te permite sacar el elemento 0 (COBRE)\n",
        "material_mayor_cantidad = materiales_tmf[0]\n",
        "\n",
        "# Encontrar el material con la MAYOR cantidad extraída en el año 2017\n",
        "for material in materiales_tmf:\n",
        "  cantidad = datos_2017[material].iloc[0]\n",
        "  if cantidad > max_cantidad:\n",
        "    material_mayor_cantidad = material\n",
        "    max_cantidad = cantidad\n",
        "\n",
        "print(\"En el año 2020, el material que se extrajo en la menor cantidad en kilogramos fue:\", material_mayor_cantidad)\n"
      ],
      "metadata": {
        "id": "FOIlieQEn5w-",
        "colab": {
          "base_uri": "https://localhost:8080/"
        },
        "outputId": "0dd4ffe2-10c6-4113-b43d-39ecdccd50c2"
      },
      "execution_count": 27,
      "outputs": [
        {
          "output_type": "stream",
          "name": "stdout",
          "text": [
            "En el año 2020, el material que se extrajo en la menor cantidad en kilogramos fue: COBRE(TMF)\n"
          ]
        }
      ]
    },
    {
      "cell_type": "markdown",
      "source": [
        "1.5 Dado un conjunto de datos que registra la cantidad total de distintos metales extraídos en una región durante varios años, analiza la correlación entre la extracción de cada par de metales (cobre, oro, zinc, plata y plomo). Consejo: Usar `corr()`.\n"
      ],
      "metadata": {
        "id": "Q_xco-spcIGS"
      }
    },
    {
      "cell_type": "code",
      "source": [
        "import pandas as pd\n",
        "import seaborn as sns # Lo va a explicar despues\n",
        "import matplotlib.pyplot as plt\n",
        "\n",
        "# Suponiendo que tienes un DataFrame llamado df con las columnas COBRE(TMF), ORO(KG), ZINC(TMF), PLATA(KG) y PLOMO(TMF)\n",
        "\n",
        "# Seleccionar las columnas relevantes para el análisis de correlación\n",
        "datos_metales = df[['COBRE(TMF)', 'ORO(KG)', 'ZINC(TMF)', 'PLATA(KG)', 'PLOMO(TMF)']]\n",
        "\n",
        "# Calcular la matriz de correlación\n",
        "matriz_correlacion = datos_metales.corr()\n",
        "\n",
        "# Visualizar la matriz de correlación utilizando un mapa de calor\n",
        "plt.figure(figsize=(10, 8))\n",
        "sns.heatmap(matriz_correlacion, annot=True, cmap='coolwarm', fmt=\".2f\", linewidths=.5)\n",
        "plt.title('Matriz de correlación entre la extracción de diferentes metales')\n",
        "plt.show()\n"
      ],
      "metadata": {
        "colab": {
          "base_uri": "https://localhost:8080/",
          "height": 698
        },
        "id": "8w4dw813cHxH",
        "outputId": "29407750-5e4c-404f-922a-e3179a7fb2fe"
      },
      "execution_count": 28,
      "outputs": [
        {
          "output_type": "display_data",
          "data": {
            "text/plain": [
              "<Figure size 1000x800 with 2 Axes>"
            ],
            "image/png": "[encoded data removed]"
          },
          "metadata": {}
        }
      ]
    },
    {
      "cell_type": "markdown",
      "source": [
        "1.6  Calcula los quantiles superior e inferior para la cantidad de oro extraído."
      ],
      "metadata": {
        "id": "R2kWfbJmdKce"
      }
    },
    {
      "cell_type": "code",
      "source": [
        "import pandas as pd\n",
        "\n",
        "\n",
        "# Seleccionar la columna relevante para el análisis\n",
        "oro_extraido = df['ORO(KG)']\n",
        "\n",
        "# Calcular el quantil superior e inferior para la cantidad de oro extraído\n",
        "quantil_superior = oro_extraido.quantile(0.75)  # 0.75\n",
        "quantil_inferior = ### Completar                # 0.25\n",
        "\n",
        "# Mostrar los resultados\n",
        "print(\"Quantil superior para la cantidad de oro extraído:\", quantil_superior)\n",
        "print(\"Quantil inferior para la cantidad de oro extraído:\", quantil_inferior)\n"
      ],
      "metadata": {
        "colab": {
          "base_uri": "https://localhost:8080/"
        },
        "id": "Gffk_7FsdKxi",
        "outputId": "ee778642-f378-473c-d0d5-8b30b80cf8f3"
      },
      "execution_count": null,
      "outputs": [
        {
          "output_type": "stream",
          "name": "stdout",
          "text": [
            "Quantil superior para la cantidad de oro extraído: 171430.25751195467\n",
            "Quantil inferior para la cantidad de oro extraído: 131265.66072140748\n"
          ]
        }
      ]
    },
    {
      "cell_type": "markdown",
      "source": [
        "## Ejercicio 2"
      ],
      "metadata": {
        "id": "e-W-XkqHjy_k"
      }
    },
    {
      "cell_type": "code",
      "source": [
        "from IPython.display import display\n",
        "import pandas as pd\n",
        "import numpy as np\n",
        "import xml.etree.ElementTree as ET\n",
        "\n",
        "# Lee el archivo .xlsx\n",
        "df = pd.read_excel(\"Ejercicio-Grupal-Clase1.xlsx\")\n",
        "\n",
        "# Muestra las primeras filas del DataFrame para verificar que se haya cargado correctamente\n",
        "print(df.head())"
      ],
      "metadata": {
        "colab": {
          "base_uri": "https://localhost:8080/"
        },
        "id": "5jmojZgreS1w",
        "outputId": "dc815d21-00e9-4e06-ee5e-91c2a1395196"
      },
      "execution_count": 29,
      "outputs": [
        {
          "output_type": "stream",
          "name": "stdout",
          "text": [
            "    año   claro   entel  movistar\n",
            "0  2005   41061   50385    534980\n",
            "1  2006  198368   67569    722162\n",
            "2  2007  343607  113312   1001873\n",
            "3  2008  582130  170296   1409850\n",
            "4  2009  771496  168040   1781214\n"
          ]
        }
      ]
    },
    {
      "cell_type": "markdown",
      "source": [
        "2.1 ¿Cuánto es el promedio anual de líneas telefónicas por empresa?\n"
      ],
      "metadata": {
        "id": "KMzcRv1_kSHC"
      }
    },
    {
      "cell_type": "code",
      "source": [
        "# Suponiendo que tienes un DataFrame llamado df con las columnas año, claro, entel y movistar\n",
        "\n",
        "# Calcula el promedio anual de líneas telefónicas por empresa\n",
        "promedio_claro = round(df['claro'].mean(),2)\n",
        "promedio_entel = round(df['entel'].mean(),2)\n",
        "promedio_movistar = round(df['movistar'].mean(),2)\n",
        "\n",
        "# Imprime los resultados\n",
        "print(\"Promedio anual de líneas telefónicas de Claro:\", promedio_claro)\n",
        "print(\"Promedio anual de líneas telefónicas de Entel:\", promedio_entel)\n",
        "print(\"Promedio anual de líneas telefónicas de Movistar:\", promedio_movistar)\n"
      ],
      "metadata": {
        "id": "l7YdwPf6kdb7",
        "colab": {
          "base_uri": "https://localhost:8080/"
        },
        "outputId": "f3f2c6c5-d3b7-41cc-e861-ddbe8f7c6608"
      },
      "execution_count": 32,
      "outputs": [
        {
          "output_type": "stream",
          "name": "stdout",
          "text": [
            "Promedio anual de líneas telefónicas de Claro: 1685122.72\n",
            "Promedio anual de líneas telefónicas de Entel: 104507.67\n",
            "Promedio anual de líneas telefónicas de Movistar: 2954389.06\n"
          ]
        }
      ]
    },
    {
      "cell_type": "markdown",
      "source": [
        "2.2 Realice un gráfico de Pizza (Pie chart) de las empresas de telefonía"
      ],
      "metadata": {
        "id": "wGhqtmDzeAJE"
      }
    },
    {
      "cell_type": "code",
      "execution_count": 33,
      "metadata": {
        "id": "guI6XAAZd6Jw",
        "colab": {
          "base_uri": "https://localhost:8080/",
          "height": 749
        },
        "outputId": "41662dbf-eb06-4633-e96f-dfbad7d56be5"
      },
      "outputs": [
        {
          "output_type": "stream",
          "name": "stdout",
          "text": [
            "claro       30332209\n",
            "entel        1881138\n",
            "movistar    53179003\n",
            "dtype: int64\n"
          ]
        },
        {
          "output_type": "display_data",
          "data": {
            "text/plain": [
              "<Figure size 800x800 with 1 Axes>"
            ],
            "image/png": "[encoded data removed]"
          },
          "metadata": {}
        }
      ],
      "source": [
        "import matplotlib.pyplot as plt\n",
        "\n",
        "# Seleccionar las columnas relevantes\n",
        "datos_empresas = df[['claro', 'entel', 'movistar']]\n",
        "\n",
        "# Calcular el total anual de líneas telefónicas por empresa\n",
        "total_por_empresa = datos_empresas.sum()\n",
        "print(total_por_empresa)\n",
        "\n",
        "# Crear el gráfico de pastel\n",
        "plt.figure(figsize=(8, 8))\n",
        "plt.pie(total_por_empresa, labels=total_por_empresa.index, autopct='%1.1f%%', startangle=140) #Startangle, es desde que angulo va a iniciar a graficar.\n",
        "plt.title('Distribución de líneas telefónicas por empresa')\n",
        "plt.axis('equal')  # Equal aspect ratio asegura que el pie chart sea un circulo\n",
        "plt.show()\n"
      ]
    },
    {
      "cell_type": "markdown",
      "source": [
        "2.3 ¿Cuál es empresa presentó la **mayor** y la **menor** cantidad de líneas telefónicas ?"
      ],
      "metadata": {
        "id": "4P0CiFI-fQwZ"
      }
    },
    {
      "cell_type": "code",
      "source": [
        "# Seleccionar las columnas relevantes\n",
        "datos_empresas = df[['claro', 'entel', 'movistar']]\n",
        "\n",
        "# Calcular la suma total de líneas telefónicas para cada empresa\n",
        "total_por_empresa = ### Completar\n",
        "\n",
        "# Encontrar la empresa con la mayor cantidad de líneas telefónicas\n",
        "empresa_maxima = total_por_empresa.idxmax()\n",
        "cantidad_maxima = total_por_empresa.max()\n",
        "\n",
        "\n",
        "# Encontrar la empresa con la menor cantidad de líneas telefónicas\n",
        "empresa_minima = ### Completar\n",
        "cantidad_minima = ### Completar\n",
        "\n",
        "print(\"La empresa con la mayor cantidad de líneas telefónicas es:\", empresa_maxima)\n",
        "print(\"Cantidad total de líneas telefónicas:\", cantidad_maxima, '\\n')\n",
        "\n",
        "\n",
        "print(\"La empresa con la menor cantidad de líneas telefónicas es:\", empresa_minima)\n",
        "print(\"Cantidad total de líneas telefónicas:\", cantidad_minima)\n"
      ],
      "metadata": {
        "id": "rnlFaS2PfReE"
      },
      "execution_count": null,
      "outputs": []
    },
    {
      "cell_type": "markdown",
      "source": [
        "\n",
        "2.4  Calcula la moda del número de líneas telefónicas para cada empresa a lo largo de los años.\n"
      ],
      "metadata": {
        "id": "aKnHeHaMaRqT"
      }
    },
    {
      "cell_type": "code",
      "source": [
        "# Seleccionar las columnas relevantes\n",
        "columnas_empresas = [\"claro\", \"entel\", \"movistar\"]\n",
        "datos_empresas = df[columnas_empresas]\n",
        "\n",
        "# Calcular la moda para cada empresa\n",
        "moda_empresas = ### Completar\n",
        "\n",
        "print(\"Moda del número de líneas telefónicas para cada empresa:\")\n",
        "print(moda_empresas)\n"
      ],
      "metadata": {
        "colab": {
          "base_uri": "https://localhost:8080/"
        },
        "id": "3LqfEh87aUqj",
        "outputId": "2c7749a0-faa5-4c2f-d9ed-eb926d2cf3e9"
      },
      "execution_count": null,
      "outputs": [
        {
          "output_type": "stream",
          "name": "stdout",
          "text": [
            "Moda del número de líneas telefónicas para cada empresa:\n",
            "      claro   entel  movistar\n",
            "0     41061   44294    534980\n",
            "1    198368   50385    722162\n",
            "2    343607   53113   1001873\n",
            "3    399949   59279   1123464\n",
            "4    434509   66026   1285585\n",
            "5    438592   67569   1378460\n",
            "6    470036   67667   1409850\n",
            "7    582130   71857   1781214\n",
            "8    771496   89342   1785948\n",
            "9    996318  107356   2779636\n",
            "10  1573924  107588   3662579\n",
            "11  2252225  113312   4089786\n",
            "12  2558617  127181   4667284\n",
            "13  3099066  130374   4976143\n",
            "14  3695736  131288   5451872\n",
            "15  3937604  168040   5465928\n",
            "16  4239353  170296   5517822\n",
            "17  4299618  256171   5544417\n"
          ]
        }
      ]
    },
    {
      "cell_type": "code",
      "source": [
        "plt.figure(figsize=(8, 6))\n",
        "columnas_empresas = [\"claro\", \"entel\", \"movistar\"]\n",
        "plt.plot(df[\"año\"],df[columnas_empresas], marker='o', linestyle='-', label=columnas_empresas)\n",
        "\n",
        "plt.xlabel(\"Años\")\n",
        "plt.ylabel(\"Cantidad de líneas telefónicas\")\n",
        "plt.title(\"número de líneas telefónicas para cada empresa\")\n",
        "plt.grid(True)\n",
        "plt.legend()"
      ],
      "metadata": {
        "id": "yB6dxe1V9I6p"
      },
      "execution_count": null,
      "outputs": []
    },
    {
      "cell_type": "markdown",
      "source": [
        "2.5 Calcula la desviación estándar std() de las líneas telefónicas **para cada empresa **(Claro, Entel y Movistar) a lo largo de los años en la base de datos proporcionada.\n",
        "\n"
      ],
      "metadata": {
        "id": "ue9zrBf2ZQy6"
      }
    },
    {
      "cell_type": "code",
      "source": [
        "import pandas as pd\n",
        "\n",
        "# Seleccionar las columnas relevantes\n",
        "columnas_empresas = [\"claro\", \"entel\", \"movistar\"]\n",
        "datos_empresas = df[columnas_empresas]\n",
        "\n",
        "# Calcular la desviación estándar para cada empresa\n",
        "desviacion_estandar_empresas = ### Completar\n",
        "\n",
        "print(\"Desviación estándar del número de líneas telefónicas para cada empresa:\")\n",
        "print(desviacion_estandar_empresas)\n"
      ],
      "metadata": {
        "id": "YlWnBA8qgbwA",
        "colab": {
          "base_uri": "https://localhost:8080/"
        },
        "outputId": "4df632dd-726e-4587-e25f-f510f44217dc"
      },
      "execution_count": null,
      "outputs": [
        {
          "output_type": "stream",
          "name": "stdout",
          "text": [
            "Desviación estándar del número de líneas telefónicas para cada empresa:\n",
            "claro       1.554063e+06\n",
            "entel       5.428805e+04\n",
            "movistar    1.926045e+06\n",
            "dtype: float64\n"
          ]
        }
      ]
    }
  ]
}